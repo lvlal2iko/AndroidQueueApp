{
 "cells": [
  {
   "cell_type": "markdown",
   "source": "# Dependecies",
   "metadata": {
    "tags": [],
    "cell_id": "00000-c4076636-709a-4238-8290-119387136795",
    "deepnote_cell_type": "markdown"
   }
  },
  {
   "cell_type": "code",
   "metadata": {
    "tags": [],
    "cell_id": "00000-6f4c5812-6ed5-4b0b-a1ba-7d97c2c68b0f",
    "deepnote_to_be_reexecuted": false,
    "source_hash": "8b2be57e",
    "execution_start": 1634388641040,
    "execution_millis": 631,
    "deepnote_cell_type": "code"
   },
   "source": "import os\n\n!python --version",
   "outputs": [
    {
     "name": "stdout",
     "text": "Python 3.7.12\r\n",
     "output_type": "stream"
    }
   ],
   "execution_count": null
  },
  {
   "cell_type": "code",
   "metadata": {
    "tags": [],
    "cell_id": "00002-2701fc5f-b094-48ea-bb57-1164c82be433",
    "deepnote_to_be_reexecuted": false,
    "source_hash": "e3bd6bef",
    "execution_start": 1634388659086,
    "execution_millis": 605,
    "deepnote_cell_type": "code"
   },
   "source": "import sklearn\nimport joblib\nfrom joblib import dump\nimport numpy as np\nimport pandas as pd\nfrom sklearn.preprocessing import StandardScaler, OneHotEncoder\n\n\nprint(\"scikit-learn==%s\" %sklearn.__version__)\nprint(\"joblib==%s\" %joblib.__version__)\nprint(\"pandas==%s\" %pd.__version__)\nprint(\"numpy==%s\" %np.__version__)",
   "outputs": [
    {
     "name": "stdout",
     "text": "scikit-learn==1.0\njoblib==1.1.0\npandas==1.2.5\nnumpy==1.19.5\n",
     "output_type": "stream"
    }
   ],
   "execution_count": null
  },
  {
   "cell_type": "markdown",
   "source": "# Import datasets",
   "metadata": {
    "tags": [],
    "cell_id": "00002-eca671e9-118a-4ae6-8ae5-e6d1443dce16",
    "deepnote_cell_type": "markdown"
   }
  },
  {
   "cell_type": "markdown",
   "source": "## Set path to datasets",
   "metadata": {
    "tags": [],
    "cell_id": "00004-34027673-30e2-4cec-8a16-dae0dd84ae8d",
    "deepnote_cell_type": "markdown"
   }
  },
  {
   "cell_type": "code",
   "metadata": {
    "tags": [],
    "cell_id": "00004-b2ccf1c3-d039-438c-bfd5-a1c6dd5ae512",
    "deepnote_to_be_reexecuted": false,
    "source_hash": "45f5fdbd",
    "execution_start": 1634388687783,
    "execution_millis": 4,
    "deepnote_cell_type": "code"
   },
   "source": "training_path = os.path.join(\".\", \"data\", \"train.csv\")\nprint(\"Read the training dataset from %s\" %(training_path))\n\ntesting_path = os.path.join(\".\", \"data\", \"test.csv\")\nprint(\"Read the pretesting dataset from %s\" %(testing_path))",
   "outputs": [
    {
     "name": "stdout",
     "text": "Read the training dataset from ./data/train.csv\nRead the pretesting dataset from ./data/test.csv\n",
     "output_type": "stream"
    }
   ],
   "execution_count": null
  },
  {
   "cell_type": "markdown",
   "source": "## Read datasets files",
   "metadata": {
    "tags": [],
    "cell_id": "00006-0259d0bf-1a96-4f45-a959-0b4bc9c02184",
    "deepnote_cell_type": "markdown"
   }
  },
  {
   "cell_type": "code",
   "metadata": {
    "tags": [],
    "cell_id": "00006-415f9dff-68c7-442c-a512-731e1a1d0584",
    "deepnote_to_be_reexecuted": false,
    "source_hash": "be98751b",
    "execution_start": 1634388690100,
    "execution_millis": 237,
    "deepnote_cell_type": "code"
   },
   "source": "training_set = pd.read_csv(training_path)\ntraining_set.head()",
   "outputs": [
    {
     "output_type": "execute_result",
     "execution_count": 5,
     "data": {
      "application/vnd.deepnote.dataframe.v2+json": {
       "row_count": 5,
       "column_count": 14,
       "columns": [
        {
         "name": "MOFname",
         "dtype": "object",
         "stats": {
          "unique_count": 5,
          "nan_count": 0,
          "categories": [
           {
            "name": "mof_unit_1",
            "count": 1
           },
           {
            "name": "mof_unit_2",
            "count": 1
           },
           {
            "name": "3 others",
            "count": 3
           }
          ]
         }
        },
        {
         "name": "volume [A^3]",
         "dtype": "float64",
         "stats": {
          "unique_count": 5,
          "nan_count": 0,
          "min": "1089.818728",
          "max": "2769.503842",
          "histogram": [
           {
            "bin_start": 1089.818728,
            "bin_end": 1257.7872394,
            "count": 3
           },
           {
            "bin_start": 1257.7872394,
            "bin_end": 1425.7557508,
            "count": 0
           },
           {
            "bin_start": 1425.7557508,
            "bin_end": 1593.7242621999999,
            "count": 0
           },
           {
            "bin_start": 1593.7242621999999,
            "bin_end": 1761.6927736,
            "count": 0
           },
           {
            "bin_start": 1761.6927736,
            "bin_end": 1929.6612850000001,
            "count": 0
           },
           {
            "bin_start": 1929.6612850000001,
            "bin_end": 2097.6297964,
            "count": 0
           },
           {
            "bin_start": 2097.6297964,
            "bin_end": 2265.5983078,
            "count": 1
           },
           {
            "bin_start": 2265.5983078,
            "bin_end": 2433.5668192000003,
            "count": 0
           },
           {
            "bin_start": 2433.5668192000003,
            "bin_end": 2601.5353305999997,
            "count": 0
           },
           {
            "bin_start": 2601.5353305999997,
            "bin_end": 2769.503842,
            "count": 1
           }
          ]
         }
        },
        {
         "name": "weight [u]",
         "dtype": "float64",
         "stats": {
          "unique_count": 5,
          "nan_count": 0,
          "min": "773.68796",
          "max": "2211.697211",
          "histogram": [
           {
            "bin_start": 773.68796,
            "bin_end": 917.4888851000001,
            "count": 3
           },
           {
            "bin_start": 917.4888851000001,
            "bin_end": 1061.2898102,
            "count": 0
           },
           {
            "bin_start": 1061.2898102,
            "bin_end": 1205.0907353,
            "count": 0
           },
           {
            "bin_start": 1205.0907353,
            "bin_end": 1348.8916604,
            "count": 1
           },
           {
            "bin_start": 1348.8916604,
            "bin_end": 1492.6925855000002,
            "count": 0
           },
           {
            "bin_start": 1492.6925855000002,
            "bin_end": 1636.4935106000003,
            "count": 0
           },
           {
            "bin_start": 1636.4935106000003,
            "bin_end": 1780.2944357000001,
            "count": 0
           },
           {
            "bin_start": 1780.2944357000001,
            "bin_end": 1924.0953608000002,
            "count": 0
           },
           {
            "bin_start": 1924.0953608000002,
            "bin_end": 2067.8962859000003,
            "count": 0
           },
           {
            "bin_start": 2067.8962859000003,
            "bin_end": 2211.697211,
            "count": 1
           }
          ]
         }
        },
        {
         "name": "surface_area [m^2/g]",
         "dtype": "float64",
         "stats": {
          "unique_count": 4,
          "nan_count": 0,
          "min": "0.0",
          "max": "1441.53",
          "histogram": [
           {
            "bin_start": 0,
            "bin_end": 144.153,
            "count": 2
           },
           {
            "bin_start": 144.153,
            "bin_end": 288.306,
            "count": 0
           },
           {
            "bin_start": 288.306,
            "bin_end": 432.45899999999995,
            "count": 0
           },
           {
            "bin_start": 432.45899999999995,
            "bin_end": 576.612,
            "count": 0
           },
           {
            "bin_start": 576.612,
            "bin_end": 720.765,
            "count": 1
           },
           {
            "bin_start": 720.765,
            "bin_end": 864.9179999999999,
            "count": 1
           },
           {
            "bin_start": 864.9179999999999,
            "bin_end": 1009.0709999999999,
            "count": 0
           },
           {
            "bin_start": 1009.0709999999999,
            "bin_end": 1153.224,
            "count": 0
           },
           {
            "bin_start": 1153.224,
            "bin_end": 1297.377,
            "count": 0
           },
           {
            "bin_start": 1297.377,
            "bin_end": 1441.53,
            "count": 1
           }
          ]
         }
        },
        {
         "name": "void_fraction",
         "dtype": "float64",
         "stats": {
          "unique_count": 5,
          "nan_count": 0,
          "min": "0.07778",
          "max": "0.21814",
          "histogram": [
           {
            "bin_start": 0.07778,
            "bin_end": 0.091816,
            "count": 2
           },
           {
            "bin_start": 0.091816,
            "bin_end": 0.105852,
            "count": 0
           },
           {
            "bin_start": 0.105852,
            "bin_end": 0.119888,
            "count": 0
           },
           {
            "bin_start": 0.119888,
            "bin_end": 0.133924,
            "count": 0
           },
           {
            "bin_start": 0.133924,
            "bin_end": 0.14795999999999998,
            "count": 1
           },
           {
            "bin_start": 0.14795999999999998,
            "bin_end": 0.16199599999999997,
            "count": 1
           },
           {
            "bin_start": 0.16199599999999997,
            "bin_end": 0.176032,
            "count": 0
           },
           {
            "bin_start": 0.176032,
            "bin_end": 0.190068,
            "count": 0
           },
           {
            "bin_start": 0.190068,
            "bin_end": 0.204104,
            "count": 0
           },
           {
            "bin_start": 0.204104,
            "bin_end": 0.21814,
            "count": 1
           }
          ]
         }
        },
        {
         "name": "void_volume [cm^3/g]",
         "dtype": "float64",
         "stats": {
          "unique_count": 5,
          "nan_count": 0,
          "min": "0.0591",
          "max": "0.222",
          "histogram": [
           {
            "bin_start": 0.0591,
            "bin_end": 0.07539,
            "count": 2
           },
           {
            "bin_start": 0.07539,
            "bin_end": 0.09168,
            "count": 0
           },
           {
            "bin_start": 0.09168,
            "bin_end": 0.10797,
            "count": 1
           },
           {
            "bin_start": 0.10797,
            "bin_end": 0.12426,
            "count": 0
           },
           {
            "bin_start": 0.12426,
            "bin_end": 0.14055,
            "count": 1
           },
           {
            "bin_start": 0.14055,
            "bin_end": 0.15683999999999998,
            "count": 0
           },
           {
            "bin_start": 0.15683999999999998,
            "bin_end": 0.17313,
            "count": 0
           },
           {
            "bin_start": 0.17313,
            "bin_end": 0.18941999999999998,
            "count": 0
           },
           {
            "bin_start": 0.18941999999999998,
            "bin_end": 0.20571,
            "count": 0
           },
           {
            "bin_start": 0.20571,
            "bin_end": 0.222,
            "count": 1
           }
          ]
         }
        },
        {
         "name": "functional_groups",
         "dtype": "object",
         "stats": {
          "unique_count": 5,
          "nan_count": 0,
          "categories": [
           {
            "name": "COOH-OEt",
            "count": 1
           },
           {
            "name": "F-OMe",
            "count": 1
           },
           {
            "name": "3 others",
            "count": 3
           }
          ]
         }
        },
        {
         "name": "metal_linker",
         "dtype": "int64",
         "stats": {
          "unique_count": 4,
          "nan_count": 0,
          "min": "2",
          "max": "10",
          "histogram": [
           {
            "bin_start": 2,
            "bin_end": 2.8,
            "count": 2
           },
           {
            "bin_start": 2.8,
            "bin_end": 3.6,
            "count": 1
           },
           {
            "bin_start": 3.6,
            "bin_end": 4.4,
            "count": 0
           },
           {
            "bin_start": 4.4,
            "bin_end": 5.2,
            "count": 0
           },
           {
            "bin_start": 5.2,
            "bin_end": 6,
            "count": 0
           },
           {
            "bin_start": 6,
            "bin_end": 6.800000000000001,
            "count": 0
           },
           {
            "bin_start": 6.800000000000001,
            "bin_end": 7.6000000000000005,
            "count": 0
           },
           {
            "bin_start": 7.6000000000000005,
            "bin_end": 8.4,
            "count": 0
           },
           {
            "bin_start": 8.4,
            "bin_end": 9.2,
            "count": 1
           },
           {
            "bin_start": 9.2,
            "bin_end": 10,
            "count": 1
           }
          ]
         }
        },
        {
         "name": "organic_linker1",
         "dtype": "int64",
         "stats": {
          "unique_count": 5,
          "nan_count": 0,
          "min": "1",
          "max": "44",
          "histogram": [
           {
            "bin_start": 1,
            "bin_end": 5.3,
            "count": 2
           },
           {
            "bin_start": 5.3,
            "bin_end": 9.6,
            "count": 0
           },
           {
            "bin_start": 9.6,
            "bin_end": 13.899999999999999,
            "count": 0
           },
           {
            "bin_start": 13.899999999999999,
            "bin_end": 18.2,
            "count": 1
           },
           {
            "bin_start": 18.2,
            "bin_end": 22.5,
            "count": 1
           },
           {
            "bin_start": 22.5,
            "bin_end": 26.799999999999997,
            "count": 0
           },
           {
            "bin_start": 26.799999999999997,
            "bin_end": 31.099999999999998,
            "count": 0
           },
           {
            "bin_start": 31.099999999999998,
            "bin_end": 35.4,
            "count": 0
           },
           {
            "bin_start": 35.4,
            "bin_end": 39.699999999999996,
            "count": 0
           },
           {
            "bin_start": 39.699999999999996,
            "bin_end": 44,
            "count": 1
           }
          ]
         }
        },
        {
         "name": "organic_linker2",
         "dtype": "int64",
         "stats": {
          "unique_count": 4,
          "nan_count": 0,
          "min": "11",
          "max": "57",
          "histogram": [
           {
            "bin_start": 11,
            "bin_end": 15.6,
            "count": 1
           },
           {
            "bin_start": 15.6,
            "bin_end": 20.2,
            "count": 0
           },
           {
            "bin_start": 20.2,
            "bin_end": 24.799999999999997,
            "count": 3
           },
           {
            "bin_start": 24.799999999999997,
            "bin_end": 29.4,
            "count": 0
           },
           {
            "bin_start": 29.4,
            "bin_end": 34,
            "count": 0
           },
           {
            "bin_start": 34,
            "bin_end": 38.599999999999994,
            "count": 0
           },
           {
            "bin_start": 38.599999999999994,
            "bin_end": 43.199999999999996,
            "count": 0
           },
           {
            "bin_start": 43.199999999999996,
            "bin_end": 47.8,
            "count": 0
           },
           {
            "bin_start": 47.8,
            "bin_end": 52.4,
            "count": 0
           },
           {
            "bin_start": 52.4,
            "bin_end": 57,
            "count": 1
           }
          ]
         }
        },
        {
         "name": "topology",
         "dtype": "object",
         "stats": {
          "unique_count": 3,
          "nan_count": 0,
          "categories": [
           {
            "name": "pcu",
            "count": 3
           },
           {
            "name": "etb",
            "count": 1
           },
           {
            "name": "sra",
            "count": 1
           }
          ]
         }
        },
        {
         "name": "CO2/N2_selectivity",
         "dtype": "float64",
         "stats": {
          "unique_count": 5,
          "nan_count": 0,
          "min": "19.26372569",
          "max": "33.61678033",
          "histogram": [
           {
            "bin_start": 19.26372569,
            "bin_end": 20.699031154,
            "count": 1
           },
           {
            "bin_start": 20.699031154,
            "bin_end": 22.134336618,
            "count": 0
           },
           {
            "bin_start": 22.134336618,
            "bin_end": 23.569642082,
            "count": 1
           },
           {
            "bin_start": 23.569642082,
            "bin_end": 25.004947546,
            "count": 0
           },
           {
            "bin_start": 25.004947546,
            "bin_end": 26.44025301,
            "count": 1
           },
           {
            "bin_start": 26.44025301,
            "bin_end": 27.875558473999998,
            "count": 0
           },
           {
            "bin_start": 27.875558473999998,
            "bin_end": 29.310863937999997,
            "count": 0
           },
           {
            "bin_start": 29.310863937999997,
            "bin_end": 30.746169402,
            "count": 1
           },
           {
            "bin_start": 30.746169402,
            "bin_end": 32.181474865999995,
            "count": 0
           },
           {
            "bin_start": 32.181474865999995,
            "bin_end": 33.61678033,
            "count": 1
           }
          ]
         }
        },
        {
         "name": "heat_adsorption_CO2_P0.15bar_T298K [kcal/mol]",
         "dtype": "float64",
         "stats": {
          "unique_count": 5,
          "nan_count": 0,
          "min": "6.190085",
          "max": "7.147286",
          "histogram": [
           {
            "bin_start": 6.190085,
            "bin_end": 6.2858051,
            "count": 1
           },
           {
            "bin_start": 6.2858051,
            "bin_end": 6.3815252,
            "count": 1
           },
           {
            "bin_start": 6.3815252,
            "bin_end": 6.4772453,
            "count": 0
           },
           {
            "bin_start": 6.4772453,
            "bin_end": 6.5729654,
            "count": 1
           },
           {
            "bin_start": 6.5729654,
            "bin_end": 6.6686855000000005,
            "count": 0
           },
           {
            "bin_start": 6.6686855000000005,
            "bin_end": 6.7644056,
            "count": 0
           },
           {
            "bin_start": 6.7644056,
            "bin_end": 6.8601257,
            "count": 1
           },
           {
            "bin_start": 6.8601257,
            "bin_end": 6.9558458000000005,
            "count": 0
           },
           {
            "bin_start": 6.9558458000000005,
            "bin_end": 7.0515659,
            "count": 0
           },
           {
            "bin_start": 7.0515659,
            "bin_end": 7.147286,
            "count": 1
           }
          ]
         }
        },
        {
         "name": "CO2_working_capacity [mL/g]",
         "dtype": "float64",
         "stats": {
          "unique_count": 5,
          "nan_count": 0,
          "min": "79.21000065588353",
          "max": "187.62600449626183",
          "histogram": [
           {
            "bin_start": 79.21000065588353,
            "bin_end": 90.05160103992137,
            "count": 1
           },
           {
            "bin_start": 90.05160103992137,
            "bin_end": 100.8932014239592,
            "count": 0
           },
           {
            "bin_start": 100.8932014239592,
            "bin_end": 111.73480180799702,
            "count": 2
           },
           {
            "bin_start": 111.73480180799702,
            "bin_end": 122.57640219203485,
            "count": 1
           },
           {
            "bin_start": 122.57640219203485,
            "bin_end": 133.4180025760727,
            "count": 0
           },
           {
            "bin_start": 133.4180025760727,
            "bin_end": 144.2596029601105,
            "count": 0
           },
           {
            "bin_start": 144.2596029601105,
            "bin_end": 155.10120334414833,
            "count": 0
           },
           {
            "bin_start": 155.10120334414833,
            "bin_end": 165.94280372818616,
            "count": 0
           },
           {
            "bin_start": 165.94280372818616,
            "bin_end": 176.784404112224,
            "count": 0
           },
           {
            "bin_start": 176.784404112224,
            "bin_end": 187.62600449626183,
            "count": 1
           }
          ]
         }
        },
        {
         "name": "_deepnote_index_column",
         "dtype": "int64"
        }
       ],
       "rows_top": [
        {
         "MOFname": "mof_unit_1",
         "volume [A^3]": 1116.667429,
         "weight [u]": 875.2405999999999,
         "surface_area [m^2/g]": 0,
         "void_fraction": 0.07899,
         "void_volume [cm^3/g]": 0.0606999999999999,
         "functional_groups": "COOH-OEt",
         "metal_linker": 3,
         "organic_linker1": 4,
         "organic_linker2": 11,
         "topology": "pcu",
         "CO2/N2_selectivity": 22.86416611,
         "heat_adsorption_CO2_P0.15bar_T298K [kcal/mol]": 6.786041,
         "CO2_working_capacity [mL/g]": 105.2845017241596,
         "_deepnote_index_column": 0
        },
        {
         "MOFname": "mof_unit_2",
         "volume [A^3]": 2769.503842,
         "weight [u]": 2211.697211,
         "surface_area [m^2/g]": 603.61,
         "void_fraction": 0.13794,
         "void_volume [cm^3/g]": 0.104,
         "functional_groups": "F-OMe",
         "metal_linker": 10,
         "organic_linker1": 44,
         "organic_linker2": 57,
         "topology": "etb",
         "CO2/N2_selectivity": 33.61678033,
         "heat_adsorption_CO2_P0.15bar_T298K [kcal/mol]": 7.147286,
         "CO2_working_capacity [mL/g]": 101.22477417834172,
         "_deepnote_index_column": 1
        },
        {
         "MOFname": "mof_unit_3",
         "volume [A^3]": 1089.818728,
         "weight [u]": 773.68796,
         "surface_area [m^2/g]": 788.5,
         "void_fraction": 0.14874,
         "void_volume [cm^3/g]": 0.1262,
         "functional_groups": "OMe-COOH",
         "metal_linker": 2,
         "organic_linker1": 22,
         "organic_linker2": 24,
         "topology": "pcu",
         "CO2/N2_selectivity": 19.26372569,
         "heat_adsorption_CO2_P0.15bar_T298K [kcal/mol]": 6.347967,
         "CO2_working_capacity [mL/g]": 118.98701074687752,
         "_deepnote_index_column": 2
        },
        {
         "MOFname": "mof_unit_4",
         "volume [A^3]": 2205.1983010000004,
         "weight [u]": 1304.63872,
         "surface_area [m^2/g]": 1441.53,
         "void_fraction": 0.21814,
         "void_volume [cm^3/g]": 0.222,
         "functional_groups": "H-SO3H",
         "metal_linker": 9,
         "organic_linker1": 17,
         "organic_linker2": 24,
         "topology": "sra",
         "CO2/N2_selectivity": 25.70137692,
         "heat_adsorption_CO2_P0.15bar_T298K [kcal/mol]": 6.190085,
         "CO2_working_capacity [mL/g]": 187.62600449626183,
         "_deepnote_index_column": 3
        },
        {
         "MOFname": "mof_unit_5",
         "volume [A^3]": 1137.800963,
         "weight [u]": 901.73612,
         "surface_area [m^2/g]": 0,
         "void_fraction": 0.07778,
         "void_volume [cm^3/g]": 0.0591,
         "functional_groups": "NHMe-OH",
         "metal_linker": 2,
         "organic_linker1": 1,
         "organic_linker2": 22,
         "topology": "pcu",
         "CO2/N2_selectivity": 30.00183795,
         "heat_adsorption_CO2_P0.15bar_T298K [kcal/mol]": 6.478063,
         "CO2_working_capacity [mL/g]": 79.21000065588353,
         "_deepnote_index_column": 4
        }
       ],
       "rows_bottom": null
      },
      "text/plain": "      MOFname  volume [A^3]   weight [u]  surface_area [m^2/g]  void_fraction  \\\n0  mof_unit_1   1116.667429   875.240600                  0.00        0.07899   \n1  mof_unit_2   2769.503842  2211.697211                603.61        0.13794   \n2  mof_unit_3   1089.818728   773.687960                788.50        0.14874   \n3  mof_unit_4   2205.198301  1304.638720               1441.53        0.21814   \n4  mof_unit_5   1137.800963   901.736120                  0.00        0.07778   \n\n   void_volume [cm^3/g] functional_groups  metal_linker  organic_linker1  \\\n0                0.0607          COOH-OEt             3                4   \n1                0.1040             F-OMe            10               44   \n2                0.1262          OMe-COOH             2               22   \n3                0.2220            H-SO3H             9               17   \n4                0.0591           NHMe-OH             2                1   \n\n   organic_linker2 topology  CO2/N2_selectivity  \\\n0               11      pcu           22.864166   \n1               57      etb           33.616780   \n2               24      pcu           19.263726   \n3               24      sra           25.701377   \n4               22      pcu           30.001838   \n\n   heat_adsorption_CO2_P0.15bar_T298K [kcal/mol]  CO2_working_capacity [mL/g]  \n0                                       6.786041                   105.284502  \n1                                       7.147286                   101.224774  \n2                                       6.347967                   118.987011  \n3                                       6.190085                   187.626004  \n4                                       6.478063                    79.210001  ",
      "text/html": "<div>\n<style scoped>\n    .dataframe tbody tr th:only-of-type {\n        vertical-align: middle;\n    }\n\n    .dataframe tbody tr th {\n        vertical-align: top;\n    }\n\n    .dataframe thead th {\n        text-align: right;\n    }\n</style>\n<table border=\"1\" class=\"dataframe\">\n  <thead>\n    <tr style=\"text-align: right;\">\n      <th></th>\n      <th>MOFname</th>\n      <th>volume [A^3]</th>\n      <th>weight [u]</th>\n      <th>surface_area [m^2/g]</th>\n      <th>void_fraction</th>\n      <th>void_volume [cm^3/g]</th>\n      <th>functional_groups</th>\n      <th>metal_linker</th>\n      <th>organic_linker1</th>\n      <th>organic_linker2</th>\n      <th>topology</th>\n      <th>CO2/N2_selectivity</th>\n      <th>heat_adsorption_CO2_P0.15bar_T298K [kcal/mol]</th>\n      <th>CO2_working_capacity [mL/g]</th>\n    </tr>\n  </thead>\n  <tbody>\n    <tr>\n      <th>0</th>\n      <td>mof_unit_1</td>\n      <td>1116.667429</td>\n      <td>875.240600</td>\n      <td>0.00</td>\n      <td>0.07899</td>\n      <td>0.0607</td>\n      <td>COOH-OEt</td>\n      <td>3</td>\n      <td>4</td>\n      <td>11</td>\n      <td>pcu</td>\n      <td>22.864166</td>\n      <td>6.786041</td>\n      <td>105.284502</td>\n    </tr>\n    <tr>\n      <th>1</th>\n      <td>mof_unit_2</td>\n      <td>2769.503842</td>\n      <td>2211.697211</td>\n      <td>603.61</td>\n      <td>0.13794</td>\n      <td>0.1040</td>\n      <td>F-OMe</td>\n      <td>10</td>\n      <td>44</td>\n      <td>57</td>\n      <td>etb</td>\n      <td>33.616780</td>\n      <td>7.147286</td>\n      <td>101.224774</td>\n    </tr>\n    <tr>\n      <th>2</th>\n      <td>mof_unit_3</td>\n      <td>1089.818728</td>\n      <td>773.687960</td>\n      <td>788.50</td>\n      <td>0.14874</td>\n      <td>0.1262</td>\n      <td>OMe-COOH</td>\n      <td>2</td>\n      <td>22</td>\n      <td>24</td>\n      <td>pcu</td>\n      <td>19.263726</td>\n      <td>6.347967</td>\n      <td>118.987011</td>\n    </tr>\n    <tr>\n      <th>3</th>\n      <td>mof_unit_4</td>\n      <td>2205.198301</td>\n      <td>1304.638720</td>\n      <td>1441.53</td>\n      <td>0.21814</td>\n      <td>0.2220</td>\n      <td>H-SO3H</td>\n      <td>9</td>\n      <td>17</td>\n      <td>24</td>\n      <td>sra</td>\n      <td>25.701377</td>\n      <td>6.190085</td>\n      <td>187.626004</td>\n    </tr>\n    <tr>\n      <th>4</th>\n      <td>mof_unit_5</td>\n      <td>1137.800963</td>\n      <td>901.736120</td>\n      <td>0.00</td>\n      <td>0.07778</td>\n      <td>0.0591</td>\n      <td>NHMe-OH</td>\n      <td>2</td>\n      <td>1</td>\n      <td>22</td>\n      <td>pcu</td>\n      <td>30.001838</td>\n      <td>6.478063</td>\n      <td>79.210001</td>\n    </tr>\n  </tbody>\n</table>\n</div>"
     },
     "metadata": {}
    }
   ],
   "execution_count": null
  },
  {
   "cell_type": "code",
   "metadata": {
    "tags": [],
    "cell_id": "00008-24862e94-fcae-4e3d-b56d-07fc7387a817",
    "deepnote_to_be_reexecuted": false,
    "source_hash": "9ef24b9e",
    "execution_start": 1634388702918,
    "execution_millis": 74,
    "deepnote_cell_type": "code"
   },
   "source": "testing_set = pd.read_csv(testing_path)\ntesting_set.head()",
   "outputs": [
    {
     "output_type": "execute_result",
     "execution_count": 6,
     "data": {
      "application/vnd.deepnote.dataframe.v2+json": {
       "row_count": 5,
       "column_count": 13,
       "columns": [
        {
         "name": "MOFname",
         "dtype": "object",
         "stats": {
          "unique_count": 5,
          "nan_count": 0,
          "categories": [
           {
            "name": "mof_unit_68614",
            "count": 1
           },
           {
            "name": "mof_unit_68615",
            "count": 1
           },
           {
            "name": "3 others",
            "count": 3
           }
          ]
         }
        },
        {
         "name": "volume [A^3]",
         "dtype": "float64",
         "stats": {
          "unique_count": 5,
          "nan_count": 0,
          "min": "1208.301332",
          "max": "4126.414623",
          "histogram": [
           {
            "bin_start": 1208.301332,
            "bin_end": 1500.1126611,
            "count": 1
           },
           {
            "bin_start": 1500.1126611,
            "bin_end": 1791.9239902,
            "count": 1
           },
           {
            "bin_start": 1791.9239902,
            "bin_end": 2083.7353193,
            "count": 0
           },
           {
            "bin_start": 2083.7353193,
            "bin_end": 2375.5466484,
            "count": 0
           },
           {
            "bin_start": 2375.5466484,
            "bin_end": 2667.3579775,
            "count": 1
           },
           {
            "bin_start": 2667.3579775,
            "bin_end": 2959.1693066,
            "count": 0
           },
           {
            "bin_start": 2959.1693066,
            "bin_end": 3250.9806356999998,
            "count": 1
           },
           {
            "bin_start": 3250.9806356999998,
            "bin_end": 3542.7919647999997,
            "count": 0
           },
           {
            "bin_start": 3542.7919647999997,
            "bin_end": 3834.6032938999997,
            "count": 0
           },
           {
            "bin_start": 3834.6032938999997,
            "bin_end": 4126.414623,
            "count": 1
           }
          ]
         }
        },
        {
         "name": "weight [u]",
         "dtype": "float64",
         "stats": {
          "unique_count": 5,
          "nan_count": 0,
          "min": "747.21048",
          "max": "3733.65779",
          "histogram": [
           {
            "bin_start": 747.21048,
            "bin_end": 1045.855211,
            "count": 3
           },
           {
            "bin_start": 1045.855211,
            "bin_end": 1344.499942,
            "count": 1
           },
           {
            "bin_start": 1344.499942,
            "bin_end": 1643.144673,
            "count": 0
           },
           {
            "bin_start": 1643.144673,
            "bin_end": 1941.789404,
            "count": 0
           },
           {
            "bin_start": 1941.789404,
            "bin_end": 2240.4341350000004,
            "count": 0
           },
           {
            "bin_start": 2240.4341350000004,
            "bin_end": 2539.078866,
            "count": 0
           },
           {
            "bin_start": 2539.078866,
            "bin_end": 2837.723597,
            "count": 0
           },
           {
            "bin_start": 2837.723597,
            "bin_end": 3136.3683280000005,
            "count": 0
           },
           {
            "bin_start": 3136.3683280000005,
            "bin_end": 3435.013059,
            "count": 0
           },
           {
            "bin_start": 3435.013059,
            "bin_end": 3733.65779,
            "count": 1
           }
          ]
         }
        },
        {
         "name": "surface_area [m^2/g]",
         "dtype": "float64",
         "stats": {
          "unique_count": 5,
          "nan_count": 0,
          "min": "586.54",
          "max": "3521.09",
          "histogram": [
           {
            "bin_start": 586.54,
            "bin_end": 879.995,
            "count": 2
           },
           {
            "bin_start": 879.995,
            "bin_end": 1173.45,
            "count": 0
           },
           {
            "bin_start": 1173.45,
            "bin_end": 1466.9050000000002,
            "count": 0
           },
           {
            "bin_start": 1466.9050000000002,
            "bin_end": 1760.3600000000001,
            "count": 0
           },
           {
            "bin_start": 1760.3600000000001,
            "bin_end": 2053.815,
            "count": 0
           },
           {
            "bin_start": 2053.815,
            "bin_end": 2347.2700000000004,
            "count": 0
           },
           {
            "bin_start": 2347.2700000000004,
            "bin_end": 2640.7250000000004,
            "count": 0
           },
           {
            "bin_start": 2640.7250000000004,
            "bin_end": 2934.1800000000003,
            "count": 1
           },
           {
            "bin_start": 2934.1800000000003,
            "bin_end": 3227.635,
            "count": 1
           },
           {
            "bin_start": 3227.635,
            "bin_end": 3521.09,
            "count": 1
           }
          ]
         }
        },
        {
         "name": "void_fraction",
         "dtype": "float64",
         "stats": {
          "unique_count": 5,
          "nan_count": 0,
          "min": "0.11392",
          "max": "0.40464",
          "histogram": [
           {
            "bin_start": 0.11392,
            "bin_end": 0.14299199999999998,
            "count": 1
           },
           {
            "bin_start": 0.14299199999999998,
            "bin_end": 0.172064,
            "count": 0
           },
           {
            "bin_start": 0.172064,
            "bin_end": 0.20113599999999998,
            "count": 0
           },
           {
            "bin_start": 0.20113599999999998,
            "bin_end": 0.23020799999999997,
            "count": 1
           },
           {
            "bin_start": 0.23020799999999997,
            "bin_end": 0.25927999999999995,
            "count": 0
           },
           {
            "bin_start": 0.25927999999999995,
            "bin_end": 0.28835199999999994,
            "count": 0
           },
           {
            "bin_start": 0.28835199999999994,
            "bin_end": 0.317424,
            "count": 0
           },
           {
            "bin_start": 0.317424,
            "bin_end": 0.34649599999999997,
            "count": 1
           },
           {
            "bin_start": 0.34649599999999997,
            "bin_end": 0.375568,
            "count": 0
           },
           {
            "bin_start": 0.375568,
            "bin_end": 0.40464,
            "count": 2
           }
          ]
         }
        },
        {
         "name": "void_volume [cm^3/g]",
         "dtype": "float64",
         "stats": {
          "unique_count": 5,
          "nan_count": 0,
          "min": "0.1039",
          "max": "0.5963",
          "histogram": [
           {
            "bin_start": 0.1039,
            "bin_end": 0.15314,
            "count": 2
           },
           {
            "bin_start": 0.15314,
            "bin_end": 0.20238,
            "count": 0
           },
           {
            "bin_start": 0.20238,
            "bin_end": 0.25162,
            "count": 0
           },
           {
            "bin_start": 0.25162,
            "bin_end": 0.30086,
            "count": 0
           },
           {
            "bin_start": 0.30086,
            "bin_end": 0.3501,
            "count": 0
           },
           {
            "bin_start": 0.3501,
            "bin_end": 0.39934000000000003,
            "count": 0
           },
           {
            "bin_start": 0.39934000000000003,
            "bin_end": 0.44858000000000003,
            "count": 1
           },
           {
            "bin_start": 0.44858000000000003,
            "bin_end": 0.49782000000000004,
            "count": 0
           },
           {
            "bin_start": 0.49782000000000004,
            "bin_end": 0.5470600000000001,
            "count": 0
           },
           {
            "bin_start": 0.5470600000000001,
            "bin_end": 0.5963,
            "count": 2
           }
          ]
         }
        },
        {
         "name": "functional_groups",
         "dtype": "object",
         "stats": {
          "unique_count": 5,
          "nan_count": 0,
          "categories": [
           {
            "name": "OEt",
            "count": 1
           },
           {
            "name": "H-I",
            "count": 1
           },
           {
            "name": "3 others",
            "count": 3
           }
          ]
         }
        },
        {
         "name": "metal_linker",
         "dtype": "int64",
         "stats": {
          "unique_count": 3,
          "nan_count": 0,
          "min": "2",
          "max": "4",
          "histogram": [
           {
            "bin_start": 2,
            "bin_end": 2.2,
            "count": 2
           },
           {
            "bin_start": 2.2,
            "bin_end": 2.4,
            "count": 0
           },
           {
            "bin_start": 2.4,
            "bin_end": 2.6,
            "count": 0
           },
           {
            "bin_start": 2.6,
            "bin_end": 2.8,
            "count": 0
           },
           {
            "bin_start": 2.8,
            "bin_end": 3,
            "count": 0
           },
           {
            "bin_start": 3,
            "bin_end": 3.2,
            "count": 2
           },
           {
            "bin_start": 3.2,
            "bin_end": 3.4000000000000004,
            "count": 0
           },
           {
            "bin_start": 3.4000000000000004,
            "bin_end": 3.6,
            "count": 0
           },
           {
            "bin_start": 3.6,
            "bin_end": 3.8,
            "count": 0
           },
           {
            "bin_start": 3.8,
            "bin_end": 4,
            "count": 1
           }
          ]
         }
        },
        {
         "name": "organic_linker1",
         "dtype": "int64",
         "stats": {
          "unique_count": 5,
          "nan_count": 0,
          "min": "1",
          "max": "11",
          "histogram": [
           {
            "bin_start": 1,
            "bin_end": 2,
            "count": 1
           },
           {
            "bin_start": 2,
            "bin_end": 3,
            "count": 0
           },
           {
            "bin_start": 3,
            "bin_end": 4,
            "count": 0
           },
           {
            "bin_start": 4,
            "bin_end": 5,
            "count": 0
           },
           {
            "bin_start": 5,
            "bin_end": 6,
            "count": 1
           },
           {
            "bin_start": 6,
            "bin_end": 7,
            "count": 1
           },
           {
            "bin_start": 7,
            "bin_end": 8,
            "count": 0
           },
           {
            "bin_start": 8,
            "bin_end": 9,
            "count": 1
           },
           {
            "bin_start": 9,
            "bin_end": 10,
            "count": 0
           },
           {
            "bin_start": 10,
            "bin_end": 11,
            "count": 1
           }
          ]
         }
        },
        {
         "name": "organic_linker2",
         "dtype": "int64",
         "stats": {
          "unique_count": 4,
          "nan_count": 0,
          "min": "17",
          "max": "28",
          "histogram": [
           {
            "bin_start": 17,
            "bin_end": 18.1,
            "count": 2
           },
           {
            "bin_start": 18.1,
            "bin_end": 19.2,
            "count": 1
           },
           {
            "bin_start": 19.2,
            "bin_end": 20.3,
            "count": 0
           },
           {
            "bin_start": 20.3,
            "bin_end": 21.4,
            "count": 0
           },
           {
            "bin_start": 21.4,
            "bin_end": 22.5,
            "count": 0
           },
           {
            "bin_start": 22.5,
            "bin_end": 23.6,
            "count": 0
           },
           {
            "bin_start": 23.6,
            "bin_end": 24.700000000000003,
            "count": 0
           },
           {
            "bin_start": 24.700000000000003,
            "bin_end": 25.8,
            "count": 0
           },
           {
            "bin_start": 25.8,
            "bin_end": 26.9,
            "count": 1
           },
           {
            "bin_start": 26.9,
            "bin_end": 28,
            "count": 1
           }
          ]
         }
        },
        {
         "name": "topology",
         "dtype": "object",
         "stats": {
          "unique_count": 2,
          "nan_count": 0,
          "categories": [
           {
            "name": "pcu",
            "count": 4
           },
           {
            "name": "acs",
            "count": 1
           }
          ]
         }
        },
        {
         "name": "CO2/N2_selectivity",
         "dtype": "float64",
         "stats": {
          "unique_count": 5,
          "nan_count": 0,
          "min": "9.601197536",
          "max": "36.63979083",
          "histogram": [
           {
            "bin_start": 9.601197536,
            "bin_end": 12.305056865400001,
            "count": 1
           },
           {
            "bin_start": 12.305056865400001,
            "bin_end": 15.008916194800001,
            "count": 2
           },
           {
            "bin_start": 15.008916194800001,
            "bin_end": 17.7127755242,
            "count": 0
           },
           {
            "bin_start": 17.7127755242,
            "bin_end": 20.4166348536,
            "count": 1
           },
           {
            "bin_start": 20.4166348536,
            "bin_end": 23.120494183,
            "count": 0
           },
           {
            "bin_start": 23.120494183,
            "bin_end": 25.824353512400002,
            "count": 0
           },
           {
            "bin_start": 25.824353512400002,
            "bin_end": 28.528212841800002,
            "count": 0
           },
           {
            "bin_start": 28.528212841800002,
            "bin_end": 31.232072171200002,
            "count": 0
           },
           {
            "bin_start": 31.232072171200002,
            "bin_end": 33.935931500600006,
            "count": 0
           },
           {
            "bin_start": 33.935931500600006,
            "bin_end": 36.63979083,
            "count": 1
           }
          ]
         }
        },
        {
         "name": "heat_adsorption_CO2_P0.15bar_T298K [kcal/mol]",
         "dtype": "float64",
         "stats": {
          "unique_count": 5,
          "nan_count": 0,
          "min": "5.0454",
          "max": "7.00564",
          "histogram": [
           {
            "bin_start": 5.0454,
            "bin_end": 5.241424,
            "count": 3
           },
           {
            "bin_start": 5.241424,
            "bin_end": 5.437448,
            "count": 1
           },
           {
            "bin_start": 5.437448,
            "bin_end": 5.633471999999999,
            "count": 0
           },
           {
            "bin_start": 5.633471999999999,
            "bin_end": 5.829496,
            "count": 0
           },
           {
            "bin_start": 5.829496,
            "bin_end": 6.02552,
            "count": 0
           },
           {
            "bin_start": 6.02552,
            "bin_end": 6.221544,
            "count": 0
           },
           {
            "bin_start": 6.221544,
            "bin_end": 6.417567999999999,
            "count": 0
           },
           {
            "bin_start": 6.417567999999999,
            "bin_end": 6.613592,
            "count": 0
           },
           {
            "bin_start": 6.613592,
            "bin_end": 6.809616,
            "count": 0
           },
           {
            "bin_start": 6.809616,
            "bin_end": 7.00564,
            "count": 1
           }
          ]
         }
        },
        {
         "name": "_deepnote_index_column",
         "dtype": "int64"
        }
       ],
       "rows_top": [
        {
         "MOFname": "mof_unit_68614",
         "volume [A^3]": 1208.301332,
         "weight [u]": 797.70936,
         "surface_area [m^2/g]": 586.54,
         "void_fraction": 0.11392,
         "void_volume [cm^3/g]": 0.1039,
         "functional_groups": "OEt",
         "metal_linker": 2,
         "organic_linker1": 5,
         "organic_linker2": 26,
         "topology": "pcu",
         "CO2/N2_selectivity": 36.63979083,
         "heat_adsorption_CO2_P0.15bar_T298K [kcal/mol]": 7.00564,
         "_deepnote_index_column": 0
        },
        {
         "MOFname": "mof_unit_68615",
         "volume [A^3]": 4126.414623,
         "weight [u]": 3733.65779,
         "surface_area [m^2/g]": 852.49,
         "void_fraction": 0.2136699999999999,
         "void_volume [cm^3/g]": 0.1422,
         "functional_groups": "H-I",
         "metal_linker": 4,
         "organic_linker1": 6,
         "organic_linker2": 17,
         "topology": "acs",
         "CO2/N2_selectivity": 18.39069095,
         "heat_adsorption_CO2_P0.15bar_T298K [kcal/mol]": 5.119399,
         "_deepnote_index_column": 1
        },
        {
         "MOFname": "mof_unit_68616",
         "volume [A^3]": 1602.148373,
         "weight [u]": 747.21048,
         "surface_area [m^2/g]": 3155.73,
         "void_fraction": 0.33883,
         "void_volume [cm^3/g]": 0.4375,
         "functional_groups": "CN-OH",
         "metal_linker": 3,
         "organic_linker1": 11,
         "organic_linker2": 17,
         "topology": "pcu",
         "CO2/N2_selectivity": 13.06285017,
         "heat_adsorption_CO2_P0.15bar_T298K [kcal/mol]": 5.0454,
         "_deepnote_index_column": 2
        },
        {
         "MOFname": "mof_unit_68617",
         "volume [A^3]": 2436.629312,
         "weight [u]": 995.80232,
         "surface_area [m^2/g]": 3521.09,
         "void_fraction": 0.40464,
         "void_volume [cm^3/g]": 0.5963,
         "functional_groups": "OMe",
         "metal_linker": 2,
         "organic_linker1": 1,
         "organic_linker2": 28,
         "topology": "pcu",
         "CO2/N2_selectivity": 9.601197536,
         "heat_adsorption_CO2_P0.15bar_T298K [kcal/mol]": 5.106237999999999,
         "_deepnote_index_column": 3
        },
        {
         "MOFname": "mof_unit_68618",
         "volume [A^3]": 3123.418006,
         "weight [u]": 1337.538,
         "surface_area [m^2/g]": 2678.46,
         "void_fraction": 0.38959,
         "void_volume [cm^3/g]": 0.5479,
         "functional_groups": "NO2-Pr",
         "metal_linker": 3,
         "organic_linker1": 8,
         "organic_linker2": 19,
         "topology": "pcu",
         "CO2/N2_selectivity": 12.97495429,
         "heat_adsorption_CO2_P0.15bar_T298K [kcal/mol]": 5.287639,
         "_deepnote_index_column": 4
        }
       ],
       "rows_bottom": null
      },
      "text/plain": "          MOFname  volume [A^3]  weight [u]  surface_area [m^2/g]  \\\n0  mof_unit_68614   1208.301332   797.70936                586.54   \n1  mof_unit_68615   4126.414623  3733.65779                852.49   \n2  mof_unit_68616   1602.148373   747.21048               3155.73   \n3  mof_unit_68617   2436.629312   995.80232               3521.09   \n4  mof_unit_68618   3123.418006  1337.53800               2678.46   \n\n   void_fraction  void_volume [cm^3/g] functional_groups  metal_linker  \\\n0        0.11392                0.1039               OEt             2   \n1        0.21367                0.1422               H-I             4   \n2        0.33883                0.4375             CN-OH             3   \n3        0.40464                0.5963               OMe             2   \n4        0.38959                0.5479            NO2-Pr             3   \n\n   organic_linker1  organic_linker2 topology  CO2/N2_selectivity  \\\n0                5               26      pcu           36.639791   \n1                6               17      acs           18.390691   \n2               11               17      pcu           13.062850   \n3                1               28      pcu            9.601198   \n4                8               19      pcu           12.974954   \n\n   heat_adsorption_CO2_P0.15bar_T298K [kcal/mol]  \n0                                       7.005640  \n1                                       5.119399  \n2                                       5.045400  \n3                                       5.106238  \n4                                       5.287639  ",
      "text/html": "<div>\n<style scoped>\n    .dataframe tbody tr th:only-of-type {\n        vertical-align: middle;\n    }\n\n    .dataframe tbody tr th {\n        vertical-align: top;\n    }\n\n    .dataframe thead th {\n        text-align: right;\n    }\n</style>\n<table border=\"1\" class=\"dataframe\">\n  <thead>\n    <tr style=\"text-align: right;\">\n      <th></th>\n      <th>MOFname</th>\n      <th>volume [A^3]</th>\n      <th>weight [u]</th>\n      <th>surface_area [m^2/g]</th>\n      <th>void_fraction</th>\n      <th>void_volume [cm^3/g]</th>\n      <th>functional_groups</th>\n      <th>metal_linker</th>\n      <th>organic_linker1</th>\n      <th>organic_linker2</th>\n      <th>topology</th>\n      <th>CO2/N2_selectivity</th>\n      <th>heat_adsorption_CO2_P0.15bar_T298K [kcal/mol]</th>\n    </tr>\n  </thead>\n  <tbody>\n    <tr>\n      <th>0</th>\n      <td>mof_unit_68614</td>\n      <td>1208.301332</td>\n      <td>797.70936</td>\n      <td>586.54</td>\n      <td>0.11392</td>\n      <td>0.1039</td>\n      <td>OEt</td>\n      <td>2</td>\n      <td>5</td>\n      <td>26</td>\n      <td>pcu</td>\n      <td>36.639791</td>\n      <td>7.005640</td>\n    </tr>\n    <tr>\n      <th>1</th>\n      <td>mof_unit_68615</td>\n      <td>4126.414623</td>\n      <td>3733.65779</td>\n      <td>852.49</td>\n      <td>0.21367</td>\n      <td>0.1422</td>\n      <td>H-I</td>\n      <td>4</td>\n      <td>6</td>\n      <td>17</td>\n      <td>acs</td>\n      <td>18.390691</td>\n      <td>5.119399</td>\n    </tr>\n    <tr>\n      <th>2</th>\n      <td>mof_unit_68616</td>\n      <td>1602.148373</td>\n      <td>747.21048</td>\n      <td>3155.73</td>\n      <td>0.33883</td>\n      <td>0.4375</td>\n      <td>CN-OH</td>\n      <td>3</td>\n      <td>11</td>\n      <td>17</td>\n      <td>pcu</td>\n      <td>13.062850</td>\n      <td>5.045400</td>\n    </tr>\n    <tr>\n      <th>3</th>\n      <td>mof_unit_68617</td>\n      <td>2436.629312</td>\n      <td>995.80232</td>\n      <td>3521.09</td>\n      <td>0.40464</td>\n      <td>0.5963</td>\n      <td>OMe</td>\n      <td>2</td>\n      <td>1</td>\n      <td>28</td>\n      <td>pcu</td>\n      <td>9.601198</td>\n      <td>5.106238</td>\n    </tr>\n    <tr>\n      <th>4</th>\n      <td>mof_unit_68618</td>\n      <td>3123.418006</td>\n      <td>1337.53800</td>\n      <td>2678.46</td>\n      <td>0.38959</td>\n      <td>0.5479</td>\n      <td>NO2-Pr</td>\n      <td>3</td>\n      <td>8</td>\n      <td>19</td>\n      <td>pcu</td>\n      <td>12.974954</td>\n      <td>5.287639</td>\n    </tr>\n  </tbody>\n</table>\n</div>"
     },
     "metadata": {}
    }
   ],
   "execution_count": null
  },
  {
   "cell_type": "code",
   "metadata": {
    "tags": [],
    "cell_id": "00009-3dd17524-9e3f-4d5f-93a6-0851e5c293c8",
    "deepnote_to_be_reexecuted": false,
    "source_hash": "96283bf9",
    "execution_start": 1634388709972,
    "execution_millis": 2291,
    "deepnote_cell_type": "code"
   },
   "source": "training_set[\"CO2_working_capacity [mL/g]\"].plot.kde()",
   "outputs": [
    {
     "output_type": "execute_result",
     "execution_count": 7,
     "data": {
      "text/plain": "<AxesSubplot:ylabel='Density'>"
     },
     "metadata": {}
    },
    {
     "data": {
      "text/plain": "<Figure size 432x288 with 1 Axes>",
      "image/png": "[encoded data removed]"
     },
     "metadata": {
      "needs_background": "light",
      "image/png": {
       "width": 410,
       "height": 248
      }
     },
     "output_type": "display_data"
    }
   ],
   "execution_count": null
  },
  {
   "cell_type": "markdown",
   "source": "# Cleaning data",
   "metadata": {
    "tags": [],
    "cell_id": "00009-edb81d8b-d836-47c9-9760-e8a632fc8f2d",
    "deepnote_cell_type": "markdown"
   }
  },
  {
   "cell_type": "markdown",
   "source": "## Get overall of the datasets",
   "metadata": {
    "tags": [],
    "cell_id": "00010-7f9f9a88-f0bb-432c-902c-daf9d6f64e6f",
    "deepnote_cell_type": "markdown"
   }
  },
  {
   "cell_type": "code",
   "metadata": {
    "tags": [],
    "cell_id": "00011-f61a4388-09cc-452c-8a2d-bb2782e1a8e8",
    "deepnote_to_be_reexecuted": false,
    "source_hash": "770e91de",
    "execution_start": 1634388715891,
    "execution_millis": 87,
    "deepnote_cell_type": "code"
   },
   "source": "training_set.describe()",
   "outputs": [
    {
     "output_type": "execute_result",
     "execution_count": 8,
     "data": {
      "application/vnd.deepnote.dataframe.v2+json": {
       "row_count": 8,
       "column_count": 11,
       "columns": [
        {
         "name": "volume [A^3]",
         "dtype": "float64",
         "stats": {
          "unique_count": 8,
          "nan_count": 0,
          "min": "606.576038",
          "max": "223964.854408",
          "histogram": [
           {
            "bin_start": 606.576038,
            "bin_end": 22942.403875,
            "count": 6
           },
           {
            "bin_start": 22942.403875,
            "bin_end": 45278.231712,
            "count": 0
           },
           {
            "bin_start": 45278.231712,
            "bin_end": 67614.059549,
            "count": 0
           },
           {
            "bin_start": 67614.059549,
            "bin_end": 89949.887386,
            "count": 1
           },
           {
            "bin_start": 89949.887386,
            "bin_end": 112285.715223,
            "count": 0
           },
           {
            "bin_start": 112285.715223,
            "bin_end": 134621.54306,
            "count": 0
           },
           {
            "bin_start": 134621.54306,
            "bin_end": 156957.37089700002,
            "count": 0
           },
           {
            "bin_start": 156957.37089700002,
            "bin_end": 179293.198734,
            "count": 0
           },
           {
            "bin_start": 179293.198734,
            "bin_end": 201629.026571,
            "count": 0
           },
           {
            "bin_start": 201629.026571,
            "bin_end": 223964.854408,
            "count": 1
           }
          ]
         }
        },
        {
         "name": "weight [u]",
         "dtype": "float64",
         "stats": {
          "unique_count": 8,
          "nan_count": 0,
          "min": "439.28122",
          "max": "68613.0",
          "histogram": [
           {
            "bin_start": 439.28122,
            "bin_end": 7256.653098,
            "count": 6
           },
           {
            "bin_start": 7256.653098,
            "bin_end": 14074.024976,
            "count": 0
           },
           {
            "bin_start": 14074.024976,
            "bin_end": 20891.396854000002,
            "count": 0
           },
           {
            "bin_start": 20891.396854000002,
            "bin_end": 27708.768732,
            "count": 1
           },
           {
            "bin_start": 27708.768732,
            "bin_end": 34526.140609999995,
            "count": 0
           },
           {
            "bin_start": 34526.140609999995,
            "bin_end": 41343.512488,
            "count": 0
           },
           {
            "bin_start": 41343.512488,
            "bin_end": 48160.884366,
            "count": 0
           },
           {
            "bin_start": 48160.884366,
            "bin_end": 54978.256244,
            "count": 0
           },
           {
            "bin_start": 54978.256244,
            "bin_end": 61795.628121999995,
            "count": 0
           },
           {
            "bin_start": 61795.628121999995,
            "bin_end": 68613,
            "count": 1
           }
          ]
         }
        },
        {
         "name": "surface_area [m^2/g]",
         "dtype": "float64",
         "stats": {
          "unique_count": 8,
          "nan_count": 0,
          "min": "-1.0",
          "max": "68613.0",
          "histogram": [
           {
            "bin_start": -1,
            "bin_end": 6860.4,
            "count": 6
           },
           {
            "bin_start": 6860.4,
            "bin_end": 13721.8,
            "count": 1
           },
           {
            "bin_start": 13721.8,
            "bin_end": 20583.199999999997,
            "count": 0
           },
           {
            "bin_start": 20583.199999999997,
            "bin_end": 27444.6,
            "count": 0
           },
           {
            "bin_start": 27444.6,
            "bin_end": 34306,
            "count": 0
           },
           {
            "bin_start": 34306,
            "bin_end": 41167.399999999994,
            "count": 0
           },
           {
            "bin_start": 41167.399999999994,
            "bin_end": 48028.799999999996,
            "count": 0
           },
           {
            "bin_start": 48028.799999999996,
            "bin_end": 54890.2,
            "count": 0
           },
           {
            "bin_start": 54890.2,
            "bin_end": 61751.6,
            "count": 0
           },
           {
            "bin_start": 61751.6,
            "bin_end": 68613,
            "count": 1
           }
          ]
         }
        },
        {
         "name": "void_fraction",
         "dtype": "float64",
         "stats": {
          "unique_count": 8,
          "nan_count": 0,
          "min": "-1.0",
          "max": "68613.0",
          "histogram": [
           {
            "bin_start": -1,
            "bin_end": 6860.4,
            "count": 7
           },
           {
            "bin_start": 6860.4,
            "bin_end": 13721.8,
            "count": 0
           },
           {
            "bin_start": 13721.8,
            "bin_end": 20583.199999999997,
            "count": 0
           },
           {
            "bin_start": 20583.199999999997,
            "bin_end": 27444.6,
            "count": 0
           },
           {
            "bin_start": 27444.6,
            "bin_end": 34306,
            "count": 0
           },
           {
            "bin_start": 34306,
            "bin_end": 41167.399999999994,
            "count": 0
           },
           {
            "bin_start": 41167.399999999994,
            "bin_end": 48028.799999999996,
            "count": 0
           },
           {
            "bin_start": 48028.799999999996,
            "bin_end": 54890.2,
            "count": 0
           },
           {
            "bin_start": 54890.2,
            "bin_end": 61751.6,
            "count": 0
           },
           {
            "bin_start": 61751.6,
            "bin_end": 68613,
            "count": 1
           }
          ]
         }
        },
        {
         "name": "void_volume [cm^3/g]",
         "dtype": "float64",
         "stats": {
          "unique_count": 8,
          "nan_count": 0,
          "min": "0.0",
          "max": "68613.0",
          "histogram": [
           {
            "bin_start": 0,
            "bin_end": 6861.3,
            "count": 7
           },
           {
            "bin_start": 6861.3,
            "bin_end": 13722.6,
            "count": 0
           },
           {
            "bin_start": 13722.6,
            "bin_end": 20583.9,
            "count": 0
           },
           {
            "bin_start": 20583.9,
            "bin_end": 27445.2,
            "count": 0
           },
           {
            "bin_start": 27445.2,
            "bin_end": 34306.5,
            "count": 0
           },
           {
            "bin_start": 34306.5,
            "bin_end": 41167.8,
            "count": 0
           },
           {
            "bin_start": 41167.8,
            "bin_end": 48029.1,
            "count": 0
           },
           {
            "bin_start": 48029.1,
            "bin_end": 54890.4,
            "count": 0
           },
           {
            "bin_start": 54890.4,
            "bin_end": 61751.700000000004,
            "count": 0
           },
           {
            "bin_start": 61751.700000000004,
            "bin_end": 68613,
            "count": 1
           }
          ]
         }
        },
        {
         "name": "metal_linker",
         "dtype": "float64",
         "stats": {
          "unique_count": 8,
          "nan_count": 0,
          "min": "1.0",
          "max": "68613.0",
          "histogram": [
           {
            "bin_start": 1,
            "bin_end": 6862.2,
            "count": 7
           },
           {
            "bin_start": 6862.2,
            "bin_end": 13723.4,
            "count": 0
           },
           {
            "bin_start": 13723.4,
            "bin_end": 20584.6,
            "count": 0
           },
           {
            "bin_start": 20584.6,
            "bin_end": 27445.8,
            "count": 0
           },
           {
            "bin_start": 27445.8,
            "bin_end": 34307,
            "count": 0
           },
           {
            "bin_start": 34307,
            "bin_end": 41168.2,
            "count": 0
           },
           {
            "bin_start": 41168.2,
            "bin_end": 48029.4,
            "count": 0
           },
           {
            "bin_start": 48029.4,
            "bin_end": 54890.6,
            "count": 0
           },
           {
            "bin_start": 54890.6,
            "bin_end": 61751.799999999996,
            "count": 0
           },
           {
            "bin_start": 61751.799999999996,
            "bin_end": 68613,
            "count": 1
           }
          ]
         }
        },
        {
         "name": "organic_linker1",
         "dtype": "float64",
         "stats": {
          "unique_count": 8,
          "nan_count": 0,
          "min": "1.0",
          "max": "68613.0",
          "histogram": [
           {
            "bin_start": 1,
            "bin_end": 6862.2,
            "count": 7
           },
           {
            "bin_start": 6862.2,
            "bin_end": 13723.4,
            "count": 0
           },
           {
            "bin_start": 13723.4,
            "bin_end": 20584.6,
            "count": 0
           },
           {
            "bin_start": 20584.6,
            "bin_end": 27445.8,
            "count": 0
           },
           {
            "bin_start": 27445.8,
            "bin_end": 34307,
            "count": 0
           },
           {
            "bin_start": 34307,
            "bin_end": 41168.2,
            "count": 0
           },
           {
            "bin_start": 41168.2,
            "bin_end": 48029.4,
            "count": 0
           },
           {
            "bin_start": 48029.4,
            "bin_end": 54890.6,
            "count": 0
           },
           {
            "bin_start": 54890.6,
            "bin_end": 61751.799999999996,
            "count": 0
           },
           {
            "bin_start": 61751.799999999996,
            "bin_end": 68613,
            "count": 1
           }
          ]
         }
        },
        {
         "name": "organic_linker2",
         "dtype": "float64",
         "stats": {
          "unique_count": 8,
          "nan_count": 0,
          "min": "1.0",
          "max": "68613.0",
          "histogram": [
           {
            "bin_start": 1,
            "bin_end": 6862.2,
            "count": 7
           },
           {
            "bin_start": 6862.2,
            "bin_end": 13723.4,
            "count": 0
           },
           {
            "bin_start": 13723.4,
            "bin_end": 20584.6,
            "count": 0
           },
           {
            "bin_start": 20584.6,
            "bin_end": 27445.8,
            "count": 0
           },
           {
            "bin_start": 27445.8,
            "bin_end": 34307,
            "count": 0
           },
           {
            "bin_start": 34307,
            "bin_end": 41168.2,
            "count": 0
           },
           {
            "bin_start": 41168.2,
            "bin_end": 48029.4,
            "count": 0
           },
           {
            "bin_start": 48029.4,
            "bin_end": 54890.6,
            "count": 0
           },
           {
            "bin_start": 54890.6,
            "bin_end": 61751.799999999996,
            "count": 0
           },
           {
            "bin_start": 61751.799999999996,
            "bin_end": 68613,
            "count": 1
           }
          ]
         }
        },
        {
         "name": "CO2/N2_selectivity",
         "dtype": "float64",
         "stats": {
          "unique_count": 8,
          "nan_count": 0,
          "min": "0.0",
          "max": "68613.0",
          "histogram": [
           {
            "bin_start": 0,
            "bin_end": 6861.3,
            "count": 6
           },
           {
            "bin_start": 6861.3,
            "bin_end": 13722.6,
            "count": 0
           },
           {
            "bin_start": 13722.6,
            "bin_end": 20583.9,
            "count": 0
           },
           {
            "bin_start": 20583.9,
            "bin_end": 27445.2,
            "count": 0
           },
           {
            "bin_start": 27445.2,
            "bin_end": 34306.5,
            "count": 1
           },
           {
            "bin_start": 34306.5,
            "bin_end": 41167.8,
            "count": 0
           },
           {
            "bin_start": 41167.8,
            "bin_end": 48029.1,
            "count": 0
           },
           {
            "bin_start": 48029.1,
            "bin_end": 54890.4,
            "count": 0
           },
           {
            "bin_start": 54890.4,
            "bin_end": 61751.700000000004,
            "count": 0
           },
           {
            "bin_start": 61751.700000000004,
            "bin_end": 68613,
            "count": 1
           }
          ]
         }
        },
        {
         "name": "heat_adsorption_CO2_P0.15bar_T298K [kcal/mol]",
         "dtype": "float64",
         "stats": {
          "unique_count": 6,
          "nan_count": 1,
          "min": "1.612299",
          "max": "inf",
          "histogram": [
           {
            "bin_start": 1.612299,
            "bin_end": 6654.0510691,
            "count": 4
           },
           {
            "bin_start": 6654.0510691,
            "bin_end": 13306.4898392,
            "count": 0
           },
           {
            "bin_start": 13306.4898392,
            "bin_end": 19958.928609299997,
            "count": 0
           },
           {
            "bin_start": 19958.928609299997,
            "bin_end": 26611.3673794,
            "count": 0
           },
           {
            "bin_start": 26611.3673794,
            "bin_end": 33263.8061495,
            "count": 0
           },
           {
            "bin_start": 33263.8061495,
            "bin_end": 39916.244919599994,
            "count": 0
           },
           {
            "bin_start": 39916.244919599994,
            "bin_end": 46568.683689699996,
            "count": 0
           },
           {
            "bin_start": 46568.683689699996,
            "bin_end": 53221.1224598,
            "count": 0
           },
           {
            "bin_start": 53221.1224598,
            "bin_end": 59873.5612299,
            "count": 0
           },
           {
            "bin_start": 59873.5612299,
            "bin_end": 66526,
            "count": 1
           }
          ]
         }
        },
        {
         "name": "CO2_working_capacity [mL/g]",
         "dtype": "float64",
         "stats": {
          "unique_count": 8,
          "nan_count": 0,
          "min": "-44.28574584746623",
          "max": "68613.0",
          "histogram": [
           {
            "bin_start": -44.28574584746623,
            "bin_end": 6821.442828737279,
            "count": 7
           },
           {
            "bin_start": 6821.442828737279,
            "bin_end": 13687.171403322025,
            "count": 0
           },
           {
            "bin_start": 13687.171403322025,
            "bin_end": 20552.89997790677,
            "count": 0
           },
           {
            "bin_start": 20552.89997790677,
            "bin_end": 27418.62855249152,
            "count": 0
           },
           {
            "bin_start": 27418.62855249152,
            "bin_end": 34284.35712707626,
            "count": 0
           },
           {
            "bin_start": 34284.35712707626,
            "bin_end": 41150.085701661,
            "count": 0
           },
           {
            "bin_start": 41150.085701661,
            "bin_end": 48015.81427624575,
            "count": 0
           },
           {
            "bin_start": 48015.81427624575,
            "bin_end": 54881.5428508305,
            "count": 0
           },
           {
            "bin_start": 54881.5428508305,
            "bin_end": 61747.271425415245,
            "count": 0
           },
           {
            "bin_start": 61747.271425415245,
            "bin_end": 68613,
            "count": 1
           }
          ]
         }
        },
        {
         "name": "_deepnote_index_column",
         "dtype": "object"
        }
       ],
       "rows_top": [
        {
         "volume [A^3]": 68613,
         "weight [u]": 68613,
         "surface_area [m^2/g]": 68613,
         "void_fraction": 68613,
         "void_volume [cm^3/g]": 68613,
         "metal_linker": 68613,
         "organic_linker1": 68613,
         "organic_linker2": 68613,
         "CO2/N2_selectivity": 68613,
         "heat_adsorption_CO2_P0.15bar_T298K [kcal/mol]": 66526,
         "CO2_working_capacity [mL/g]": 68613,
         "_deepnote_index_column": "count"
        },
        {
         "volume [A^3]": 3447.3632072204687,
         "weight [u]": 1656.7618582920877,
         "surface_area [m^2/g]": 1666.7666901316077,
         "void_fraction": 0.25916399647297156,
         "void_volume [cm^3/g]": 0.37605215483946186,
         "metal_linker": 4.203270517248918,
         "organic_linker1": 11.919257283605148,
         "organic_linker2": 20.583592030664743,
         "CO2/N2_selectivity": 28.599681259069374,
         "heat_adsorption_CO2_P0.15bar_T298K [kcal/mol]": "inf",
         "CO2_working_capacity [mL/g]": 120.00279715582528,
         "_deepnote_index_column": "mean"
        },
        {
         "volume [A^3]": 4840.665781593269,
         "weight [u]": 1259.0863204525162,
         "surface_area [m^2/g]": 1366.3172231578415,
         "void_fraction": 0.16475774557492448,
         "void_volume [cm^3/g]": 0.476451661203303,
         "metal_linker": 3.1449049473471096,
         "organic_linker1": 10.783136178592896,
         "organic_linker2": 10.100869890834506,
         "CO2/N2_selectivity": 153.80688689733458,
         "heat_adsorption_CO2_P0.15bar_T298K [kcal/mol]": "nan",
         "CO2_working_capacity [mL/g]": 89.57311179852928,
         "_deepnote_index_column": "std"
        },
        {
         "volume [A^3]": 606.576038,
         "weight [u]": 439.28122,
         "surface_area [m^2/g]": -1,
         "void_fraction": -1,
         "void_volume [cm^3/g]": 0,
         "metal_linker": 1,
         "organic_linker1": 1,
         "organic_linker2": 1,
         "CO2/N2_selectivity": 0,
         "heat_adsorption_CO2_P0.15bar_T298K [kcal/mol]": 1.612299,
         "CO2_working_capacity [mL/g]": -44.28574584746623,
         "_deepnote_index_column": "min"
        },
        {
         "volume [A^3]": 1556.075767,
         "weight [u]": 893.6626999999999,
         "surface_area [m^2/g]": 511.93,
         "void_fraction": 0.1425799999999999,
         "void_volume [cm^3/g]": 0.1189999999999999,
         "metal_linker": 2,
         "organic_linker1": 4,
         "organic_linker2": 14,
         "CO2/N2_selectivity": 12.81836619,
         "heat_adsorption_CO2_P0.15bar_T298K [kcal/mol]": 5.26753575,
         "CO2_working_capacity [mL/g]": 65.53720541181188,
         "_deepnote_index_column": "25%"
        },
        {
         "volume [A^3]": 2190.442847,
         "weight [u]": 1259.699253,
         "surface_area [m^2/g]": 1542.83,
         "void_fraction": 0.2426199999999998,
         "void_volume [cm^3/g]": 0.2484,
         "metal_linker": 3,
         "organic_linker1": 10,
         "organic_linker2": 20,
         "CO2/N2_selectivity": 19.68988957,
         "heat_adsorption_CO2_P0.15bar_T298K [kcal/mol]": 5.899089,
         "CO2_working_capacity [mL/g]": 98.55218486565961,
         "_deepnote_index_column": "50%"
        },
        {
         "volume [A^3]": 3605.836441,
         "weight [u]": 1897.16366,
         "surface_area [m^2/g]": 2517.96,
         "void_fraction": 0.3451199999999999,
         "void_volume [cm^3/g]": 0.4437999999999999,
         "metal_linker": 4,
         "organic_linker1": 16,
         "organic_linker2": 25,
         "CO2/N2_selectivity": 32.95438839,
         "heat_adsorption_CO2_P0.15bar_T298K [kcal/mol]": 6.76836475,
         "CO2_working_capacity [mL/g]": 163.13953982007973,
         "_deepnote_index_column": "75%"
        },
        {
         "volume [A^3]": 223964.854408,
         "weight [u]": 22595.92896,
         "surface_area [m^2/g]": 7083.53,
         "void_fraction": 0.87206,
         "void_volume [cm^3/g]": 6.6101,
         "metal_linker": 12,
         "organic_linker1": 59,
         "organic_linker2": 59,
         "CO2/N2_selectivity": 29369.77778,
         "heat_adsorption_CO2_P0.15bar_T298K [kcal/mol]": "inf",
         "CO2_working_capacity [mL/g]": 736.0616358740374,
         "_deepnote_index_column": "max"
        }
       ],
       "rows_bottom": null
      },
      "text/plain": "        volume [A^3]    weight [u]  surface_area [m^2/g]  void_fraction  \\\ncount   68613.000000  68613.000000          68613.000000   68613.000000   \nmean     3447.363207   1656.761858           1666.766690       0.259164   \nstd      4840.665782   1259.086320           1366.317223       0.164758   \nmin       606.576038    439.281220             -1.000000      -1.000000   \n25%      1556.075767    893.662700            511.930000       0.142580   \n50%      2190.442847   1259.699253           1542.830000       0.242620   \n75%      3605.836441   1897.163660           2517.960000       0.345120   \nmax    223964.854408  22595.928960           7083.530000       0.872060   \n\n       void_volume [cm^3/g]  metal_linker  organic_linker1  organic_linker2  \\\ncount          68613.000000  68613.000000     68613.000000     68613.000000   \nmean               0.376052      4.203271        11.919257        20.583592   \nstd                0.476452      3.144905        10.783136        10.100870   \nmin                0.000000      1.000000         1.000000         1.000000   \n25%                0.119000      2.000000         4.000000        14.000000   \n50%                0.248400      3.000000        10.000000        20.000000   \n75%                0.443800      4.000000        16.000000        25.000000   \nmax                6.610100     12.000000        59.000000        59.000000   \n\n       CO2/N2_selectivity  heat_adsorption_CO2_P0.15bar_T298K [kcal/mol]  \\\ncount        68613.000000                                   6.652600e+04   \nmean            28.599681                                            inf   \nstd            153.806887                                            NaN   \nmin              0.000000                                   1.612299e+00   \n25%             12.818366                                   5.267536e+00   \n50%             19.689890                                   5.899089e+00   \n75%             32.954388                                   6.768365e+00   \nmax          29369.777780                                            inf   \n\n       CO2_working_capacity [mL/g]  \ncount                 68613.000000  \nmean                    120.002797  \nstd                      89.573112  \nmin                     -44.285746  \n25%                      65.537205  \n50%                      98.552185  \n75%                     163.139540  \nmax                     736.061636  ",
      "text/html": "<div>\n<style scoped>\n    .dataframe tbody tr th:only-of-type {\n        vertical-align: middle;\n    }\n\n    .dataframe tbody tr th {\n        vertical-align: top;\n    }\n\n    .dataframe thead th {\n        text-align: right;\n    }\n</style>\n<table border=\"1\" class=\"dataframe\">\n  <thead>\n    <tr style=\"text-align: right;\">\n      <th></th>\n      <th>volume [A^3]</th>\n      <th>weight [u]</th>\n      <th>surface_area [m^2/g]</th>\n      <th>void_fraction</th>\n      <th>void_volume [cm^3/g]</th>\n      <th>metal_linker</th>\n      <th>organic_linker1</th>\n      <th>organic_linker2</th>\n      <th>CO2/N2_selectivity</th>\n      <th>heat_adsorption_CO2_P0.15bar_T298K [kcal/mol]</th>\n      <th>CO2_working_capacity [mL/g]</th>\n    </tr>\n  </thead>\n  <tbody>\n    <tr>\n      <th>count</th>\n      <td>68613.000000</td>\n      <td>68613.000000</td>\n      <td>68613.000000</td>\n      <td>68613.000000</td>\n      <td>68613.000000</td>\n      <td>68613.000000</td>\n      <td>68613.000000</td>\n      <td>68613.000000</td>\n      <td>68613.000000</td>\n      <td>6.652600e+04</td>\n      <td>68613.000000</td>\n    </tr>\n    <tr>\n      <th>mean</th>\n      <td>3447.363207</td>\n      <td>1656.761858</td>\n      <td>1666.766690</td>\n      <td>0.259164</td>\n      <td>0.376052</td>\n      <td>4.203271</td>\n      <td>11.919257</td>\n      <td>20.583592</td>\n      <td>28.599681</td>\n      <td>inf</td>\n      <td>120.002797</td>\n    </tr>\n    <tr>\n      <th>std</th>\n      <td>4840.665782</td>\n      <td>1259.086320</td>\n      <td>1366.317223</td>\n      <td>0.164758</td>\n      <td>0.476452</td>\n      <td>3.144905</td>\n      <td>10.783136</td>\n      <td>10.100870</td>\n      <td>153.806887</td>\n      <td>NaN</td>\n      <td>89.573112</td>\n    </tr>\n    <tr>\n      <th>min</th>\n      <td>606.576038</td>\n      <td>439.281220</td>\n      <td>-1.000000</td>\n      <td>-1.000000</td>\n      <td>0.000000</td>\n      <td>1.000000</td>\n      <td>1.000000</td>\n      <td>1.000000</td>\n      <td>0.000000</td>\n      <td>1.612299e+00</td>\n      <td>-44.285746</td>\n    </tr>\n    <tr>\n      <th>25%</th>\n      <td>1556.075767</td>\n      <td>893.662700</td>\n      <td>511.930000</td>\n      <td>0.142580</td>\n      <td>0.119000</td>\n      <td>2.000000</td>\n      <td>4.000000</td>\n      <td>14.000000</td>\n      <td>12.818366</td>\n      <td>5.267536e+00</td>\n      <td>65.537205</td>\n    </tr>\n    <tr>\n      <th>50%</th>\n      <td>2190.442847</td>\n      <td>1259.699253</td>\n      <td>1542.830000</td>\n      <td>0.242620</td>\n      <td>0.248400</td>\n      <td>3.000000</td>\n      <td>10.000000</td>\n      <td>20.000000</td>\n      <td>19.689890</td>\n      <td>5.899089e+00</td>\n      <td>98.552185</td>\n    </tr>\n    <tr>\n      <th>75%</th>\n      <td>3605.836441</td>\n      <td>1897.163660</td>\n      <td>2517.960000</td>\n      <td>0.345120</td>\n      <td>0.443800</td>\n      <td>4.000000</td>\n      <td>16.000000</td>\n      <td>25.000000</td>\n      <td>32.954388</td>\n      <td>6.768365e+00</td>\n      <td>163.139540</td>\n    </tr>\n    <tr>\n      <th>max</th>\n      <td>223964.854408</td>\n      <td>22595.928960</td>\n      <td>7083.530000</td>\n      <td>0.872060</td>\n      <td>6.610100</td>\n      <td>12.000000</td>\n      <td>59.000000</td>\n      <td>59.000000</td>\n      <td>29369.777780</td>\n      <td>inf</td>\n      <td>736.061636</td>\n    </tr>\n  </tbody>\n</table>\n</div>"
     },
     "metadata": {}
    }
   ],
   "execution_count": null
  },
  {
   "cell_type": "markdown",
   "source": "## Remove outliers and missing-values",
   "metadata": {
    "tags": [],
    "cell_id": "00012-d89d7543-5b75-40ca-a9d2-52d688a08527",
    "deepnote_cell_type": "markdown"
   }
  },
  {
   "cell_type": "code",
   "metadata": {
    "tags": [],
    "cell_id": "00013-887d5483-ae96-4a42-ae75-bf4cc162c5ed",
    "deepnote_to_be_reexecuted": false,
    "source_hash": "895d55cf",
    "execution_start": 1634388719426,
    "execution_millis": 131,
    "deepnote_cell_type": "code"
   },
   "source": "training_set.replace([np.inf, -np.inf], np.nan, inplace=True)\ntraining_set.dropna(inplace=True)\ntraining_set.describe()",
   "outputs": [
    {
     "output_type": "execute_result",
     "execution_count": 9,
     "data": {
      "application/vnd.deepnote.dataframe.v2+json": {
       "row_count": 8,
       "column_count": 11,
       "columns": [
        {
         "name": "volume [A^3]",
         "dtype": "float64",
         "stats": {
          "unique_count": 8,
          "nan_count": 0,
          "min": "606.576038",
          "max": "223964.854408",
          "histogram": [
           {
            "bin_start": 606.576038,
            "bin_end": 22942.403875,
            "count": 6
           },
           {
            "bin_start": 22942.403875,
            "bin_end": 45278.231712,
            "count": 0
           },
           {
            "bin_start": 45278.231712,
            "bin_end": 67614.059549,
            "count": 1
           },
           {
            "bin_start": 67614.059549,
            "bin_end": 89949.887386,
            "count": 0
           },
           {
            "bin_start": 89949.887386,
            "bin_end": 112285.715223,
            "count": 0
           },
           {
            "bin_start": 112285.715223,
            "bin_end": 134621.54306,
            "count": 0
           },
           {
            "bin_start": 134621.54306,
            "bin_end": 156957.37089700002,
            "count": 0
           },
           {
            "bin_start": 156957.37089700002,
            "bin_end": 179293.198734,
            "count": 0
           },
           {
            "bin_start": 179293.198734,
            "bin_end": 201629.026571,
            "count": 0
           },
           {
            "bin_start": 201629.026571,
            "bin_end": 223964.854408,
            "count": 1
           }
          ]
         }
        },
        {
         "name": "weight [u]",
         "dtype": "float64",
         "stats": {
          "unique_count": 8,
          "nan_count": 0,
          "min": "439.28122",
          "max": "66203.0",
          "histogram": [
           {
            "bin_start": 439.28122,
            "bin_end": 7015.653098,
            "count": 6
           },
           {
            "bin_start": 7015.653098,
            "bin_end": 13592.024976,
            "count": 0
           },
           {
            "bin_start": 13592.024976,
            "bin_end": 20168.396854000002,
            "count": 0
           },
           {
            "bin_start": 20168.396854000002,
            "bin_end": 26744.768732,
            "count": 1
           },
           {
            "bin_start": 26744.768732,
            "bin_end": 33321.140609999995,
            "count": 0
           },
           {
            "bin_start": 33321.140609999995,
            "bin_end": 39897.512488,
            "count": 0
           },
           {
            "bin_start": 39897.512488,
            "bin_end": 46473.884366,
            "count": 0
           },
           {
            "bin_start": 46473.884366,
            "bin_end": 53050.256244,
            "count": 0
           },
           {
            "bin_start": 53050.256244,
            "bin_end": 59626.628121999995,
            "count": 0
           },
           {
            "bin_start": 59626.628121999995,
            "bin_end": 66203,
            "count": 1
           }
          ]
         }
        },
        {
         "name": "surface_area [m^2/g]",
         "dtype": "float64",
         "stats": {
          "unique_count": 8,
          "nan_count": 0,
          "min": "-1.0",
          "max": "66203.0",
          "histogram": [
           {
            "bin_start": -1,
            "bin_end": 6619.4,
            "count": 6
           },
           {
            "bin_start": 6619.4,
            "bin_end": 13239.8,
            "count": 1
           },
           {
            "bin_start": 13239.8,
            "bin_end": 19860.199999999997,
            "count": 0
           },
           {
            "bin_start": 19860.199999999997,
            "bin_end": 26480.6,
            "count": 0
           },
           {
            "bin_start": 26480.6,
            "bin_end": 33101,
            "count": 0
           },
           {
            "bin_start": 33101,
            "bin_end": 39721.399999999994,
            "count": 0
           },
           {
            "bin_start": 39721.399999999994,
            "bin_end": 46341.799999999996,
            "count": 0
           },
           {
            "bin_start": 46341.799999999996,
            "bin_end": 52962.2,
            "count": 0
           },
           {
            "bin_start": 52962.2,
            "bin_end": 59582.6,
            "count": 0
           },
           {
            "bin_start": 59582.6,
            "bin_end": 66203,
            "count": 1
           }
          ]
         }
        },
        {
         "name": "void_fraction",
         "dtype": "float64",
         "stats": {
          "unique_count": 8,
          "nan_count": 0,
          "min": "-1.0",
          "max": "66203.0",
          "histogram": [
           {
            "bin_start": -1,
            "bin_end": 6619.4,
            "count": 7
           },
           {
            "bin_start": 6619.4,
            "bin_end": 13239.8,
            "count": 0
           },
           {
            "bin_start": 13239.8,
            "bin_end": 19860.199999999997,
            "count": 0
           },
           {
            "bin_start": 19860.199999999997,
            "bin_end": 26480.6,
            "count": 0
           },
           {
            "bin_start": 26480.6,
            "bin_end": 33101,
            "count": 0
           },
           {
            "bin_start": 33101,
            "bin_end": 39721.399999999994,
            "count": 0
           },
           {
            "bin_start": 39721.399999999994,
            "bin_end": 46341.799999999996,
            "count": 0
           },
           {
            "bin_start": 46341.799999999996,
            "bin_end": 52962.2,
            "count": 0
           },
           {
            "bin_start": 52962.2,
            "bin_end": 59582.6,
            "count": 0
           },
           {
            "bin_start": 59582.6,
            "bin_end": 66203,
            "count": 1
           }
          ]
         }
        },
        {
         "name": "void_volume [cm^3/g]",
         "dtype": "float64",
         "stats": {
          "unique_count": 8,
          "nan_count": 0,
          "min": "0.0",
          "max": "66203.0",
          "histogram": [
           {
            "bin_start": 0,
            "bin_end": 6620.3,
            "count": 7
           },
           {
            "bin_start": 6620.3,
            "bin_end": 13240.6,
            "count": 0
           },
           {
            "bin_start": 13240.6,
            "bin_end": 19860.9,
            "count": 0
           },
           {
            "bin_start": 19860.9,
            "bin_end": 26481.2,
            "count": 0
           },
           {
            "bin_start": 26481.2,
            "bin_end": 33101.5,
            "count": 0
           },
           {
            "bin_start": 33101.5,
            "bin_end": 39721.8,
            "count": 0
           },
           {
            "bin_start": 39721.8,
            "bin_end": 46342.1,
            "count": 0
           },
           {
            "bin_start": 46342.1,
            "bin_end": 52962.4,
            "count": 0
           },
           {
            "bin_start": 52962.4,
            "bin_end": 59582.700000000004,
            "count": 0
           },
           {
            "bin_start": 59582.700000000004,
            "bin_end": 66203,
            "count": 1
           }
          ]
         }
        },
        {
         "name": "metal_linker",
         "dtype": "float64",
         "stats": {
          "unique_count": 8,
          "nan_count": 0,
          "min": "1.0",
          "max": "66203.0",
          "histogram": [
           {
            "bin_start": 1,
            "bin_end": 6621.2,
            "count": 7
           },
           {
            "bin_start": 6621.2,
            "bin_end": 13241.4,
            "count": 0
           },
           {
            "bin_start": 13241.4,
            "bin_end": 19861.6,
            "count": 0
           },
           {
            "bin_start": 19861.6,
            "bin_end": 26481.8,
            "count": 0
           },
           {
            "bin_start": 26481.8,
            "bin_end": 33102,
            "count": 0
           },
           {
            "bin_start": 33102,
            "bin_end": 39722.2,
            "count": 0
           },
           {
            "bin_start": 39722.2,
            "bin_end": 46342.4,
            "count": 0
           },
           {
            "bin_start": 46342.4,
            "bin_end": 52962.6,
            "count": 0
           },
           {
            "bin_start": 52962.6,
            "bin_end": 59582.799999999996,
            "count": 0
           },
           {
            "bin_start": 59582.799999999996,
            "bin_end": 66203,
            "count": 1
           }
          ]
         }
        },
        {
         "name": "organic_linker1",
         "dtype": "float64",
         "stats": {
          "unique_count": 8,
          "nan_count": 0,
          "min": "1.0",
          "max": "66203.0",
          "histogram": [
           {
            "bin_start": 1,
            "bin_end": 6621.2,
            "count": 7
           },
           {
            "bin_start": 6621.2,
            "bin_end": 13241.4,
            "count": 0
           },
           {
            "bin_start": 13241.4,
            "bin_end": 19861.6,
            "count": 0
           },
           {
            "bin_start": 19861.6,
            "bin_end": 26481.8,
            "count": 0
           },
           {
            "bin_start": 26481.8,
            "bin_end": 33102,
            "count": 0
           },
           {
            "bin_start": 33102,
            "bin_end": 39722.2,
            "count": 0
           },
           {
            "bin_start": 39722.2,
            "bin_end": 46342.4,
            "count": 0
           },
           {
            "bin_start": 46342.4,
            "bin_end": 52962.6,
            "count": 0
           },
           {
            "bin_start": 52962.6,
            "bin_end": 59582.799999999996,
            "count": 0
           },
           {
            "bin_start": 59582.799999999996,
            "bin_end": 66203,
            "count": 1
           }
          ]
         }
        },
        {
         "name": "organic_linker2",
         "dtype": "float64",
         "stats": {
          "unique_count": 8,
          "nan_count": 0,
          "min": "1.0",
          "max": "66203.0",
          "histogram": [
           {
            "bin_start": 1,
            "bin_end": 6621.2,
            "count": 7
           },
           {
            "bin_start": 6621.2,
            "bin_end": 13241.4,
            "count": 0
           },
           {
            "bin_start": 13241.4,
            "bin_end": 19861.6,
            "count": 0
           },
           {
            "bin_start": 19861.6,
            "bin_end": 26481.8,
            "count": 0
           },
           {
            "bin_start": 26481.8,
            "bin_end": 33102,
            "count": 0
           },
           {
            "bin_start": 33102,
            "bin_end": 39722.2,
            "count": 0
           },
           {
            "bin_start": 39722.2,
            "bin_end": 46342.4,
            "count": 0
           },
           {
            "bin_start": 46342.4,
            "bin_end": 52962.6,
            "count": 0
           },
           {
            "bin_start": 52962.6,
            "bin_end": 59582.799999999996,
            "count": 0
           },
           {
            "bin_start": 59582.799999999996,
            "bin_end": 66203,
            "count": 1
           }
          ]
         }
        },
        {
         "name": "CO2/N2_selectivity",
         "dtype": "float64",
         "stats": {
          "unique_count": 8,
          "nan_count": 0,
          "min": "1.337829897",
          "max": "66203.0",
          "histogram": [
           {
            "bin_start": 1.337829897,
            "bin_end": 6621.504046907299,
            "count": 7
           },
           {
            "bin_start": 6621.504046907299,
            "bin_end": 13241.670263917598,
            "count": 0
           },
           {
            "bin_start": 13241.670263917598,
            "bin_end": 19861.836480927894,
            "count": 0
           },
           {
            "bin_start": 19861.836480927894,
            "bin_end": 26482.002697938195,
            "count": 0
           },
           {
            "bin_start": 26482.002697938195,
            "bin_end": 33102.168914948496,
            "count": 0
           },
           {
            "bin_start": 33102.168914948496,
            "bin_end": 39722.33513195879,
            "count": 0
           },
           {
            "bin_start": 39722.33513195879,
            "bin_end": 46342.50134896909,
            "count": 0
           },
           {
            "bin_start": 46342.50134896909,
            "bin_end": 52962.66756597939,
            "count": 0
           },
           {
            "bin_start": 52962.66756597939,
            "bin_end": 59582.83378298969,
            "count": 0
           },
           {
            "bin_start": 59582.83378298969,
            "bin_end": 66203,
            "count": 1
           }
          ]
         }
        },
        {
         "name": "heat_adsorption_CO2_P0.15bar_T298K [kcal/mol]",
         "dtype": "float64",
         "stats": {
          "unique_count": 8,
          "nan_count": 0,
          "min": "1.3823885258053847",
          "max": "66203.0",
          "histogram": [
           {
            "bin_start": 1.3823885258053847,
            "bin_end": 6621.544149673225,
            "count": 7
           },
           {
            "bin_start": 6621.544149673225,
            "bin_end": 13241.705910820645,
            "count": 0
           },
           {
            "bin_start": 13241.705910820645,
            "bin_end": 19861.867671968062,
            "count": 0
           },
           {
            "bin_start": 19861.867671968062,
            "bin_end": 26482.029433115484,
            "count": 0
           },
           {
            "bin_start": 26482.029433115484,
            "bin_end": 33102.1911942629,
            "count": 0
           },
           {
            "bin_start": 33102.1911942629,
            "bin_end": 39722.352955410315,
            "count": 0
           },
           {
            "bin_start": 39722.352955410315,
            "bin_end": 46342.51471655774,
            "count": 0
           },
           {
            "bin_start": 46342.51471655774,
            "bin_end": 52962.67647770516,
            "count": 0
           },
           {
            "bin_start": 52962.67647770516,
            "bin_end": 59582.83823885258,
            "count": 0
           },
           {
            "bin_start": 59582.83823885258,
            "bin_end": 66203,
            "count": 1
           }
          ]
         }
        },
        {
         "name": "CO2_working_capacity [mL/g]",
         "dtype": "float64",
         "stats": {
          "unique_count": 8,
          "nan_count": 0,
          "min": "-44.28574584746623",
          "max": "66203.0",
          "histogram": [
           {
            "bin_start": -44.28574584746623,
            "bin_end": 6580.442828737279,
            "count": 7
           },
           {
            "bin_start": 6580.442828737279,
            "bin_end": 13205.171403322025,
            "count": 0
           },
           {
            "bin_start": 13205.171403322025,
            "bin_end": 19829.89997790677,
            "count": 0
           },
           {
            "bin_start": 19829.89997790677,
            "bin_end": 26454.62855249152,
            "count": 0
           },
           {
            "bin_start": 26454.62855249152,
            "bin_end": 33079.35712707626,
            "count": 0
           },
           {
            "bin_start": 33079.35712707626,
            "bin_end": 39704.085701661,
            "count": 0
           },
           {
            "bin_start": 39704.085701661,
            "bin_end": 46328.81427624575,
            "count": 0
           },
           {
            "bin_start": 46328.81427624575,
            "bin_end": 52953.5428508305,
            "count": 0
           },
           {
            "bin_start": 52953.5428508305,
            "bin_end": 59578.271425415245,
            "count": 0
           },
           {
            "bin_start": 59578.271425415245,
            "bin_end": 66203,
            "count": 1
           }
          ]
         }
        },
        {
         "name": "_deepnote_index_column",
         "dtype": "object"
        }
       ],
       "rows_top": [
        {
         "volume [A^3]": 66203,
         "weight [u]": 66203,
         "surface_area [m^2/g]": 66203,
         "void_fraction": 66203,
         "void_volume [cm^3/g]": 66203,
         "metal_linker": 66203,
         "organic_linker1": 66203,
         "organic_linker2": 66203,
         "CO2/N2_selectivity": 66203,
         "heat_adsorption_CO2_P0.15bar_T298K [kcal/mol]": 66203,
         "CO2_working_capacity [mL/g]": 66203,
         "_deepnote_index_column": "count"
        },
        {
         "volume [A^3]": 3492.5075190492726,
         "weight [u]": 1650.1702375141458,
         "surface_area [m^2/g]": 1714.3890734558856,
         "void_fraction": 0.2667750840596348,
         "void_volume [cm^3/g]": 0.3860705406099421,
         "metal_linker": 4.121293596966905,
         "organic_linker1": 11.503572345664093,
         "organic_linker2": 20.267389695331026,
         "CO2/N2_selectivity": 27.433196033753813,
         "heat_adsorption_CO2_P0.15bar_T298K [kcal/mol]": 6.024007258311556,
         "CO2_working_capacity [mL/g]": 123.76210448166289,
         "_deepnote_index_column": "mean"
        },
        {
         "volume [A^3]": 4854.967581187503,
         "weight [u]": 1262.4183996663685,
         "surface_area [m^2/g]": 1351.1500286401208,
         "void_fraction": 0.16031536524174558,
         "void_volume [cm^3/g]": 0.47552873544139984,
         "metal_linker": 3.094715449655145,
         "organic_linker1": 10.188891437883346,
         "organic_linker2": 9.724247534658012,
         "CO2/N2_selectivity": 23.763065656655602,
         "heat_adsorption_CO2_P0.15bar_T298K [kcal/mol]": 1.3823885258053847,
         "CO2_working_capacity [mL/g]": 88.16233031076234,
         "_deepnote_index_column": "std"
        },
        {
         "volume [A^3]": 606.576038,
         "weight [u]": 439.28122,
         "surface_area [m^2/g]": -1,
         "void_fraction": -1,
         "void_volume [cm^3/g]": 0,
         "metal_linker": 1,
         "organic_linker1": 1,
         "organic_linker2": 1,
         "CO2/N2_selectivity": 1.337829897,
         "heat_adsorption_CO2_P0.15bar_T298K [kcal/mol]": 1.612299,
         "CO2_working_capacity [mL/g]": -44.28574584746623,
         "_deepnote_index_column": "min"
        },
        {
         "volume [A^3]": 1570.108078,
         "weight [u]": 891.3268899999998,
         "surface_area [m^2/g]": 649.9100000000001,
         "void_fraction": 0.15209,
         "void_volume [cm^3/g]": 0.1292,
         "metal_linker": 2,
         "organic_linker1": 4,
         "organic_linker2": 14,
         "CO2/N2_selectivity": 13.361639915000001,
         "heat_adsorption_CO2_P0.15bar_T298K [kcal/mol]": 5.2702335,
         "CO2_working_capacity [mL/g]": 68.20442973668284,
         "_deepnote_index_column": "25%"
        },
        {
         "volume [A^3]": 2223.697099,
         "weight [u]": 1248.68656,
         "surface_area [m^2/g]": 1591.55,
         "void_fraction": 0.2485199999999999,
         "void_volume [cm^3/g]": 0.2571999999999999,
         "metal_linker": 3,
         "organic_linker1": 10,
         "organic_linker2": 20,
         "CO2/N2_selectivity": 20.1733949,
         "heat_adsorption_CO2_P0.15bar_T298K [kcal/mol]": 5.9009,
         "CO2_working_capacity [mL/g]": 101.2650528560622,
         "_deepnote_index_column": "50%"
        },
        {
         "volume [A^3]": 3731.6226665,
         "weight [u]": 1881.4632780000002,
         "surface_area [m^2/g]": 2551.8900000000003,
         "void_fraction": 0.348445,
         "void_volume [cm^3/g]": 0.451,
         "metal_linker": 4,
         "organic_linker1": 16,
         "organic_linker2": 25,
         "CO2/N2_selectivity": 33.506651405,
         "heat_adsorption_CO2_P0.15bar_T298K [kcal/mol]": 6.770337,
         "CO2_working_capacity [mL/g]": 165.68411226976093,
         "_deepnote_index_column": "75%"
        },
        {
         "volume [A^3]": 223964.854408,
         "weight [u]": 22595.92896,
         "surface_area [m^2/g]": 7083.53,
         "void_fraction": 0.87206,
         "void_volume [cm^3/g]": 6.6101,
         "metal_linker": 12,
         "organic_linker1": 59,
         "organic_linker2": 59,
         "CO2/N2_selectivity": 914.24414,
         "heat_adsorption_CO2_P0.15bar_T298K [kcal/mol]": 17.155375,
         "CO2_working_capacity [mL/g]": 736.0616358740374,
         "_deepnote_index_column": "max"
        }
       ],
       "rows_bottom": null
      },
      "text/plain": "        volume [A^3]    weight [u]  surface_area [m^2/g]  void_fraction  \\\ncount   66203.000000  66203.000000          66203.000000   66203.000000   \nmean     3492.507519   1650.170238           1714.389073       0.266775   \nstd      4854.967581   1262.418400           1351.150029       0.160315   \nmin       606.576038    439.281220             -1.000000      -1.000000   \n25%      1570.108078    891.326890            649.910000       0.152090   \n50%      2223.697099   1248.686560           1591.550000       0.248520   \n75%      3731.622666   1881.463278           2551.890000       0.348445   \nmax    223964.854408  22595.928960           7083.530000       0.872060   \n\n       void_volume [cm^3/g]  metal_linker  organic_linker1  organic_linker2  \\\ncount          66203.000000  66203.000000     66203.000000     66203.000000   \nmean               0.386071      4.121294        11.503572        20.267390   \nstd                0.475529      3.094715        10.188891         9.724248   \nmin                0.000000      1.000000         1.000000         1.000000   \n25%                0.129200      2.000000         4.000000        14.000000   \n50%                0.257200      3.000000        10.000000        20.000000   \n75%                0.451000      4.000000        16.000000        25.000000   \nmax                6.610100     12.000000        59.000000        59.000000   \n\n       CO2/N2_selectivity  heat_adsorption_CO2_P0.15bar_T298K [kcal/mol]  \\\ncount        66203.000000                                   66203.000000   \nmean            27.433196                                       6.024007   \nstd             23.763066                                       1.382389   \nmin              1.337830                                       1.612299   \n25%             13.361640                                       5.270233   \n50%             20.173395                                       5.900900   \n75%             33.506651                                       6.770337   \nmax            914.244140                                      17.155375   \n\n       CO2_working_capacity [mL/g]  \ncount                 66203.000000  \nmean                    123.762104  \nstd                      88.162330  \nmin                     -44.285746  \n25%                      68.204430  \n50%                     101.265053  \n75%                     165.684112  \nmax                     736.061636  ",
      "text/html": "<div>\n<style scoped>\n    .dataframe tbody tr th:only-of-type {\n        vertical-align: middle;\n    }\n\n    .dataframe tbody tr th {\n        vertical-align: top;\n    }\n\n    .dataframe thead th {\n        text-align: right;\n    }\n</style>\n<table border=\"1\" class=\"dataframe\">\n  <thead>\n    <tr style=\"text-align: right;\">\n      <th></th>\n      <th>volume [A^3]</th>\n      <th>weight [u]</th>\n      <th>surface_area [m^2/g]</th>\n      <th>void_fraction</th>\n      <th>void_volume [cm^3/g]</th>\n      <th>metal_linker</th>\n      <th>organic_linker1</th>\n      <th>organic_linker2</th>\n      <th>CO2/N2_selectivity</th>\n      <th>heat_adsorption_CO2_P0.15bar_T298K [kcal/mol]</th>\n      <th>CO2_working_capacity [mL/g]</th>\n    </tr>\n  </thead>\n  <tbody>\n    <tr>\n      <th>count</th>\n      <td>66203.000000</td>\n      <td>66203.000000</td>\n      <td>66203.000000</td>\n      <td>66203.000000</td>\n      <td>66203.000000</td>\n      <td>66203.000000</td>\n      <td>66203.000000</td>\n      <td>66203.000000</td>\n      <td>66203.000000</td>\n      <td>66203.000000</td>\n      <td>66203.000000</td>\n    </tr>\n    <tr>\n      <th>mean</th>\n      <td>3492.507519</td>\n      <td>1650.170238</td>\n      <td>1714.389073</td>\n      <td>0.266775</td>\n      <td>0.386071</td>\n      <td>4.121294</td>\n      <td>11.503572</td>\n      <td>20.267390</td>\n      <td>27.433196</td>\n      <td>6.024007</td>\n      <td>123.762104</td>\n    </tr>\n    <tr>\n      <th>std</th>\n      <td>4854.967581</td>\n      <td>1262.418400</td>\n      <td>1351.150029</td>\n      <td>0.160315</td>\n      <td>0.475529</td>\n      <td>3.094715</td>\n      <td>10.188891</td>\n      <td>9.724248</td>\n      <td>23.763066</td>\n      <td>1.382389</td>\n      <td>88.162330</td>\n    </tr>\n    <tr>\n      <th>min</th>\n      <td>606.576038</td>\n      <td>439.281220</td>\n      <td>-1.000000</td>\n      <td>-1.000000</td>\n      <td>0.000000</td>\n      <td>1.000000</td>\n      <td>1.000000</td>\n      <td>1.000000</td>\n      <td>1.337830</td>\n      <td>1.612299</td>\n      <td>-44.285746</td>\n    </tr>\n    <tr>\n      <th>25%</th>\n      <td>1570.108078</td>\n      <td>891.326890</td>\n      <td>649.910000</td>\n      <td>0.152090</td>\n      <td>0.129200</td>\n      <td>2.000000</td>\n      <td>4.000000</td>\n      <td>14.000000</td>\n      <td>13.361640</td>\n      <td>5.270233</td>\n      <td>68.204430</td>\n    </tr>\n    <tr>\n      <th>50%</th>\n      <td>2223.697099</td>\n      <td>1248.686560</td>\n      <td>1591.550000</td>\n      <td>0.248520</td>\n      <td>0.257200</td>\n      <td>3.000000</td>\n      <td>10.000000</td>\n      <td>20.000000</td>\n      <td>20.173395</td>\n      <td>5.900900</td>\n      <td>101.265053</td>\n    </tr>\n    <tr>\n      <th>75%</th>\n      <td>3731.622666</td>\n      <td>1881.463278</td>\n      <td>2551.890000</td>\n      <td>0.348445</td>\n      <td>0.451000</td>\n      <td>4.000000</td>\n      <td>16.000000</td>\n      <td>25.000000</td>\n      <td>33.506651</td>\n      <td>6.770337</td>\n      <td>165.684112</td>\n    </tr>\n    <tr>\n      <th>max</th>\n      <td>223964.854408</td>\n      <td>22595.928960</td>\n      <td>7083.530000</td>\n      <td>0.872060</td>\n      <td>6.610100</td>\n      <td>12.000000</td>\n      <td>59.000000</td>\n      <td>59.000000</td>\n      <td>914.244140</td>\n      <td>17.155375</td>\n      <td>736.061636</td>\n    </tr>\n  </tbody>\n</table>\n</div>"
     },
     "metadata": {}
    }
   ],
   "execution_count": null
  },
  {
   "cell_type": "markdown",
   "source": "### Define trim function for removing outliers",
   "metadata": {
    "tags": [],
    "cell_id": "00014-8e694e1c-8303-4d4d-8878-a8864d0a1a47",
    "deepnote_cell_type": "markdown"
   }
  },
  {
   "cell_type": "code",
   "metadata": {
    "tags": [],
    "cell_id": "00015-df1409c8-30b7-494a-8f1d-c5117bdab50b",
    "deepnote_to_be_reexecuted": false,
    "source_hash": "16a66ef7",
    "execution_start": 1634388726724,
    "execution_millis": 2,
    "deepnote_cell_type": "code"
   },
   "source": "def trim(df, sort_col, lower=.15, upper=.85):\n    x = df.sort_values([sort_col], ascending=True)[sort_col]\n    x = x[x.between(x.quantile(lower), x.quantile(upper))]\n    idx = x.index\n    del x\n    return df.loc[idx].sort_index()",
   "outputs": [],
   "execution_count": null
  },
  {
   "cell_type": "code",
   "metadata": {
    "tags": [],
    "cell_id": "00016-1a5423bc-b92f-420d-9097-be100440f6f2",
    "deepnote_to_be_reexecuted": false,
    "source_hash": "c706659e",
    "execution_start": 1634388735706,
    "execution_millis": 108,
    "deepnote_cell_type": "code"
   },
   "source": "training_set = trim(training_set, \"surface_area [m^2/g]\", .2, .9)\ntraining_set.describe()",
   "outputs": [
    {
     "output_type": "execute_result",
     "execution_count": 11,
     "data": {
      "application/vnd.deepnote.dataframe.v2+json": {
       "row_count": 8,
       "column_count": 11,
       "columns": [
        {
         "name": "volume [A^3]",
         "dtype": "float64",
         "stats": {
          "unique_count": 8,
          "nan_count": 0,
          "min": "606.576038",
          "max": "49079.066486",
          "histogram": [
           {
            "bin_start": 606.576038,
            "bin_end": 5453.825082800001,
            "count": 6
           },
           {
            "bin_start": 5453.825082800001,
            "bin_end": 10301.0741276,
            "count": 0
           },
           {
            "bin_start": 10301.0741276,
            "bin_end": 15148.323172400002,
            "count": 0
           },
           {
            "bin_start": 15148.323172400002,
            "bin_end": 19995.572217200002,
            "count": 0
           },
           {
            "bin_start": 19995.572217200002,
            "bin_end": 24842.821262000005,
            "count": 0
           },
           {
            "bin_start": 24842.821262000005,
            "bin_end": 29690.070306800004,
            "count": 0
           },
           {
            "bin_start": 29690.070306800004,
            "bin_end": 34537.3193516,
            "count": 0
           },
           {
            "bin_start": 34537.3193516,
            "bin_end": 39384.568396400005,
            "count": 0
           },
           {
            "bin_start": 39384.568396400005,
            "bin_end": 44231.81744120001,
            "count": 0
           },
           {
            "bin_start": 44231.81744120001,
            "bin_end": 49079.066486,
            "count": 2
           }
          ]
         }
        },
        {
         "name": "weight [u]",
         "dtype": "float64",
         "stats": {
          "unique_count": 8,
          "nan_count": 0,
          "min": "439.28122",
          "max": "46341.0",
          "histogram": [
           {
            "bin_start": 439.28122,
            "bin_end": 5029.453098,
            "count": 6
           },
           {
            "bin_start": 5029.453098,
            "bin_end": 9619.624976000001,
            "count": 0
           },
           {
            "bin_start": 9619.624976000001,
            "bin_end": 14209.796854,
            "count": 0
           },
           {
            "bin_start": 14209.796854,
            "bin_end": 18799.968732,
            "count": 0
           },
           {
            "bin_start": 18799.968732,
            "bin_end": 23390.140610000002,
            "count": 1
           },
           {
            "bin_start": 23390.140610000002,
            "bin_end": 27980.312488,
            "count": 0
           },
           {
            "bin_start": 27980.312488,
            "bin_end": 32570.484366,
            "count": 0
           },
           {
            "bin_start": 32570.484366,
            "bin_end": 37160.656244,
            "count": 0
           },
           {
            "bin_start": 37160.656244,
            "bin_end": 41750.828122,
            "count": 0
           },
           {
            "bin_start": 41750.828122,
            "bin_end": 46341,
            "count": 1
           }
          ]
         }
        },
        {
         "name": "surface_area [m^2/g]",
         "dtype": "float64",
         "stats": {
          "unique_count": 8,
          "nan_count": 0,
          "min": "282.04",
          "max": "46341.0",
          "histogram": [
           {
            "bin_start": 282.04,
            "bin_end": 4887.936,
            "count": 7
           },
           {
            "bin_start": 4887.936,
            "bin_end": 9493.832,
            "count": 0
           },
           {
            "bin_start": 9493.832,
            "bin_end": 14099.728,
            "count": 0
           },
           {
            "bin_start": 14099.728,
            "bin_end": 18705.624,
            "count": 0
           },
           {
            "bin_start": 18705.624,
            "bin_end": 23311.52,
            "count": 0
           },
           {
            "bin_start": 23311.52,
            "bin_end": 27917.415999999997,
            "count": 0
           },
           {
            "bin_start": 27917.415999999997,
            "bin_end": 32523.311999999998,
            "count": 0
           },
           {
            "bin_start": 32523.311999999998,
            "bin_end": 37129.208,
            "count": 0
           },
           {
            "bin_start": 37129.208,
            "bin_end": 41735.104,
            "count": 0
           },
           {
            "bin_start": 41735.104,
            "bin_end": 46341,
            "count": 1
           }
          ]
         }
        },
        {
         "name": "void_fraction",
         "dtype": "float64",
         "stats": {
          "unique_count": 8,
          "nan_count": 0,
          "min": "0.0571499999999999",
          "max": "46341.0",
          "histogram": [
           {
            "bin_start": 0.0571499999999999,
            "bin_end": 4634.151435,
            "count": 7
           },
           {
            "bin_start": 4634.151435,
            "bin_end": 9268.24572,
            "count": 0
           },
           {
            "bin_start": 9268.24572,
            "bin_end": 13902.340005000002,
            "count": 0
           },
           {
            "bin_start": 13902.340005000002,
            "bin_end": 18536.43429,
            "count": 0
           },
           {
            "bin_start": 18536.43429,
            "bin_end": 23170.528575,
            "count": 0
           },
           {
            "bin_start": 23170.528575,
            "bin_end": 27804.622860000003,
            "count": 0
           },
           {
            "bin_start": 27804.622860000003,
            "bin_end": 32438.717145000002,
            "count": 0
           },
           {
            "bin_start": 32438.717145000002,
            "bin_end": 37072.81143,
            "count": 0
           },
           {
            "bin_start": 37072.81143,
            "bin_end": 41706.905715,
            "count": 0
           },
           {
            "bin_start": 41706.905715,
            "bin_end": 46341,
            "count": 1
           }
          ]
         }
        },
        {
         "name": "void_volume [cm^3/g]",
         "dtype": "float64",
         "stats": {
          "unique_count": 8,
          "nan_count": 0,
          "min": "0.0388999999999999",
          "max": "46341.0",
          "histogram": [
           {
            "bin_start": 0.0388999999999999,
            "bin_end": 4634.13501,
            "count": 7
           },
           {
            "bin_start": 4634.13501,
            "bin_end": 9268.23112,
            "count": 0
           },
           {
            "bin_start": 9268.23112,
            "bin_end": 13902.32723,
            "count": 0
           },
           {
            "bin_start": 13902.32723,
            "bin_end": 18536.42334,
            "count": 0
           },
           {
            "bin_start": 18536.42334,
            "bin_end": 23170.51945,
            "count": 0
           },
           {
            "bin_start": 23170.51945,
            "bin_end": 27804.615560000002,
            "count": 0
           },
           {
            "bin_start": 27804.615560000002,
            "bin_end": 32438.711670000004,
            "count": 0
           },
           {
            "bin_start": 32438.711670000004,
            "bin_end": 37072.80778,
            "count": 0
           },
           {
            "bin_start": 37072.80778,
            "bin_end": 41706.90389,
            "count": 0
           },
           {
            "bin_start": 41706.90389,
            "bin_end": 46341,
            "count": 1
           }
          ]
         }
        },
        {
         "name": "metal_linker",
         "dtype": "float64",
         "stats": {
          "unique_count": 8,
          "nan_count": 0,
          "min": "1.0",
          "max": "46341.0",
          "histogram": [
           {
            "bin_start": 1,
            "bin_end": 4635,
            "count": 7
           },
           {
            "bin_start": 4635,
            "bin_end": 9269,
            "count": 0
           },
           {
            "bin_start": 9269,
            "bin_end": 13903,
            "count": 0
           },
           {
            "bin_start": 13903,
            "bin_end": 18537,
            "count": 0
           },
           {
            "bin_start": 18537,
            "bin_end": 23171,
            "count": 0
           },
           {
            "bin_start": 23171,
            "bin_end": 27805,
            "count": 0
           },
           {
            "bin_start": 27805,
            "bin_end": 32439,
            "count": 0
           },
           {
            "bin_start": 32439,
            "bin_end": 37073,
            "count": 0
           },
           {
            "bin_start": 37073,
            "bin_end": 41707,
            "count": 0
           },
           {
            "bin_start": 41707,
            "bin_end": 46341,
            "count": 1
           }
          ]
         }
        },
        {
         "name": "organic_linker1",
         "dtype": "float64",
         "stats": {
          "unique_count": 8,
          "nan_count": 0,
          "min": "1.0",
          "max": "46341.0",
          "histogram": [
           {
            "bin_start": 1,
            "bin_end": 4635,
            "count": 7
           },
           {
            "bin_start": 4635,
            "bin_end": 9269,
            "count": 0
           },
           {
            "bin_start": 9269,
            "bin_end": 13903,
            "count": 0
           },
           {
            "bin_start": 13903,
            "bin_end": 18537,
            "count": 0
           },
           {
            "bin_start": 18537,
            "bin_end": 23171,
            "count": 0
           },
           {
            "bin_start": 23171,
            "bin_end": 27805,
            "count": 0
           },
           {
            "bin_start": 27805,
            "bin_end": 32439,
            "count": 0
           },
           {
            "bin_start": 32439,
            "bin_end": 37073,
            "count": 0
           },
           {
            "bin_start": 37073,
            "bin_end": 41707,
            "count": 0
           },
           {
            "bin_start": 41707,
            "bin_end": 46341,
            "count": 1
           }
          ]
         }
        },
        {
         "name": "organic_linker2",
         "dtype": "float64",
         "stats": {
          "unique_count": 8,
          "nan_count": 0,
          "min": "1.0",
          "max": "46341.0",
          "histogram": [
           {
            "bin_start": 1,
            "bin_end": 4635,
            "count": 7
           },
           {
            "bin_start": 4635,
            "bin_end": 9269,
            "count": 0
           },
           {
            "bin_start": 9269,
            "bin_end": 13903,
            "count": 0
           },
           {
            "bin_start": 13903,
            "bin_end": 18537,
            "count": 0
           },
           {
            "bin_start": 18537,
            "bin_end": 23171,
            "count": 0
           },
           {
            "bin_start": 23171,
            "bin_end": 27805,
            "count": 0
           },
           {
            "bin_start": 27805,
            "bin_end": 32439,
            "count": 0
           },
           {
            "bin_start": 32439,
            "bin_end": 37073,
            "count": 0
           },
           {
            "bin_start": 37073,
            "bin_end": 41707,
            "count": 0
           },
           {
            "bin_start": 41707,
            "bin_end": 46341,
            "count": 1
           }
          ]
         }
        },
        {
         "name": "CO2/N2_selectivity",
         "dtype": "float64",
         "stats": {
          "unique_count": 8,
          "nan_count": 0,
          "min": "3.066967529",
          "max": "46341.0",
          "histogram": [
           {
            "bin_start": 3.066967529,
            "bin_end": 4636.8602707761,
            "count": 7
           },
           {
            "bin_start": 4636.8602707761,
            "bin_end": 9270.6535740232,
            "count": 0
           },
           {
            "bin_start": 9270.6535740232,
            "bin_end": 13904.446877270299,
            "count": 0
           },
           {
            "bin_start": 13904.446877270299,
            "bin_end": 18538.2401805174,
            "count": 0
           },
           {
            "bin_start": 18538.2401805174,
            "bin_end": 23172.033483764502,
            "count": 0
           },
           {
            "bin_start": 23172.033483764502,
            "bin_end": 27805.8267870116,
            "count": 0
           },
           {
            "bin_start": 27805.8267870116,
            "bin_end": 32439.6200902587,
            "count": 0
           },
           {
            "bin_start": 32439.6200902587,
            "bin_end": 37073.4133935058,
            "count": 0
           },
           {
            "bin_start": 37073.4133935058,
            "bin_end": 41707.206696752895,
            "count": 0
           },
           {
            "bin_start": 41707.206696752895,
            "bin_end": 46341,
            "count": 1
           }
          ]
         }
        },
        {
         "name": "heat_adsorption_CO2_P0.15bar_T298K [kcal/mol]",
         "dtype": "float64",
         "stats": {
          "unique_count": 8,
          "nan_count": 0,
          "min": "0.835000992691357",
          "max": "46341.0",
          "histogram": [
           {
            "bin_start": 0.835000992691357,
            "bin_end": 4634.851500893422,
            "count": 7
           },
           {
            "bin_start": 4634.851500893422,
            "bin_end": 9268.868000794151,
            "count": 0
           },
           {
            "bin_start": 9268.868000794151,
            "bin_end": 13902.884500694881,
            "count": 0
           },
           {
            "bin_start": 13902.884500694881,
            "bin_end": 18536.90100059561,
            "count": 0
           },
           {
            "bin_start": 18536.90100059561,
            "bin_end": 23170.917500496344,
            "count": 0
           },
           {
            "bin_start": 23170.917500496344,
            "bin_end": 27804.934000397072,
            "count": 0
           },
           {
            "bin_start": 27804.934000397072,
            "bin_end": 32438.9505002978,
            "count": 0
           },
           {
            "bin_start": 32438.9505002978,
            "bin_end": 37072.967000198536,
            "count": 0
           },
           {
            "bin_start": 37072.967000198536,
            "bin_end": 41706.98350009927,
            "count": 0
           },
           {
            "bin_start": 41706.98350009927,
            "bin_end": 46341,
            "count": 1
           }
          ]
         }
        },
        {
         "name": "CO2_working_capacity [mL/g]",
         "dtype": "float64",
         "stats": {
          "unique_count": 8,
          "nan_count": 0,
          "min": "-8.314245418316665",
          "max": "46341.0",
          "histogram": [
           {
            "bin_start": -8.314245418316665,
            "bin_end": 4626.617179123515,
            "count": 7
           },
           {
            "bin_start": 4626.617179123515,
            "bin_end": 9261.548603665347,
            "count": 0
           },
           {
            "bin_start": 9261.548603665347,
            "bin_end": 13896.48002820718,
            "count": 0
           },
           {
            "bin_start": 13896.48002820718,
            "bin_end": 18531.41145274901,
            "count": 0
           },
           {
            "bin_start": 18531.41145274901,
            "bin_end": 23166.34287729084,
            "count": 0
           },
           {
            "bin_start": 23166.34287729084,
            "bin_end": 27801.274301832673,
            "count": 0
           },
           {
            "bin_start": 27801.274301832673,
            "bin_end": 32436.205726374505,
            "count": 0
           },
           {
            "bin_start": 32436.205726374505,
            "bin_end": 37071.13715091634,
            "count": 0
           },
           {
            "bin_start": 37071.13715091634,
            "bin_end": 41706.06857545817,
            "count": 0
           },
           {
            "bin_start": 41706.06857545817,
            "bin_end": 46341,
            "count": 1
           }
          ]
         }
        },
        {
         "name": "_deepnote_index_column",
         "dtype": "object"
        }
       ],
       "rows_top": [
        {
         "volume [A^3]": 46341,
         "weight [u]": 46341,
         "surface_area [m^2/g]": 46341,
         "void_fraction": 46341,
         "void_volume [cm^3/g]": 46341,
         "metal_linker": 46341,
         "organic_linker1": 46341,
         "organic_linker2": 46341,
         "CO2/N2_selectivity": 46341,
         "heat_adsorption_CO2_P0.15bar_T298K [kcal/mol]": 46341,
         "CO2_working_capacity [mL/g]": 46341,
         "_deepnote_index_column": "count"
        },
        {
         "volume [A^3]": 2871.7881390419284,
         "weight [u]": 1545.2035128620662,
         "surface_area [m^2/g]": 1815.0018858030683,
         "void_fraction": 0.27258729246239827,
         "void_volume [cm^3/g]": 0.3237594117520122,
         "metal_linker": 4.152543104378412,
         "organic_linker1": 11.980233486545393,
         "organic_linker2": 20.737014738568437,
         "CO2/N2_selectivity": 22.880924336337607,
         "heat_adsorption_CO2_P0.15bar_T298K [kcal/mol]": 5.837655213676873,
         "CO2_working_capacity [mL/g]": 122.20373254365332,
         "_deepnote_index_column": "mean"
        },
        {
         "volume [A^3]": 2458.449430711158,
         "weight [u]": 1146.5239112100621,
         "surface_area [m^2/g]": 809.0679460357889,
         "void_fraction": 0.098184767371335,
         "void_volume [cm^3/g]": 0.18456980546180385,
         "metal_linker": 3.1368123243102253,
         "organic_linker1": 10.794893905840926,
         "organic_linker2": 10.175588344538525,
         "CO2/N2_selectivity": 14.21460042077524,
         "heat_adsorption_CO2_P0.15bar_T298K [kcal/mol]": 0.835000992691357,
         "CO2_working_capacity [mL/g]": 79.73310558017225,
         "_deepnote_index_column": "std"
        },
        {
         "volume [A^3]": 606.576038,
         "weight [u]": 439.28122,
         "surface_area [m^2/g]": 282.04,
         "void_fraction": 0.0571499999999999,
         "void_volume [cm^3/g]": 0.0388999999999999,
         "metal_linker": 1,
         "organic_linker1": 1,
         "organic_linker2": 1,
         "CO2/N2_selectivity": 3.066967529,
         "heat_adsorption_CO2_P0.15bar_T298K [kcal/mol]": 2.798294,
         "CO2_working_capacity [mL/g]": -8.314245418316665,
         "_deepnote_index_column": "min"
        },
        {
         "volume [A^3]": 1578.164592,
         "weight [u]": 865.51712,
         "surface_area [m^2/g]": 1179.04,
         "void_fraction": 0.19919,
         "void_volume [cm^3/g]": 0.1862,
         "metal_linker": 2,
         "organic_linker1": 4,
         "organic_linker2": 15,
         "CO2/N2_selectivity": 13.92694934,
         "heat_adsorption_CO2_P0.15bar_T298K [kcal/mol]": 5.3122110000000005,
         "CO2_working_capacity [mL/g]": 70.7126853457964,
         "_deepnote_index_column": "25%"
        },
        {
         "volume [A^3]": 2226.786967,
         "weight [u]": 1182.5185800000002,
         "surface_area [m^2/g]": 1764.09,
         "void_fraction": 0.2672999999999999,
         "void_volume [cm^3/g]": 0.2888,
         "metal_linker": 3,
         "organic_linker1": 11,
         "organic_linker2": 20,
         "CO2/N2_selectivity": 18.89727884,
         "heat_adsorption_CO2_P0.15bar_T298K [kcal/mol]": 5.767987000000001,
         "CO2_working_capacity [mL/g]": 98.25570738538929,
         "_deepnote_index_column": "50%"
        },
        {
         "volume [A^3]": 3321.464913,
         "weight [u]": 1801.28706,
         "surface_area [m^2/g]": 2432.56,
         "void_fraction": 0.3367899999999999,
         "void_volume [cm^3/g]": 0.4239999999999999,
         "metal_linker": 4,
         "organic_linker1": 16,
         "organic_linker2": 25,
         "CO2/N2_selectivity": 27.40216835,
         "heat_adsorption_CO2_P0.15bar_T298K [kcal/mol]": 6.321149,
         "CO2_working_capacity [mL/g]": 153.46985086585,
         "_deepnote_index_column": "75%"
        },
        {
         "volume [A^3]": 49079.066486,
         "weight [u]": 21852.03552,
         "surface_area [m^2/g]": 3519.9,
         "void_fraction": 0.8065899999999999,
         "void_volume [cm^3/g]": 2.4783,
         "metal_linker": 12,
         "organic_linker1": 58,
         "organic_linker2": 58,
         "CO2/N2_selectivity": 220.4436941,
         "heat_adsorption_CO2_P0.15bar_T298K [kcal/mol]": 10.612112,
         "CO2_working_capacity [mL/g]": 736.0616358740374,
         "_deepnote_index_column": "max"
        }
       ],
       "rows_bottom": null
      },
      "text/plain": "       volume [A^3]    weight [u]  surface_area [m^2/g]  void_fraction  \\\ncount  46341.000000  46341.000000          46341.000000   46341.000000   \nmean    2871.788139   1545.203513           1815.001886       0.272587   \nstd     2458.449431   1146.523911            809.067946       0.098185   \nmin      606.576038    439.281220            282.040000       0.057150   \n25%     1578.164592    865.517120           1179.040000       0.199190   \n50%     2226.786967   1182.518580           1764.090000       0.267300   \n75%     3321.464913   1801.287060           2432.560000       0.336790   \nmax    49079.066486  21852.035520           3519.900000       0.806590   \n\n       void_volume [cm^3/g]  metal_linker  organic_linker1  organic_linker2  \\\ncount          46341.000000  46341.000000     46341.000000     46341.000000   \nmean               0.323759      4.152543        11.980233        20.737015   \nstd                0.184570      3.136812        10.794894        10.175588   \nmin                0.038900      1.000000         1.000000         1.000000   \n25%                0.186200      2.000000         4.000000        15.000000   \n50%                0.288800      3.000000        11.000000        20.000000   \n75%                0.424000      4.000000        16.000000        25.000000   \nmax                2.478300     12.000000        58.000000        58.000000   \n\n       CO2/N2_selectivity  heat_adsorption_CO2_P0.15bar_T298K [kcal/mol]  \\\ncount        46341.000000                                   46341.000000   \nmean            22.880924                                       5.837655   \nstd             14.214600                                       0.835001   \nmin              3.066968                                       2.798294   \n25%             13.926949                                       5.312211   \n50%             18.897279                                       5.767987   \n75%             27.402168                                       6.321149   \nmax            220.443694                                      10.612112   \n\n       CO2_working_capacity [mL/g]  \ncount                 46341.000000  \nmean                    122.203733  \nstd                      79.733106  \nmin                      -8.314245  \n25%                      70.712685  \n50%                      98.255707  \n75%                     153.469851  \nmax                     736.061636  ",
      "text/html": "<div>\n<style scoped>\n    .dataframe tbody tr th:only-of-type {\n        vertical-align: middle;\n    }\n\n    .dataframe tbody tr th {\n        vertical-align: top;\n    }\n\n    .dataframe thead th {\n        text-align: right;\n    }\n</style>\n<table border=\"1\" class=\"dataframe\">\n  <thead>\n    <tr style=\"text-align: right;\">\n      <th></th>\n      <th>volume [A^3]</th>\n      <th>weight [u]</th>\n      <th>surface_area [m^2/g]</th>\n      <th>void_fraction</th>\n      <th>void_volume [cm^3/g]</th>\n      <th>metal_linker</th>\n      <th>organic_linker1</th>\n      <th>organic_linker2</th>\n      <th>CO2/N2_selectivity</th>\n      <th>heat_adsorption_CO2_P0.15bar_T298K [kcal/mol]</th>\n      <th>CO2_working_capacity [mL/g]</th>\n    </tr>\n  </thead>\n  <tbody>\n    <tr>\n      <th>count</th>\n      <td>46341.000000</td>\n      <td>46341.000000</td>\n      <td>46341.000000</td>\n      <td>46341.000000</td>\n      <td>46341.000000</td>\n      <td>46341.000000</td>\n      <td>46341.000000</td>\n      <td>46341.000000</td>\n      <td>46341.000000</td>\n      <td>46341.000000</td>\n      <td>46341.000000</td>\n    </tr>\n    <tr>\n      <th>mean</th>\n      <td>2871.788139</td>\n      <td>1545.203513</td>\n      <td>1815.001886</td>\n      <td>0.272587</td>\n      <td>0.323759</td>\n      <td>4.152543</td>\n      <td>11.980233</td>\n      <td>20.737015</td>\n      <td>22.880924</td>\n      <td>5.837655</td>\n      <td>122.203733</td>\n    </tr>\n    <tr>\n      <th>std</th>\n      <td>2458.449431</td>\n      <td>1146.523911</td>\n      <td>809.067946</td>\n      <td>0.098185</td>\n      <td>0.184570</td>\n      <td>3.136812</td>\n      <td>10.794894</td>\n      <td>10.175588</td>\n      <td>14.214600</td>\n      <td>0.835001</td>\n      <td>79.733106</td>\n    </tr>\n    <tr>\n      <th>min</th>\n      <td>606.576038</td>\n      <td>439.281220</td>\n      <td>282.040000</td>\n      <td>0.057150</td>\n      <td>0.038900</td>\n      <td>1.000000</td>\n      <td>1.000000</td>\n      <td>1.000000</td>\n      <td>3.066968</td>\n      <td>2.798294</td>\n      <td>-8.314245</td>\n    </tr>\n    <tr>\n      <th>25%</th>\n      <td>1578.164592</td>\n      <td>865.517120</td>\n      <td>1179.040000</td>\n      <td>0.199190</td>\n      <td>0.186200</td>\n      <td>2.000000</td>\n      <td>4.000000</td>\n      <td>15.000000</td>\n      <td>13.926949</td>\n      <td>5.312211</td>\n      <td>70.712685</td>\n    </tr>\n    <tr>\n      <th>50%</th>\n      <td>2226.786967</td>\n      <td>1182.518580</td>\n      <td>1764.090000</td>\n      <td>0.267300</td>\n      <td>0.288800</td>\n      <td>3.000000</td>\n      <td>11.000000</td>\n      <td>20.000000</td>\n      <td>18.897279</td>\n      <td>5.767987</td>\n      <td>98.255707</td>\n    </tr>\n    <tr>\n      <th>75%</th>\n      <td>3321.464913</td>\n      <td>1801.287060</td>\n      <td>2432.560000</td>\n      <td>0.336790</td>\n      <td>0.424000</td>\n      <td>4.000000</td>\n      <td>16.000000</td>\n      <td>25.000000</td>\n      <td>27.402168</td>\n      <td>6.321149</td>\n      <td>153.469851</td>\n    </tr>\n    <tr>\n      <th>max</th>\n      <td>49079.066486</td>\n      <td>21852.035520</td>\n      <td>3519.900000</td>\n      <td>0.806590</td>\n      <td>2.478300</td>\n      <td>12.000000</td>\n      <td>58.000000</td>\n      <td>58.000000</td>\n      <td>220.443694</td>\n      <td>10.612112</td>\n      <td>736.061636</td>\n    </tr>\n  </tbody>\n</table>\n</div>"
     },
     "metadata": {}
    }
   ],
   "execution_count": null
  },
  {
   "cell_type": "markdown",
   "source": "# Feature engineering",
   "metadata": {
    "tags": [],
    "cell_id": "00009-23fed49d-489f-4cb2-b07a-44fd71bfb19e",
    "deepnote_cell_type": "markdown"
   }
  },
  {
   "cell_type": "markdown",
   "source": "## topology-feature representation of a MOF",
   "metadata": {
    "tags": [],
    "cell_id": "00010-04fc274b-9f8d-4f56-a2b1-6e12541931ed",
    "deepnote_cell_type": "markdown"
   }
  },
  {
   "cell_type": "markdown",
   "source": "### Construct a topology encoder",
   "metadata": {
    "tags": [],
    "cell_id": "00011-e379ef7e-2135-4403-b65b-9957f4f7bcc6",
    "deepnote_cell_type": "markdown"
   }
  },
  {
   "cell_type": "code",
   "metadata": {
    "tags": [],
    "cell_id": "00011-15db6e20-c1f8-4c1e-9a60-b81cb69101a3",
    "deepnote_to_be_reexecuted": false,
    "source_hash": "f112a8b4",
    "execution_start": 1634388741682,
    "execution_millis": 6,
    "deepnote_cell_type": "code"
   },
   "source": "topology_feature = training_set[[\"topology\"]].values\nenc = OneHotEncoder(handle_unknown='ignore')\nenc.fit(topology_feature)\nprint(enc.categories_)",
   "outputs": [
    {
     "name": "stdout",
     "text": "[array(['acs', 'bcu', 'etb', 'fof', 'nbo', 'pcu', 'pts', 'rht', 'sra',\n       'tbo', 'the'], dtype=object)]\n",
     "output_type": "stream"
    }
   ],
   "execution_count": null
  },
  {
   "cell_type": "markdown",
   "source": "### Save the encoder for future use",
   "metadata": {
    "tags": [],
    "cell_id": "00012-b645a6b9-790b-45dd-baf8-8bb0acfcaff9",
    "deepnote_cell_type": "markdown"
   }
  },
  {
   "cell_type": "code",
   "metadata": {
    "tags": [],
    "cell_id": "00012-c9bced84-58cc-4dd6-8d2b-648275f80687",
    "deepnote_to_be_reexecuted": false,
    "source_hash": "1572b312",
    "execution_start": 1634388933551,
    "execution_millis": 4,
    "deepnote_cell_type": "code"
   },
   "source": "model_path = os.path.join(\".\", \"models\", \"topology_encoder.joblib\")\ndump(enc, model_path) ",
   "outputs": [
    {
     "output_type": "execute_result",
     "execution_count": 13,
     "data": {
      "text/plain": "['./models/topology_encoder.joblib']"
     },
     "metadata": {}
    }
   ],
   "execution_count": null
  },
  {
   "cell_type": "markdown",
   "source": "### Use the encoder for featurizing MOFs topology-attributes",
   "metadata": {
    "tags": [],
    "cell_id": "00015-a03607dc-4de1-48c0-8aa7-a4e0e956f028",
    "deepnote_cell_type": "markdown"
   }
  },
  {
   "cell_type": "code",
   "metadata": {
    "tags": [],
    "cell_id": "00016-4108f1ae-4576-49f9-8a55-34f92791ad87",
    "deepnote_to_be_reexecuted": false,
    "source_hash": "b5688cd9",
    "execution_start": 1634388936125,
    "execution_millis": 11,
    "deepnote_cell_type": "code"
   },
   "source": "X_topology_feature = enc.transform(training_set[[\"topology\"]].values)\nprint(f\"Topology-features matirx size: {X_topology_feature.shape}\") ",
   "outputs": [
    {
     "name": "stdout",
     "text": "Topology-features matirx size: (46341, 11)\n",
     "output_type": "stream"
    }
   ],
   "execution_count": null
  },
  {
   "cell_type": "markdown",
   "source": "## Density of MOFs",
   "metadata": {
    "tags": [],
    "cell_id": "00017-202f5369-575f-444a-9dac-90fe80afba22",
    "deepnote_cell_type": "markdown"
   }
  },
  {
   "cell_type": "markdown",
   "source": "### Define function for computing density of a MOF",
   "metadata": {
    "tags": [],
    "cell_id": "00018-f46e8d5c-8f0d-44ce-8c5f-5edb64ca7a2c",
    "deepnote_cell_type": "markdown"
   }
  },
  {
   "cell_type": "code",
   "metadata": {
    "tags": [],
    "cell_id": "00019-3022ee05-44e2-4a6b-bf4e-6ec738d4041c",
    "deepnote_to_be_reexecuted": false,
    "source_hash": "1a7fc698",
    "execution_start": 1634388939094,
    "execution_millis": 2,
    "deepnote_cell_type": "code"
   },
   "source": "def get_density(df):\n    df[\"density [g/cm^3]\"] = (df[\"weight [u]\"] / df[\"volume [A^3]\"]) * 1.66054\n    return df.copy()",
   "outputs": [],
   "execution_count": null
  },
  {
   "cell_type": "markdown",
   "source": "### Featurizing the density attribute for MOFs",
   "metadata": {
    "tags": [],
    "cell_id": "00020-ed77ca3d-93ca-4234-9df1-6ae357aa7917",
    "deepnote_cell_type": "markdown"
   }
  },
  {
   "cell_type": "code",
   "metadata": {
    "tags": [],
    "cell_id": "00021-3d26019d-eb17-4f57-bd0c-aae6979c80d9",
    "deepnote_to_be_reexecuted": false,
    "source_hash": "a2f945fd",
    "execution_start": 1634388942645,
    "execution_millis": 45,
    "deepnote_cell_type": "code"
   },
   "source": "training_set= get_density(training_set)\ntraining_set.head()",
   "outputs": [
    {
     "output_type": "execute_result",
     "execution_count": 16,
     "data": {
      "application/vnd.deepnote.dataframe.v2+json": {
       "row_count": 5,
       "column_count": 15,
       "columns": [
        {
         "name": "MOFname",
         "dtype": "object",
         "stats": {
          "unique_count": 5,
          "nan_count": 0,
          "categories": [
           {
            "name": "mof_unit_2",
            "count": 1
           },
           {
            "name": "mof_unit_3",
            "count": 1
           },
           {
            "name": "3 others",
            "count": 3
           }
          ]
         }
        },
        {
         "name": "volume [A^3]",
         "dtype": "float64",
         "stats": {
          "unique_count": 5,
          "nan_count": 0,
          "min": "1089.818728",
          "max": "3954.659761",
          "histogram": [
           {
            "bin_start": 1089.818728,
            "bin_end": 1376.3028313,
            "count": 1
           },
           {
            "bin_start": 1376.3028313,
            "bin_end": 1662.7869345999998,
            "count": 0
           },
           {
            "bin_start": 1662.7869345999998,
            "bin_end": 1949.2710378999998,
            "count": 0
           },
           {
            "bin_start": 1949.2710378999998,
            "bin_end": 2235.7551412,
            "count": 1
           },
           {
            "bin_start": 2235.7551412,
            "bin_end": 2522.2392444999996,
            "count": 0
           },
           {
            "bin_start": 2522.2392444999996,
            "bin_end": 2808.7233478,
            "count": 1
           },
           {
            "bin_start": 2808.7233478,
            "bin_end": 3095.2074510999996,
            "count": 0
           },
           {
            "bin_start": 3095.2074510999996,
            "bin_end": 3381.6915543999994,
            "count": 0
           },
           {
            "bin_start": 3381.6915543999994,
            "bin_end": 3668.1756576999996,
            "count": 1
           },
           {
            "bin_start": 3668.1756576999996,
            "bin_end": 3954.659761,
            "count": 1
           }
          ]
         }
        },
        {
         "name": "weight [u]",
         "dtype": "float64",
         "stats": {
          "unique_count": 5,
          "nan_count": 0,
          "min": "773.68796",
          "max": "2211.697211",
          "histogram": [
           {
            "bin_start": 773.68796,
            "bin_end": 917.4888851000001,
            "count": 1
           },
           {
            "bin_start": 917.4888851000001,
            "bin_end": 1061.2898102,
            "count": 0
           },
           {
            "bin_start": 1061.2898102,
            "bin_end": 1205.0907353,
            "count": 0
           },
           {
            "bin_start": 1205.0907353,
            "bin_end": 1348.8916604,
            "count": 1
           },
           {
            "bin_start": 1348.8916604,
            "bin_end": 1492.6925855000002,
            "count": 0
           },
           {
            "bin_start": 1492.6925855000002,
            "bin_end": 1636.4935106000003,
            "count": 1
           },
           {
            "bin_start": 1636.4935106000003,
            "bin_end": 1780.2944357000001,
            "count": 0
           },
           {
            "bin_start": 1780.2944357000001,
            "bin_end": 1924.0953608000002,
            "count": 0
           },
           {
            "bin_start": 1924.0953608000002,
            "bin_end": 2067.8962859000003,
            "count": 1
           },
           {
            "bin_start": 2067.8962859000003,
            "bin_end": 2211.697211,
            "count": 1
           }
          ]
         }
        },
        {
         "name": "surface_area [m^2/g]",
         "dtype": "float64",
         "stats": {
          "unique_count": 5,
          "nan_count": 0,
          "min": "603.61",
          "max": "2430.55",
          "histogram": [
           {
            "bin_start": 603.61,
            "bin_end": 786.3040000000001,
            "count": 1
           },
           {
            "bin_start": 786.3040000000001,
            "bin_end": 968.998,
            "count": 1
           },
           {
            "bin_start": 968.998,
            "bin_end": 1151.692,
            "count": 0
           },
           {
            "bin_start": 1151.692,
            "bin_end": 1334.386,
            "count": 0
           },
           {
            "bin_start": 1334.386,
            "bin_end": 1517.08,
            "count": 1
           },
           {
            "bin_start": 1517.08,
            "bin_end": 1699.7740000000003,
            "count": 1
           },
           {
            "bin_start": 1699.7740000000003,
            "bin_end": 1882.4680000000003,
            "count": 0
           },
           {
            "bin_start": 1882.4680000000003,
            "bin_end": 2065.1620000000003,
            "count": 0
           },
           {
            "bin_start": 2065.1620000000003,
            "bin_end": 2247.856,
            "count": 0
           },
           {
            "bin_start": 2247.856,
            "bin_end": 2430.55,
            "count": 1
           }
          ]
         }
        },
        {
         "name": "void_fraction",
         "dtype": "float64",
         "stats": {
          "unique_count": 5,
          "nan_count": 0,
          "min": "0.13794",
          "max": "0.3709399999999999",
          "histogram": [
           {
            "bin_start": 0.13794,
            "bin_end": 0.16124,
            "count": 2
           },
           {
            "bin_start": 0.16124,
            "bin_end": 0.18453999999999998,
            "count": 0
           },
           {
            "bin_start": 0.18453999999999998,
            "bin_end": 0.20783999999999997,
            "count": 0
           },
           {
            "bin_start": 0.20783999999999997,
            "bin_end": 0.23113999999999996,
            "count": 1
           },
           {
            "bin_start": 0.23113999999999996,
            "bin_end": 0.25443999999999994,
            "count": 0
           },
           {
            "bin_start": 0.25443999999999994,
            "bin_end": 0.27773999999999993,
            "count": 0
           },
           {
            "bin_start": 0.27773999999999993,
            "bin_end": 0.3010399999999999,
            "count": 0
           },
           {
            "bin_start": 0.3010399999999999,
            "bin_end": 0.3243399999999999,
            "count": 0
           },
           {
            "bin_start": 0.3243399999999999,
            "bin_end": 0.3476399999999999,
            "count": 1
           },
           {
            "bin_start": 0.3476399999999999,
            "bin_end": 0.3709399999999999,
            "count": 1
           }
          ]
         }
        },
        {
         "name": "void_volume [cm^3/g]",
         "dtype": "float64",
         "stats": {
          "unique_count": 5,
          "nan_count": 0,
          "min": "0.104",
          "max": "0.5725",
          "histogram": [
           {
            "bin_start": 0.104,
            "bin_end": 0.15084999999999998,
            "count": 2
           },
           {
            "bin_start": 0.15084999999999998,
            "bin_end": 0.1977,
            "count": 0
           },
           {
            "bin_start": 0.1977,
            "bin_end": 0.24455,
            "count": 1
           },
           {
            "bin_start": 0.24455,
            "bin_end": 0.2914,
            "count": 0
           },
           {
            "bin_start": 0.2914,
            "bin_end": 0.33825,
            "count": 0
           },
           {
            "bin_start": 0.33825,
            "bin_end": 0.3851,
            "count": 1
           },
           {
            "bin_start": 0.3851,
            "bin_end": 0.43195,
            "count": 0
           },
           {
            "bin_start": 0.43195,
            "bin_end": 0.4788,
            "count": 0
           },
           {
            "bin_start": 0.4788,
            "bin_end": 0.5256500000000001,
            "count": 0
           },
           {
            "bin_start": 0.5256500000000001,
            "bin_end": 0.5725,
            "count": 1
           }
          ]
         }
        },
        {
         "name": "functional_groups",
         "dtype": "object",
         "stats": {
          "unique_count": 5,
          "nan_count": 0,
          "categories": [
           {
            "name": "F-OMe",
            "count": 1
           },
           {
            "name": "OMe-COOH",
            "count": 1
           },
           {
            "name": "3 others",
            "count": 3
           }
          ]
         }
        },
        {
         "name": "metal_linker",
         "dtype": "int64",
         "stats": {
          "unique_count": 3,
          "nan_count": 0,
          "min": "2",
          "max": "10",
          "histogram": [
           {
            "bin_start": 2,
            "bin_end": 2.8,
            "count": 1
           },
           {
            "bin_start": 2.8,
            "bin_end": 3.6,
            "count": 0
           },
           {
            "bin_start": 3.6,
            "bin_end": 4.4,
            "count": 0
           },
           {
            "bin_start": 4.4,
            "bin_end": 5.2,
            "count": 0
           },
           {
            "bin_start": 5.2,
            "bin_end": 6,
            "count": 0
           },
           {
            "bin_start": 6,
            "bin_end": 6.800000000000001,
            "count": 0
           },
           {
            "bin_start": 6.800000000000001,
            "bin_end": 7.6000000000000005,
            "count": 0
           },
           {
            "bin_start": 7.6000000000000005,
            "bin_end": 8.4,
            "count": 0
           },
           {
            "bin_start": 8.4,
            "bin_end": 9.2,
            "count": 2
           },
           {
            "bin_start": 9.2,
            "bin_end": 10,
            "count": 2
           }
          ]
         }
        },
        {
         "name": "organic_linker1",
         "dtype": "int64",
         "stats": {
          "unique_count": 5,
          "nan_count": 0,
          "min": "7",
          "max": "53",
          "histogram": [
           {
            "bin_start": 7,
            "bin_end": 11.6,
            "count": 1
           },
           {
            "bin_start": 11.6,
            "bin_end": 16.2,
            "count": 0
           },
           {
            "bin_start": 16.2,
            "bin_end": 20.799999999999997,
            "count": 1
           },
           {
            "bin_start": 20.799999999999997,
            "bin_end": 25.4,
            "count": 1
           },
           {
            "bin_start": 25.4,
            "bin_end": 30,
            "count": 0
           },
           {
            "bin_start": 30,
            "bin_end": 34.599999999999994,
            "count": 0
           },
           {
            "bin_start": 34.599999999999994,
            "bin_end": 39.199999999999996,
            "count": 0
           },
           {
            "bin_start": 39.199999999999996,
            "bin_end": 43.8,
            "count": 0
           },
           {
            "bin_start": 43.8,
            "bin_end": 48.4,
            "count": 1
           },
           {
            "bin_start": 48.4,
            "bin_end": 53,
            "count": 1
           }
          ]
         }
        },
        {
         "name": "organic_linker2",
         "dtype": "int64",
         "stats": {
          "unique_count": 4,
          "nan_count": 0,
          "min": "23",
          "max": "57",
          "histogram": [
           {
            "bin_start": 23,
            "bin_end": 26.4,
            "count": 3
           },
           {
            "bin_start": 26.4,
            "bin_end": 29.8,
            "count": 0
           },
           {
            "bin_start": 29.8,
            "bin_end": 33.2,
            "count": 0
           },
           {
            "bin_start": 33.2,
            "bin_end": 36.6,
            "count": 0
           },
           {
            "bin_start": 36.6,
            "bin_end": 40,
            "count": 0
           },
           {
            "bin_start": 40,
            "bin_end": 43.4,
            "count": 0
           },
           {
            "bin_start": 43.4,
            "bin_end": 46.8,
            "count": 0
           },
           {
            "bin_start": 46.8,
            "bin_end": 50.2,
            "count": 0
           },
           {
            "bin_start": 50.2,
            "bin_end": 53.599999999999994,
            "count": 0
           },
           {
            "bin_start": 53.599999999999994,
            "bin_end": 57,
            "count": 2
           }
          ]
         }
        },
        {
         "name": "topology",
         "dtype": "object",
         "stats": {
          "unique_count": 3,
          "nan_count": 0,
          "categories": [
           {
            "name": "etb",
            "count": 2
           },
           {
            "name": "sra",
            "count": 2
           },
           {
            "name": "pcu",
            "count": 1
           }
          ]
         }
        },
        {
         "name": "CO2/N2_selectivity",
         "dtype": "float64",
         "stats": {
          "unique_count": 5,
          "nan_count": 0,
          "min": "17.14654102",
          "max": "33.61678033",
          "histogram": [
           {
            "bin_start": 17.14654102,
            "bin_end": 18.793564951,
            "count": 2
           },
           {
            "bin_start": 18.793564951,
            "bin_end": 20.440588882,
            "count": 1
           },
           {
            "bin_start": 20.440588882,
            "bin_end": 22.087612813,
            "count": 0
           },
           {
            "bin_start": 22.087612813,
            "bin_end": 23.734636744,
            "count": 0
           },
           {
            "bin_start": 23.734636744,
            "bin_end": 25.381660675,
            "count": 0
           },
           {
            "bin_start": 25.381660675,
            "bin_end": 27.028684606,
            "count": 1
           },
           {
            "bin_start": 27.028684606,
            "bin_end": 28.675708537,
            "count": 0
           },
           {
            "bin_start": 28.675708537,
            "bin_end": 30.322732467999998,
            "count": 0
           },
           {
            "bin_start": 30.322732467999998,
            "bin_end": 31.969756398999998,
            "count": 0
           },
           {
            "bin_start": 31.969756398999998,
            "bin_end": 33.61678033,
            "count": 1
           }
          ]
         }
        },
        {
         "name": "heat_adsorption_CO2_P0.15bar_T298K [kcal/mol]",
         "dtype": "float64",
         "stats": {
          "unique_count": 5,
          "nan_count": 0,
          "min": "5.398304",
          "max": "7.147286",
          "histogram": [
           {
            "bin_start": 5.398304,
            "bin_end": 5.573202200000001,
            "count": 1
           },
           {
            "bin_start": 5.573202200000001,
            "bin_end": 5.7481004,
            "count": 0
           },
           {
            "bin_start": 5.7481004,
            "bin_end": 5.922998600000001,
            "count": 0
           },
           {
            "bin_start": 5.922998600000001,
            "bin_end": 6.0978968,
            "count": 0
           },
           {
            "bin_start": 6.0978968,
            "bin_end": 6.272795,
            "count": 1
           },
           {
            "bin_start": 6.272795,
            "bin_end": 6.4476932,
            "count": 2
           },
           {
            "bin_start": 6.4476932,
            "bin_end": 6.6225914,
            "count": 0
           },
           {
            "bin_start": 6.6225914,
            "bin_end": 6.7974896000000005,
            "count": 0
           },
           {
            "bin_start": 6.7974896000000005,
            "bin_end": 6.9723878,
            "count": 0
           },
           {
            "bin_start": 6.9723878,
            "bin_end": 7.147286,
            "count": 1
           }
          ]
         }
        },
        {
         "name": "CO2_working_capacity [mL/g]",
         "dtype": "float64",
         "stats": {
          "unique_count": 5,
          "nan_count": 0,
          "min": "55.7869591021412",
          "max": "187.62600449626183",
          "histogram": [
           {
            "bin_start": 55.7869591021412,
            "bin_end": 68.97086364155327,
            "count": 1
           },
           {
            "bin_start": 68.97086364155327,
            "bin_end": 82.15476818096533,
            "count": 0
           },
           {
            "bin_start": 82.15476818096533,
            "bin_end": 95.33867272037739,
            "count": 0
           },
           {
            "bin_start": 95.33867272037739,
            "bin_end": 108.52257725978946,
            "count": 1
           },
           {
            "bin_start": 108.52257725978946,
            "bin_end": 121.70648179920153,
            "count": 2
           },
           {
            "bin_start": 121.70648179920153,
            "bin_end": 134.89038633861358,
            "count": 0
           },
           {
            "bin_start": 134.89038633861358,
            "bin_end": 148.07429087802564,
            "count": 0
           },
           {
            "bin_start": 148.07429087802564,
            "bin_end": 161.25819541743772,
            "count": 0
           },
           {
            "bin_start": 161.25819541743772,
            "bin_end": 174.44209995684977,
            "count": 0
           },
           {
            "bin_start": 174.44209995684977,
            "bin_end": 187.62600449626183,
            "count": 1
           }
          ]
         }
        },
        {
         "name": "density [g/cm^3]",
         "dtype": "float64",
         "stats": {
          "unique_count": 5,
          "nan_count": 0,
          "min": "0.6479088818248402",
          "max": "1.3260901216521728",
          "histogram": [
           {
            "bin_start": 0.6479088818248402,
            "bin_end": 0.7157270058075734,
            "count": 1
           },
           {
            "bin_start": 0.7157270058075734,
            "bin_end": 0.7835451297903067,
            "count": 0
           },
           {
            "bin_start": 0.7835451297903067,
            "bin_end": 0.85136325377304,
            "count": 0
           },
           {
            "bin_start": 0.85136325377304,
            "bin_end": 0.9191813777557732,
            "count": 1
           },
           {
            "bin_start": 0.9191813777557732,
            "bin_end": 0.9869995017385065,
            "count": 1
           },
           {
            "bin_start": 0.9869995017385065,
            "bin_end": 1.0548176257212398,
            "count": 0
           },
           {
            "bin_start": 1.0548176257212398,
            "bin_end": 1.122635749703973,
            "count": 0
           },
           {
            "bin_start": 1.122635749703973,
            "bin_end": 1.1904538736867063,
            "count": 1
           },
           {
            "bin_start": 1.1904538736867063,
            "bin_end": 1.2582719976694396,
            "count": 0
           },
           {
            "bin_start": 1.2582719976694396,
            "bin_end": 1.3260901216521728,
            "count": 1
           }
          ]
         }
        },
        {
         "name": "_deepnote_index_column",
         "dtype": "int64"
        }
       ],
       "rows_top": [
        {
         "MOFname": "mof_unit_2",
         "volume [A^3]": 2769.503842,
         "weight [u]": 2211.697211,
         "surface_area [m^2/g]": 603.61,
         "void_fraction": 0.13794,
         "void_volume [cm^3/g]": 0.104,
         "functional_groups": "F-OMe",
         "metal_linker": 10,
         "organic_linker1": 44,
         "organic_linker2": 57,
         "topology": "etb",
         "CO2/N2_selectivity": 33.61678033,
         "heat_adsorption_CO2_P0.15bar_T298K [kcal/mol]": 7.147286,
         "CO2_working_capacity [mL/g]": 101.22477417834172,
         "density [g/cm^3]": 1.3260901216521728,
         "_deepnote_index_column": 1
        },
        {
         "MOFname": "mof_unit_3",
         "volume [A^3]": 1089.818728,
         "weight [u]": 773.68796,
         "surface_area [m^2/g]": 788.5,
         "void_fraction": 0.14874,
         "void_volume [cm^3/g]": 0.1262,
         "functional_groups": "OMe-COOH",
         "metal_linker": 2,
         "organic_linker1": 22,
         "organic_linker2": 24,
         "topology": "pcu",
         "CO2/N2_selectivity": 19.26372569,
         "heat_adsorption_CO2_P0.15bar_T298K [kcal/mol]": 6.347967,
         "CO2_working_capacity [mL/g]": 118.98701074687752,
         "density [g/cm^3]": 1.1788564208802987,
         "_deepnote_index_column": 2
        },
        {
         "MOFname": "mof_unit_4",
         "volume [A^3]": 2205.1983010000004,
         "weight [u]": 1304.63872,
         "surface_area [m^2/g]": 1441.53,
         "void_fraction": 0.21814,
         "void_volume [cm^3/g]": 0.222,
         "functional_groups": "H-SO3H",
         "metal_linker": 9,
         "organic_linker1": 17,
         "organic_linker2": 24,
         "topology": "sra",
         "CO2/N2_selectivity": 25.70137692,
         "heat_adsorption_CO2_P0.15bar_T298K [kcal/mol]": 6.190085,
         "CO2_working_capacity [mL/g]": 187.62600449626183,
         "density [g/cm^3]": 0.9824081485671339,
         "_deepnote_index_column": 3
        },
        {
         "MOFname": "mof_unit_6",
         "volume [A^3]": 3954.659761,
         "weight [u]": 1543.02768,
         "surface_area [m^2/g]": 2430.55,
         "void_fraction": 0.3709399999999999,
         "void_volume [cm^3/g]": 0.5725,
         "functional_groups": "Pr-NO2",
         "metal_linker": 9,
         "organic_linker1": 7,
         "organic_linker2": 23,
         "topology": "sra",
         "CO2/N2_selectivity": 17.14654102,
         "heat_adsorption_CO2_P0.15bar_T298K [kcal/mol]": 5.398304,
         "CO2_working_capacity [mL/g]": 55.7869591021412,
         "density [g/cm^3]": 0.6479088818248402,
         "_deepnote_index_column": 5
        },
        {
         "MOFname": "mof_unit_7",
         "volume [A^3]": 3565.914939,
         "weight [u]": 1954.749656,
         "surface_area [m^2/g]": 1530.02,
         "void_fraction": 0.33337,
         "void_volume [cm^3/g]": 0.3662,
         "functional_groups": "NH2",
         "metal_linker": 10,
         "organic_linker1": 53,
         "organic_linker2": 55,
         "topology": "etb",
         "CO2/N2_selectivity": 18.36379134,
         "heat_adsorption_CO2_P0.15bar_T298K [kcal/mol]": 6.303857,
         "CO2_working_capacity [mL/g]": 111.69046224719489,
         "density [g/cm^3]": 0.9102684862933125,
         "_deepnote_index_column": 6
        }
       ],
       "rows_bottom": null
      },
      "text/plain": "      MOFname  volume [A^3]   weight [u]  surface_area [m^2/g]  void_fraction  \\\n1  mof_unit_2   2769.503842  2211.697211                603.61        0.13794   \n2  mof_unit_3   1089.818728   773.687960                788.50        0.14874   \n3  mof_unit_4   2205.198301  1304.638720               1441.53        0.21814   \n5  mof_unit_6   3954.659761  1543.027680               2430.55        0.37094   \n6  mof_unit_7   3565.914939  1954.749656               1530.02        0.33337   \n\n   void_volume [cm^3/g] functional_groups  metal_linker  organic_linker1  \\\n1                0.1040             F-OMe            10               44   \n2                0.1262          OMe-COOH             2               22   \n3                0.2220            H-SO3H             9               17   \n5                0.5725            Pr-NO2             9                7   \n6                0.3662               NH2            10               53   \n\n   organic_linker2 topology  CO2/N2_selectivity  \\\n1               57      etb           33.616780   \n2               24      pcu           19.263726   \n3               24      sra           25.701377   \n5               23      sra           17.146541   \n6               55      etb           18.363791   \n\n   heat_adsorption_CO2_P0.15bar_T298K [kcal/mol]  CO2_working_capacity [mL/g]  \\\n1                                       7.147286                   101.224774   \n2                                       6.347967                   118.987011   \n3                                       6.190085                   187.626004   \n5                                       5.398304                    55.786959   \n6                                       6.303857                   111.690462   \n\n   density [g/cm^3]  \n1          1.326090  \n2          1.178856  \n3          0.982408  \n5          0.647909  \n6          0.910268  ",
      "text/html": "<div>\n<style scoped>\n    .dataframe tbody tr th:only-of-type {\n        vertical-align: middle;\n    }\n\n    .dataframe tbody tr th {\n        vertical-align: top;\n    }\n\n    .dataframe thead th {\n        text-align: right;\n    }\n</style>\n<table border=\"1\" class=\"dataframe\">\n  <thead>\n    <tr style=\"text-align: right;\">\n      <th></th>\n      <th>MOFname</th>\n      <th>volume [A^3]</th>\n      <th>weight [u]</th>\n      <th>surface_area [m^2/g]</th>\n      <th>void_fraction</th>\n      <th>void_volume [cm^3/g]</th>\n      <th>functional_groups</th>\n      <th>metal_linker</th>\n      <th>organic_linker1</th>\n      <th>organic_linker2</th>\n      <th>topology</th>\n      <th>CO2/N2_selectivity</th>\n      <th>heat_adsorption_CO2_P0.15bar_T298K [kcal/mol]</th>\n      <th>CO2_working_capacity [mL/g]</th>\n      <th>density [g/cm^3]</th>\n    </tr>\n  </thead>\n  <tbody>\n    <tr>\n      <th>1</th>\n      <td>mof_unit_2</td>\n      <td>2769.503842</td>\n      <td>2211.697211</td>\n      <td>603.61</td>\n      <td>0.13794</td>\n      <td>0.1040</td>\n      <td>F-OMe</td>\n      <td>10</td>\n      <td>44</td>\n      <td>57</td>\n      <td>etb</td>\n      <td>33.616780</td>\n      <td>7.147286</td>\n      <td>101.224774</td>\n      <td>1.326090</td>\n    </tr>\n    <tr>\n      <th>2</th>\n      <td>mof_unit_3</td>\n      <td>1089.818728</td>\n      <td>773.687960</td>\n      <td>788.50</td>\n      <td>0.14874</td>\n      <td>0.1262</td>\n      <td>OMe-COOH</td>\n      <td>2</td>\n      <td>22</td>\n      <td>24</td>\n      <td>pcu</td>\n      <td>19.263726</td>\n      <td>6.347967</td>\n      <td>118.987011</td>\n      <td>1.178856</td>\n    </tr>\n    <tr>\n      <th>3</th>\n      <td>mof_unit_4</td>\n      <td>2205.198301</td>\n      <td>1304.638720</td>\n      <td>1441.53</td>\n      <td>0.21814</td>\n      <td>0.2220</td>\n      <td>H-SO3H</td>\n      <td>9</td>\n      <td>17</td>\n      <td>24</td>\n      <td>sra</td>\n      <td>25.701377</td>\n      <td>6.190085</td>\n      <td>187.626004</td>\n      <td>0.982408</td>\n    </tr>\n    <tr>\n      <th>5</th>\n      <td>mof_unit_6</td>\n      <td>3954.659761</td>\n      <td>1543.027680</td>\n      <td>2430.55</td>\n      <td>0.37094</td>\n      <td>0.5725</td>\n      <td>Pr-NO2</td>\n      <td>9</td>\n      <td>7</td>\n      <td>23</td>\n      <td>sra</td>\n      <td>17.146541</td>\n      <td>5.398304</td>\n      <td>55.786959</td>\n      <td>0.647909</td>\n    </tr>\n    <tr>\n      <th>6</th>\n      <td>mof_unit_7</td>\n      <td>3565.914939</td>\n      <td>1954.749656</td>\n      <td>1530.02</td>\n      <td>0.33337</td>\n      <td>0.3662</td>\n      <td>NH2</td>\n      <td>10</td>\n      <td>53</td>\n      <td>55</td>\n      <td>etb</td>\n      <td>18.363791</td>\n      <td>6.303857</td>\n      <td>111.690462</td>\n      <td>0.910268</td>\n    </tr>\n  </tbody>\n</table>\n</div>"
     },
     "metadata": {}
    }
   ],
   "execution_count": null
  },
  {
   "cell_type": "markdown",
   "source": "# Construct the dataset representation matrix",
   "metadata": {
    "tags": [],
    "cell_id": "00017-1ffc1cdc-7353-4c4d-af9e-8647e5b87b32",
    "deepnote_cell_type": "markdown"
   }
  },
  {
   "cell_type": "markdown",
   "source": "## Pre-define features of dataset and set the target for prediction",
   "metadata": {
    "tags": [],
    "cell_id": "00023-44e1c4a9-715f-4eee-bc5d-8caf6d4d9a55",
    "deepnote_cell_type": "markdown"
   }
  },
  {
   "cell_type": "code",
   "metadata": {
    "tags": [],
    "cell_id": "00018-f357594f-c39c-483a-9b43-3696393a2199",
    "deepnote_to_be_reexecuted": false,
    "source_hash": "c76c935f",
    "execution_start": 1634388946601,
    "execution_millis": 0,
    "deepnote_cell_type": "code"
   },
   "source": "FEATURES = [\n 'volume [A^3]',\n 'weight [u]',\n 'surface_area [m^2/g]',\n 'void_fraction',\n 'void_volume [cm^3/g]',\n 'metal_linker',\n 'organic_linker1',\n 'organic_linker2',\n 'CO2/N2_selectivity',\n 'heat_adsorption_CO2_P0.15bar_T298K [kcal/mol]',\n 'density [g/cm^3]'\n]\nTARGET = 'CO2_working_capacity [mL/g]'",
   "outputs": [],
   "execution_count": null
  },
  {
   "cell_type": "code",
   "metadata": {
    "tags": [],
    "cell_id": "00018-1f511802-355c-42ca-82b1-3abd4502a0fe",
    "deepnote_to_be_reexecuted": false,
    "source_hash": "96d0f9d2",
    "execution_start": 1634388949505,
    "execution_millis": 12,
    "deepnote_cell_type": "code"
   },
   "source": "X = training_set[FEATURES].values\ny = training_set[TARGET].values\n\nprint(f\"Features matirx size     : {X.shape}\")\nprint(f\"Target values vector size: {y.shape}\")",
   "outputs": [
    {
     "name": "stdout",
     "text": "Features matirx size     : (46341, 11)\nTarget values vector size: (46341,)\n",
     "output_type": "stream"
    }
   ],
   "execution_count": null
  },
  {
   "cell_type": "markdown",
   "source": "## Append topogoly-features to the dataset representation matrix",
   "metadata": {
    "tags": [],
    "cell_id": "00026-0226279c-11bd-40ea-9405-82fe7da6c509",
    "deepnote_cell_type": "markdown"
   }
  },
  {
   "cell_type": "code",
   "metadata": {
    "tags": [],
    "cell_id": "00027-845d70a6-de65-42c5-8b8c-d856df6d8e32",
    "deepnote_to_be_reexecuted": false,
    "source_hash": "606baab2",
    "execution_start": 1634388953063,
    "execution_millis": 72,
    "deepnote_cell_type": "code"
   },
   "source": "X = np.concatenate(\n    (X, X_topology_feature.toarray()), axis=1\n)\nprint(f\"Features matirx size: {X.shape}\")",
   "outputs": [
    {
     "name": "stdout",
     "text": "Features matirx size: (46341, 22)\n",
     "output_type": "stream"
    }
   ],
   "execution_count": null
  },
  {
   "cell_type": "markdown",
   "source": "## Standard scaling",
   "metadata": {
    "tags": [],
    "cell_id": "00017-86ff9c81-a68a-4c35-bb1e-ad2321d88fb4",
    "deepnote_cell_type": "markdown"
   }
  },
  {
   "cell_type": "markdown",
   "source": "### Construct standard scaler",
   "metadata": {
    "tags": [],
    "cell_id": "00029-20b55406-f1ae-48fc-83a5-86161fb233dc",
    "deepnote_cell_type": "markdown"
   }
  },
  {
   "cell_type": "code",
   "metadata": {
    "tags": [],
    "cell_id": "00019-9178e587-a3f3-460b-aa12-3f9e2be40394",
    "deepnote_to_be_reexecuted": false,
    "source_hash": "355b697f",
    "execution_start": 1634388956085,
    "execution_millis": 13,
    "deepnote_cell_type": "code"
   },
   "source": "scaler = StandardScaler().fit(X)",
   "outputs": [],
   "execution_count": null
  },
  {
   "cell_type": "markdown",
   "source": "### Save the scaler for future use",
   "metadata": {
    "tags": [],
    "cell_id": "00031-af651f9f-2281-4d9a-a591-f16daf8a44a1",
    "deepnote_cell_type": "markdown"
   }
  },
  {
   "cell_type": "code",
   "metadata": {
    "tags": [],
    "cell_id": "00014-34ef1b65-39b5-4c72-b686-c00e23ea8909",
    "deepnote_to_be_reexecuted": false,
    "source_hash": "c66e93e7",
    "execution_start": 1634388959481,
    "execution_millis": 5,
    "deepnote_cell_type": "code"
   },
   "source": "model_path = os.path.join(\".\", \"models\", \"standardizer.joblib\")\ndump(scaler, model_path) ",
   "outputs": [
    {
     "output_type": "execute_result",
     "execution_count": 21,
     "data": {
      "text/plain": "['./models/standardizer.joblib']"
     },
     "metadata": {}
    }
   ],
   "execution_count": null
  },
  {
   "cell_type": "markdown",
   "source": "### Scaling the representation matrix",
   "metadata": {
    "tags": [],
    "cell_id": "00033-955888a9-1855-45a0-951f-3f7d68049256",
    "deepnote_cell_type": "markdown"
   }
  },
  {
   "cell_type": "code",
   "metadata": {
    "tags": [],
    "cell_id": "00021-5af11c05-da27-486e-90c1-eecc0556cb35",
    "deepnote_to_be_reexecuted": false,
    "source_hash": "e8fd0ec",
    "execution_start": 1634388962361,
    "execution_millis": 6,
    "deepnote_cell_type": "code"
   },
   "source": "X = scaler.transform(X)",
   "outputs": [],
   "execution_count": null
  },
  {
   "cell_type": "markdown",
   "source": "# Processing data for the pretest set",
   "metadata": {
    "tags": [],
    "cell_id": "00043-0ec3df62-7586-4212-a210-f72983332158",
    "deepnote_cell_type": "markdown"
   }
  },
  {
   "cell_type": "markdown",
   "source": "## Define pipeline process",
   "metadata": {
    "tags": [],
    "cell_id": "00044-9d2373c9-12ad-4e6b-9936-ea918c712bb5",
    "deepnote_cell_type": "markdown"
   }
  },
  {
   "cell_type": "code",
   "metadata": {
    "tags": [],
    "cell_id": "00045-154ab96b-2d19-481d-9798-1ae2f9a8c87b",
    "deepnote_to_be_reexecuted": false,
    "source_hash": "a122b10b",
    "execution_start": 1634389038677,
    "execution_millis": 2,
    "deepnote_cell_type": "code"
   },
   "source": "def get_processed(df, enc, scaler):\n    df = get_density(df)\n    T = test_set[FEATURES].values\n    T_topology_feature = enc.transform(test_set[[\"topology\"]].values)\n    T = np.concatenate(\n        (T, T_topology_feature.toarray()), axis=1\n    )\n    T = scaler.transform(T)\n    return T",
   "outputs": [],
   "execution_count": null
  },
  {
   "cell_type": "markdown",
   "source": "### Get pre-testset",
   "metadata": {
    "tags": [],
    "cell_id": "00046-affcd3a7-b46f-48c8-a2e9-38a2144adc73",
    "deepnote_cell_type": "markdown"
   }
  },
  {
   "cell_type": "code",
   "metadata": {
    "tags": [],
    "cell_id": "00047-c75dce8b-e5f0-4944-a011-b1ed2b463df2",
    "deepnote_to_be_reexecuted": false,
    "source_hash": "c7a9c571",
    "execution_start": 1634389047000,
    "execution_millis": 46,
    "deepnote_cell_type": "code"
   },
   "source": "test_set = pd.read_csv(testing_path)\nT = get_processed(test_set, enc, scaler)\nT",
   "outputs": [
    {
     "output_type": "execute_result",
     "execution_count": 29,
     "data": {
      "text/plain": "array([[-0.67664795, -0.65197264, -1.51838316, ..., -0.37097333,\n        -0.01971233, -0.02369332],\n       [ 0.51033794,  1.90879394, -1.18966803, ..., -0.37097333,\n        -0.01971233, -0.02369332],\n       [-0.51644482, -0.69601832,  1.6571446 , ..., -0.37097333,\n        -0.01971233, -0.02369332],\n       ...,\n       [ 0.73136982, -0.1946379 ,  3.05757362, ..., -0.37097333,\n        -0.01971233, -0.02369332],\n       [ 0.7363797 , -0.28930545,  3.11084537, ..., -0.37097333,\n        -0.01971233, -0.02369332],\n       [ 9.28678321,  2.83295326,  3.94456679, ..., -0.37097333,\n        -0.01971233, -0.02369332]])"
     },
     "metadata": {}
    }
   ],
   "execution_count": null
  },
  {
   "cell_type": "markdown",
   "source": "# Save the processed dataset to .csv files",
   "metadata": {
    "tags": [],
    "cell_id": "00035-f3945865-d966-4acd-a31e-da6a962e374f",
    "deepnote_cell_type": "markdown"
   }
  },
  {
   "cell_type": "markdown",
   "source": "## Define header for the csv",
   "metadata": {
    "tags": [],
    "cell_id": "00036-6180d3e1-cc24-4502-be11-293ff395fa5f",
    "deepnote_cell_type": "markdown"
   }
  },
  {
   "cell_type": "code",
   "metadata": {
    "tags": [],
    "cell_id": "00050-43334b15-2342-48ba-9868-36588e56a6c8",
    "deepnote_to_be_reexecuted": false,
    "source_hash": "67cf2bf1",
    "execution_start": 1634389063011,
    "execution_millis": 2,
    "deepnote_cell_type": "code"
   },
   "source": "index_features_map = dict()\nfor _i, _feature in enumerate(FEATURES):\n    index_features_map[str(_i)]=_feature\n\ntry:\n    for _i, _feature in enumerate(enc.categories_[0].tolist()):\n        index_features_map[str(len(FEATURES)+_i)]=_feature\nexcept NameError:\n    print('X_topology_feature does not exist.')\nexcept AttributeError:\n    print('X_topology_feature does not have a shape property.')\n    \nindex_features_map\n\nassert [index_features_map[str(idx)] for idx in range(len(index_features_map))] == list(index_features_map.values())",
   "outputs": [],
   "execution_count": null
  },
  {
   "cell_type": "code",
   "metadata": {
    "tags": [],
    "cell_id": "00051-91e08d33-e8ff-4e85-81d1-8740e8847075",
    "deepnote_to_be_reexecuted": false,
    "source_hash": "aaad0c87",
    "execution_start": 1632492143014,
    "execution_millis": 14,
    "deepnote_cell_type": "code"
   },
   "source": "list(index_features_map.values())",
   "execution_count": null,
   "outputs": [
    {
     "output_type": "execute_result",
     "execution_count": 25,
     "data": {
      "text/plain": "['volume [A^3]',\n 'weight [u]',\n 'surface_area [m^2/g]',\n 'void_fraction',\n 'void_volume [cm^3/g]',\n 'metal_linker',\n 'organic_linker1',\n 'organic_linker2',\n 'CO2/N2_selectivity',\n 'heat_adsorption_CO2_P0.15bar_T298K [kcal/mol]',\n 'density [g/cm^3]',\n 'acs',\n 'bcu',\n 'etb',\n 'fof',\n 'nbo',\n 'pcu',\n 'pts',\n 'rht',\n 'sra',\n 'tbo',\n 'the']"
     },
     "metadata": {}
    }
   ]
  },
  {
   "cell_type": "markdown",
   "source": "## Converting to pandas dataframe",
   "metadata": {
    "tags": [],
    "cell_id": "00037-caeecb6a-bed6-4727-963e-84ff226c61ae",
    "deepnote_cell_type": "markdown"
   }
  },
  {
   "cell_type": "code",
   "metadata": {
    "tags": [],
    "cell_id": "00053-efe60f91-5f41-4c29-83eb-80d4d97bd427",
    "deepnote_to_be_reexecuted": false,
    "source_hash": "ce681c2c",
    "execution_start": 1634389125092,
    "execution_millis": 87,
    "deepnote_cell_type": "code"
   },
   "source": "processed_train_set = pd.DataFrame(np.concatenate((X, y.reshape(-1,1)), axis=1), columns=list(index_features_map.values())+[TARGET])\nprocessed_train_set",
   "outputs": [
    {
     "output_type": "execute_result",
     "execution_count": 31,
     "data": {
      "application/vnd.deepnote.dataframe.v2+json": {
       "row_count": 46341,
       "column_count": 23,
       "columns": [
        {
         "name": "volume [A^3]",
         "dtype": "float64",
         "stats": {
          "unique_count": 46336,
          "nan_count": 0,
          "min": "-0.9214086382378757",
          "max": "18.795496191621762",
          "histogram": [
           {
            "bin_start": -0.9214086382378757,
            "bin_end": 1.050281844748088,
            "count": 43049
           },
           {
            "bin_start": 1.050281844748088,
            "bin_end": 3.0219723277340513,
            "count": 2323
           },
           {
            "bin_start": 3.0219723277340513,
            "bin_end": 4.993662810720015,
            "count": 656
           },
           {
            "bin_start": 4.993662810720015,
            "bin_end": 6.965353293705979,
            "count": 195
           },
           {
            "bin_start": 6.965353293705979,
            "bin_end": 8.937043776691942,
            "count": 77
           },
           {
            "bin_start": 8.937043776691942,
            "bin_end": 10.908734259677905,
            "count": 25
           },
           {
            "bin_start": 10.908734259677905,
            "bin_end": 12.88042474266387,
            "count": 4
           },
           {
            "bin_start": 12.88042474266387,
            "bin_end": 14.852115225649833,
            "count": 5
           },
           {
            "bin_start": 14.852115225649833,
            "bin_end": 16.8238057086358,
            "count": 4
           },
           {
            "bin_start": 16.8238057086358,
            "bin_end": 18.795496191621762,
            "count": 3
           }
          ]
         }
        },
        {
         "name": "weight [u]",
         "dtype": "float64",
         "stats": {
          "unique_count": 37493,
          "nan_count": 0,
          "min": "-0.9645976108136777",
          "max": "17.711842652694564",
          "histogram": [
           {
            "bin_start": -0.9645976108136777,
            "bin_end": 0.9030464155371464,
            "count": 40924
           },
           {
            "bin_start": 0.9030464155371464,
            "bin_end": 2.7706904418879703,
            "count": 4228
           },
           {
            "bin_start": 2.7706904418879703,
            "bin_end": 4.638334468238795,
            "count": 844
           },
           {
            "bin_start": 4.638334468238795,
            "bin_end": 6.505978494589619,
            "count": 261
           },
           {
            "bin_start": 6.505978494589619,
            "bin_end": 8.373622520940442,
            "count": 53
           },
           {
            "bin_start": 8.373622520940442,
            "bin_end": 10.241266547291266,
            "count": 21
           },
           {
            "bin_start": 10.241266547291266,
            "bin_end": 12.10891057364209,
            "count": 5
           },
           {
            "bin_start": 12.10891057364209,
            "bin_end": 13.976554599992914,
            "count": 3
           },
           {
            "bin_start": 13.976554599992914,
            "bin_end": 15.844198626343738,
            "count": 0
           },
           {
            "bin_start": 15.844198626343738,
            "bin_end": 17.711842652694564,
            "count": 2
           }
          ]
         }
        },
        {
         "name": "surface_area [m^2/g]",
         "dtype": "float64"
        },
        {
         "name": "void_fraction",
         "dtype": "float64"
        },
        {
         "name": "void_volume [cm^3/g]",
         "dtype": "float64"
        },
        {
         "name": "metal_linker",
         "dtype": "float64"
        },
        {
         "name": "organic_linker1",
         "dtype": "float64"
        },
        {
         "name": "organic_linker2",
         "dtype": "float64"
        },
        {
         "name": "CO2/N2_selectivity",
         "dtype": "float64"
        },
        {
         "name": "heat_adsorption_CO2_P0.15bar_T298K [kcal/mol]",
         "dtype": "float64"
        },
        {
         "name": "density [g/cm^3]",
         "dtype": "float64"
        },
        {
         "name": "acs",
         "dtype": "float64"
        },
        {
         "name": "bcu",
         "dtype": "float64"
        },
        {
         "name": "etb",
         "dtype": "float64"
        },
        {
         "name": "fof",
         "dtype": "float64"
        },
        {
         "name": "nbo",
         "dtype": "float64"
        },
        {
         "name": "pcu",
         "dtype": "float64"
        },
        {
         "name": "pts",
         "dtype": "float64"
        },
        {
         "name": "rht",
         "dtype": "float64"
        },
        {
         "name": "sra",
         "dtype": "float64"
        },
        {
         "name": "tbo",
         "dtype": "float64"
        },
        {
         "name": "the",
         "dtype": "float64"
        },
        {
         "name": "CO2_working_capacity [mL/g]",
         "dtype": "float64"
        },
        {
         "name": "_deepnote_index_column",
         "dtype": "int64"
        }
       ],
       "rows_top": [
        {
         "volume [A^3]": -0.041605655738450556,
         "weight [u]": 0.5813231481051438,
         "surface_area [m^2/g]": -1.4972845758650253,
         "void_fraction": -1.3713812119614917,
         "void_volume [cm^3/g]": -1.1906702851673525,
         "metal_linker": 1.8641599763357681,
         "organic_linker1": 2.966227577429268,
         "organic_linker2": 3.5637621435092997,
         "CO2/N2_selectivity": 0.7552777787014187,
         "heat_adsorption_CO2_P0.15bar_T298K [kcal/mol]": 1.5684351616144125,
         "density [g/cm^3]": 1.6600758103856654,
         "acs": -0.28035814407458926,
         "bcu": -0.22669034111345737,
         "etb": 4.550317177611889,
         "fof": -0.12303215547766928,
         "nbo": -0.14736716946167144,
         "pcu": -1.4302951902496808,
         "pts": -0.048778641263161254,
         "rht": -0.006569641469791943,
         "sra": -0.37097332823438006,
         "tbo": -0.019712327854376526,
         "the": -0.02369331562329046,
         "CO2_working_capacity [mL/g]": 101.22477417834172,
         "_deepnote_index_column": 0
        },
        {
         "volume [A^3]": -0.7248425026753385,
         "weight [u]": -0.6729243671093622,
         "surface_area [m^2/g]": -1.268759894070443,
         "void_fraction": -1.2613833292092622,
         "void_volume [cm^3/g]": -1.0703892918757272,
         "metal_linker": -0.6862273248263476,
         "organic_linker1": 0.9282050117112106,
         "organic_linker2": 0.32067143026656425,
         "CO2/N2_selectivity": -0.2544733983336086,
         "heat_adsorption_CO2_P0.15bar_T298K [kcal/mol]": 0.6111577075113148,
         "density [g/cm^3]": 1.0131198540465667,
         "acs": -0.28035814407458926,
         "bcu": -0.22669034111345737,
         "etb": -0.21976490010861385,
         "fof": -0.12303215547766928,
         "nbo": -0.14736716946167144,
         "pcu": 0.699156374723668,
         "pts": -0.048778641263161254,
         "rht": -0.006569641469791943,
         "sra": -0.37097332823438006,
         "tbo": -0.019712327854376526,
         "the": -0.02369331562329046,
         "CO2_working_capacity [mL/g]": 118.98701074687752,
         "_deepnote_index_column": 1
        },
        {
         "volume [A^3]": -0.2711453089319565,
         "weight [u]": -0.20982326329646783,
         "surface_area [m^2/g]": -0.4616125472571161,
         "void_fraction": -0.5545450826347526,
         "void_volume [cm^3/g]": -0.5513388793830375,
         "metal_linker": 1.5453615636905038,
         "organic_linker1": 0.4650180649571067,
         "organic_linker2": 0.32067143026656425,
         "CO2/N2_selectivity": 0.1984215477162514,
         "heat_adsorption_CO2_P0.15bar_T298K [kcal/mol]": 0.42207565265123387,
         "density [g/cm^3]": 0.14991136835858196,
         "acs": -0.28035814407458926,
         "bcu": -0.22669034111345737,
         "etb": -0.21976490010861385,
         "fof": -0.12303215547766928,
         "nbo": -0.14736716946167144,
         "pcu": -1.4302951902496808,
         "pts": -0.048778641263161254,
         "rht": -0.006569641469791943,
         "sra": 2.6956115814533486,
         "tbo": -0.019712327854376526,
         "the": -0.02369331562329046,
         "CO2_working_capacity [mL/g]": 187.62600449626183,
         "_deepnote_index_column": 2
        },
        {
         "volume [A^3]": 0.44047410223346506,
         "weight [u]": -0.0018977853994065006,
         "surface_area [m^2/g]": 0.7608196058527207,
         "void_fraction": 1.001721258526415,
         "void_volume [cm^3/g]": 1.3476921183068133,
         "metal_linker": 1.5453615636905038,
         "organic_linker1": -0.46135582855110124,
         "organic_linker2": 0.22239595410769347,
         "CO2/N2_selectivity": -0.4034193729817631,
         "heat_adsorption_CO2_P0.15bar_T298K [kcal/mol]": -0.5261741698691912,
         "density [g/cm^3]": -1.319903571261056,
         "acs": -0.28035814407458926,
         "bcu": -0.22669034111345737,
         "etb": -0.21976490010861385,
         "fof": -0.12303215547766928,
         "nbo": -0.14736716946167144,
         "pcu": -1.4302951902496808,
         "pts": -0.048778641263161254,
         "rht": -0.006569641469791943,
         "sra": 2.6956115814533486,
         "tbo": -0.019712327854376526,
         "the": -0.02369331562329046,
         "CO2_working_capacity [mL/g]": 55.7869591021412,
         "_deepnote_index_column": 3
        },
        {
         "volume [A^3]": 0.28234637684462066,
         "weight [u]": 0.357210659138136,
         "surface_area [m^2/g]": -0.35223860008851543,
         "void_fraction": 0.6190712163966707,
         "void_volume [cm^3/g]": 0.2299457707364391,
         "metal_linker": 1.8641599763357681,
         "organic_linker1": 3.7999640815866553,
         "organic_linker2": 3.367211191191558,
         "CO2/N2_selectivity": -0.31778464405508067,
         "heat_adsorption_CO2_P0.15bar_T298K [kcal/mol]": 0.5583308530258246,
         "density [g/cm^3]": -0.16707573412994894,
         "acs": -0.28035814407458926,
         "bcu": -0.22669034111345737,
         "etb": 4.550317177611889,
         "fof": -0.12303215547766928,
         "nbo": -0.14736716946167144,
         "pcu": -1.4302951902496808,
         "pts": -0.048778641263161254,
         "rht": -0.006569641469791943,
         "sra": -0.37097332823438006,
         "tbo": -0.019712327854376526,
         "the": -0.02369331562329046,
         "CO2_working_capacity [mL/g]": 111.69046224719489,
         "_deepnote_index_column": 4
        },
        {
         "volume [A^3]": -0.795527989965465,
         "weight [u]": -0.7903033861866973,
         "surface_area [m^2/g]": -0.15996590010492956,
         "void_fraction": 0.12214559607433156,
         "void_volume [cm^3/g]": -0.42347259822617445,
         "metal_linker": -0.6862273248263476,
         "organic_linker1": -0.6466306072527429,
         "organic_linker2": -0.760358807481014,
         "CO2/N2_selectivity": -0.7173068266543251,
         "heat_adsorption_CO2_P0.15bar_T298K [kcal/mol]": -0.7220706614108061,
         "density [g/cm^3]": 0.9238326314823874,
         "acs": -0.28035814407458926,
         "bcu": -0.22669034111345737,
         "etb": -0.21976490010861385,
         "fof": -0.12303215547766928,
         "nbo": -0.14736716946167144,
         "pcu": 0.699156374723668,
         "pts": -0.048778641263161254,
         "rht": -0.006569641469791943,
         "sra": -0.37097332823438006,
         "tbo": -0.019712327854376526,
         "the": -0.02369331562329046,
         "CO2_working_capacity [mL/g]": 58.989774287110805,
         "_deepnote_index_column": 5
        },
        {
         "volume [A^3]": -0.2615114750002396,
         "weight [u]": -0.1068560485616513,
         "surface_area [m^2/g]": -0.44123085001663437,
         "void_fraction": -0.3036888000248086,
         "void_volume [cm^3/g]": -0.5128706337807609,
         "metal_linker": -0.048630499535818716,
         "organic_linker1": 0.1871058969046443,
         "organic_linker2": -0.17070595052778953,
         "CO2/N2_selectivity": 0.9961344232033961,
         "heat_adsorption_CO2_P0.15bar_T298K [kcal/mol]": 0.5524709165262213,
         "density [g/cm^3]": 0.4905036945762835,
         "acs": 3.5668662428251854,
         "bcu": -0.22669034111345737,
         "etb": -0.21976490010861385,
         "fof": -0.12303215547766928,
         "nbo": -0.14736716946167144,
         "pcu": -1.4302951902496808,
         "pts": -0.048778641263161254,
         "rht": -0.006569641469791943,
         "sra": -0.37097332823438006,
         "tbo": -0.019712327854376526,
         "the": -0.02369331562329046,
         "CO2_working_capacity [mL/g]": 135.58710841724886,
         "_deepnote_index_column": 6
        },
        {
         "volume [A^3]": 0.5709486671901715,
         "weight [u]": 0.05319831940324248,
         "surface_area [m^2/g]": 1.80593470098078,
         "void_fraction": 1.3999543340460598,
         "void_volume [cm^3/g]": 1.8071438404297786,
         "metal_linker": -0.3674289121810832,
         "organic_linker1": 0.09446850755382351,
         "organic_linker2": 0.812048811060918,
         "CO2/N2_selectivity": -0.8358837451956393,
         "heat_adsorption_CO2_P0.15bar_T298K [kcal/mol]": -0.35728272801683847,
         "density [g/cm^3]": -1.4256909682279217,
         "acs": -0.28035814407458926,
         "bcu": -0.22669034111345737,
         "etb": -0.21976490010861385,
         "fof": -0.12303215547766928,
         "nbo": -0.14736716946167144,
         "pcu": 0.699156374723668,
         "pts": -0.048778641263161254,
         "rht": -0.006569641469791943,
         "sra": -0.37097332823438006,
         "tbo": -0.019712327854376526,
         "the": -0.02369331562329046,
         "CO2_working_capacity [mL/g]": 59.73905673864041,
         "_deepnote_index_column": 7
        },
        {
         "volume [A^3]": -0.5140908826178011,
         "weight [u]": -0.37925164941916734,
         "surface_area [m^2/g]": -0.8857718584770132,
         "void_fraction": -0.862844704015306,
         "void_volume [cm^3/g]": -0.8666701320664878,
         "metal_linker": 1.5453615636905038,
         "organic_linker1": -1.0171801646560261,
         "organic_linker2": 0.32067143026656425,
         "CO2/N2_selectivity": 0.09695067974015364,
         "heat_adsorption_CO2_P0.15bar_T298K [kcal/mol]": 0.10633489673626827,
         "density [g/cm^3]": 0.871884363251746,
         "acs": -0.28035814407458926,
         "bcu": -0.22669034111345737,
         "etb": -0.21976490010861385,
         "fof": -0.12303215547766928,
         "nbo": -0.14736716946167144,
         "pcu": -1.4302951902496808,
         "pts": -0.048778641263161254,
         "rht": -0.006569641469791943,
         "sra": 2.6956115814533486,
         "tbo": -0.019712327854376526,
         "the": -0.02369331562329046,
         "CO2_working_capacity [mL/g]": 161.06749898914796,
         "_deepnote_index_column": 8
        },
        {
         "volume [A^3]": -0.4966227550170014,
         "weight [u]": -0.6528620134523204,
         "surface_area [m^2/g]": 0.373283077485187,
         "void_fraction": 0.32044733470265463,
         "void_volume [cm^3/g]": 0.3014641991801082,
         "metal_linker": -0.6862273248263476,
         "organic_linker1": -0.7392679966035637,
         "organic_linker2": -1.4482871405931095,
         "CO2/N2_selectivity": -0.6953617809627893,
         "heat_adsorption_CO2_P0.15bar_T298K [kcal/mol]": -1.079052531836367,
         "density [g/cm^3]": -0.6456640699585252,
         "acs": -0.28035814407458926,
         "bcu": -0.22669034111345737,
         "etb": -0.21976490010861385,
         "fof": -0.12303215547766928,
         "nbo": -0.14736716946167144,
         "pcu": 0.699156374723668,
         "pts": -0.048778641263161254,
         "rht": -0.006569641469791943,
         "sra": -0.37097332823438006,
         "tbo": -0.019712327854376526,
         "the": -0.02369331562329046,
         "CO2_working_capacity [mL/g]": 79.91916950624072,
         "_deepnote_index_column": 9
        },
        {
         "volume [A^3]": -0.4481792594893194,
         "weight [u]": -0.5231522567426096,
         "surface_area [m^2/g]": 0.068113820440012,
         "void_fraction": 0.04545262782208306,
         "void_volume [cm^3/g]": -0.06154600579912154,
         "metal_linker": -0.3674289121810832,
         "organic_linker1": -0.7392679966035637,
         "organic_linker2": 0.5172223825843058,
         "CO2/N2_selectivity": -0.41290816276881376,
         "heat_adsorption_CO2_P0.15bar_T298K [kcal/mol]": -0.836004689400437,
         "density [g/cm^3]": -0.26953454742256655,
         "acs": -0.28035814407458926,
         "bcu": -0.22669034111345737,
         "etb": -0.21976490010861385,
         "fof": -0.12303215547766928,
         "nbo": -0.14736716946167144,
         "pcu": 0.699156374723668,
         "pts": -0.048778641263161254,
         "rht": -0.006569641469791943,
         "sra": -0.37097332823438006,
         "tbo": -0.019712327854376526,
         "the": -0.02369331562329046,
         "CO2_working_capacity [mL/g]": 62.32762208837283,
         "_deepnote_index_column": 10
        },
        {
         "volume [A^3]": 0.573852826188076,
         "weight [u]": 0.8137408740126948,
         "surface_area [m^2/g]": -0.6433668577005868,
         "void_fraction": 0.13732122989848047,
         "void_volume [cm^3/g]": -0.14119152838411667,
         "metal_linker": 1.8641599763357681,
         "organic_linker1": 3.7073266922358346,
         "organic_linker2": 3.268935715032687,
         "CO2/N2_selectivity": -0.252656223883664,
         "heat_adsorption_CO2_P0.15bar_T298K [kcal/mol]": 0.035322238909990145,
         "density [g/cm^3]": 0.05538467347766548,
         "acs": -0.28035814407458926,
         "bcu": -0.22669034111345737,
         "etb": 4.550317177611889,
         "fof": -0.12303215547766928,
         "nbo": -0.14736716946167144,
         "pcu": -1.4302951902496808,
         "pts": -0.048778641263161254,
         "rht": -0.006569641469791943,
         "sra": -0.37097332823438006,
         "tbo": -0.019712327854376526,
         "the": -0.02369331562329046,
         "CO2_working_capacity [mL/g]": 54.93615457357025,
         "_deepnote_index_column": 11
        },
        {
         "volume [A^3]": 2.021094172202591,
         "weight [u]": 2.6888387407280945,
         "surface_area [m^2/g]": -0.185872532861782,
         "void_fraction": -0.03806428315646232,
         "void_volume [cm^3/g]": -0.26797419698880365,
         "metal_linker": -0.6862273248263476,
         "organic_linker1": 2.4104032413243432,
         "organic_linker2": 1.9913545249673672,
         "CO2/N2_selectivity": -0.49150076760545075,
         "heat_adsorption_CO2_P0.15bar_T298K [kcal/mol]": -0.5350377280203394,
         "density [g/cm^3]": 0.14004543429881144,
         "acs": -0.28035814407458926,
         "bcu": -0.22669034111345737,
         "etb": -0.21976490010861385,
         "fof": 8.127956436404634,
         "nbo": -0.14736716946167144,
         "pcu": -1.4302951902496808,
         "pts": -0.048778641263161254,
         "rht": -0.006569641469791943,
         "sra": -0.37097332823438006,
         "tbo": -0.019712327854376526,
         "the": -0.02369331562329046,
         "CO2_working_capacity [mL/g]": 98.10944956383052,
         "_deepnote_index_column": 12
        },
        {
         "volume [A^3]": -0.251725464240341,
         "weight [u]": 0.033314954786195165,
         "surface_area [m^2/g]": -1.191460236980102,
         "void_fraction": -1.2320505604753347,
         "void_volume [cm^3/g]": -1.0503424596604567,
         "metal_linker": -0.6862273248263476,
         "organic_linker1": 0.1871058969046443,
         "organic_linker2": -0.6620833313221434,
         "CO2/N2_selectivity": 0.8766628655702513,
         "heat_adsorption_CO2_P0.15bar_T298K [kcal/mol]": 1.9765863855821852,
         "density [g/cm^3]": 0.9612493402815696,
         "acs": -0.28035814407458926,
         "bcu": -0.22669034111345737,
         "etb": -0.21976490010861385,
         "fof": -0.12303215547766928,
         "nbo": -0.14736716946167144,
         "pcu": 0.699156374723668,
         "pts": -0.048778641263161254,
         "rht": -0.006569641469791943,
         "sra": -0.37097332823438006,
         "tbo": -0.019712327854376526,
         "the": -0.02369331562329046,
         "CO2_working_capacity [mL/g]": 324.0160452431515,
         "_deepnote_index_column": 13
        },
        {
         "volume [A^3]": -0.21853827344559426,
         "weight [u]": -0.5297353679739646,
         "surface_area [m^2/g]": 1.1841013546080488,
         "void_fraction": 1.4439534871469526,
         "void_volume [cm^3/g]": 1.6110099684857764,
         "metal_linker": -0.6862273248263476,
         "organic_linker1": -0.36871843920028047,
         "organic_linker2": -1.0551852359576264,
         "CO2/N2_selectivity": -0.7696231241061718,
         "heat_adsorption_CO2_P0.15bar_T298K [kcal/mol]": -0.34728143439162107,
         "density [g/cm^3]": -1.2356083274287517,
         "acs": -0.28035814407458926,
         "bcu": -0.22669034111345737,
         "etb": -0.21976490010861385,
         "fof": -0.12303215547766928,
         "nbo": -0.14736716946167144,
         "pcu": 0.699156374723668,
         "pts": -0.048778641263161254,
         "rht": -0.006569641469791943,
         "sra": -0.37097332823438006,
         "tbo": -0.019712327854376526,
         "the": -0.02369331562329046,
         "CO2_working_capacity [mL/g]": 60.05088633787799,
         "_deepnote_index_column": 14
        },
        {
         "volume [A^3]": -0.5232946371690014,
         "weight [u]": -0.5918251223962184,
         "surface_area [m^2/g]": 0.013185826178823225,
         "void_fraction": 0.45081519574233514,
         "void_volume [cm^3/g]": 0.1367550912492333,
         "metal_linker": -0.3674289121810832,
         "organic_linker1": 0.1871058969046443,
         "organic_linker2": -0.36725690284553103,
         "CO2/N2_selectivity": -0.5853832215111401,
         "heat_adsorption_CO2_P0.15bar_T298K [kcal/mol]": -0.14870467759635647,
         "density [g/cm^3]": -0.1779344290639775,
         "acs": -0.28035814407458926,
         "bcu": -0.22669034111345737,
         "etb": -0.21976490010861385,
         "fof": -0.12303215547766928,
         "nbo": -0.14736716946167144,
         "pcu": 0.699156374723668,
         "pts": -0.048778641263161254,
         "rht": -0.006569641469791943,
         "sra": -0.37097332823438006,
         "tbo": -0.019712327854376526,
         "the": -0.02369331562329046,
         "CO2_working_capacity [mL/g]": 104.97861488065128,
         "_deepnote_index_column": 15
        },
        {
         "volume [A^3]": 0.2188207837959283,
         "weight [u]": 0.2333495631373396,
         "surface_area [m^2/g]": 0.13339952379005726,
         "void_fraction": -0.054869515243608856,
         "void_volume [cm^3/g]": -0.11410121457969652,
         "metal_linker": 1.5453615636905038,
         "organic_linker1": -0.46135582855110124,
         "organic_linker2": -0.4655323790044018,
         "CO2/N2_selectivity": 1.2425328274179341,
         "heat_adsorption_CO2_P0.15bar_T298K [kcal/mol]": 0.7040448268469446,
         "density [g/cm^3]": -0.2877622760069614,
         "acs": -0.28035814407458926,
         "bcu": -0.22669034111345737,
         "etb": -0.21976490010861385,
         "fof": -0.12303215547766928,
         "nbo": -0.14736716946167144,
         "pcu": -1.4302951902496808,
         "pts": -0.048778641263161254,
         "rht": -0.006569641469791943,
         "sra": 2.6956115814533486,
         "tbo": -0.019712327854376526,
         "the": -0.02369331562329046,
         "CO2_working_capacity [mL/g]": 230.69959325150907,
         "_deepnote_index_column": 16
        },
        {
         "volume [A^3]": 0.607862172518369,
         "weight [u]": 0.3421647608731087,
         "surface_area [m^2/g]": 0.41255090776596953,
         "void_fraction": -0.08573003234909515,
         "void_volume [cm^3/g]": 0.1882266874776313,
         "metal_linker": 1.5453615636905038,
         "organic_linker1": 0.5576554543079275,
         "organic_linker2": 0.6154978587431765,
         "CO2/N2_selectivity": 2.354086458313709,
         "heat_adsorption_CO2_P0.15bar_T298K [kcal/mol]": 1.2213048827780075,
         "density [g/cm^3]": -0.9290065722702865,
         "acs": -0.28035814407458926,
         "bcu": -0.22669034111345737,
         "etb": -0.21976490010861385,
         "fof": -0.12303215547766928,
         "nbo": -0.14736716946167144,
         "pcu": -1.4302951902496808,
         "pts": -0.048778641263161254,
         "rht": -0.006569641469791943,
         "sra": 2.6956115814533486,
         "tbo": -0.019712327854376526,
         "the": -0.02369331562329046,
         "CO2_working_capacity [mL/g]": 252.38041691729305,
         "_deepnote_index_column": 17
        },
        {
         "volume [A^3]": -0.39271314715905353,
         "weight [u]": -0.44589677011111434,
         "surface_area [m^2/g]": -0.36085354428294586,
         "void_fraction": -0.3821132164314915,
         "void_volume [cm^3/g]": -0.34003443170856046,
         "metal_linker": -0.6862273248263476,
         "organic_linker1": 0.3723806756062859,
         "organic_linker2": -0.2689814266866603,
         "CO2/N2_selectivity": 0.0023000024937097773,
         "heat_adsorption_CO2_P0.15bar_T298K [kcal/mol]": 1.236410417024787,
         "density [g/cm^3]": -0.20928841336777587,
         "acs": -0.28035814407458926,
         "bcu": -0.22669034111345737,
         "etb": -0.21976490010861385,
         "fof": -0.12303215547766928,
         "nbo": -0.14736716946167144,
         "pcu": 0.699156374723668,
         "pts": -0.048778641263161254,
         "rht": -0.006569641469791943,
         "sra": -0.37097332823438006,
         "tbo": -0.019712327854376526,
         "the": -0.02369331562329046,
         "CO2_working_capacity [mL/g]": 262.6415751431312,
         "_deepnote_index_column": 18
        },
        {
         "volume [A^3]": -0.4344933493342503,
         "weight [u]": -0.4984651027132259,
         "surface_area [m^2/g]": 0.17583152295717278,
         "void_fraction": 0.04881367423951225,
         "void_volume [cm^3/g]": -0.07780019408177363,
         "metal_linker": -0.6862273248263476,
         "organic_linker1": -0.9245427753052052,
         "organic_linker2": -1.0551852359576264,
         "CO2/N2_selectivity": 0.00964336728519351,
         "heat_adsorption_CO2_P0.15bar_T298K [kcal/mol]": 0.21991802315337028,
         "density [g/cm^3]": -0.22773338965623652,
         "acs": -0.28035814407458926,
         "bcu": -0.22669034111345737,
         "etb": -0.21976490010861385,
         "fof": -0.12303215547766928,
         "nbo": -0.14736716946167144,
         "pcu": 0.699156374723668,
         "pts": -0.048778641263161254,
         "rht": -0.006569641469791943,
         "sra": -0.37097332823438006,
         "tbo": -0.019712327854376526,
         "the": -0.02369331562329046,
         "CO2_working_capacity [mL/g]": 136.52804474104676,
         "_deepnote_index_column": 19
        },
        {
         "volume [A^3]": -0.038503076037979776,
         "weight [u]": -0.05650046298396646,
         "surface_area [m^2/g]": -0.8398296094516218,
         "void_fraction": -1.0900718118118102,
         "void_volume [cm^3/g]": -0.7409710760139784,
         "metal_linker": -0.6862273248263476,
         "organic_linker1": 0.001831118203002708,
         "organic_linker2": 0.812048811060918,
         "CO2/N2_selectivity": 0.23275744402448967,
         "heat_adsorption_CO2_P0.15bar_T298K [kcal/mol]": 1.5754112764948924,
         "density [g/cm^3]": -0.2772468392189458,
         "acs": -0.28035814407458926,
         "bcu": -0.22669034111345737,
         "etb": -0.21976490010861385,
         "fof": -0.12303215547766928,
         "nbo": -0.14736716946167144,
         "pcu": 0.699156374723668,
         "pts": -0.048778641263161254,
         "rht": -0.006569641469791943,
         "sra": -0.37097332823438006,
         "tbo": -0.019712327854376526,
         "the": -0.02369331562329046,
         "CO2_working_capacity [mL/g]": 346.0309838421578,
         "_deepnote_index_column": 20
        }
       ],
       "rows_bottom": [
        {
         "volume [A^3]": 5.5105447991903995,
         "weight [u]": 5.5644855381324945,
         "surface_area [m^2/g]": 0.8754218477045981,
         "void_fraction": 2.6152272386753195,
         "void_volume [cm^3/g]": 1.824481641264607,
         "metal_linker": -1.005025737471612,
         "organic_linker1": 0.4650180649571067,
         "organic_linker2": -0.17070595052778953,
         "CO2/N2_selectivity": -1.1279213179759155,
         "heat_adsorption_CO2_P0.15bar_T298K [kcal/mol]": -2.4238822097451345,
         "density [g/cm^3]": -0.6450558849040762,
         "acs": -0.28035814407458926,
         "bcu": -0.22669034111345737,
         "etb": -0.21976490010861385,
         "fof": -0.12303215547766928,
         "nbo": -0.14736716946167144,
         "pcu": 0.699156374723668,
         "pts": -0.048778641263161254,
         "rht": -0.006569641469791943,
         "sra": -0.37097332823438006,
         "tbo": -0.019712327854376526,
         "the": -0.02369331562329046,
         "CO2_working_capacity [mL/g]": 4.135497681365784,
         "_deepnote_index_column": 46319
        },
        {
         "volume [A^3]": 0.13519105492058917,
         "weight [u]": -0.3141738570412578,
         "surface_area [m^2/g]": 2.0236319923674406,
         "void_fraction": 3.167151800373773,
         "void_volume [cm^3/g]": 3.39409442309271,
         "metal_linker": -0.6862273248263476,
         "organic_linker1": -0.46135582855110124,
         "organic_linker2": -0.9569097597987556,
         "CO2/N2_selectivity": -1.2454030321842826,
         "heat_adsorption_CO2_P0.15bar_T298K [kcal/mol]": -2.946228542053432,
         "density [g/cm^3]": -1.468361173768477,
         "acs": -0.28035814407458926,
         "bcu": -0.22669034111345737,
         "etb": -0.21976490010861385,
         "fof": -0.12303215547766928,
         "nbo": -0.14736716946167144,
         "pcu": 0.699156374723668,
         "pts": -0.048778641263161254,
         "rht": -0.006569641469791943,
         "sra": -0.37097332823438006,
         "tbo": -0.019712327854376526,
         "the": -0.02369331562329046,
         "CO2_working_capacity [mL/g]": -1.3143394754524338,
         "_deepnote_index_column": 46320
        },
        {
         "volume [A^3]": 0.6875398840330962,
         "weight [u]": 0.07271878579793851,
         "surface_area [m^2/g]": 1.8191104979840262,
         "void_fraction": 3.3859253671809837,
         "void_volume [cm^3/g]": 3.776067847735033,
         "metal_linker": -0.3674289121810832,
         "organic_linker1": -0.36871843920028047,
         "organic_linker2": 0.5172223825843058,
         "CO2/N2_selectivity": -1.3271245063214583,
         "heat_adsorption_CO2_P0.15bar_T298K [kcal/mol]": -2.8665595136939155,
         "density [g/cm^3]": -1.5621217042813662,
         "acs": -0.28035814407458926,
         "bcu": -0.22669034111345737,
         "etb": -0.21976490010861385,
         "fof": -0.12303215547766928,
         "nbo": -0.14736716946167144,
         "pcu": 0.699156374723668,
         "pts": -0.048778641263161254,
         "rht": -0.006569641469791943,
         "sra": -0.37097332823438006,
         "tbo": -0.019712327854376526,
         "the": -0.02369331562329046,
         "CO2_working_capacity [mL/g]": 2.964609726155521,
         "_deepnote_index_column": 46321
        },
        {
         "volume [A^3]": -0.5557725386886989,
         "weight [u]": -0.6058143579438922,
         "surface_area [m^2/g]": 0.5411941490509503,
         "void_fraction": 1.9669526796772276,
         "void_volume [cm^3/g]": 0.9353775422035391,
         "metal_linker": -0.3674289121810832,
         "organic_linker1": -1.0171801646560261,
         "organic_linker2": -0.07243047436891878,
         "CO2/N2_selectivity": -1.1502600130285683,
         "heat_adsorption_CO2_P0.15bar_T298K [kcal/mol]": -1.7327103044803502,
         "density [g/cm^3]": -0.04411132218048852,
         "acs": -0.28035814407458926,
         "bcu": -0.22669034111345737,
         "etb": -0.21976490010861385,
         "fof": -0.12303215547766928,
         "nbo": -0.14736716946167144,
         "pcu": 0.699156374723668,
         "pts": -0.048778641263161254,
         "rht": -0.006569641469791943,
         "sra": -0.37097332823438006,
         "tbo": -0.019712327854376526,
         "the": -0.02369331562329046,
         "CO2_working_capacity [mL/g]": 7.298694494807054,
         "_deepnote_index_column": 46322
        },
        {
         "volume [A^3]": 1.8858142196226557,
         "weight [u]": 1.607625446251549,
         "surface_area [m^2/g]": 0.8153644390378298,
         "void_fraction": 2.5022757090714096,
         "void_volume [cm^3/g]": 1.9929833931281002,
         "metal_linker": -0.3674289121810832,
         "organic_linker1": 0.1871058969046443,
         "organic_linker2": 0.22239595410769347,
         "CO2/N2_selectivity": -1.0158271764764062,
         "heat_adsorption_CO2_P0.15bar_T298K [kcal/mol]": -1.7026357642436776,
         "density [g/cm^3]": -0.8738959658591969,
         "acs": -0.28035814407458926,
         "bcu": -0.22669034111345737,
         "etb": -0.21976490010861385,
         "fof": -0.12303215547766928,
         "nbo": 6.785771916856417,
         "pcu": -1.4302951902496808,
         "pts": -0.048778641263161254,
         "rht": -0.006569641469791943,
         "sra": -0.37097332823438006,
         "tbo": -0.019712327854376526,
         "the": -0.02369331562329046,
         "CO2_working_capacity [mL/g]": 12.836517451727795,
         "_deepnote_index_column": 46323
        },
        {
         "volume [A^3]": 0.5719385831216907,
         "weight [u]": 0.1130549083410975,
         "surface_area [m^2/g]": 1.5607734124635246,
         "void_fraction": 3.3804254730433714,
         "void_volume [cm^3/g]": 3.283565942770675,
         "metal_linker": -0.6862273248263476,
         "organic_linker1": -0.36871843920028047,
         "organic_linker2": 0.22239595410769347,
         "CO2/N2_selectivity": -1.231590724093475,
         "heat_adsorption_CO2_P0.15bar_T298K [kcal/mol]": -1.7194574826318711,
         "density [g/cm^3]": -1.3101977708563173,
         "acs": -0.28035814407458926,
         "bcu": -0.22669034111345737,
         "etb": -0.21976490010861385,
         "fof": -0.12303215547766928,
         "nbo": -0.14736716946167144,
         "pcu": 0.699156374723668,
         "pts": -0.048778641263161254,
         "rht": -0.006569641469791943,
         "sra": -0.37097332823438006,
         "tbo": -0.019712327854376526,
         "the": -0.02369331562329046,
         "CO2_working_capacity [mL/g]": 2.513455520376634,
         "_deepnote_index_column": 46324
        },
        {
         "volume [A^3]": -0.07691277268160499,
         "weight [u]": -0.07559186610056429,
         "surface_area [m^2/g]": 0.562255648200605,
         "void_fraction": 1.875695176949451,
         "void_volume [cm^3/g]": 0.9868491384319374,
         "metal_linker": -0.3674289121810832,
         "organic_linker1": -0.9245427753052052,
         "organic_linker2": -0.4655323790044018,
         "CO2/N2_selectivity": -1.2010942259557502,
         "heat_adsorption_CO2_P0.15bar_T298K [kcal/mol]": -2.2691034782363997,
         "density [g/cm^3]": -0.19987133056499448,
         "acs": -0.28035814407458926,
         "bcu": -0.22669034111345737,
         "etb": -0.21976490010861385,
         "fof": -0.12303215547766928,
         "nbo": -0.14736716946167144,
         "pcu": 0.699156374723668,
         "pts": -0.048778641263161254,
         "rht": -0.006569641469791943,
         "sra": -0.37097332823438006,
         "tbo": -0.019712327854376526,
         "the": -0.02369331562329046,
         "CO2_working_capacity [mL/g]": 2.9672509509240768,
         "_deepnote_index_column": 46325
        },
        {
         "volume [A^3]": 0.2226215903948551,
         "weight [u]": 0.5871256095407644,
         "surface_area [m^2/g]": 0.319467486348099,
         "void_fraction": 2.459600604559201,
         "void_volume [cm^3/g]": 0.8313507371945659,
         "metal_linker": -0.6862273248263476,
         "organic_linker1": -0.46135582855110124,
         "organic_linker2": -0.17070595052778953,
         "CO2/N2_selectivity": -1.0515954027886094,
         "heat_adsorption_CO2_P0.15bar_T298K [kcal/mol]": -2.1552329239100594,
         "density [g/cm^3]": 0.5672293694234871,
         "acs": -0.28035814407458926,
         "bcu": -0.22669034111345737,
         "etb": -0.21976490010861385,
         "fof": -0.12303215547766928,
         "nbo": -0.14736716946167144,
         "pcu": 0.699156374723668,
         "pts": -0.048778641263161254,
         "rht": -0.006569641469791943,
         "sra": -0.37097332823438006,
         "tbo": -0.019712327854376526,
         "the": -0.02369331562329046,
         "CO2_working_capacity [mL/g]": 7.054711356811757,
         "_deepnote_index_column": 46326
        },
        {
         "volume [A^3]": -0.3837974150626478,
         "weight [u]": 0.03066282535509592,
         "surface_area [m^2/g]": -1.72129784498964,
         "void_fraction": -1.873603026638568,
         "void_volume [cm^3/g]": -1.401432926565741,
         "metal_linker": 1.8641599763357681,
         "organic_linker1": 3.0588649667800887,
         "organic_linker2": 2.5810073819205916,
         "CO2/N2_selectivity": -0.9236692905340818,
         "heat_adsorption_CO2_P0.15bar_T298K [kcal/mol]": -0.1690569688030306,
         "density [g/cm^3]": 1.8132407312131382,
         "acs": -0.28035814407458926,
         "bcu": -0.22669034111345737,
         "etb": 4.550317177611889,
         "fof": -0.12303215547766928,
         "nbo": -0.14736716946167144,
         "pcu": -1.4302951902496808,
         "pts": -0.048778641263161254,
         "rht": -0.006569641469791943,
         "sra": -0.37097332823438006,
         "tbo": -0.019712327854376526,
         "the": -0.02369331562329046,
         "CO2_working_capacity [mL/g]": 11.886501917787983,
         "_deepnote_index_column": 46327
        },
        {
         "volume [A^3]": 0.4281445754709021,
         "weight [u]": 0.08829295087802773,
         "surface_area [m^2/g]": 1.0724037209135469,
         "void_fraction": 2.3821946870668933,
         "void_volume [cm^3/g]": 2.1847828148633948,
         "metal_linker": -0.3674289121810832,
         "organic_linker1": -0.36871843920028047,
         "organic_linker2": -0.2689814266866603,
         "CO2/N2_selectivity": -1.2508712606510415,
         "heat_adsorption_CO2_P0.15bar_T298K [kcal/mol]": -2.324708802511197,
         "density [g/cm^3]": -1.10565369541073,
         "acs": -0.28035814407458926,
         "bcu": -0.22669034111345737,
         "etb": -0.21976490010861385,
         "fof": -0.12303215547766928,
         "nbo": -0.14736716946167144,
         "pcu": 0.699156374723668,
         "pts": -0.048778641263161254,
         "rht": -0.006569641469791943,
         "sra": -0.37097332823438006,
         "tbo": -0.019712327854376526,
         "the": -0.02369331562329046,
         "CO2_working_capacity [mL/g]": 3.8944859212350926,
         "_deepnote_index_column": 46328
        },
        {
         "volume [A^3]": -0.24426176303448915,
         "weight [u]": 0.11505107315836774,
         "surface_area [m^2/g]": -1.2062428384959392,
         "void_fraction": -0.7490783752798995,
         "void_volume [cm^3/g]": -0.8747972262078137,
         "metal_linker": 1.8641599763357681,
         "organic_linker1": 2.7809527987276264,
         "organic_linker2": 3.0723847627149454,
         "CO2/N2_selectivity": -0.9262889683779038,
         "heat_adsorption_CO2_P0.15bar_T298K [kcal/mol]": -1.5209070733949528,
         "density [g/cm^3]": 1.2208698726409615,
         "acs": -0.28035814407458926,
         "bcu": -0.22669034111345737,
         "etb": 4.550317177611889,
         "fof": -0.12303215547766928,
         "nbo": -0.14736716946167144,
         "pcu": -1.4302951902496808,
         "pts": -0.048778641263161254,
         "rht": -0.006569641469791943,
         "sra": -0.37097332823438006,
         "tbo": -0.019712327854376526,
         "the": -0.02369331562329046,
         "CO2_working_capacity [mL/g]": 15.253733344600189,
         "_deepnote_index_column": 46329
        },
        {
         "volume [A^3]": 0.9244107831907835,
         "weight [u]": 0.8584752723876253,
         "surface_area [m^2/g]": 0.7107491052334413,
         "void_fraction": 1.9387402597491086,
         "void_volume [cm^3/g]": 1.317892773121951,
         "metal_linker": -0.6862273248263476,
         "organic_linker1": -0.7392679966035637,
         "organic_linker2": -0.6620833313221434,
         "CO2/N2_selectivity": -1.125182107026516,
         "heat_adsorption_CO2_P0.15bar_T298K [kcal/mol]": -2.227402479071023,
         "density [g/cm^3]": -0.5792084315487676,
         "acs": -0.28035814407458926,
         "bcu": -0.22669034111345737,
         "etb": -0.21976490010861385,
         "fof": -0.12303215547766928,
         "nbo": 6.785771916856417,
         "pcu": -1.4302951902496808,
         "pts": -0.048778641263161254,
         "rht": -0.006569641469791943,
         "sra": -0.37097332823438006,
         "tbo": -0.019712327854376526,
         "the": -0.02369331562329046,
         "CO2_working_capacity [mL/g]": 7.4820945396736445,
         "_deepnote_index_column": 46330
        },
        {
         "volume [A^3]": 0.01773507758599348,
         "weight [u]": 0.275267571196456,
         "surface_area [m^2/g]": -0.06399023056439557,
         "void_fraction": 1.2085783880354681,
         "void_volume [cm^3/g]": 0.24565815274300196,
         "metal_linker": -0.3674289121810832,
         "organic_linker1": -0.36871843920028047,
         "organic_linker2": -0.6620833313221434,
         "CO2/N2_selectivity": -1.0074538284609436,
         "heat_adsorption_CO2_P0.15bar_T298K [kcal/mol]": -1.8778578057970128,
         "density [g/cm^3]": 0.49028707082850337,
         "acs": -0.28035814407458926,
         "bcu": -0.22669034111345737,
         "etb": -0.21976490010861385,
         "fof": -0.12303215547766928,
         "nbo": -0.14736716946167144,
         "pcu": 0.699156374723668,
         "pts": -0.048778641263161254,
         "rht": -0.006569641469791943,
         "sra": -0.37097332823438006,
         "tbo": -0.019712327854376526,
         "the": -0.02369331562329046,
         "CO2_working_capacity [mL/g]": 12.561995152346055,
         "_deepnote_index_column": 46331
        },
        {
         "volume [A^3]": 0.6262499417298404,
         "weight [u]": 0.2324803961340556,
         "surface_area [m^2/g]": 1.7477683776249846,
         "void_fraction": 2.533339925959771,
         "void_volume [cm^3/g]": 2.387418362120457,
         "metal_linker": -1.005025737471612,
         "organic_linker1": -0.09080627114781809,
         "organic_linker2": 0.32067143026656425,
         "CO2/N2_selectivity": -1.2628087846643825,
         "heat_adsorption_CO2_P0.15bar_T298K [kcal/mol]": -2.7322983444396676,
         "density [g/cm^3]": -1.1701872975487464,
         "acs": -0.28035814407458926,
         "bcu": -0.22669034111345737,
         "etb": -0.21976490010861385,
         "fof": -0.12303215547766928,
         "nbo": -0.14736716946167144,
         "pcu": 0.699156374723668,
         "pts": -0.048778641263161254,
         "rht": -0.006569641469791943,
         "sra": -0.37097332823438006,
         "tbo": -0.019712327854376526,
         "the": -0.02369331562329046,
         "CO2_working_capacity [mL/g]": 3.695733757401276,
         "_deepnote_index_column": 46332
        },
        {
         "volume [A^3]": -0.09409157414629754,
         "weight [u]": 0.20103851986633842,
         "surface_area [m^2/g]": -1.194327765033341,
         "void_fraction": -0.9143807490825542,
         "void_volume [cm^3/g]": -0.8672119383425761,
         "metal_linker": 1.8641599763357681,
         "organic_linker1": 2.873590188078447,
         "organic_linker2": 2.3844564296028503,
         "CO2/N2_selectivity": -0.9489710181866512,
         "heat_adsorption_CO2_P0.15bar_T298K [kcal/mol]": -0.9786383941275495,
         "density [g/cm^3]": 0.7400012059140708,
         "acs": -0.28035814407458926,
         "bcu": -0.22669034111345737,
         "etb": 4.550317177611889,
         "fof": -0.12303215547766928,
         "nbo": -0.14736716946167144,
         "pcu": -1.4302951902496808,
         "pts": -0.048778641263161254,
         "rht": -0.006569641469791943,
         "sra": -0.37097332823438006,
         "tbo": -0.019712327854376526,
         "the": -0.02369331562329046,
         "CO2_working_capacity [mL/g]": 12.305301120152068,
         "_deepnote_index_column": 46333
        },
        {
         "volume [A^3]": 2.394010033490129,
         "weight [u]": 2.7111432558539925,
         "surface_area [m^2/g]": 0.8660900214968575,
         "void_fraction": 2.2312531479568882,
         "void_volume [cm^3/g]": 1.264795758065288,
         "metal_linker": -1.005025737471612,
         "organic_linker1": -1.0171801646560261,
         "organic_linker2": -0.9569097597987556,
         "CO2/N2_selectivity": -1.2549479144803966,
         "heat_adsorption_CO2_P0.15bar_T298K [kcal/mol]": -2.3207590639917424,
         "density [g/cm^3]": -0.2895309611283548,
         "acs": -0.28035814407458926,
         "bcu": -0.22669034111345737,
         "etb": -0.21976490010861385,
         "fof": -0.12303215547766928,
         "nbo": -0.14736716946167144,
         "pcu": 0.699156374723668,
         "pts": -0.048778641263161254,
         "rht": -0.006569641469791943,
         "sra": -0.37097332823438006,
         "tbo": -0.019712327854376526,
         "the": -0.02369331562329046,
         "CO2_working_capacity [mL/g]": 3.194891510663955,
         "_deepnote_index_column": 46334
        },
        {
         "volume [A^3]": 3.803430885392893,
         "weight [u]": 3.175706303956675,
         "surface_area [m^2/g]": 1.534669019151276,
         "void_fraction": 2.6539301974214733,
         "void_volume [cm^3/g]": 2.345699278861651,
         "metal_linker": -1.005025737471612,
         "organic_linker1": -0.7392679966035637,
         "organic_linker2": 0.22239595410769347,
         "CO2/N2_selectivity": -1.263871875542731,
         "heat_adsorption_CO2_P0.15bar_T298K [kcal/mol]": -2.529561068658173,
         "density [g/cm^3]": -1.070766675796201,
         "acs": -0.28035814407458926,
         "bcu": -0.22669034111345737,
         "etb": -0.21976490010861385,
         "fof": -0.12303215547766928,
         "nbo": -0.14736716946167144,
         "pcu": 0.699156374723668,
         "pts": -0.048778641263161254,
         "rht": -0.006569641469791943,
         "sra": -0.37097332823438006,
         "tbo": -0.019712327854376526,
         "the": -0.02369331562329046,
         "CO2_working_capacity [mL/g]": 4.089111171368028,
         "_deepnote_index_column": 46335
        },
        {
         "volume [A^3]": -0.6860027762765067,
         "weight [u]": -0.5183265338397598,
         "surface_area [m^2/g]": -0.646011905129006,
         "void_fraction": -0.2033666569591181,
         "void_volume [cm^3/g]": -0.7268841128356804,
         "metal_linker": -0.6862273248263476,
         "organic_linker1": 0.001831118203002708,
         "organic_linker2": -0.17070595052778953,
         "CO2/N2_selectivity": -1.0573650040759097,
         "heat_adsorption_CO2_P0.15bar_T298K [kcal/mol]": -1.7457224054548424,
         "density [g/cm^3]": 1.6869475675493206,
         "acs": -0.28035814407458926,
         "bcu": -0.22669034111345737,
         "etb": -0.21976490010861385,
         "fof": -0.12303215547766928,
         "nbo": -0.14736716946167144,
         "pcu": 0.699156374723668,
         "pts": -0.048778641263161254,
         "rht": -0.006569641469791943,
         "sra": -0.37097332823438006,
         "tbo": -0.019712327854376526,
         "the": -0.02369331562329046,
         "CO2_working_capacity [mL/g]": 7.483415152057922,
         "_deepnote_index_column": 46336
        },
        {
         "volume [A^3]": 0.0025008487944639815,
         "weight [u]": 0.13210041745825854,
         "surface_area [m^2/g]": 0.2982453067471856,
         "void_fraction": 2.0885614500533034,
         "void_volume [cm^3/g]": 0.8893240087360248,
         "metal_linker": -0.3674289121810832,
         "organic_linker1": -0.36871843920028047,
         "organic_linker2": -0.6620833313221434,
         "CO2/N2_selectivity": -1.090528574725544,
         "heat_adsorption_CO2_P0.15bar_T298K [kcal/mol]": -1.8305651361806548,
         "density [g/cm^3]": 0.1347358928243393,
         "acs": -0.28035814407458926,
         "bcu": -0.22669034111345737,
         "etb": -0.21976490010861385,
         "fof": -0.12303215547766928,
         "nbo": -0.14736716946167144,
         "pcu": 0.699156374723668,
         "pts": -0.048778641263161254,
         "rht": -0.006569641469791943,
         "sra": -0.37097332823438006,
         "tbo": -0.019712327854376526,
         "the": -0.02369331562329046,
         "CO2_working_capacity [mL/g]": 5.968177517647236,
         "_deepnote_index_column": 46337
        },
        {
         "volume [A^3]": 0.6330054958563145,
         "weight [u]": 0.3624105928402632,
         "surface_area [m^2/g]": 0.7210573741834485,
         "void_fraction": 3.160735257213225,
         "void_volume [cm^3/g]": 2.5412913445295637,
         "metal_linker": -0.3674289121810832,
         "organic_linker1": -0.46135582855110124,
         "organic_linker2": -0.36725690284553103,
         "CO2/N2_selectivity": -1.2391941834202511,
         "heat_adsorption_CO2_P0.15bar_T298K [kcal/mol]": -2.49047446585058,
         "density [g/cm^3]": -0.9359563744904801,
         "acs": -0.28035814407458926,
         "bcu": -0.22669034111345737,
         "etb": -0.21976490010861385,
         "fof": -0.12303215547766928,
         "nbo": -0.14736716946167144,
         "pcu": 0.699156374723668,
         "pts": -0.048778641263161254,
         "rht": -0.006569641469791943,
         "sra": -0.37097332823438006,
         "tbo": -0.019712327854376526,
         "the": -0.02369331562329046,
         "CO2_working_capacity [mL/g]": 6.346202812646742,
         "_deepnote_index_column": 46338
        },
        {
         "volume [A^3]": 7.80247565441747,
         "weight [u]": 4.140955933621842,
         "surface_area [m^2/g]": 2.0515409507476763,
         "void_fraction": 4.407479778296595,
         "void_volume [cm^3/g]": 6.311179413552669,
         "metal_linker": -1.005025737471612,
         "organic_linker1": -0.46135582855110124,
         "organic_linker2": -0.17070595052778953,
         "CO2/N2_selectivity": -1.286549193827293,
         "heat_adsorption_CO2_P0.15bar_T298K [kcal/mol]": -3.235074428977678,
         "density [g/cm^3]": -2.0848398482234085,
         "acs": -0.28035814407458926,
         "bcu": -0.22669034111345737,
         "etb": -0.21976490010861385,
         "fof": -0.12303215547766928,
         "nbo": -0.14736716946167144,
         "pcu": 0.699156374723668,
         "pts": -0.048778641263161254,
         "rht": -0.006569641469791943,
         "sra": -0.37097332823438006,
         "tbo": -0.019712327854376526,
         "the": -0.02369331562329046,
         "CO2_working_capacity [mL/g]": -4.4053978374025515,
         "_deepnote_index_column": 46339
        },
        {
         "volume [A^3]": -0.5879006114631972,
         "weight [u]": -0.23789727638691766,
         "surface_area [m^2/g]": -0.5826296471246457,
         "void_fraction": 0.29854960804364733,
         "void_volume [cm^3/g]": -0.6499476216311267,
         "metal_linker": -0.3674289121810832,
         "organic_linker1": 0.001831118203002708,
         "organic_linker2": 0.02584500178995197,
         "CO2/N2_selectivity": -1.1968985126938332,
         "heat_adsorption_CO2_P0.15bar_T298K [kcal/mol]": -1.619385863181563,
         "density [g/cm^3]": 2.3418090431549947,
         "acs": -0.28035814407458926,
         "bcu": -0.22669034111345737,
         "etb": -0.21976490010861385,
         "fof": -0.12303215547766928,
         "nbo": -0.14736716946167144,
         "pcu": 0.699156374723668,
         "pts": -0.048778641263161254,
         "rht": -0.006569641469791943,
         "sra": -0.37097332823438006,
         "tbo": -0.019712327854376526,
         "the": -0.02369331562329046,
         "CO2_working_capacity [mL/g]": 7.602105190094867,
         "_deepnote_index_column": 46340
        }
       ]
      },
      "text/plain": "       volume [A^3]  weight [u]  surface_area [m^2/g]  void_fraction  \\\n0         -0.041606    0.581323             -1.497285      -1.371381   \n1         -0.724843   -0.672924             -1.268760      -1.261383   \n2         -0.271145   -0.209823             -0.461613      -0.554545   \n3          0.440474   -0.001898              0.760820       1.001721   \n4          0.282346    0.357211             -0.352239       0.619071   \n...             ...         ...                   ...            ...   \n46336     -0.686003   -0.518327             -0.646012      -0.203367   \n46337      0.002501    0.132100              0.298245       2.088561   \n46338      0.633005    0.362411              0.721057       3.160735   \n46339      7.802476    4.140956              2.051541       4.407480   \n46340     -0.587901   -0.237897             -0.582630       0.298550   \n\n       void_volume [cm^3/g]  metal_linker  organic_linker1  organic_linker2  \\\n0                 -1.190670      1.864160         2.966228         3.563762   \n1                 -1.070389     -0.686227         0.928205         0.320671   \n2                 -0.551339      1.545362         0.465018         0.320671   \n3                  1.347692      1.545362        -0.461356         0.222396   \n4                  0.229946      1.864160         3.799964         3.367211   \n...                     ...           ...              ...              ...   \n46336             -0.726884     -0.686227         0.001831        -0.170706   \n46337              0.889324     -0.367429        -0.368718        -0.662083   \n46338              2.541291     -0.367429        -0.461356        -0.367257   \n46339              6.311179     -1.005026        -0.461356        -0.170706   \n46340             -0.649948     -0.367429         0.001831         0.025845   \n\n       CO2/N2_selectivity  heat_adsorption_CO2_P0.15bar_T298K [kcal/mol]  ...  \\\n0                0.755278                                       1.568435  ...   \n1               -0.254473                                       0.611158  ...   \n2                0.198422                                       0.422076  ...   \n3               -0.403419                                      -0.526174  ...   \n4               -0.317785                                       0.558331  ...   \n...                   ...                                            ...  ...   \n46336           -1.057365                                      -1.745722  ...   \n46337           -1.090529                                      -1.830565  ...   \n46338           -1.239194                                      -2.490474  ...   \n46339           -1.286549                                      -3.235074  ...   \n46340           -1.196899                                      -1.619386  ...   \n\n            etb       fof       nbo       pcu       pts      rht       sra  \\\n0      4.550317 -0.123032 -0.147367 -1.430295 -0.048779 -0.00657 -0.370973   \n1     -0.219765 -0.123032 -0.147367  0.699156 -0.048779 -0.00657 -0.370973   \n2     -0.219765 -0.123032 -0.147367 -1.430295 -0.048779 -0.00657  2.695612   \n3     -0.219765 -0.123032 -0.147367 -1.430295 -0.048779 -0.00657  2.695612   \n4      4.550317 -0.123032 -0.147367 -1.430295 -0.048779 -0.00657 -0.370973   \n...         ...       ...       ...       ...       ...      ...       ...   \n46336 -0.219765 -0.123032 -0.147367  0.699156 -0.048779 -0.00657 -0.370973   \n46337 -0.219765 -0.123032 -0.147367  0.699156 -0.048779 -0.00657 -0.370973   \n46338 -0.219765 -0.123032 -0.147367  0.699156 -0.048779 -0.00657 -0.370973   \n46339 -0.219765 -0.123032 -0.147367  0.699156 -0.048779 -0.00657 -0.370973   \n46340 -0.219765 -0.123032 -0.147367  0.699156 -0.048779 -0.00657 -0.370973   \n\n            tbo       the  CO2_working_capacity [mL/g]  \n0     -0.019712 -0.023693                   101.224774  \n1     -0.019712 -0.023693                   118.987011  \n2     -0.019712 -0.023693                   187.626004  \n3     -0.019712 -0.023693                    55.786959  \n4     -0.019712 -0.023693                   111.690462  \n...         ...       ...                          ...  \n46336 -0.019712 -0.023693                     7.483415  \n46337 -0.019712 -0.023693                     5.968178  \n46338 -0.019712 -0.023693                     6.346203  \n46339 -0.019712 -0.023693                    -4.405398  \n46340 -0.019712 -0.023693                     7.602105  \n\n[46341 rows x 23 columns]",
      "text/html": "<div>\n<style scoped>\n    .dataframe tbody tr th:only-of-type {\n        vertical-align: middle;\n    }\n\n    .dataframe tbody tr th {\n        vertical-align: top;\n    }\n\n    .dataframe thead th {\n        text-align: right;\n    }\n</style>\n<table border=\"1\" class=\"dataframe\">\n  <thead>\n    <tr style=\"text-align: right;\">\n      <th></th>\n      <th>volume [A^3]</th>\n      <th>weight [u]</th>\n      <th>surface_area [m^2/g]</th>\n      <th>void_fraction</th>\n      <th>void_volume [cm^3/g]</th>\n      <th>metal_linker</th>\n      <th>organic_linker1</th>\n      <th>organic_linker2</th>\n      <th>CO2/N2_selectivity</th>\n      <th>heat_adsorption_CO2_P0.15bar_T298K [kcal/mol]</th>\n      <th>...</th>\n      <th>etb</th>\n      <th>fof</th>\n      <th>nbo</th>\n      <th>pcu</th>\n      <th>pts</th>\n      <th>rht</th>\n      <th>sra</th>\n      <th>tbo</th>\n      <th>the</th>\n      <th>CO2_working_capacity [mL/g]</th>\n    </tr>\n  </thead>\n  <tbody>\n    <tr>\n      <th>0</th>\n      <td>-0.041606</td>\n      <td>0.581323</td>\n      <td>-1.497285</td>\n      <td>-1.371381</td>\n      <td>-1.190670</td>\n      <td>1.864160</td>\n      <td>2.966228</td>\n      <td>3.563762</td>\n      <td>0.755278</td>\n      <td>1.568435</td>\n      <td>...</td>\n      <td>4.550317</td>\n      <td>-0.123032</td>\n      <td>-0.147367</td>\n      <td>-1.430295</td>\n      <td>-0.048779</td>\n      <td>-0.00657</td>\n      <td>-0.370973</td>\n      <td>-0.019712</td>\n      <td>-0.023693</td>\n      <td>101.224774</td>\n    </tr>\n    <tr>\n      <th>1</th>\n      <td>-0.724843</td>\n      <td>-0.672924</td>\n      <td>-1.268760</td>\n      <td>-1.261383</td>\n      <td>-1.070389</td>\n      <td>-0.686227</td>\n      <td>0.928205</td>\n      <td>0.320671</td>\n      <td>-0.254473</td>\n      <td>0.611158</td>\n      <td>...</td>\n      <td>-0.219765</td>\n      <td>-0.123032</td>\n      <td>-0.147367</td>\n      <td>0.699156</td>\n      <td>-0.048779</td>\n      <td>-0.00657</td>\n      <td>-0.370973</td>\n      <td>-0.019712</td>\n      <td>-0.023693</td>\n      <td>118.987011</td>\n    </tr>\n    <tr>\n      <th>2</th>\n      <td>-0.271145</td>\n      <td>-0.209823</td>\n      <td>-0.461613</td>\n      <td>-0.554545</td>\n      <td>-0.551339</td>\n      <td>1.545362</td>\n      <td>0.465018</td>\n      <td>0.320671</td>\n      <td>0.198422</td>\n      <td>0.422076</td>\n      <td>...</td>\n      <td>-0.219765</td>\n      <td>-0.123032</td>\n      <td>-0.147367</td>\n      <td>-1.430295</td>\n      <td>-0.048779</td>\n      <td>-0.00657</td>\n      <td>2.695612</td>\n      <td>-0.019712</td>\n      <td>-0.023693</td>\n      <td>187.626004</td>\n    </tr>\n    <tr>\n      <th>3</th>\n      <td>0.440474</td>\n      <td>-0.001898</td>\n      <td>0.760820</td>\n      <td>1.001721</td>\n      <td>1.347692</td>\n      <td>1.545362</td>\n      <td>-0.461356</td>\n      <td>0.222396</td>\n      <td>-0.403419</td>\n      <td>-0.526174</td>\n      <td>...</td>\n      <td>-0.219765</td>\n      <td>-0.123032</td>\n      <td>-0.147367</td>\n      <td>-1.430295</td>\n      <td>-0.048779</td>\n      <td>-0.00657</td>\n      <td>2.695612</td>\n      <td>-0.019712</td>\n      <td>-0.023693</td>\n      <td>55.786959</td>\n    </tr>\n    <tr>\n      <th>4</th>\n      <td>0.282346</td>\n      <td>0.357211</td>\n      <td>-0.352239</td>\n      <td>0.619071</td>\n      <td>0.229946</td>\n      <td>1.864160</td>\n      <td>3.799964</td>\n      <td>3.367211</td>\n      <td>-0.317785</td>\n      <td>0.558331</td>\n      <td>...</td>\n      <td>4.550317</td>\n      <td>-0.123032</td>\n      <td>-0.147367</td>\n      <td>-1.430295</td>\n      <td>-0.048779</td>\n      <td>-0.00657</td>\n      <td>-0.370973</td>\n      <td>-0.019712</td>\n      <td>-0.023693</td>\n      <td>111.690462</td>\n    </tr>\n    <tr>\n      <th>...</th>\n      <td>...</td>\n      <td>...</td>\n      <td>...</td>\n      <td>...</td>\n      <td>...</td>\n      <td>...</td>\n      <td>...</td>\n      <td>...</td>\n      <td>...</td>\n      <td>...</td>\n      <td>...</td>\n      <td>...</td>\n      <td>...</td>\n      <td>...</td>\n      <td>...</td>\n      <td>...</td>\n      <td>...</td>\n      <td>...</td>\n      <td>...</td>\n      <td>...</td>\n      <td>...</td>\n    </tr>\n    <tr>\n      <th>46336</th>\n      <td>-0.686003</td>\n      <td>-0.518327</td>\n      <td>-0.646012</td>\n      <td>-0.203367</td>\n      <td>-0.726884</td>\n      <td>-0.686227</td>\n      <td>0.001831</td>\n      <td>-0.170706</td>\n      <td>-1.057365</td>\n      <td>-1.745722</td>\n      <td>...</td>\n      <td>-0.219765</td>\n      <td>-0.123032</td>\n      <td>-0.147367</td>\n      <td>0.699156</td>\n      <td>-0.048779</td>\n      <td>-0.00657</td>\n      <td>-0.370973</td>\n      <td>-0.019712</td>\n      <td>-0.023693</td>\n      <td>7.483415</td>\n    </tr>\n    <tr>\n      <th>46337</th>\n      <td>0.002501</td>\n      <td>0.132100</td>\n      <td>0.298245</td>\n      <td>2.088561</td>\n      <td>0.889324</td>\n      <td>-0.367429</td>\n      <td>-0.368718</td>\n      <td>-0.662083</td>\n      <td>-1.090529</td>\n      <td>-1.830565</td>\n      <td>...</td>\n      <td>-0.219765</td>\n      <td>-0.123032</td>\n      <td>-0.147367</td>\n      <td>0.699156</td>\n      <td>-0.048779</td>\n      <td>-0.00657</td>\n      <td>-0.370973</td>\n      <td>-0.019712</td>\n      <td>-0.023693</td>\n      <td>5.968178</td>\n    </tr>\n    <tr>\n      <th>46338</th>\n      <td>0.633005</td>\n      <td>0.362411</td>\n      <td>0.721057</td>\n      <td>3.160735</td>\n      <td>2.541291</td>\n      <td>-0.367429</td>\n      <td>-0.461356</td>\n      <td>-0.367257</td>\n      <td>-1.239194</td>\n      <td>-2.490474</td>\n      <td>...</td>\n      <td>-0.219765</td>\n      <td>-0.123032</td>\n      <td>-0.147367</td>\n      <td>0.699156</td>\n      <td>-0.048779</td>\n      <td>-0.00657</td>\n      <td>-0.370973</td>\n      <td>-0.019712</td>\n      <td>-0.023693</td>\n      <td>6.346203</td>\n    </tr>\n    <tr>\n      <th>46339</th>\n      <td>7.802476</td>\n      <td>4.140956</td>\n      <td>2.051541</td>\n      <td>4.407480</td>\n      <td>6.311179</td>\n      <td>-1.005026</td>\n      <td>-0.461356</td>\n      <td>-0.170706</td>\n      <td>-1.286549</td>\n      <td>-3.235074</td>\n      <td>...</td>\n      <td>-0.219765</td>\n      <td>-0.123032</td>\n      <td>-0.147367</td>\n      <td>0.699156</td>\n      <td>-0.048779</td>\n      <td>-0.00657</td>\n      <td>-0.370973</td>\n      <td>-0.019712</td>\n      <td>-0.023693</td>\n      <td>-4.405398</td>\n    </tr>\n    <tr>\n      <th>46340</th>\n      <td>-0.587901</td>\n      <td>-0.237897</td>\n      <td>-0.582630</td>\n      <td>0.298550</td>\n      <td>-0.649948</td>\n      <td>-0.367429</td>\n      <td>0.001831</td>\n      <td>0.025845</td>\n      <td>-1.196899</td>\n      <td>-1.619386</td>\n      <td>...</td>\n      <td>-0.219765</td>\n      <td>-0.123032</td>\n      <td>-0.147367</td>\n      <td>0.699156</td>\n      <td>-0.048779</td>\n      <td>-0.00657</td>\n      <td>-0.370973</td>\n      <td>-0.019712</td>\n      <td>-0.023693</td>\n      <td>7.602105</td>\n    </tr>\n  </tbody>\n</table>\n<p>46341 rows × 23 columns</p>\n</div>"
     },
     "metadata": {}
    }
   ],
   "execution_count": null
  },
  {
   "cell_type": "code",
   "metadata": {
    "tags": [],
    "cell_id": "00054-ea6988c4-c473-4318-b85c-2f33b0348736",
    "deepnote_to_be_reexecuted": false,
    "source_hash": "cd26e212",
    "execution_start": 1634389137885,
    "execution_millis": 74,
    "deepnote_cell_type": "code"
   },
   "source": "processed_test_set = pd.DataFrame(T, columns=list(index_features_map.values()))\nprocessed_test_set",
   "outputs": [
    {
     "output_type": "execute_result",
     "execution_count": 32,
     "data": {
      "application/vnd.deepnote.dataframe.v2+json": {
       "row_count": 17000,
       "column_count": 22,
       "columns": [
        {
         "name": "volume [A^3]",
         "dtype": "float64",
         "stats": {
          "unique_count": 16999,
          "nan_count": 0,
          "min": "-0.9206754673922952",
          "max": "30.953580500506376",
          "histogram": [
           {
            "bin_start": -0.9206754673922952,
            "bin_end": 2.2667501293975723,
            "count": 15702
           },
           {
            "bin_start": 2.2667501293975723,
            "bin_end": 5.45417572618744,
            "count": 667
           },
           {
            "bin_start": 5.45417572618744,
            "bin_end": 8.641601322977307,
            "count": 342
           },
           {
            "bin_start": 8.641601322977307,
            "bin_end": 11.829026919767175,
            "count": 154
           },
           {
            "bin_start": 11.829026919767175,
            "bin_end": 15.016452516557043,
            "count": 76
           },
           {
            "bin_start": 15.016452516557043,
            "bin_end": 18.203878113346907,
            "count": 31
           },
           {
            "bin_start": 18.203878113346907,
            "bin_end": 21.391303710136775,
            "count": 10
           },
           {
            "bin_start": 21.391303710136775,
            "bin_end": 24.578729306926643,
            "count": 12
           },
           {
            "bin_start": 24.578729306926643,
            "bin_end": 27.76615490371651,
            "count": 3
           },
           {
            "bin_start": 27.76615490371651,
            "bin_end": 30.953580500506376,
            "count": 3
           }
          ]
         }
        },
        {
         "name": "weight [u]",
         "dtype": "float64",
         "stats": {
          "unique_count": 15576,
          "nan_count": 0,
          "min": "-0.9645976108136777",
          "max": "17.27191504435769",
          "histogram": [
           {
            "bin_start": -0.9645976108136777,
            "bin_end": 0.859053654703459,
            "count": 14362
           },
           {
            "bin_start": 0.859053654703459,
            "bin_end": 2.6827049202205955,
            "count": 1888
           },
           {
            "bin_start": 2.6827049202205955,
            "bin_end": 4.506356185737732,
            "count": 536
           },
           {
            "bin_start": 4.506356185737732,
            "bin_end": 6.330007451254869,
            "count": 158
           },
           {
            "bin_start": 6.330007451254869,
            "bin_end": 8.153658716772005,
            "count": 32
           },
           {
            "bin_start": 8.153658716772005,
            "bin_end": 9.97730998228914,
            "count": 15
           },
           {
            "bin_start": 9.97730998228914,
            "bin_end": 11.800961247806278,
            "count": 5
           },
           {
            "bin_start": 11.800961247806278,
            "bin_end": 13.624612513323415,
            "count": 0
           },
           {
            "bin_start": 13.624612513323415,
            "bin_end": 15.44826377884055,
            "count": 2
           },
           {
            "bin_start": 15.44826377884055,
            "bin_end": 17.27191504435769,
            "count": 2
           }
          ]
         }
        },
        {
         "name": "surface_area [m^2/g]",
         "dtype": "float64",
         "stats": {
          "unique_count": 16635,
          "nan_count": 0,
          "min": "-2.1859115498226944",
          "max": "6.3540195939391335",
          "histogram": [
           {
            "bin_start": -2.1859115498226944,
            "bin_end": -1.3319184354465117,
            "count": 1598
           },
           {
            "bin_start": -1.3319184354465117,
            "bin_end": -0.4779253210703287,
            "count": 3698
           },
           {
            "bin_start": -0.4779253210703287,
            "bin_end": 0.37606779330585427,
            "count": 4128
           },
           {
            "bin_start": 0.37606779330585427,
            "bin_end": 1.230060907682037,
            "count": 3208
           },
           {
            "bin_start": 1.230060907682037,
            "bin_end": 2.0840540220582198,
            "count": 2047
           },
           {
            "bin_start": 2.0840540220582198,
            "bin_end": 2.938047136434403,
            "count": 1120
           },
           {
            "bin_start": 2.938047136434403,
            "bin_end": 3.7920402508105853,
            "count": 609
           },
           {
            "bin_start": 3.7920402508105853,
            "bin_end": 4.646033365186769,
            "count": 390
           },
           {
            "bin_start": 4.646033365186769,
            "bin_end": 5.500026479562951,
            "count": 169
           },
           {
            "bin_start": 5.500026479562951,
            "bin_end": 6.3540195939391335,
            "count": 33
           }
          ]
         }
        },
        {
         "name": "void_fraction",
         "dtype": "float64",
         "stats": {
          "unique_count": 14311,
          "nan_count": 0,
          "min": "-2.4062779588553815",
          "max": "6.102363821703858",
          "histogram": [
           {
            "bin_start": -2.4062779588553815,
            "bin_end": -1.5554137807994577,
            "count": 795
           },
           {
            "bin_start": -1.5554137807994577,
            "bin_end": -0.7045496027435336,
            "count": 3253
           },
           {
            "bin_start": -0.7045496027435336,
            "bin_end": 0.14631457531239045,
            "count": 4377
           },
           {
            "bin_start": 0.14631457531239045,
            "bin_end": 0.9971787533683143,
            "count": 3959
           },
           {
            "bin_start": 0.9971787533683143,
            "bin_end": 1.8480429314242381,
            "count": 2036
           },
           {
            "bin_start": 1.8480429314242381,
            "bin_end": 2.6989071094801624,
            "count": 921
           },
           {
            "bin_start": 2.6989071094801624,
            "bin_end": 3.549771287536086,
            "count": 714
           },
           {
            "bin_start": 3.549771287536086,
            "bin_end": 4.400635465592011,
            "count": 591
           },
           {
            "bin_start": 4.400635465592011,
            "bin_end": 5.251499643647934,
            "count": 268
           },
           {
            "bin_start": 5.251499643647934,
            "bin_end": 6.102363821703858,
            "count": 86
           }
          ]
         }
        },
        {
         "name": "void_volume [cm^3/g]",
         "dtype": "float64",
         "stats": {
          "unique_count": 7835,
          "nan_count": 0,
          "min": "-1.653372844946848",
          "max": "31.656335202692052",
          "histogram": [
           {
            "bin_start": -1.653372844946848,
            "bin_end": 1.6775979598170419,
            "count": 13858
           },
           {
            "bin_start": 1.6775979598170419,
            "bin_end": 5.008568764580932,
            "count": 2023
           },
           {
            "bin_start": 5.008568764580932,
            "bin_end": 8.339539569344822,
            "count": 617
           },
           {
            "bin_start": 8.339539569344822,
            "bin_end": 11.670510374108712,
            "count": 281
           },
           {
            "bin_start": 11.670510374108712,
            "bin_end": 15.001481178872602,
            "count": 107
           },
           {
            "bin_start": 15.001481178872602,
            "bin_end": 18.332451983636492,
            "count": 59
           },
           {
            "bin_start": 18.332451983636492,
            "bin_end": 21.663422788400382,
            "count": 35
           },
           {
            "bin_start": 21.663422788400382,
            "bin_end": 24.994393593164272,
            "count": 16
           },
           {
            "bin_start": 24.994393593164272,
            "bin_end": 28.325364397928162,
            "count": 3
           },
           {
            "bin_start": 28.325364397928162,
            "bin_end": 31.656335202692052,
            "count": 1
           }
          ]
         }
        },
        {
         "name": "metal_linker",
         "dtype": "float64"
        },
        {
         "name": "organic_linker1",
         "dtype": "float64"
        },
        {
         "name": "organic_linker2",
         "dtype": "float64"
        },
        {
         "name": "CO2/N2_selectivity",
         "dtype": "float64"
        },
        {
         "name": "heat_adsorption_CO2_P0.15bar_T298K [kcal/mol]",
         "dtype": "float64"
        },
        {
         "name": "density [g/cm^3]",
         "dtype": "float64"
        },
        {
         "name": "acs",
         "dtype": "float64"
        },
        {
         "name": "bcu",
         "dtype": "float64"
        },
        {
         "name": "etb",
         "dtype": "float64"
        },
        {
         "name": "fof",
         "dtype": "float64"
        },
        {
         "name": "nbo",
         "dtype": "float64"
        },
        {
         "name": "pcu",
         "dtype": "float64"
        },
        {
         "name": "pts",
         "dtype": "float64"
        },
        {
         "name": "rht",
         "dtype": "float64"
        },
        {
         "name": "sra",
         "dtype": "float64"
        },
        {
         "name": "tbo",
         "dtype": "float64"
        },
        {
         "name": "the",
         "dtype": "float64"
        },
        {
         "name": "_deepnote_index_column",
         "dtype": "int64"
        }
       ],
       "rows_top": [
        {
         "volume [A^3]": -0.676647945196018,
         "weight [u]": -0.6519726373197089,
         "surface_area [m^2/g]": -1.5183831551188167,
         "void_fraction": -1.6160246511937644,
         "void_volume [cm^3/g]": -1.191212091443441,
         "metal_linker": -0.6862273248263476,
         "organic_linker1": -0.6466306072527429,
         "organic_linker2": 0.5172223825843058,
         "CO2/N2_selectivity": 0.9679494703465814,
         "heat_adsorption_CO2_P0.15bar_T298K [kcal/mol]": 1.3987976048143265,
         "density [g/cm^3]": 0.6502427252955546,
         "acs": -0.28035814407458926,
         "bcu": -0.22669034111345737,
         "etb": -0.21976490010861385,
         "fof": -0.12303215547766928,
         "nbo": -0.14736716946167144,
         "pcu": 0.699156374723668,
         "pts": -0.048778641263161254,
         "rht": -0.006569641469791943,
         "sra": -0.37097332823438006,
         "tbo": -0.019712327854376526,
         "the": -0.02369331562329046,
         "_deepnote_index_column": 0
        },
        {
         "volume [A^3]": 0.510337941223801,
         "weight [u]": 1.9087939367233047,
         "surface_area [m^2/g]": -1.1896680319468271,
         "void_fraction": -0.6000719841072041,
         "void_volume [cm^3/g]": -0.9837002877015828,
         "metal_linker": -0.048630499535818716,
         "organic_linker1": -0.553993217901922,
         "organic_linker2": -0.36725690284553103,
         "CO2/N2_selectivity": -0.3158922306601238,
         "heat_adsorption_CO2_P0.15bar_T298K [kcal/mol]": -0.8601953408117374,
         "density [g/cm^3]": 2.435180986753727,
         "acs": 3.5668662428251854,
         "bcu": -0.22669034111345737,
         "etb": -0.21976490010861385,
         "fof": -0.12303215547766928,
         "nbo": -0.14736716946167144,
         "pcu": -1.4302951902496808,
         "pts": -0.048778641263161254,
         "rht": -0.006569641469791943,
         "sra": -0.37097332823438006,
         "tbo": -0.019712327854376526,
         "the": -0.02369331562329046,
         "_deepnote_index_column": 1
        },
        {
         "volume [A^3]": -0.5164448165111118,
         "weight [u]": -0.6960183169403857,
         "surface_area [m^2/g]": 1.6571446031148498,
         "void_fraction": 0.674681257121409,
         "void_volume [cm^3/g]": 0.61625364558747,
         "metal_linker": -0.3674289121810832,
         "organic_linker1": -0.09080627114781809,
         "organic_linker2": -0.36725690284553103,
         "CO2/N2_selectivity": -0.6907109458113551,
         "heat_adsorption_CO2_P0.15bar_T298K [kcal/mol]": -0.948817748544038,
         "density [g/cm^3]": -0.763902320530868,
         "acs": -0.28035814407458926,
         "bcu": -0.22669034111345737,
         "etb": -0.21976490010861385,
         "fof": -0.12303215547766928,
         "nbo": -0.14736716946167144,
         "pcu": 0.699156374723668,
         "pts": -0.048778641263161254,
         "rht": -0.006569641469791943,
         "sra": -0.37097332823438006,
         "tbo": -0.019712327854376526,
         "the": -0.02369331562329046,
         "_deepnote_index_column": 2
        },
        {
         "volume [A^3]": -0.17700731073150572,
         "weight [u]": -0.4791937746742094,
         "surface_area [m^2/g]": 2.1087308313612048,
         "void_fraction": 1.3449553926699462,
         "void_volume [cm^3/g]": 1.4766420120158534,
         "metal_linker": -0.6862273248263476,
         "organic_linker1": -1.0171801646560261,
         "organic_linker2": 0.7137733349020473,
         "CO2/N2_selectivity": -0.9342415328075669,
         "heat_adsorption_CO2_P0.15bar_T298K [kcal/mol]": -0.8759571687846132,
         "density [g/cm^3]": -1.1849129656519983,
         "acs": -0.28035814407458926,
         "bcu": -0.22669034111345737,
         "etb": -0.21976490010861385,
         "fof": -0.12303215547766928,
         "nbo": -0.14736716946167144,
         "pcu": 0.699156374723668,
         "pts": -0.048778641263161254,
         "rht": -0.006569641469791943,
         "sra": -0.37097332823438006,
         "tbo": -0.019712327854376526,
         "the": -0.02369331562329046,
         "_deepnote_index_column": 3
        },
        {
         "volume [A^3]": 0.10235418261590928,
         "weight [u]": -0.18112814873885894,
         "surface_area [m^2/g]": 1.0672372264038312,
         "void_fraction": 1.191671306056886,
         "void_volume [cm^3/g]": 1.2144077743890667,
         "metal_linker": -0.3674289121810832,
         "organic_linker1": -0.36871843920028047,
         "organic_linker2": -0.17070595052778953,
         "CO2/N2_selectivity": -0.6968945053749889,
         "heat_adsorption_CO2_P0.15bar_T298K [kcal/mol]": -0.6587083764354298,
         "density [g/cm^3]": -1.042275300988804,
         "acs": -0.28035814407458926,
         "bcu": -0.22669034111345737,
         "etb": -0.21976490010861385,
         "fof": -0.12303215547766928,
         "nbo": -0.14736716946167144,
         "pcu": 0.699156374723668,
         "pts": -0.048778641263161254,
         "rht": -0.006569641469791943,
         "sra": -0.37097332823438006,
         "tbo": -0.019712327854376526,
         "the": -0.02369331562329046,
         "_deepnote_index_column": 4
        },
        {
         "volume [A^3]": -0.8030346016078365,
         "weight [u]": -0.9212155965579233,
         "surface_area [m^2/g]": 0.4584807967566485,
         "void_fraction": 0.540850499772863,
         "void_volume [cm^3/g]": 0.19635378161895795,
         "metal_linker": -0.3674289121810832,
         "organic_linker1": -1.0171801646560261,
         "organic_linker2": -1.0551852359576264,
         "CO2/N2_selectivity": -0.701679843823894,
         "heat_adsorption_CO2_P0.15bar_T298K [kcal/mol]": -0.9062568608835224,
         "density [g/cm^3]": -0.19160900035775255,
         "acs": -0.28035814407458926,
         "bcu": -0.22669034111345737,
         "etb": -0.21976490010861385,
         "fof": -0.12303215547766928,
         "nbo": -0.14736716946167144,
         "pcu": 0.699156374723668,
         "pts": -0.048778641263161254,
         "rht": -0.006569641469791943,
         "sra": -0.37097332823438006,
         "tbo": -0.019712327854376526,
         "the": -0.02369331562329046,
         "_deepnote_index_column": 5
        },
        {
         "volume [A^3]": -0.3485863405862011,
         "weight [u]": -0.32901758376959717,
         "surface_area [m^2/g]": -0.6478041101622805,
         "void_fraction": -0.8083550120963777,
         "void_volume [cm^3/g]": -0.6667436161898673,
         "metal_linker": -0.6862273248263476,
         "organic_linker1": 0.5576554543079275,
         "organic_linker2": 0.12412047794882272,
         "CO2/N2_selectivity": -0.1950519711751888,
         "heat_adsorption_CO2_P0.15bar_T298K [kcal/mol]": 0.37304404418398346,
         "density [g/cm^3]": 0.06291183990741607,
         "acs": -0.28035814407458926,
         "bcu": -0.22669034111345737,
         "etb": -0.21976490010861385,
         "fof": -0.12303215547766928,
         "nbo": -0.14736716946167144,
         "pcu": 0.699156374723668,
         "pts": -0.048778641263161254,
         "rht": -0.006569641469791943,
         "sra": -0.37097332823438006,
         "tbo": -0.019712327854376526,
         "the": -0.02369331562329046,
         "_deepnote_index_column": 6
        },
        {
         "volume [A^3]": -0.033290138518436777,
         "weight [u]": -0.18552674379986342,
         "surface_area [m^2/g]": 1.369983916645407,
         "void_fraction": 0.4332970144151283,
         "void_volume [cm^3/g]": 0.3989893288760204,
         "metal_linker": 1.5453615636905038,
         "organic_linker1": 0.3723806756062859,
         "organic_linker2": -0.07243047436891878,
         "CO2/N2_selectivity": 0.9187095014951425,
         "heat_adsorption_CO2_P0.15bar_T298K [kcal/mol]": 0.28287790905581256,
         "density [g/cm^3]": -0.6819948611857501,
         "acs": -0.28035814407458926,
         "bcu": -0.22669034111345737,
         "etb": -0.21976490010861385,
         "fof": -0.12303215547766928,
         "nbo": -0.14736716946167144,
         "pcu": -1.4302951902496808,
         "pts": -0.048778641263161254,
         "rht": -0.006569641469791943,
         "sra": 2.6956115814533486,
         "tbo": -0.019712327854376526,
         "the": -0.02369331562329046,
         "_deepnote_index_column": 7
        },
        {
         "volume [A^3]": 0.21812842000587898,
         "weight [u]": -0.11935296594298561,
         "surface_area [m^2/g]": 1.1514832230024503,
         "void_fraction": 0.4272878708203302,
         "void_volume [cm^3/g]": 0.729491157289946,
         "metal_linker": -0.6862273248263476,
         "organic_linker1": 0.6502928436587483,
         "organic_linker2": 0.812048811060918,
         "CO2/N2_selectivity": -0.6902591139548468,
         "heat_adsorption_CO2_P0.15bar_T298K [kcal/mol]": -0.8686636855876815,
         "density [g/cm^3]": -1.1515881294697838,
         "acs": -0.28035814407458926,
         "bcu": -0.22669034111345737,
         "etb": -0.21976490010861385,
         "fof": -0.12303215547766928,
         "nbo": -0.14736716946167144,
         "pcu": 0.699156374723668,
         "pts": -0.048778641263161254,
         "rht": -0.006569641469791943,
         "sra": -0.37097332823438006,
         "tbo": -0.019712327854376526,
         "the": -0.02369331562329046,
         "_deepnote_index_column": 8
        },
        {
         "volume [A^3]": -0.5504371816296222,
         "weight [u]": -0.38687327352876677,
         "surface_area [m^2/g]": -1.339793013561679,
         "void_fraction": -1.2762534133591008,
         "void_volume [cm^3/g]": -1.0915197366431748,
         "metal_linker": -0.6862273248263476,
         "organic_linker1": -0.2760810498494597,
         "organic_linker2": -0.4655323790044018,
         "CO2/N2_selectivity": 0.3571236007759482,
         "heat_adsorption_CO2_P0.15bar_T298K [kcal/mol]": 1.0389582219244193,
         "density [g/cm^3]": 1.126382528672141,
         "acs": -0.28035814407458926,
         "bcu": -0.22669034111345737,
         "etb": -0.21976490010861385,
         "fof": -0.12303215547766928,
         "nbo": -0.14736716946167144,
         "pcu": 0.699156374723668,
         "pts": -0.048778641263161254,
         "rht": -0.006569641469791943,
         "sra": -0.37097332823438006,
         "tbo": -0.019712327854376526,
         "the": -0.02369331562329046,
         "_deepnote_index_column": 9
        },
        {
         "volume [A^3]": -0.06622674101986521,
         "weight [u]": -0.4933330479614992,
         "surface_area [m^2/g]": 1.7813011517992878,
         "void_fraction": 1.8825191196757478,
         "void_volume [cm^3/g]": 2.3733313989421596,
         "metal_linker": -0.3674289121810832,
         "organic_linker1": 0.3723806756062859,
         "organic_linker2": 0.5172223825843058,
         "CO2/N2_selectivity": -0.7990419427572638,
         "heat_adsorption_CO2_P0.15bar_T298K [kcal/mol]": -1.2498290217268098,
         "density [g/cm^3]": -1.5283653675842,
         "acs": -0.28035814407458926,
         "bcu": -0.22669034111345737,
         "etb": -0.21976490010861385,
         "fof": -0.12303215547766928,
         "nbo": -0.14736716946167144,
         "pcu": 0.699156374723668,
         "pts": -0.048778641263161254,
         "rht": -0.006569641469791943,
         "sra": -0.37097332823438006,
         "tbo": -0.019712327854376526,
         "the": -0.02369331562329046,
         "_deepnote_index_column": 10
        },
        {
         "volume [A^3]": 2.3449452217532056,
         "weight [u]": 2.728139452847606,
         "surface_area [m^2/g]": -0.028764131634515147,
         "void_fraction": 0.4045753450298235,
         "void_volume [cm^3/g]": 0.1291698033839962,
         "metal_linker": -1.005025737471612,
         "organic_linker1": 0.2797432862554651,
         "organic_linker2": 0.32067143026656425,
         "CO2/N2_selectivity": -0.6601512428231835,
         "heat_adsorption_CO2_P0.15bar_T298K [kcal/mol]": -0.6192193745549021,
         "density [g/cm^3]": -0.21891627863055663,
         "acs": -0.28035814407458926,
         "bcu": -0.22669034111345737,
         "etb": -0.21976490010861385,
         "fof": -0.12303215547766928,
         "nbo": -0.14736716946167144,
         "pcu": 0.699156374723668,
         "pts": -0.048778641263161254,
         "rht": -0.006569641469791943,
         "sra": -0.37097332823438006,
         "tbo": -0.019712327854376526,
         "the": -0.02369331562329046,
         "_deepnote_index_column": 11
        },
        {
         "volume [A^3]": 0.39698244553530276,
         "weight [u]": 0.8060240951696858,
         "surface_area [m^2/g]": 0.2763556852718104,
         "void_fraction": 0.32268803231427523,
         "void_volume [cm^3/g]": -0.20729189406690202,
         "metal_linker": 1.5453615636905038,
         "organic_linker1": -0.46135582855110124,
         "organic_linker2": -0.2689814266866603,
         "CO2/N2_selectivity": 2.5539758708201665,
         "heat_adsorption_CO2_P0.15bar_T298K [kcal/mol]": 1.2953379288838685,
         "density [g/cm^3]": 0.5157517234473691,
         "acs": -0.28035814407458926,
         "bcu": -0.22669034111345737,
         "etb": -0.21976490010861385,
         "fof": -0.12303215547766928,
         "nbo": -0.14736716946167144,
         "pcu": -1.4302951902496808,
         "pts": -0.048778641263161254,
         "rht": -0.006569641469791943,
         "sra": 2.6956115814533486,
         "tbo": -0.019712327854376526,
         "the": -0.02369331562329046,
         "_deepnote_index_column": 12
        },
        {
         "volume [A^3]": 0.16627146905391638,
         "weight [u]": 0.23717194071026126,
         "surface_area [m^2/g]": -0.3611996252548885,
         "void_fraction": -0.5508784865430115,
         "void_volume [cm^3/g]": -0.4668171003132467,
         "metal_linker": 1.5453615636905038,
         "organic_linker1": 0.4650180649571067,
         "organic_linker2": -0.2689814266866603,
         "CO2/N2_selectivity": 0.34657834217609046,
         "heat_adsorption_CO2_P0.15bar_T298K [kcal/mol]": 1.098617477335769,
         "density [g/cm^3]": -0.12525573624186143,
         "acs": -0.28035814407458926,
         "bcu": -0.22669034111345737,
         "etb": -0.21976490010861385,
         "fof": -0.12303215547766928,
         "nbo": -0.14736716946167144,
         "pcu": -1.4302951902496808,
         "pts": -0.048778641263161254,
         "rht": -0.006569641469791943,
         "sra": 2.6956115814533486,
         "tbo": -0.019712327854376526,
         "the": -0.02369331562329046,
         "_deepnote_index_column": 13
        },
        {
         "volume [A^3]": -0.6204565186830596,
         "weight [u]": -0.6330186545381156,
         "surface_area [m^2/g]": -0.8445882228158336,
         "void_fraction": -0.910204903533627,
         "void_volume [cm^3/g]": -0.7718540337510174,
         "metal_linker": -0.3674289121810832,
         "organic_linker1": 0.6502928436587483,
         "organic_linker2": 0.12412047794882272,
         "CO2/N2_selectivity": -0.41280823415428747,
         "heat_adsorption_CO2_P0.15bar_T298K [kcal/mol]": 0.033432400406745534,
         "density [g/cm^3]": 0.273780340465632,
         "acs": -0.28035814407458926,
         "bcu": -0.22669034111345737,
         "etb": -0.21976490010861385,
         "fof": -0.12303215547766928,
         "nbo": -0.14736716946167144,
         "pcu": 0.699156374723668,
         "pts": -0.048778641263161254,
         "rht": -0.006569641469791943,
         "sra": -0.37097332823438006,
         "tbo": -0.019712327854376526,
         "the": -0.02369331562329046,
         "_deepnote_index_column": 14
        },
        {
         "volume [A^3]": -0.5431136796544681,
         "weight [u]": -0.5978670327953004,
         "surface_area [m^2/g]": -0.09579259987898589,
         "void_fraction": -0.1279977372955529,
         "void_volume [cm^3/g]": -0.23763304552785253,
         "metal_linker": -0.6862273248263476,
         "organic_linker1": 0.1871058969046443,
         "organic_linker2": -0.2689814266866603,
         "CO2/N2_selectivity": -0.2293864836800384,
         "heat_adsorption_CO2_P0.15bar_T298K [kcal/mol]": -0.1767217130493953,
         "density [g/cm^3]": -0.08434314510211059,
         "acs": -0.28035814407458926,
         "bcu": -0.22669034111345737,
         "etb": -0.21976490010861385,
         "fof": -0.12303215547766928,
         "nbo": -0.14736716946167144,
         "pcu": 0.699156374723668,
         "pts": -0.048778641263161254,
         "rht": -0.006569641469791943,
         "sra": -0.37097332823438006,
         "tbo": -0.019712327854376526,
         "the": -0.02369331562329046,
         "_deepnote_index_column": 15
        },
        {
         "volume [A^3]": -0.4484344259209137,
         "weight [u]": -0.6732416425899038,
         "surface_area [m^2/g]": 1.3845193174669996,
         "void_fraction": 0.553887285876831,
         "void_volume [cm^3/g]": 0.6866884614789623,
         "metal_linker": -0.3674289121810832,
         "organic_linker1": 0.001831118203002708,
         "organic_linker2": 0.5172223825843058,
         "CO2/N2_selectivity": -0.8863315260667209,
         "heat_adsorption_CO2_P0.15bar_T298K [kcal/mol]": -0.9317505188167028,
         "density [g/cm^3]": -0.977783335126361,
         "acs": -0.28035814407458926,
         "bcu": -0.22669034111345737,
         "etb": -0.21976490010861385,
         "fof": -0.12303215547766928,
         "nbo": -0.14736716946167144,
         "pcu": 0.699156374723668,
         "pts": -0.048778641263161254,
         "rht": -0.006569641469791943,
         "sra": -0.37097332823438006,
         "tbo": -0.019712327854376526,
         "the": -0.02369331562329046,
         "_deepnote_index_column": 16
        },
        {
         "volume [A^3]": -0.7032910820902926,
         "weight [u]": -0.8489515005903678,
         "surface_area [m^2/g]": 1.274416128250377,
         "void_fraction": 0.6326172519578248,
         "void_volume [cm^3/g]": 0.42824686778479426,
         "metal_linker": -0.6862273248263476,
         "organic_linker1": -0.09080627114781809,
         "organic_linker2": -0.6620833313221434,
         "CO2/N2_selectivity": -0.8046061423156289,
         "heat_adsorption_CO2_P0.15bar_T298K [kcal/mol]": -1.1224852841549073,
         "density [g/cm^3]": -0.5155929564837961,
         "acs": -0.28035814407458926,
         "bcu": -0.22669034111345737,
         "etb": -0.21976490010861385,
         "fof": -0.12303215547766928,
         "nbo": -0.14736716946167144,
         "pcu": 0.699156374723668,
         "pts": -0.048778641263161254,
         "rht": -0.006569641469791943,
         "sra": -0.37097332823438006,
         "tbo": -0.019712327854376526,
         "the": -0.02369331562329046,
         "_deepnote_index_column": 17
        },
        {
         "volume [A^3]": -0.5045148194625095,
         "weight [u]": -0.4778696711251376,
         "surface_area [m^2/g]": -0.4879270611594723,
         "void_fraction": -0.47387996861645215,
         "void_volume [cm^3/g]": -0.5475462354504186,
         "metal_linker": -0.3674289121810832,
         "organic_linker1": 0.09446850755382351,
         "organic_linker2": -0.6620833313221434,
         "CO2/N2_selectivity": 0.3806647092562528,
         "heat_adsorption_CO2_P0.15bar_T298K [kcal/mol]": -0.20051355823662656,
         "density [g/cm^3]": 0.2935020075621508,
         "acs": -0.28035814407458926,
         "bcu": -0.22669034111345737,
         "etb": -0.21976490010861385,
         "fof": -0.12303215547766928,
         "nbo": -0.14736716946167144,
         "pcu": 0.699156374723668,
         "pts": -0.048778641263161254,
         "rht": -0.006569641469791943,
         "sra": -0.37097332823438006,
         "tbo": -0.019712327854376526,
         "the": -0.02369331562329046,
         "_deepnote_index_column": 18
        },
        {
         "volume [A^3]": -0.5537419372856635,
         "weight [u]": 0.10057914033257005,
         "surface_area [m^2/g]": -1.1890129501070785,
         "void_fraction": -0.6283862539267583,
         "void_volume [cm^3/g]": -1.1283625634171863,
         "metal_linker": -0.3674289121810832,
         "organic_linker1": -1.0171801646560261,
         "organic_linker2": -0.2689814266866603,
         "CO2/N2_selectivity": -0.3800001313594421,
         "heat_adsorption_CO2_P0.15bar_T298K [kcal/mol]": -0.1659575378484077,
         "density [g/cm^3]": 3.8545777459681787,
         "acs": -0.28035814407458926,
         "bcu": -0.22669034111345737,
         "etb": -0.21976490010861385,
         "fof": -0.12303215547766928,
         "nbo": -0.14736716946167144,
         "pcu": 0.699156374723668,
         "pts": -0.048778641263161254,
         "rht": -0.006569641469791943,
         "sra": -0.37097332823438006,
         "tbo": -0.019712327854376526,
         "the": -0.02369331562329046,
         "_deepnote_index_column": 19
        },
        {
         "volume [A^3]": -0.7044990093326103,
         "weight [u]": -0.7360883889561927,
         "surface_area [m^2/g]": -0.682412207356549,
         "void_fraction": -0.6913294868349783,
         "void_volume [cm^3/g]": -0.6683690350181325,
         "metal_linker": -0.3674289121810832,
         "organic_linker1": -0.7392679966035637,
         "organic_linker2": -0.6620833313221434,
         "CO2/N2_selectivity": 0.46261831433656775,
         "heat_adsorption_CO2_P0.15bar_T298K [kcal/mol]": 0.7532824253158172,
         "density [g/cm^3]": 0.32225574335143536,
         "acs": -0.28035814407458926,
         "bcu": -0.22669034111345737,
         "etb": -0.21976490010861385,
         "fof": -0.12303215547766928,
         "nbo": -0.14736716946167144,
         "pcu": 0.699156374723668,
         "pts": -0.048778641263161254,
         "rht": -0.006569641469791943,
         "sra": -0.37097332823438006,
         "tbo": -0.019712327854376526,
         "the": -0.02369331562329046,
         "_deepnote_index_column": 20
        },
        {
         "volume [A^3]": -0.24489712930807447,
         "weight [u]": -0.16151913548143865,
         "surface_area [m^2/g]": -0.6159893808129778,
         "void_fraction": -0.41358483288559966,
         "void_volume [cm^3/g]": -0.4911983827372248,
         "metal_linker": -0.6862273248263476,
         "organic_linker1": 0.09446850755382351,
         "organic_linker2": -0.36725690284553103,
         "CO2/N2_selectivity": 0.1182886149356267,
         "heat_adsorption_CO2_P0.15bar_T298K [kcal/mol]": 0.5291066203539838,
         "density [g/cm^3]": 0.20521914005121167,
         "acs": -0.28035814407458926,
         "bcu": -0.22669034111345737,
         "etb": -0.21976490010861385,
         "fof": -0.12303215547766928,
         "nbo": -0.14736716946167144,
         "pcu": 0.699156374723668,
         "pts": -0.048778641263161254,
         "rht": -0.006569641469791943,
         "sra": -0.37097332823438006,
         "tbo": -0.019712327854376526,
         "the": -0.02369331562329046,
         "_deepnote_index_column": 21
        }
       ],
       "rows_bottom": [
        {
         "volume [A^3]": 10.867697943835827,
         "weight [u]": 2.3806327894772124,
         "surface_area [m^2/g]": 4.802402636338243,
         "void_fraction": 5.165141120698291,
         "void_volume [cm^3/g]": 15.856180579402057,
         "metal_linker": -0.6862273248263476,
         "organic_linker1": -0.9245427753052052,
         "organic_linker2": 0.22239595410769347,
         "CO2/N2_selectivity": -1.3770912885314048,
         "heat_adsorption_CO2_P0.15bar_T298K [kcal/mol]": -3.177101417300527,
         "density [g/cm^3]": -3.1127635123972452,
         "acs": -0.28035814407458926,
         "bcu": -0.22669034111345737,
         "etb": -0.21976490010861385,
         "fof": -0.12303215547766928,
         "nbo": 6.785771916856417,
         "pcu": -1.4302951902496808,
         "pts": -0.048778641263161254,
         "rht": -0.006569641469791943,
         "sra": -0.37097332823438006,
         "tbo": -0.019712327854376526,
         "the": -0.02369331562329046,
         "_deepnote_index_column": 16977
        },
        {
         "volume [A^3]": -0.11558420948340643,
         "weight [u]": -0.7655199636104316,
         "surface_area [m^2/g]": 4.394743971459184,
         "void_fraction": 3.1471892216520714,
         "void_volume [cm^3/g]": 5.601954998152949,
         "metal_linker": -0.6862273248263476,
         "organic_linker1": -0.553993217901922,
         "organic_linker2": -0.9569097597987556,
         "CO2/N2_selectivity": -1.3239251390974722,
         "heat_adsorption_CO2_P0.15bar_T298K [kcal/mol]": -3.1564832552778066,
         "density [g/cm^3]": -2.2845922271700134,
         "acs": -0.28035814407458926,
         "bcu": -0.22669034111345737,
         "etb": -0.21976490010861385,
         "fof": -0.12303215547766928,
         "nbo": -0.14736716946167144,
         "pcu": 0.699156374723668,
         "pts": -0.048778641263161254,
         "rht": -0.006569641469791943,
         "sra": -0.37097332823438006,
         "tbo": -0.019712327854376526,
         "the": -0.02369331562329046,
         "_deepnote_index_column": 16978
        },
        {
         "volume [A^3]": 0.19169155722293968,
         "weight [u]": 0.28527479711037423,
         "surface_area [m^2/g]": 0.5162639590363647,
         "void_fraction": 2.3084553656663234,
         "void_volume [cm^3/g]": 1.1542672777432539,
         "metal_linker": -0.6862273248263476,
         "organic_linker1": -0.9245427753052052,
         "organic_linker2": 0.22239595410769347,
         "CO2/N2_selectivity": -1.1098800020463198,
         "heat_adsorption_CO2_P0.15bar_T298K [kcal/mol]": -2.5323084004239784,
         "density [g/cm^3]": -0.0804361421478977,
         "acs": -0.28035814407458926,
         "bcu": -0.22669034111345737,
         "etb": -0.21976490010861385,
         "fof": -0.12303215547766928,
         "nbo": -0.14736716946167144,
         "pcu": 0.699156374723668,
         "pts": -0.048778641263161254,
         "rht": -0.006569641469791943,
         "sra": -0.37097332823438006,
         "tbo": -0.019712327854376526,
         "the": -0.02369331562329046,
         "_deepnote_index_column": 16979
        },
        {
         "volume [A^3]": 3.4081237581886286,
         "weight [u]": 1.942264764220524,
         "surface_area [m^2/g]": 2.3347093460050656,
         "void_fraction": 3.120199000421201,
         "void_volume [cm^3/g]": 3.880094652744007,
         "metal_linker": -0.6862273248263476,
         "organic_linker1": -1.0171801646560261,
         "organic_linker2": -0.17070595052778953,
         "CO2/N2_selectivity": -1.1129167671661362,
         "heat_adsorption_CO2_P0.15bar_T298K [kcal/mol]": -2.5022230816407105,
         "density [g/cm^3]": -1.720481332476597,
         "acs": -0.28035814407458926,
         "bcu": -0.22669034111345737,
         "etb": -0.21976490010861385,
         "fof": -0.12303215547766928,
         "nbo": 6.785771916856417,
         "pcu": -1.4302951902496808,
         "pts": -0.048778641263161254,
         "rht": -0.006569641469791943,
         "sra": -0.37097332823438006,
         "tbo": -0.019712327854376526,
         "the": -0.02369331562329046,
         "_deepnote_index_column": 16980
        },
        {
         "volume [A^3]": 0.9300115514607189,
         "weight [u]": 0.14046756742582733,
         "surface_area [m^2/g]": 2.1656611512457764,
         "void_fraction": 2.762502181693581,
         "void_volume [cm^3/g]": 3.610275127251982,
         "metal_linker": -0.6862273248263476,
         "organic_linker1": -0.7392679966035637,
         "organic_linker2": -0.9569097597987556,
         "CO2/N2_selectivity": -1.2665989768406338,
         "heat_adsorption_CO2_P0.15bar_T298K [kcal/mol]": -2.764479491727802,
         "density [g/cm^3]": -1.753260890763922,
         "acs": -0.28035814407458926,
         "bcu": -0.22669034111345737,
         "etb": -0.21976490010861385,
         "fof": -0.12303215547766928,
         "nbo": 6.785771916856417,
         "pcu": -1.4302951902496808,
         "pts": -0.048778641263161254,
         "rht": -0.006569641469791943,
         "sra": -0.37097332823438006,
         "tbo": -0.019712327854376526,
         "the": -0.02369331562329046,
         "_deepnote_index_column": 16981
        },
        {
         "volume [A^3]": -0.30681525889225064,
         "weight [u]": -0.7220226142749036,
         "surface_area [m^2/g]": 3.0404178879350487,
         "void_fraction": 2.682346317132467,
         "void_volume [cm^3/g]": 3.40763957999492,
         "metal_linker": -0.6862273248263476,
         "organic_linker1": 0.6502928436587483,
         "organic_linker2": 0.5172223825843058,
         "CO2/N2_selectivity": -1.326285184260056,
         "heat_adsorption_CO2_P0.15bar_T298K [kcal/mol]": -3.1718127437705355,
         "density [g/cm^3]": -1.694848460334496,
         "acs": -0.28035814407458926,
         "bcu": -0.22669034111345737,
         "etb": -0.21976490010861385,
         "fof": -0.12303215547766928,
         "nbo": -0.14736716946167144,
         "pcu": 0.699156374723668,
         "pts": -0.048778641263161254,
         "rht": -0.006569641469791943,
         "sra": -0.37097332823438006,
         "tbo": -0.019712327854376526,
         "the": -0.02369331562329046,
         "_deepnote_index_column": 16982
        },
        {
         "volume [A^3]": 5.677100547666107,
         "weight [u]": 2.1348926377076363,
         "surface_area [m^2/g]": 3.252689124083037,
         "void_fraction": 3.9274612399528386,
         "void_volume [cm^3/g]": 7.297266836033562,
         "metal_linker": -0.6862273248263476,
         "organic_linker1": -0.7392679966035637,
         "organic_linker2": -1.3500116644342386,
         "CO2/N2_selectivity": -1.2871233749383195,
         "heat_adsorption_CO2_P0.15bar_T298K [kcal/mol]": -3.1461430362429454,
         "density [g/cm^3]": -2.4356214432965686,
         "acs": -0.28035814407458926,
         "bcu": -0.22669034111345737,
         "etb": -0.21976490010861385,
         "fof": -0.12303215547766928,
         "nbo": 6.785771916856417,
         "pcu": -1.4302951902496808,
         "pts": -0.048778641263161254,
         "rht": -0.006569641469791943,
         "sra": -0.37097332823438006,
         "tbo": -0.019712327854376526,
         "the": -0.02369331562329046,
         "_deepnote_index_column": 16983
        },
        {
         "volume [A^3]": 0.8552584609197613,
         "weight [u]": 0.39430274455807857,
         "surface_area [m^2/g]": 1.1020183640840708,
         "void_fraction": 2.314464509261122,
         "void_volume [cm^3/g]": 2.307772839535463,
         "metal_linker": -0.3674289121810832,
         "organic_linker1": 0.9282050117112106,
         "organic_linker2": 0.12412047794882272,
         "CO2/N2_selectivity": -1.2896504496724084,
         "heat_adsorption_CO2_P0.15bar_T298K [kcal/mol]": -2.8305280300382716,
         "density [g/cm^3]": -1.2372093835958244,
         "acs": -0.28035814407458926,
         "bcu": -0.22669034111345737,
         "etb": -0.21976490010861385,
         "fof": -0.12303215547766928,
         "nbo": 6.785771916856417,
         "pcu": -1.4302951902496808,
         "pts": -0.048778641263161254,
         "rht": -0.006569641469791943,
         "sra": -0.37097332823438006,
         "tbo": -0.019712327854376526,
         "the": -0.02369331562329046,
         "_deepnote_index_column": 16984
        },
        {
         "volume [A^3]": 3.8079804931831482,
         "weight [u]": 2.903330223181781,
         "surface_area [m^2/g]": 1.0201207740807772,
         "void_fraction": 1.3458720416928813,
         "void_volume [cm^3/g]": 1.5606219848095557,
         "metal_linker": -1.005025737471612,
         "organic_linker1": -0.7392679966035637,
         "organic_linker2": -1.4482871405931095,
         "CO2/N2_selectivity": -1.229509616197037,
         "heat_adsorption_CO2_P0.15bar_T298K [kcal/mol]": -2.1621910745462114,
         "density [g/cm^3]": -1.2598560837932122,
         "acs": -0.28035814407458926,
         "bcu": -0.22669034111345737,
         "etb": -0.21976490010861385,
         "fof": -0.12303215547766928,
         "nbo": -0.14736716946167144,
         "pcu": 0.699156374723668,
         "pts": -0.048778641263161254,
         "rht": -0.006569641469791943,
         "sra": -0.37097332823438006,
         "tbo": -0.019712327854376526,
         "the": -0.02369331562329046,
         "_deepnote_index_column": 16985
        },
        {
         "volume [A^3]": 0.7126619807546217,
         "weight [u]": 0.36220604191191313,
         "surface_area [m^2/g]": 1.2163981253111282,
         "void_fraction": 2.692735006059065,
         "void_volume [cm^3/g]": 2.378207655426955,
         "metal_linker": -0.3674289121810832,
         "organic_linker1": -0.46135582855110124,
         "organic_linker2": 0.22239595410769347,
         "CO2/N2_selectivity": -1.1245534191170714,
         "heat_adsorption_CO2_P0.15bar_T298K [kcal/mol]": -2.190651228025993,
         "density [g/cm^3]": -1.0731629789933312,
         "acs": -0.28035814407458926,
         "bcu": -0.22669034111345737,
         "etb": -0.21976490010861385,
         "fof": -0.12303215547766928,
         "nbo": -0.14736716946167144,
         "pcu": 0.699156374723668,
         "pts": -0.048778641263161254,
         "rht": -0.006569641469791943,
         "sra": -0.37097332823438006,
         "tbo": -0.019712327854376526,
         "the": -0.02369331562329046,
         "_deepnote_index_column": 16986
        },
        {
         "volume [A^3]": 0.9060071375408353,
         "weight [u]": 0.0654531633381573,
         "surface_area [m^2/g]": 2.3871529732890946,
         "void_fraction": 2.941350591057391,
         "void_volume [cm^3/g]": 4.010128159005223,
         "metal_linker": -0.6862273248263476,
         "organic_linker1": -0.7392679966035637,
         "organic_linker2": 0.32067143026656425,
         "CO2/N2_selectivity": -1.2798021818147791,
         "heat_adsorption_CO2_P0.15bar_T298K [kcal/mol]": -2.8999119297121974,
         "density [g/cm^3]": -1.8483954013980965,
         "acs": -0.28035814407458926,
         "bcu": -0.22669034111345737,
         "etb": -0.21976490010861385,
         "fof": -0.12303215547766928,
         "nbo": 6.785771916856417,
         "pcu": -1.4302951902496808,
         "pts": -0.048778641263161254,
         "rht": -0.006569641469791943,
         "sra": -0.37097332823438006,
         "tbo": -0.019712327854376526,
         "the": -0.02369331562329046,
         "_deepnote_index_column": 16987
        },
        {
         "volume [A^3]": 4.299400711640514,
         "weight [u]": 2.894818788578482,
         "surface_area [m^2/g]": 1.8327930564104749,
         "void_fraction": 2.752622742224169,
         "void_volume [cm^3/g]": 3.140529085883337,
         "metal_linker": -1.005025737471612,
         "organic_linker1": -0.7392679966035637,
         "organic_linker2": -1.3500116644342386,
         "CO2/N2_selectivity": -1.2624123472243587,
         "heat_adsorption_CO2_P0.15bar_T298K [kcal/mol]": -2.7974810061735558,
         "density [g/cm^3]": -1.5264338228253571,
         "acs": -0.28035814407458926,
         "bcu": -0.22669034111345737,
         "etb": -0.21976490010861385,
         "fof": -0.12303215547766928,
         "nbo": -0.14736716946167144,
         "pcu": 0.699156374723668,
         "pts": -0.048778641263161254,
         "rht": -0.006569641469791943,
         "sra": -0.37097332823438006,
         "tbo": -0.019712327854376526,
         "the": -0.02369331562329046,
         "_deepnote_index_column": 16988
        },
        {
         "volume [A^3]": 1.6056982974923488,
         "weight [u]": 0.1270195737043449,
         "surface_area [m^2/g]": 2.8260948860248285,
         "void_fraction": 4.238307108619323,
         "void_volume [cm^3/g]": 7.309186574107507,
         "metal_linker": -0.3674289121810832,
         "organic_linker1": -0.8319053859543845,
         "organic_linker2": 0.6154978587431765,
         "CO2/N2_selectivity": -1.312023197333529,
         "heat_adsorption_CO2_P0.15bar_T298K [kcal/mol]": -3.0717746575763054,
         "density [g/cm^3]": -2.3576938098998337,
         "acs": -0.28035814407458926,
         "bcu": -0.22669034111345737,
         "etb": -0.21976490010861385,
         "fof": -0.12303215547766928,
         "nbo": -0.14736716946167144,
         "pcu": 0.699156374723668,
         "pts": -0.048778641263161254,
         "rht": -0.006569641469791943,
         "sra": -0.37097332823438006,
         "tbo": -0.019712327854376526,
         "the": -0.02369331562329046,
         "_deepnote_index_column": 16989
        },
        {
         "volume [A^3]": 4.4260418429836985,
         "weight [u]": 2.584746495887352,
         "surface_area [m^2/g]": 1.7250011936850407,
         "void_fraction": 4.085837821137761,
         "void_volume [cm^3/g]": 4.951787466846866,
         "metal_linker": -0.6862273248263476,
         "organic_linker1": -0.8319053859543845,
         "organic_linker2": -1.7431135690697217,
         "CO2/N2_selectivity": -1.3219991306566927,
         "heat_adsorption_CO2_P0.15bar_T298K [kcal/mol]": -2.3169398656477336,
         "density [g/cm^3]": -1.7748179355946097,
         "acs": -0.28035814407458926,
         "bcu": -0.22669034111345737,
         "etb": -0.21976490010861385,
         "fof": -0.12303215547766928,
         "nbo": -0.14736716946167144,
         "pcu": 0.699156374723668,
         "pts": -0.048778641263161254,
         "rht": -0.006569641469791943,
         "sra": -0.37097332823438006,
         "tbo": -0.019712327854376526,
         "the": -0.02369331562329046,
         "_deepnote_index_column": 16990
        },
        {
         "volume [A^3]": -0.036077264763586435,
         "weight [u]": -0.1882625557728301,
         "surface_area [m^2/g]": 1.0896954094759692,
         "void_fraction": 1.9491289486757086,
         "void_volume [cm^3/g]": 1.4154179028178635,
         "metal_linker": -0.6862273248263476,
         "organic_linker1": -0.36871843920028047,
         "organic_linker2": 0.32067143026656425,
         "CO2/N2_selectivity": -1.1987336563971083,
         "heat_adsorption_CO2_P0.15bar_T298K [kcal/mol]": -2.3359017243434663,
         "density [g/cm^3]": -0.6816386087130258,
         "acs": -0.28035814407458926,
         "bcu": -0.22669034111345737,
         "etb": -0.21976490010861385,
         "fof": -0.12303215547766928,
         "nbo": -0.14736716946167144,
         "pcu": 0.699156374723668,
         "pts": -0.048778641263161254,
         "rht": -0.006569641469791943,
         "sra": -0.37097332823438006,
         "tbo": -0.019712327854376526,
         "the": -0.02369331562329046,
         "_deepnote_index_column": 16991
        },
        {
         "volume [A^3]": -0.1148216734704842,
         "weight [u]": -0.6609084741054161,
         "surface_area [m^2/g]": 3.486491540699745,
         "void_fraction": 2.908962325580346,
         "void_volume [cm^3/g]": 4.2349777635819095,
         "metal_linker": -0.6862273248263476,
         "organic_linker1": -0.553993217901922,
         "organic_linker2": -0.9569097597987556,
         "CO2/N2_selectivity": -1.323877768700466,
         "heat_adsorption_CO2_P0.15bar_T298K [kcal/mol]": -3.1489406678928686,
         "density [g/cm^3]": -1.948001015673129,
         "acs": -0.28035814407458926,
         "bcu": -0.22669034111345737,
         "etb": -0.21976490010861385,
         "fof": -0.12303215547766928,
         "nbo": -0.14736716946167144,
         "pcu": 0.699156374723668,
         "pts": -0.048778641263161254,
         "rht": -0.006569641469791943,
         "sra": -0.37097332823438006,
         "tbo": -0.019712327854376526,
         "the": -0.02369331562329046,
         "_deepnote_index_column": 16992
        },
        {
         "volume [A^3]": 9.963295883253137,
         "weight [u]": 4.733155090751026,
         "surface_area [m^2/g]": 2.7273876488128903,
         "void_fraction": 4.159475292646893,
         "void_volume [cm^3/g]": 6.967306813895724,
         "metal_linker": -0.3674289121810832,
         "organic_linker1": -0.7392679966035637,
         "organic_linker2": -0.07243047436891878,
         "CO2/N2_selectivity": -1.3326214557788092,
         "heat_adsorption_CO2_P0.15bar_T298K [kcal/mol]": -3.3434491221561182,
         "density [g/cm^3]": -2.3079677133003025,
         "acs": -0.28035814407458926,
         "bcu": -0.22669034111345737,
         "etb": -0.21976490010861385,
         "fof": -0.12303215547766928,
         "nbo": 6.785771916856417,
         "pcu": -1.4302951902496808,
         "pts": -0.048778641263161254,
         "rht": -0.006569641469791943,
         "sra": -0.37097332823438006,
         "tbo": -0.019712327854376526,
         "the": -0.02369331562329046,
         "_deepnote_index_column": 16993
        },
        {
         "volume [A^3]": 0.8744117818986801,
         "weight [u]": -0.11875051234742871,
         "surface_area [m^2/g]": 2.736323953909839,
         "void_fraction": 3.5740421166655842,
         "void_volume [cm^3/g]": 5.495760968039623,
         "metal_linker": -0.3674289121810832,
         "organic_linker1": -1.0171801646560261,
         "organic_linker2": 0.12412047794882272,
         "CO2/N2_selectivity": -1.3692762469327793,
         "heat_adsorption_CO2_P0.15bar_T298K [kcal/mol]": -3.6106696517590198,
         "density [g/cm^3]": -2.1194083607997727,
         "acs": -0.28035814407458926,
         "bcu": -0.22669034111345737,
         "etb": -0.21976490010861385,
         "fof": -0.12303215547766928,
         "nbo": 6.785771916856417,
         "pcu": -1.4302951902496808,
         "pts": -0.048778641263161254,
         "rht": -0.006569641469791943,
         "sra": -0.37097332823438006,
         "tbo": -0.019712327854376526,
         "the": -0.02369331562329046,
         "_deepnote_index_column": 16994
        },
        {
         "volume [A^3]": 12.11718146875879,
         "weight [u]": 2.77230473004331,
         "surface_area [m^2/g]": 4.826764264756066,
         "void_fraction": 5.128678859563756,
         "void_volume [cm^3/g]": 15.755946418325701,
         "metal_linker": -0.3674289121810832,
         "organic_linker1": -0.8319053859543845,
         "organic_linker2": -0.6620833313221434,
         "CO2/N2_selectivity": -1.2905390304912931,
         "heat_adsorption_CO2_P0.15bar_T298K [kcal/mol]": -3.222734190741031,
         "density [g/cm^3]": -3.111581226745518,
         "acs": -0.28035814407458926,
         "bcu": -0.22669034111345737,
         "etb": -0.21976490010861385,
         "fof": -0.12303215547766928,
         "nbo": 6.785771916856417,
         "pcu": -1.4302951902496808,
         "pts": -0.048778641263161254,
         "rht": -0.006569641469791943,
         "sra": -0.37097332823438006,
         "tbo": -0.019712327854376526,
         "the": -0.02369331562329046,
         "_deepnote_index_column": 16995
        },
        {
         "volume [A^3]": 0.8945614985730225,
         "weight [u]": -0.040183540443684336,
         "surface_area [m^2/g]": 2.7220233937477794,
         "void_fraction": 3.2524001595067507,
         "void_volume [cm^3/g]": 4.778951264774666,
         "metal_linker": -0.3674289121810832,
         "organic_linker1": -1.0171801646560261,
         "organic_linker2": -0.9569097597987556,
         "CO2/N2_selectivity": -1.1351420558376408,
         "heat_adsorption_CO2_P0.15bar_T298K [kcal/mol]": -2.609347463413962,
         "density [g/cm^3]": -2.0097981459173044,
         "acs": -0.28035814407458926,
         "bcu": -0.22669034111345737,
         "etb": -0.21976490010861385,
         "fof": -0.12303215547766928,
         "nbo": 6.785771916856417,
         "pcu": -1.4302951902496808,
         "pts": -0.048778641263161254,
         "rht": -0.006569641469791943,
         "sra": -0.37097332823438006,
         "tbo": -0.019712327854376526,
         "the": -0.02369331562329046,
         "_deepnote_index_column": 16996
        },
        {
         "volume [A^3]": 0.7313698157279374,
         "weight [u]": -0.1946378950005391,
         "surface_area [m^2/g]": 3.0575736161156364,
         "void_fraction": 2.820352920029939,
         "void_volume [cm^3/g]": 4.579024748898046,
         "metal_linker": -0.6862273248263476,
         "organic_linker1": -0.46135582855110124,
         "organic_linker2": 0.22239595410769347,
         "CO2/N2_selectivity": -1.2814229253384903,
         "heat_adsorption_CO2_P0.15bar_T298K [kcal/mol]": -2.6881733699063783,
         "density [g/cm^3]": -2.101171493884125,
         "acs": -0.28035814407458926,
         "bcu": -0.22669034111345737,
         "etb": -0.21976490010861385,
         "fof": -0.12303215547766928,
         "nbo": -0.14736716946167144,
         "pcu": 0.699156374723668,
         "pts": -0.048778641263161254,
         "rht": -0.006569641469791943,
         "sra": -0.37097332823438006,
         "tbo": -0.019712327854376526,
         "the": -0.02369331562329046,
         "_deepnote_index_column": 16997
        },
        {
         "volume [A^3]": 0.7363797007136793,
         "weight [u]": -0.2893054462232284,
         "surface_area [m^2/g]": 3.110845365725385,
         "void_fraction": 3.4001843519821993,
         "void_volume [cm^3/g]": 5.880443424062388,
         "metal_linker": -0.3674289121810832,
         "organic_linker1": -0.46135582855110124,
         "organic_linker2": 0.418946906425435,
         "CO2/N2_selectivity": -1.2703708707321133,
         "heat_adsorption_CO2_P0.15bar_T298K [kcal/mol]": -2.8541090947587273,
         "density [g/cm^3]": -2.275748244658431,
         "acs": -0.28035814407458926,
         "bcu": -0.22669034111345737,
         "etb": -0.21976490010861385,
         "fof": -0.12303215547766928,
         "nbo": -0.14736716946167144,
         "pcu": 0.699156374723668,
         "pts": -0.048778641263161254,
         "rht": -0.006569641469791943,
         "sra": -0.37097332823438006,
         "tbo": -0.019712327854376526,
         "the": -0.02369331562329046,
         "_deepnote_index_column": 16998
        },
        {
         "volume [A^3]": 9.286783210975893,
         "weight [u]": 2.8329532604207617,
         "surface_area [m^2/g]": 3.9445667871700256,
         "void_fraction": 4.529394098346982,
         "void_volume [cm^3/g]": 10.795709960736376,
         "metal_linker": -1.005025737471612,
         "organic_linker1": -0.9245427753052052,
         "organic_linker2": 0.6154978587431765,
         "CO2/N2_selectivity": -1.308720619622719,
         "heat_adsorption_CO2_P0.15bar_T298K [kcal/mol]": -3.194978235638884,
         "density [g/cm^3]": -2.8061513912659697,
         "acs": -0.28035814407458926,
         "bcu": -0.22669034111345737,
         "etb": -0.21976490010861385,
         "fof": -0.12303215547766928,
         "nbo": -0.14736716946167144,
         "pcu": 0.699156374723668,
         "pts": -0.048778641263161254,
         "rht": -0.006569641469791943,
         "sra": -0.37097332823438006,
         "tbo": -0.019712327854376526,
         "the": -0.02369331562329046,
         "_deepnote_index_column": 16999
        }
       ]
      },
      "text/plain": "       volume [A^3]  weight [u]  surface_area [m^2/g]  void_fraction  \\\n0         -0.676648   -0.651973             -1.518383      -1.616025   \n1          0.510338    1.908794             -1.189668      -0.600072   \n2         -0.516445   -0.696018              1.657145       0.674681   \n3         -0.177007   -0.479194              2.108731       1.344955   \n4          0.102354   -0.181128              1.067237       1.191671   \n...             ...         ...                   ...            ...   \n16995     12.117181    2.772305              4.826764       5.128679   \n16996      0.894561   -0.040184              2.722023       3.252400   \n16997      0.731370   -0.194638              3.057574       2.820353   \n16998      0.736380   -0.289305              3.110845       3.400184   \n16999      9.286783    2.832953              3.944567       4.529394   \n\n       void_volume [cm^3/g]  metal_linker  organic_linker1  organic_linker2  \\\n0                 -1.191212     -0.686227        -0.646631         0.517222   \n1                 -0.983700     -0.048630        -0.553993        -0.367257   \n2                  0.616254     -0.367429        -0.090806        -0.367257   \n3                  1.476642     -0.686227        -1.017180         0.713773   \n4                  1.214408     -0.367429        -0.368718        -0.170706   \n...                     ...           ...              ...              ...   \n16995             15.755946     -0.367429        -0.831905        -0.662083   \n16996              4.778951     -0.367429        -1.017180        -0.956910   \n16997              4.579025     -0.686227        -0.461356         0.222396   \n16998              5.880443     -0.367429        -0.461356         0.418947   \n16999             10.795710     -1.005026        -0.924543         0.615498   \n\n       CO2/N2_selectivity  heat_adsorption_CO2_P0.15bar_T298K [kcal/mol]  ...  \\\n0                0.967949                                       1.398798  ...   \n1               -0.315892                                      -0.860195  ...   \n2               -0.690711                                      -0.948818  ...   \n3               -0.934242                                      -0.875957  ...   \n4               -0.696895                                      -0.658708  ...   \n...                   ...                                            ...  ...   \n16995           -1.290539                                      -3.222734  ...   \n16996           -1.135142                                      -2.609347  ...   \n16997           -1.281423                                      -2.688173  ...   \n16998           -1.270371                                      -2.854109  ...   \n16999           -1.308721                                      -3.194978  ...   \n\n           bcu       etb       fof       nbo       pcu       pts      rht  \\\n0     -0.22669 -0.219765 -0.123032 -0.147367  0.699156 -0.048779 -0.00657   \n1     -0.22669 -0.219765 -0.123032 -0.147367 -1.430295 -0.048779 -0.00657   \n2     -0.22669 -0.219765 -0.123032 -0.147367  0.699156 -0.048779 -0.00657   \n3     -0.22669 -0.219765 -0.123032 -0.147367  0.699156 -0.048779 -0.00657   \n4     -0.22669 -0.219765 -0.123032 -0.147367  0.699156 -0.048779 -0.00657   \n...        ...       ...       ...       ...       ...       ...      ...   \n16995 -0.22669 -0.219765 -0.123032  6.785772 -1.430295 -0.048779 -0.00657   \n16996 -0.22669 -0.219765 -0.123032  6.785772 -1.430295 -0.048779 -0.00657   \n16997 -0.22669 -0.219765 -0.123032 -0.147367  0.699156 -0.048779 -0.00657   \n16998 -0.22669 -0.219765 -0.123032 -0.147367  0.699156 -0.048779 -0.00657   \n16999 -0.22669 -0.219765 -0.123032 -0.147367  0.699156 -0.048779 -0.00657   \n\n            sra       tbo       the  \n0     -0.370973 -0.019712 -0.023693  \n1     -0.370973 -0.019712 -0.023693  \n2     -0.370973 -0.019712 -0.023693  \n3     -0.370973 -0.019712 -0.023693  \n4     -0.370973 -0.019712 -0.023693  \n...         ...       ...       ...  \n16995 -0.370973 -0.019712 -0.023693  \n16996 -0.370973 -0.019712 -0.023693  \n16997 -0.370973 -0.019712 -0.023693  \n16998 -0.370973 -0.019712 -0.023693  \n16999 -0.370973 -0.019712 -0.023693  \n\n[17000 rows x 22 columns]",
      "text/html": "<div>\n<style scoped>\n    .dataframe tbody tr th:only-of-type {\n        vertical-align: middle;\n    }\n\n    .dataframe tbody tr th {\n        vertical-align: top;\n    }\n\n    .dataframe thead th {\n        text-align: right;\n    }\n</style>\n<table border=\"1\" class=\"dataframe\">\n  <thead>\n    <tr style=\"text-align: right;\">\n      <th></th>\n      <th>volume [A^3]</th>\n      <th>weight [u]</th>\n      <th>surface_area [m^2/g]</th>\n      <th>void_fraction</th>\n      <th>void_volume [cm^3/g]</th>\n      <th>metal_linker</th>\n      <th>organic_linker1</th>\n      <th>organic_linker2</th>\n      <th>CO2/N2_selectivity</th>\n      <th>heat_adsorption_CO2_P0.15bar_T298K [kcal/mol]</th>\n      <th>...</th>\n      <th>bcu</th>\n      <th>etb</th>\n      <th>fof</th>\n      <th>nbo</th>\n      <th>pcu</th>\n      <th>pts</th>\n      <th>rht</th>\n      <th>sra</th>\n      <th>tbo</th>\n      <th>the</th>\n    </tr>\n  </thead>\n  <tbody>\n    <tr>\n      <th>0</th>\n      <td>-0.676648</td>\n      <td>-0.651973</td>\n      <td>-1.518383</td>\n      <td>-1.616025</td>\n      <td>-1.191212</td>\n      <td>-0.686227</td>\n      <td>-0.646631</td>\n      <td>0.517222</td>\n      <td>0.967949</td>\n      <td>1.398798</td>\n      <td>...</td>\n      <td>-0.22669</td>\n      <td>-0.219765</td>\n      <td>-0.123032</td>\n      <td>-0.147367</td>\n      <td>0.699156</td>\n      <td>-0.048779</td>\n      <td>-0.00657</td>\n      <td>-0.370973</td>\n      <td>-0.019712</td>\n      <td>-0.023693</td>\n    </tr>\n    <tr>\n      <th>1</th>\n      <td>0.510338</td>\n      <td>1.908794</td>\n      <td>-1.189668</td>\n      <td>-0.600072</td>\n      <td>-0.983700</td>\n      <td>-0.048630</td>\n      <td>-0.553993</td>\n      <td>-0.367257</td>\n      <td>-0.315892</td>\n      <td>-0.860195</td>\n      <td>...</td>\n      <td>-0.22669</td>\n      <td>-0.219765</td>\n      <td>-0.123032</td>\n      <td>-0.147367</td>\n      <td>-1.430295</td>\n      <td>-0.048779</td>\n      <td>-0.00657</td>\n      <td>-0.370973</td>\n      <td>-0.019712</td>\n      <td>-0.023693</td>\n    </tr>\n    <tr>\n      <th>2</th>\n      <td>-0.516445</td>\n      <td>-0.696018</td>\n      <td>1.657145</td>\n      <td>0.674681</td>\n      <td>0.616254</td>\n      <td>-0.367429</td>\n      <td>-0.090806</td>\n      <td>-0.367257</td>\n      <td>-0.690711</td>\n      <td>-0.948818</td>\n      <td>...</td>\n      <td>-0.22669</td>\n      <td>-0.219765</td>\n      <td>-0.123032</td>\n      <td>-0.147367</td>\n      <td>0.699156</td>\n      <td>-0.048779</td>\n      <td>-0.00657</td>\n      <td>-0.370973</td>\n      <td>-0.019712</td>\n      <td>-0.023693</td>\n    </tr>\n    <tr>\n      <th>3</th>\n      <td>-0.177007</td>\n      <td>-0.479194</td>\n      <td>2.108731</td>\n      <td>1.344955</td>\n      <td>1.476642</td>\n      <td>-0.686227</td>\n      <td>-1.017180</td>\n      <td>0.713773</td>\n      <td>-0.934242</td>\n      <td>-0.875957</td>\n      <td>...</td>\n      <td>-0.22669</td>\n      <td>-0.219765</td>\n      <td>-0.123032</td>\n      <td>-0.147367</td>\n      <td>0.699156</td>\n      <td>-0.048779</td>\n      <td>-0.00657</td>\n      <td>-0.370973</td>\n      <td>-0.019712</td>\n      <td>-0.023693</td>\n    </tr>\n    <tr>\n      <th>4</th>\n      <td>0.102354</td>\n      <td>-0.181128</td>\n      <td>1.067237</td>\n      <td>1.191671</td>\n      <td>1.214408</td>\n      <td>-0.367429</td>\n      <td>-0.368718</td>\n      <td>-0.170706</td>\n      <td>-0.696895</td>\n      <td>-0.658708</td>\n      <td>...</td>\n      <td>-0.22669</td>\n      <td>-0.219765</td>\n      <td>-0.123032</td>\n      <td>-0.147367</td>\n      <td>0.699156</td>\n      <td>-0.048779</td>\n      <td>-0.00657</td>\n      <td>-0.370973</td>\n      <td>-0.019712</td>\n      <td>-0.023693</td>\n    </tr>\n    <tr>\n      <th>...</th>\n      <td>...</td>\n      <td>...</td>\n      <td>...</td>\n      <td>...</td>\n      <td>...</td>\n      <td>...</td>\n      <td>...</td>\n      <td>...</td>\n      <td>...</td>\n      <td>...</td>\n      <td>...</td>\n      <td>...</td>\n      <td>...</td>\n      <td>...</td>\n      <td>...</td>\n      <td>...</td>\n      <td>...</td>\n      <td>...</td>\n      <td>...</td>\n      <td>...</td>\n      <td>...</td>\n    </tr>\n    <tr>\n      <th>16995</th>\n      <td>12.117181</td>\n      <td>2.772305</td>\n      <td>4.826764</td>\n      <td>5.128679</td>\n      <td>15.755946</td>\n      <td>-0.367429</td>\n      <td>-0.831905</td>\n      <td>-0.662083</td>\n      <td>-1.290539</td>\n      <td>-3.222734</td>\n      <td>...</td>\n      <td>-0.22669</td>\n      <td>-0.219765</td>\n      <td>-0.123032</td>\n      <td>6.785772</td>\n      <td>-1.430295</td>\n      <td>-0.048779</td>\n      <td>-0.00657</td>\n      <td>-0.370973</td>\n      <td>-0.019712</td>\n      <td>-0.023693</td>\n    </tr>\n    <tr>\n      <th>16996</th>\n      <td>0.894561</td>\n      <td>-0.040184</td>\n      <td>2.722023</td>\n      <td>3.252400</td>\n      <td>4.778951</td>\n      <td>-0.367429</td>\n      <td>-1.017180</td>\n      <td>-0.956910</td>\n      <td>-1.135142</td>\n      <td>-2.609347</td>\n      <td>...</td>\n      <td>-0.22669</td>\n      <td>-0.219765</td>\n      <td>-0.123032</td>\n      <td>6.785772</td>\n      <td>-1.430295</td>\n      <td>-0.048779</td>\n      <td>-0.00657</td>\n      <td>-0.370973</td>\n      <td>-0.019712</td>\n      <td>-0.023693</td>\n    </tr>\n    <tr>\n      <th>16997</th>\n      <td>0.731370</td>\n      <td>-0.194638</td>\n      <td>3.057574</td>\n      <td>2.820353</td>\n      <td>4.579025</td>\n      <td>-0.686227</td>\n      <td>-0.461356</td>\n      <td>0.222396</td>\n      <td>-1.281423</td>\n      <td>-2.688173</td>\n      <td>...</td>\n      <td>-0.22669</td>\n      <td>-0.219765</td>\n      <td>-0.123032</td>\n      <td>-0.147367</td>\n      <td>0.699156</td>\n      <td>-0.048779</td>\n      <td>-0.00657</td>\n      <td>-0.370973</td>\n      <td>-0.019712</td>\n      <td>-0.023693</td>\n    </tr>\n    <tr>\n      <th>16998</th>\n      <td>0.736380</td>\n      <td>-0.289305</td>\n      <td>3.110845</td>\n      <td>3.400184</td>\n      <td>5.880443</td>\n      <td>-0.367429</td>\n      <td>-0.461356</td>\n      <td>0.418947</td>\n      <td>-1.270371</td>\n      <td>-2.854109</td>\n      <td>...</td>\n      <td>-0.22669</td>\n      <td>-0.219765</td>\n      <td>-0.123032</td>\n      <td>-0.147367</td>\n      <td>0.699156</td>\n      <td>-0.048779</td>\n      <td>-0.00657</td>\n      <td>-0.370973</td>\n      <td>-0.019712</td>\n      <td>-0.023693</td>\n    </tr>\n    <tr>\n      <th>16999</th>\n      <td>9.286783</td>\n      <td>2.832953</td>\n      <td>3.944567</td>\n      <td>4.529394</td>\n      <td>10.795710</td>\n      <td>-1.005026</td>\n      <td>-0.924543</td>\n      <td>0.615498</td>\n      <td>-1.308721</td>\n      <td>-3.194978</td>\n      <td>...</td>\n      <td>-0.22669</td>\n      <td>-0.219765</td>\n      <td>-0.123032</td>\n      <td>-0.147367</td>\n      <td>0.699156</td>\n      <td>-0.048779</td>\n      <td>-0.00657</td>\n      <td>-0.370973</td>\n      <td>-0.019712</td>\n      <td>-0.023693</td>\n    </tr>\n  </tbody>\n</table>\n<p>17000 rows × 22 columns</p>\n</div>"
     },
     "metadata": {}
    }
   ],
   "execution_count": null
  },
  {
   "cell_type": "markdown",
   "source": "## Save to .csv",
   "metadata": {
    "tags": [],
    "cell_id": "00038-bab6e791-9d29-4e03-89a2-4ac9b87303c1",
    "deepnote_cell_type": "markdown"
   }
  },
  {
   "cell_type": "code",
   "metadata": {
    "tags": [],
    "cell_id": "00056-f9af4b67-45ad-447f-9550-01bc19f92328",
    "deepnote_to_be_reexecuted": false,
    "source_hash": "5ee9b8f2",
    "execution_start": 1634389176104,
    "execution_millis": 1391,
    "deepnote_cell_type": "code"
   },
   "source": "processed_train_path = os.path.join(\".\", \"processed\", \"train.csv\")\nprocessed_train_set.to_csv(processed_train_path, index=False)",
   "outputs": [],
   "execution_count": null
  },
  {
   "cell_type": "code",
   "metadata": {
    "tags": [],
    "cell_id": "00057-def11df9-5d8f-495f-8c4e-25f7329b933d",
    "deepnote_to_be_reexecuted": false,
    "source_hash": "4b3f7886",
    "execution_start": 1634389178239,
    "execution_millis": 493,
    "deepnote_cell_type": "code"
   },
   "source": "processed_test_path = os.path.join(\".\", \"processed\", \"test.csv\")\nprocessed_test_set.to_csv(processed_test_path, index=False)",
   "outputs": [],
   "execution_count": null
  },
  {
   "cell_type": "code",
   "metadata": {
    "tags": [],
    "cell_id": "00059-0da6b2ce-bba9-403b-96ce-538b26ea8d0e",
    "deepnote_cell_type": "code"
   },
   "source": "",
   "execution_count": null,
   "outputs": []
  },
  {
   "cell_type": "markdown",
   "source": "<a style='text-decoration:none;line-height:16px;display:flex;color:#5B5B62;padding:10px;justify-content:end;' href='https://deepnote.com?utm_source=created-in-deepnote-cell&projectId=d59402b5-3ee5-4c9e-aee0-4349ccd0c385' target=\"_blank\">\n<img alt='Created in deepnote.com' style='display:inline;max-height:16px;margin:0px;margin-right:7.5px;' src='data:image/svg+xml;base64,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' > </img>\nCreated in <span style='font-weight:600;margin-left:4px;'>Deepnote</span></a>",
   "metadata": {
    "tags": [],
    "created_in_deepnote_cell": true,
    "deepnote_cell_type": "markdown"
   }
  }
 ],
 "nbformat": 4,
 "nbformat_minor": 2,
 "metadata": {
  "orig_nbformat": 2,
  "deepnote": {
   "is_reactive": false
  },
  "deepnote_notebook_id": "66b8b133-0318-4913-9451-b8b141a95829",
  "deepnote_execution_queue": []
 }
}