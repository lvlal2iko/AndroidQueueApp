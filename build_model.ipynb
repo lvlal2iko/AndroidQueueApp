{
 "cells": [
  {
   "cell_type": "markdown",
   "source": "# Dependencies",
   "metadata": {
    "tags": [],
    "cell_id": "00000-bc37cd86-ff0a-4782-9b9d-c7bcbf328776",
    "deepnote_cell_type": "markdown"
   }
  },
  {
   "cell_type": "code",
   "metadata": {
    "tags": [],
    "cell_id": "00000-159ae1e5-30e6-469d-8f0f-a5bf94be9c4c",
    "deepnote_to_be_reexecuted": false,
    "source_hash": "f04f2a67",
    "execution_start": 1634400730503,
    "execution_millis": 832,
    "deepnote_cell_type": "code"
   },
   "source": "import os\nimport datetime as dt\n\n!python --version",
   "execution_count": null,
   "outputs": [
    {
     "name": "stdout",
     "text": "Python 3.7.12\r\n",
     "output_type": "stream"
    }
   ]
  },
  {
   "cell_type": "code",
   "metadata": {
    "tags": [],
    "cell_id": "00002-f1a3ba54-dec0-468c-8867-d9202c3a0b9d",
    "deepnote_to_be_reexecuted": false,
    "source_hash": "16b9bd07",
    "execution_start": 1634400731343,
    "execution_millis": 6561,
    "deepnote_cell_type": "code"
   },
   "source": "!pip install lightgbm==3.2.1",
   "execution_count": null,
   "outputs": [
    {
     "name": "stdout",
     "text": "Collecting lightgbm==3.2.1\n  Downloading lightgbm-3.2.1-py3-none-manylinux1_x86_64.whl (2.0 MB)\n\u001b[K     |████████████████████████████████| 2.0 MB 33.2 MB/s \n\u001b[?25hRequirement already satisfied: scipy in /shared-libs/python3.7/py/lib/python3.7/site-packages (from lightgbm==3.2.1) (1.7.1)\nRequirement already satisfied: wheel in /root/venv/lib/python3.7/site-packages (from lightgbm==3.2.1) (0.37.0)\nRequirement already satisfied: scikit-learn!=0.22.0 in /shared-libs/python3.7/py/lib/python3.7/site-packages (from lightgbm==3.2.1) (1.0)\nRequirement already satisfied: numpy in /shared-libs/python3.7/py/lib/python3.7/site-packages (from lightgbm==3.2.1) (1.19.5)\nRequirement already satisfied: threadpoolctl>=2.0.0 in /shared-libs/python3.7/py/lib/python3.7/site-packages (from scikit-learn!=0.22.0->lightgbm==3.2.1) (3.0.0)\nRequirement already satisfied: joblib>=0.11 in /shared-libs/python3.7/py/lib/python3.7/site-packages (from scikit-learn!=0.22.0->lightgbm==3.2.1) (1.1.0)\nInstalling collected packages: lightgbm\nSuccessfully installed lightgbm-3.2.1\n\u001b[33mWARNING: You are using pip version 21.2.4; however, version 21.3 is available.\nYou should consider upgrading via the '/root/venv/bin/python -m pip install --upgrade pip' command.\u001b[0m\n",
     "output_type": "stream"
    }
   ]
  },
  {
   "cell_type": "code",
   "metadata": {
    "tags": [],
    "cell_id": "00003-cf9b4291-2c03-450b-8566-d490b0e0366c",
    "deepnote_to_be_reexecuted": false,
    "source_hash": "395d8506",
    "execution_start": 1634400737919,
    "execution_millis": 20678,
    "deepnote_cell_type": "code"
   },
   "source": "!pip install xgboost==1.4.2",
   "execution_count": null,
   "outputs": [
    {
     "name": "stdout",
     "text": "Collecting xgboost==1.4.2\n  Downloading xgboost-1.4.2-py3-none-manylinux2010_x86_64.whl (166.7 MB)\n\u001b[K     |████████████████████████████████| 166.7 MB 51.2 MB/s \n\u001b[?25hRequirement already satisfied: numpy in /shared-libs/python3.7/py/lib/python3.7/site-packages (from xgboost==1.4.2) (1.19.5)\nRequirement already satisfied: scipy in /shared-libs/python3.7/py/lib/python3.7/site-packages (from xgboost==1.4.2) (1.7.1)\nInstalling collected packages: xgboost\nSuccessfully installed xgboost-1.4.2\n\u001b[33mWARNING: You are using pip version 21.2.4; however, version 21.3 is available.\nYou should consider upgrading via the '/root/venv/bin/python -m pip install --upgrade pip' command.\u001b[0m\n",
     "output_type": "stream"
    }
   ]
  },
  {
   "cell_type": "code",
   "metadata": {
    "tags": [],
    "cell_id": "00002-2a5e7b7b-307a-47e0-af30-453f2d45a20d",
    "deepnote_to_be_reexecuted": false,
    "source_hash": "7bf436d9",
    "execution_start": 1634400758607,
    "execution_millis": 7422,
    "deepnote_cell_type": "code"
   },
   "source": "import sklearn\nimport joblib\nimport numpy as np\nimport pandas as pd\nfrom joblib import dump\nfrom sklearn.svm import SVR, LinearSVR, NuSVR\nfrom sklearn.ensemble import AdaBoostRegressor, GradientBoostingRegressor\nfrom sklearn.gaussian_process import GaussianProcessRegressor\nfrom sklearn.neighbors import KNeighborsRegressor\nfrom sklearn.neural_network import MLPRegressor\nfrom sklearn.linear_model import HuberRegressor, LinearRegression, ElasticNet\nfrom sklearn.model_selection import KFold\nfrom sklearn.metrics import mean_absolute_error\nfrom sklearn.preprocessing import StandardScaler, OneHotEncoder\nfrom sklearn.inspection import permutation_importance\nimport lightgbm as lgbm\nimport xgboost as xgb\nfrom sklearn.model_selection import GridSearchCV\n\n\nprint(\"numpy==%s\" %np.__version__)\nprint(\"pandas==%s\" %pd.__version__)\nprint(\"scikit-learn==%s\" %sklearn.__version__)\nprint(\"joblib==%s\" %joblib.__version__)\n\nREGRESSORS = {\n    #('KNeighborsRegressor', KNeighborsRegressor()),\n    ('LinearRegression', LinearRegression()),\n    ('HuberRegressor', HuberRegressor()),\n    ('ElasticNet', ElasticNet()),\n    ('LinearSVR', LinearSVR()),\n    #('SVR', SVR()),\n    #('NuSVR', NuSVR()),\n    ('GradientBoostingRegressor', GradientBoostingRegressor()),\n    ('AdaBoostRegressor', AdaBoostRegressor()),\n    #('GaussianProcessRegressor', GaussianProcessRegressor()),\n    #('MLPRegressor', MLPRegressor((16,8,4))),\n}",
   "execution_count": null,
   "outputs": [
    {
     "name": "stdout",
     "text": "numpy==1.19.5\npandas==1.2.5\nscikit-learn==1.0\njoblib==1.1.0\n",
     "output_type": "stream"
    }
   ]
  },
  {
   "cell_type": "code",
   "metadata": {
    "tags": [],
    "cell_id": "00003-e92bedb8-6768-4b1e-878e-18a77f909262",
    "deepnote_to_be_reexecuted": false,
    "source_hash": "5216c7aa",
    "execution_start": 1634400766035,
    "execution_millis": 3,
    "deepnote_cell_type": "code"
   },
   "source": "\n\nparams = {\n    'num_leaves': [7, 14, 21, 28, 31, 50],\n    'learning_rate': [0.1, 0.03, 0.003],\n    'max_depth': [-1, 3, 5],\n    'n_estimators': [50, 100, 200, 500],\n}\n\ngrid = GridSearchCV(lgbm.LGBMRegressor(random_state=0), params, scoring='r2', cv=5)",
   "execution_count": null,
   "outputs": []
  },
  {
   "cell_type": "code",
   "metadata": {
    "tags": [],
    "cell_id": "00003-788944e8-4083-4c87-8d06-0307f1f94828",
    "deepnote_to_be_reexecuted": false,
    "source_hash": "daa68d47",
    "execution_start": 1634400766041,
    "execution_millis": 3,
    "deepnote_cell_type": "code"
   },
   "source": "TREES = {\n    ('Lightgbm', grid),\n    ('XGBoost',xgb.XGBRegressor(objective='reg:squarederror')),\n}",
   "execution_count": null,
   "outputs": []
  },
  {
   "cell_type": "markdown",
   "source": "# Import datasets",
   "metadata": {
    "tags": [],
    "cell_id": "00003-47020588-d524-49a1-a47c-55e20edc8710",
    "deepnote_cell_type": "markdown"
   }
  },
  {
   "cell_type": "code",
   "metadata": {
    "tags": [],
    "cell_id": "00004-dfad7fe2-6ee4-43f6-baa5-530156950438",
    "deepnote_to_be_reexecuted": false,
    "source_hash": "79661d68",
    "execution_start": 1634400766049,
    "execution_millis": 13,
    "deepnote_cell_type": "code"
   },
   "source": "training_path = os.path.join(\".\", \"processed\", \"train.csv\")\nprint(\"Read the training dataset from %s\" %(training_path))\n\npretesting_path = os.path.join(\".\", \"processed\", \"test.csv\")\nprint(\"Read the pretesting dataset from %s\" %(pretesting_path))",
   "execution_count": null,
   "outputs": [
    {
     "name": "stdout",
     "text": "Read the training dataset from ./processed/train.csv\nRead the pretesting dataset from ./processed/test.csv\n",
     "output_type": "stream"
    }
   ]
  },
  {
   "cell_type": "code",
   "metadata": {
    "tags": [],
    "cell_id": "00005-6bbac58e-92c0-40f5-8ef0-653d7a2eb124",
    "deepnote_to_be_reexecuted": false,
    "source_hash": "2c012917",
    "execution_start": 1634400766104,
    "execution_millis": 656,
    "deepnote_cell_type": "code"
   },
   "source": "training_set = pd.read_csv(training_path)\ntraining_set",
   "execution_count": null,
   "outputs": [
    {
     "output_type": "execute_result",
     "execution_count": 8,
     "data": {
      "application/vnd.deepnote.dataframe.v2+json": {
       "row_count": 46341,
       "column_count": 23,
       "columns": [
        {
         "name": "volume [A^3]",
         "dtype": "float64",
         "stats": {
          "unique_count": 46336,
          "nan_count": 0,
          "min": "-0.9214086382378756",
          "max": "18.79549619162176",
          "histogram": [
           {
            "bin_start": -0.9214086382378756,
            "bin_end": 1.050281844748088,
            "count": 43049
           },
           {
            "bin_start": 1.050281844748088,
            "bin_end": 3.0219723277340513,
            "count": 2323
           },
           {
            "bin_start": 3.0219723277340513,
            "bin_end": 4.993662810720015,
            "count": 656
           },
           {
            "bin_start": 4.993662810720015,
            "bin_end": 6.965353293705978,
            "count": 195
           },
           {
            "bin_start": 6.965353293705978,
            "bin_end": 8.93704377669194,
            "count": 77
           },
           {
            "bin_start": 8.93704377669194,
            "bin_end": 10.908734259677905,
            "count": 25
           },
           {
            "bin_start": 10.908734259677905,
            "bin_end": 12.880424742663868,
            "count": 4
           },
           {
            "bin_start": 12.880424742663868,
            "bin_end": 14.85211522564983,
            "count": 5
           },
           {
            "bin_start": 14.85211522564983,
            "bin_end": 16.823805708635795,
            "count": 4
           },
           {
            "bin_start": 16.823805708635795,
            "bin_end": 18.79549619162176,
            "count": 3
           }
          ]
         }
        },
        {
         "name": "weight [u]",
         "dtype": "float64",
         "stats": {
          "unique_count": 37493,
          "nan_count": 0,
          "min": "-0.9645976108136776",
          "max": "17.711842652694564",
          "histogram": [
           {
            "bin_start": -0.9645976108136776,
            "bin_end": 0.9030464155371465,
            "count": 40924
           },
           {
            "bin_start": 0.9030464155371465,
            "bin_end": 2.7706904418879708,
            "count": 4228
           },
           {
            "bin_start": 2.7706904418879708,
            "bin_end": 4.638334468238795,
            "count": 844
           },
           {
            "bin_start": 4.638334468238795,
            "bin_end": 6.505978494589619,
            "count": 261
           },
           {
            "bin_start": 6.505978494589619,
            "bin_end": 8.373622520940442,
            "count": 53
           },
           {
            "bin_start": 8.373622520940442,
            "bin_end": 10.241266547291266,
            "count": 21
           },
           {
            "bin_start": 10.241266547291266,
            "bin_end": 12.10891057364209,
            "count": 5
           },
           {
            "bin_start": 12.10891057364209,
            "bin_end": 13.976554599992914,
            "count": 3
           },
           {
            "bin_start": 13.976554599992914,
            "bin_end": 15.844198626343738,
            "count": 0
           },
           {
            "bin_start": 15.844198626343738,
            "bin_end": 17.711842652694564,
            "count": 2
           }
          ]
         }
        },
        {
         "name": "surface_area [m^2/g]",
         "dtype": "float64"
        },
        {
         "name": "void_fraction",
         "dtype": "float64"
        },
        {
         "name": "void_volume [cm^3/g]",
         "dtype": "float64"
        },
        {
         "name": "metal_linker",
         "dtype": "float64"
        },
        {
         "name": "organic_linker1",
         "dtype": "float64"
        },
        {
         "name": "organic_linker2",
         "dtype": "float64"
        },
        {
         "name": "CO2/N2_selectivity",
         "dtype": "float64"
        },
        {
         "name": "heat_adsorption_CO2_P0.15bar_T298K [kcal/mol]",
         "dtype": "float64"
        },
        {
         "name": "density [g/cm^3]",
         "dtype": "float64"
        },
        {
         "name": "acs",
         "dtype": "float64"
        },
        {
         "name": "bcu",
         "dtype": "float64"
        },
        {
         "name": "etb",
         "dtype": "float64"
        },
        {
         "name": "fof",
         "dtype": "float64"
        },
        {
         "name": "nbo",
         "dtype": "float64"
        },
        {
         "name": "pcu",
         "dtype": "float64"
        },
        {
         "name": "pts",
         "dtype": "float64"
        },
        {
         "name": "rht",
         "dtype": "float64"
        },
        {
         "name": "sra",
         "dtype": "float64"
        },
        {
         "name": "tbo",
         "dtype": "float64"
        },
        {
         "name": "the",
         "dtype": "float64"
        },
        {
         "name": "CO2_working_capacity [mL/g]",
         "dtype": "float64"
        },
        {
         "name": "_deepnote_index_column",
         "dtype": "int64"
        }
       ],
       "rows_top": [
        {
         "volume [A^3]": -0.0416056557384505,
         "weight [u]": 0.5813231481051438,
         "surface_area [m^2/g]": -1.4972845758650253,
         "void_fraction": -1.3713812119614917,
         "void_volume [cm^3/g]": -1.1906702851673523,
         "metal_linker": 1.864159976335768,
         "organic_linker1": 2.966227577429268,
         "organic_linker2": 3.5637621435093,
         "CO2/N2_selectivity": 0.7552777787014187,
         "heat_adsorption_CO2_P0.15bar_T298K [kcal/mol]": 1.5684351616144123,
         "density [g/cm^3]": 1.6600758103856654,
         "acs": -0.2803581440745892,
         "bcu": -0.2266903411134573,
         "etb": 4.550317177611889,
         "fof": -0.1230321554776692,
         "nbo": -0.1473671694616714,
         "pcu": -1.4302951902496808,
         "pts": -0.0487786412631612,
         "rht": -0.0065696414697919,
         "sra": -0.37097332823438,
         "tbo": -0.0197123278543765,
         "the": -0.0236933156232904,
         "CO2_working_capacity [mL/g]": 101.22477417834172,
         "_deepnote_index_column": 0
        },
        {
         "volume [A^3]": -0.7248425026753385,
         "weight [u]": -0.6729243671093622,
         "surface_area [m^2/g]": -1.268759894070443,
         "void_fraction": -1.2613833292092622,
         "void_volume [cm^3/g]": -1.0703892918757272,
         "metal_linker": -0.6862273248263476,
         "organic_linker1": 0.9282050117112106,
         "organic_linker2": 0.3206714302665642,
         "CO2/N2_selectivity": -0.2544733983336086,
         "heat_adsorption_CO2_P0.15bar_T298K [kcal/mol]": 0.6111577075113148,
         "density [g/cm^3]": 1.013119854046567,
         "acs": -0.2803581440745892,
         "bcu": -0.2266903411134573,
         "etb": -0.2197649001086138,
         "fof": -0.1230321554776692,
         "nbo": -0.1473671694616714,
         "pcu": 0.699156374723668,
         "pts": -0.0487786412631612,
         "rht": -0.0065696414697919,
         "sra": -0.37097332823438,
         "tbo": -0.0197123278543765,
         "the": -0.0236933156232904,
         "CO2_working_capacity [mL/g]": 118.98701074687752,
         "_deepnote_index_column": 1
        },
        {
         "volume [A^3]": -0.2711453089319565,
         "weight [u]": -0.2098232632964678,
         "surface_area [m^2/g]": -0.4616125472571161,
         "void_fraction": -0.5545450826347526,
         "void_volume [cm^3/g]": -0.5513388793830375,
         "metal_linker": 1.5453615636905038,
         "organic_linker1": 0.4650180649571067,
         "organic_linker2": 0.3206714302665642,
         "CO2/N2_selectivity": 0.1984215477162514,
         "heat_adsorption_CO2_P0.15bar_T298K [kcal/mol]": 0.4220756526512338,
         "density [g/cm^3]": 0.1499113683585819,
         "acs": -0.2803581440745892,
         "bcu": -0.2266903411134573,
         "etb": -0.2197649001086138,
         "fof": -0.1230321554776692,
         "nbo": -0.1473671694616714,
         "pcu": -1.4302951902496808,
         "pts": -0.0487786412631612,
         "rht": -0.0065696414697919,
         "sra": 2.695611581453349,
         "tbo": -0.0197123278543765,
         "the": -0.0236933156232904,
         "CO2_working_capacity [mL/g]": 187.62600449626183,
         "_deepnote_index_column": 2
        },
        {
         "volume [A^3]": 0.440474102233465,
         "weight [u]": -0.0018977853994065,
         "surface_area [m^2/g]": 0.7608196058527207,
         "void_fraction": 1.001721258526415,
         "void_volume [cm^3/g]": 1.3476921183068131,
         "metal_linker": 1.5453615636905038,
         "organic_linker1": -0.4613558285511012,
         "organic_linker2": 0.2223959541076934,
         "CO2/N2_selectivity": -0.4034193729817631,
         "heat_adsorption_CO2_P0.15bar_T298K [kcal/mol]": -0.5261741698691912,
         "density [g/cm^3]": -1.319903571261056,
         "acs": -0.2803581440745892,
         "bcu": -0.2266903411134573,
         "etb": -0.2197649001086138,
         "fof": -0.1230321554776692,
         "nbo": -0.1473671694616714,
         "pcu": -1.4302951902496808,
         "pts": -0.0487786412631612,
         "rht": -0.0065696414697919,
         "sra": 2.695611581453349,
         "tbo": -0.0197123278543765,
         "the": -0.0236933156232904,
         "CO2_working_capacity [mL/g]": 55.7869591021412,
         "_deepnote_index_column": 3
        },
        {
         "volume [A^3]": 0.2823463768446206,
         "weight [u]": 0.357210659138136,
         "surface_area [m^2/g]": -0.3522386000885154,
         "void_fraction": 0.6190712163966707,
         "void_volume [cm^3/g]": 0.2299457707364391,
         "metal_linker": 1.864159976335768,
         "organic_linker1": 3.7999640815866553,
         "organic_linker2": 3.367211191191558,
         "CO2/N2_selectivity": -0.3177846440550806,
         "heat_adsorption_CO2_P0.15bar_T298K [kcal/mol]": 0.5583308530258246,
         "density [g/cm^3]": -0.1670757341299489,
         "acs": -0.2803581440745892,
         "bcu": -0.2266903411134573,
         "etb": 4.550317177611889,
         "fof": -0.1230321554776692,
         "nbo": -0.1473671694616714,
         "pcu": -1.4302951902496808,
         "pts": -0.0487786412631612,
         "rht": -0.0065696414697919,
         "sra": -0.37097332823438,
         "tbo": -0.0197123278543765,
         "the": -0.0236933156232904,
         "CO2_working_capacity [mL/g]": 111.69046224719489,
         "_deepnote_index_column": 4
        },
        {
         "volume [A^3]": -0.795527989965465,
         "weight [u]": -0.7903033861866973,
         "surface_area [m^2/g]": -0.1599659001049295,
         "void_fraction": 0.1221455960743315,
         "void_volume [cm^3/g]": -0.4234725982261744,
         "metal_linker": -0.6862273248263476,
         "organic_linker1": -0.6466306072527429,
         "organic_linker2": -0.760358807481014,
         "CO2/N2_selectivity": -0.7173068266543251,
         "heat_adsorption_CO2_P0.15bar_T298K [kcal/mol]": -0.7220706614108061,
         "density [g/cm^3]": 0.9238326314823874,
         "acs": -0.2803581440745892,
         "bcu": -0.2266903411134573,
         "etb": -0.2197649001086138,
         "fof": -0.1230321554776692,
         "nbo": -0.1473671694616714,
         "pcu": 0.699156374723668,
         "pts": -0.0487786412631612,
         "rht": -0.0065696414697919,
         "sra": -0.37097332823438,
         "tbo": -0.0197123278543765,
         "the": -0.0236933156232904,
         "CO2_working_capacity [mL/g]": 58.989774287110805,
         "_deepnote_index_column": 5
        },
        {
         "volume [A^3]": -0.2615114750002396,
         "weight [u]": -0.1068560485616513,
         "surface_area [m^2/g]": -0.4412308500166343,
         "void_fraction": -0.3036888000248086,
         "void_volume [cm^3/g]": -0.5128706337807609,
         "metal_linker": -0.0486304995358187,
         "organic_linker1": 0.1871058969046443,
         "organic_linker2": -0.1707059505277895,
         "CO2/N2_selectivity": 0.996134423203396,
         "heat_adsorption_CO2_P0.15bar_T298K [kcal/mol]": 0.5524709165262213,
         "density [g/cm^3]": 0.4905036945762835,
         "acs": 3.5668662428251854,
         "bcu": -0.2266903411134573,
         "etb": -0.2197649001086138,
         "fof": -0.1230321554776692,
         "nbo": -0.1473671694616714,
         "pcu": -1.4302951902496808,
         "pts": -0.0487786412631612,
         "rht": -0.0065696414697919,
         "sra": -0.37097332823438,
         "tbo": -0.0197123278543765,
         "the": -0.0236933156232904,
         "CO2_working_capacity [mL/g]": 135.58710841724886,
         "_deepnote_index_column": 6
        },
        {
         "volume [A^3]": 0.5709486671901715,
         "weight [u]": 0.0531983194032424,
         "surface_area [m^2/g]": 1.80593470098078,
         "void_fraction": 1.3999543340460598,
         "void_volume [cm^3/g]": 1.8071438404297784,
         "metal_linker": -0.3674289121810832,
         "organic_linker1": 0.0944685075538235,
         "organic_linker2": 0.812048811060918,
         "CO2/N2_selectivity": -0.8358837451956393,
         "heat_adsorption_CO2_P0.15bar_T298K [kcal/mol]": -0.3572827280168384,
         "density [g/cm^3]": -1.4256909682279215,
         "acs": -0.2803581440745892,
         "bcu": -0.2266903411134573,
         "etb": -0.2197649001086138,
         "fof": -0.1230321554776692,
         "nbo": -0.1473671694616714,
         "pcu": 0.699156374723668,
         "pts": -0.0487786412631612,
         "rht": -0.0065696414697919,
         "sra": -0.37097332823438,
         "tbo": -0.0197123278543765,
         "the": -0.0236933156232904,
         "CO2_working_capacity [mL/g]": 59.73905673864041,
         "_deepnote_index_column": 7
        },
        {
         "volume [A^3]": -0.5140908826178011,
         "weight [u]": -0.3792516494191673,
         "surface_area [m^2/g]": -0.8857718584770132,
         "void_fraction": -0.862844704015306,
         "void_volume [cm^3/g]": -0.8666701320664878,
         "metal_linker": 1.5453615636905038,
         "organic_linker1": -1.017180164656026,
         "organic_linker2": 0.3206714302665642,
         "CO2/N2_selectivity": 0.0969506797401536,
         "heat_adsorption_CO2_P0.15bar_T298K [kcal/mol]": 0.1063348967362682,
         "density [g/cm^3]": 0.871884363251746,
         "acs": -0.2803581440745892,
         "bcu": -0.2266903411134573,
         "etb": -0.2197649001086138,
         "fof": -0.1230321554776692,
         "nbo": -0.1473671694616714,
         "pcu": -1.4302951902496808,
         "pts": -0.0487786412631612,
         "rht": -0.0065696414697919,
         "sra": 2.695611581453349,
         "tbo": -0.0197123278543765,
         "the": -0.0236933156232904,
         "CO2_working_capacity [mL/g]": 161.06749898914796,
         "_deepnote_index_column": 8
        },
        {
         "volume [A^3]": -0.4966227550170014,
         "weight [u]": -0.6528620134523204,
         "surface_area [m^2/g]": 0.373283077485187,
         "void_fraction": 0.3204473347026546,
         "void_volume [cm^3/g]": 0.3014641991801082,
         "metal_linker": -0.6862273248263476,
         "organic_linker1": -0.7392679966035637,
         "organic_linker2": -1.4482871405931097,
         "CO2/N2_selectivity": -0.6953617809627893,
         "heat_adsorption_CO2_P0.15bar_T298K [kcal/mol]": -1.079052531836367,
         "density [g/cm^3]": -0.6456640699585252,
         "acs": -0.2803581440745892,
         "bcu": -0.2266903411134573,
         "etb": -0.2197649001086138,
         "fof": -0.1230321554776692,
         "nbo": -0.1473671694616714,
         "pcu": 0.699156374723668,
         "pts": -0.0487786412631612,
         "rht": -0.0065696414697919,
         "sra": -0.37097332823438,
         "tbo": -0.0197123278543765,
         "the": -0.0236933156232904,
         "CO2_working_capacity [mL/g]": 79.91916950624072,
         "_deepnote_index_column": 9
        },
        {
         "volume [A^3]": -0.4481792594893194,
         "weight [u]": -0.5231522567426096,
         "surface_area [m^2/g]": 0.068113820440012,
         "void_fraction": 0.045452627822083,
         "void_volume [cm^3/g]": -0.0615460057991215,
         "metal_linker": -0.3674289121810832,
         "organic_linker1": -0.7392679966035637,
         "organic_linker2": 0.5172223825843058,
         "CO2/N2_selectivity": -0.4129081627688137,
         "heat_adsorption_CO2_P0.15bar_T298K [kcal/mol]": -0.836004689400437,
         "density [g/cm^3]": -0.2695345474225665,
         "acs": -0.2803581440745892,
         "bcu": -0.2266903411134573,
         "etb": -0.2197649001086138,
         "fof": -0.1230321554776692,
         "nbo": -0.1473671694616714,
         "pcu": 0.699156374723668,
         "pts": -0.0487786412631612,
         "rht": -0.0065696414697919,
         "sra": -0.37097332823438,
         "tbo": -0.0197123278543765,
         "the": -0.0236933156232904,
         "CO2_working_capacity [mL/g]": 62.32762208837283,
         "_deepnote_index_column": 10
        },
        {
         "volume [A^3]": 0.573852826188076,
         "weight [u]": 0.8137408740126948,
         "surface_area [m^2/g]": -0.6433668577005868,
         "void_fraction": 0.1373212298984804,
         "void_volume [cm^3/g]": -0.1411915283841166,
         "metal_linker": 1.864159976335768,
         "organic_linker1": 3.7073266922358346,
         "organic_linker2": 3.268935715032687,
         "CO2/N2_selectivity": -0.252656223883664,
         "heat_adsorption_CO2_P0.15bar_T298K [kcal/mol]": 0.0353222389099901,
         "density [g/cm^3]": 0.0553846734776654,
         "acs": -0.2803581440745892,
         "bcu": -0.2266903411134573,
         "etb": 4.550317177611889,
         "fof": -0.1230321554776692,
         "nbo": -0.1473671694616714,
         "pcu": -1.4302951902496808,
         "pts": -0.0487786412631612,
         "rht": -0.0065696414697919,
         "sra": -0.37097332823438,
         "tbo": -0.0197123278543765,
         "the": -0.0236933156232904,
         "CO2_working_capacity [mL/g]": 54.93615457357025,
         "_deepnote_index_column": 11
        },
        {
         "volume [A^3]": 2.021094172202591,
         "weight [u]": 2.6888387407280945,
         "surface_area [m^2/g]": -0.185872532861782,
         "void_fraction": -0.0380642831564623,
         "void_volume [cm^3/g]": -0.2679741969888036,
         "metal_linker": -0.6862273248263476,
         "organic_linker1": 2.4104032413243432,
         "organic_linker2": 1.9913545249673672,
         "CO2/N2_selectivity": -0.4915007676054507,
         "heat_adsorption_CO2_P0.15bar_T298K [kcal/mol]": -0.5350377280203394,
         "density [g/cm^3]": 0.1400454342988114,
         "acs": -0.2803581440745892,
         "bcu": -0.2266903411134573,
         "etb": -0.2197649001086138,
         "fof": 8.127956436404634,
         "nbo": -0.1473671694616714,
         "pcu": -1.4302951902496808,
         "pts": -0.0487786412631612,
         "rht": -0.0065696414697919,
         "sra": -0.37097332823438,
         "tbo": -0.0197123278543765,
         "the": -0.0236933156232904,
         "CO2_working_capacity [mL/g]": 98.10944956383052,
         "_deepnote_index_column": 12
        },
        {
         "volume [A^3]": -0.251725464240341,
         "weight [u]": 0.0333149547861951,
         "surface_area [m^2/g]": -1.191460236980102,
         "void_fraction": -1.232050560475335,
         "void_volume [cm^3/g]": -1.0503424596604567,
         "metal_linker": -0.6862273248263476,
         "organic_linker1": 0.1871058969046443,
         "organic_linker2": -0.6620833313221434,
         "CO2/N2_selectivity": 0.8766628655702513,
         "heat_adsorption_CO2_P0.15bar_T298K [kcal/mol]": 1.9765863855821848,
         "density [g/cm^3]": 0.9612493402815696,
         "acs": -0.2803581440745892,
         "bcu": -0.2266903411134573,
         "etb": -0.2197649001086138,
         "fof": -0.1230321554776692,
         "nbo": -0.1473671694616714,
         "pcu": 0.699156374723668,
         "pts": -0.0487786412631612,
         "rht": -0.0065696414697919,
         "sra": -0.37097332823438,
         "tbo": -0.0197123278543765,
         "the": -0.0236933156232904,
         "CO2_working_capacity [mL/g]": 324.0160452431515,
         "_deepnote_index_column": 13
        },
        {
         "volume [A^3]": -0.2185382734455942,
         "weight [u]": -0.5297353679739646,
         "surface_area [m^2/g]": 1.1841013546080488,
         "void_fraction": 1.4439534871469526,
         "void_volume [cm^3/g]": 1.6110099684857764,
         "metal_linker": -0.6862273248263476,
         "organic_linker1": -0.3687184392002804,
         "organic_linker2": -1.0551852359576264,
         "CO2/N2_selectivity": -0.7696231241061718,
         "heat_adsorption_CO2_P0.15bar_T298K [kcal/mol]": -0.347281434391621,
         "density [g/cm^3]": -1.2356083274287517,
         "acs": -0.2803581440745892,
         "bcu": -0.2266903411134573,
         "etb": -0.2197649001086138,
         "fof": -0.1230321554776692,
         "nbo": -0.1473671694616714,
         "pcu": 0.699156374723668,
         "pts": -0.0487786412631612,
         "rht": -0.0065696414697919,
         "sra": -0.37097332823438,
         "tbo": -0.0197123278543765,
         "the": -0.0236933156232904,
         "CO2_working_capacity [mL/g]": 60.05088633787799,
         "_deepnote_index_column": 14
        },
        {
         "volume [A^3]": -0.5232946371690014,
         "weight [u]": -0.5918251223962184,
         "surface_area [m^2/g]": 0.0131858261788232,
         "void_fraction": 0.4508151957423351,
         "void_volume [cm^3/g]": 0.1367550912492333,
         "metal_linker": -0.3674289121810832,
         "organic_linker1": 0.1871058969046443,
         "organic_linker2": -0.367256902845531,
         "CO2/N2_selectivity": -0.5853832215111401,
         "heat_adsorption_CO2_P0.15bar_T298K [kcal/mol]": -0.1487046775963564,
         "density [g/cm^3]": -0.1779344290639775,
         "acs": -0.2803581440745892,
         "bcu": -0.2266903411134573,
         "etb": -0.2197649001086138,
         "fof": -0.1230321554776692,
         "nbo": -0.1473671694616714,
         "pcu": 0.699156374723668,
         "pts": -0.0487786412631612,
         "rht": -0.0065696414697919,
         "sra": -0.37097332823438,
         "tbo": -0.0197123278543765,
         "the": -0.0236933156232904,
         "CO2_working_capacity [mL/g]": 104.97861488065128,
         "_deepnote_index_column": 15
        },
        {
         "volume [A^3]": 0.2188207837959283,
         "weight [u]": 0.2333495631373396,
         "surface_area [m^2/g]": 0.1333995237900572,
         "void_fraction": -0.0548695152436088,
         "void_volume [cm^3/g]": -0.1141012145796965,
         "metal_linker": 1.5453615636905038,
         "organic_linker1": -0.4613558285511012,
         "organic_linker2": -0.4655323790044018,
         "CO2/N2_selectivity": 1.242532827417934,
         "heat_adsorption_CO2_P0.15bar_T298K [kcal/mol]": 0.7040448268469446,
         "density [g/cm^3]": -0.2877622760069614,
         "acs": -0.2803581440745892,
         "bcu": -0.2266903411134573,
         "etb": -0.2197649001086138,
         "fof": -0.1230321554776692,
         "nbo": -0.1473671694616714,
         "pcu": -1.4302951902496808,
         "pts": -0.0487786412631612,
         "rht": -0.0065696414697919,
         "sra": 2.695611581453349,
         "tbo": -0.0197123278543765,
         "the": -0.0236933156232904,
         "CO2_working_capacity [mL/g]": 230.69959325150907,
         "_deepnote_index_column": 16
        },
        {
         "volume [A^3]": 0.607862172518369,
         "weight [u]": 0.3421647608731087,
         "surface_area [m^2/g]": 0.4125509077659695,
         "void_fraction": -0.0857300323490951,
         "void_volume [cm^3/g]": 0.1882266874776313,
         "metal_linker": 1.5453615636905038,
         "organic_linker1": 0.5576554543079275,
         "organic_linker2": 0.6154978587431765,
         "CO2/N2_selectivity": 2.354086458313709,
         "heat_adsorption_CO2_P0.15bar_T298K [kcal/mol]": 1.2213048827780075,
         "density [g/cm^3]": -0.9290065722702864,
         "acs": -0.2803581440745892,
         "bcu": -0.2266903411134573,
         "etb": -0.2197649001086138,
         "fof": -0.1230321554776692,
         "nbo": -0.1473671694616714,
         "pcu": -1.4302951902496808,
         "pts": -0.0487786412631612,
         "rht": -0.0065696414697919,
         "sra": 2.695611581453349,
         "tbo": -0.0197123278543765,
         "the": -0.0236933156232904,
         "CO2_working_capacity [mL/g]": 252.38041691729305,
         "_deepnote_index_column": 17
        },
        {
         "volume [A^3]": -0.3927131471590535,
         "weight [u]": -0.4458967701111143,
         "surface_area [m^2/g]": -0.3608535442829458,
         "void_fraction": -0.3821132164314915,
         "void_volume [cm^3/g]": -0.3400344317085604,
         "metal_linker": -0.6862273248263476,
         "organic_linker1": 0.3723806756062859,
         "organic_linker2": -0.2689814266866603,
         "CO2/N2_selectivity": 0.0023000024937097,
         "heat_adsorption_CO2_P0.15bar_T298K [kcal/mol]": 1.236410417024787,
         "density [g/cm^3]": -0.2092884133677758,
         "acs": -0.2803581440745892,
         "bcu": -0.2266903411134573,
         "etb": -0.2197649001086138,
         "fof": -0.1230321554776692,
         "nbo": -0.1473671694616714,
         "pcu": 0.699156374723668,
         "pts": -0.0487786412631612,
         "rht": -0.0065696414697919,
         "sra": -0.37097332823438,
         "tbo": -0.0197123278543765,
         "the": -0.0236933156232904,
         "CO2_working_capacity [mL/g]": 262.6415751431312,
         "_deepnote_index_column": 18
        },
        {
         "volume [A^3]": -0.4344933493342503,
         "weight [u]": -0.4984651027132259,
         "surface_area [m^2/g]": 0.1758315229571727,
         "void_fraction": 0.0488136742395122,
         "void_volume [cm^3/g]": -0.0778001940817736,
         "metal_linker": -0.6862273248263476,
         "organic_linker1": -0.9245427753052052,
         "organic_linker2": -1.0551852359576264,
         "CO2/N2_selectivity": 0.0096433672851935,
         "heat_adsorption_CO2_P0.15bar_T298K [kcal/mol]": 0.2199180231533702,
         "density [g/cm^3]": -0.2277333896562365,
         "acs": -0.2803581440745892,
         "bcu": -0.2266903411134573,
         "etb": -0.2197649001086138,
         "fof": -0.1230321554776692,
         "nbo": -0.1473671694616714,
         "pcu": 0.699156374723668,
         "pts": -0.0487786412631612,
         "rht": -0.0065696414697919,
         "sra": -0.37097332823438,
         "tbo": -0.0197123278543765,
         "the": -0.0236933156232904,
         "CO2_working_capacity [mL/g]": 136.52804474104676,
         "_deepnote_index_column": 19
        },
        {
         "volume [A^3]": -0.0385030760379797,
         "weight [u]": -0.0565004629839664,
         "surface_area [m^2/g]": -0.8398296094516218,
         "void_fraction": -1.0900718118118102,
         "void_volume [cm^3/g]": -0.7409710760139784,
         "metal_linker": -0.6862273248263476,
         "organic_linker1": 0.0018311182030027,
         "organic_linker2": 0.812048811060918,
         "CO2/N2_selectivity": 0.2327574440244896,
         "heat_adsorption_CO2_P0.15bar_T298K [kcal/mol]": 1.5754112764948924,
         "density [g/cm^3]": -0.2772468392189458,
         "acs": -0.2803581440745892,
         "bcu": -0.2266903411134573,
         "etb": -0.2197649001086138,
         "fof": -0.1230321554776692,
         "nbo": -0.1473671694616714,
         "pcu": 0.699156374723668,
         "pts": -0.0487786412631612,
         "rht": -0.0065696414697919,
         "sra": -0.37097332823438,
         "tbo": -0.0197123278543765,
         "the": -0.0236933156232904,
         "CO2_working_capacity [mL/g]": 346.0309838421578,
         "_deepnote_index_column": 20
        }
       ],
       "rows_bottom": [
        {
         "volume [A^3]": 5.5105447991904,
         "weight [u]": 5.564485538132495,
         "surface_area [m^2/g]": 0.8754218477045981,
         "void_fraction": 2.6152272386753195,
         "void_volume [cm^3/g]": 1.824481641264607,
         "metal_linker": -1.005025737471612,
         "organic_linker1": 0.4650180649571067,
         "organic_linker2": -0.1707059505277895,
         "CO2/N2_selectivity": -1.1279213179759155,
         "heat_adsorption_CO2_P0.15bar_T298K [kcal/mol]": -2.4238822097451345,
         "density [g/cm^3]": -0.6450558849040762,
         "acs": -0.2803581440745892,
         "bcu": -0.2266903411134573,
         "etb": -0.2197649001086138,
         "fof": -0.1230321554776692,
         "nbo": -0.1473671694616714,
         "pcu": 0.699156374723668,
         "pts": -0.0487786412631612,
         "rht": -0.0065696414697919,
         "sra": -0.37097332823438,
         "tbo": -0.0197123278543765,
         "the": -0.0236933156232904,
         "CO2_working_capacity [mL/g]": 4.135497681365784,
         "_deepnote_index_column": 46319
        },
        {
         "volume [A^3]": 0.1351910549205891,
         "weight [u]": -0.3141738570412578,
         "surface_area [m^2/g]": 2.0236319923674406,
         "void_fraction": 3.167151800373773,
         "void_volume [cm^3/g]": 3.39409442309271,
         "metal_linker": -0.6862273248263476,
         "organic_linker1": -0.4613558285511012,
         "organic_linker2": -0.9569097597987556,
         "CO2/N2_selectivity": -1.2454030321842826,
         "heat_adsorption_CO2_P0.15bar_T298K [kcal/mol]": -2.946228542053432,
         "density [g/cm^3]": -1.468361173768477,
         "acs": -0.2803581440745892,
         "bcu": -0.2266903411134573,
         "etb": -0.2197649001086138,
         "fof": -0.1230321554776692,
         "nbo": -0.1473671694616714,
         "pcu": 0.699156374723668,
         "pts": -0.0487786412631612,
         "rht": -0.0065696414697919,
         "sra": -0.37097332823438,
         "tbo": -0.0197123278543765,
         "the": -0.0236933156232904,
         "CO2_working_capacity [mL/g]": -1.3143394754524338,
         "_deepnote_index_column": 46320
        },
        {
         "volume [A^3]": 0.6875398840330962,
         "weight [u]": 0.0727187857979385,
         "surface_area [m^2/g]": 1.8191104979840265,
         "void_fraction": 3.385925367180984,
         "void_volume [cm^3/g]": 3.776067847735033,
         "metal_linker": -0.3674289121810832,
         "organic_linker1": -0.3687184392002804,
         "organic_linker2": 0.5172223825843058,
         "CO2/N2_selectivity": -1.3271245063214585,
         "heat_adsorption_CO2_P0.15bar_T298K [kcal/mol]": -2.8665595136939155,
         "density [g/cm^3]": -1.5621217042813662,
         "acs": -0.2803581440745892,
         "bcu": -0.2266903411134573,
         "etb": -0.2197649001086138,
         "fof": -0.1230321554776692,
         "nbo": -0.1473671694616714,
         "pcu": 0.699156374723668,
         "pts": -0.0487786412631612,
         "rht": -0.0065696414697919,
         "sra": -0.37097332823438,
         "tbo": -0.0197123278543765,
         "the": -0.0236933156232904,
         "CO2_working_capacity [mL/g]": 2.964609726155521,
         "_deepnote_index_column": 46321
        },
        {
         "volume [A^3]": -0.5557725386886989,
         "weight [u]": -0.6058143579438922,
         "surface_area [m^2/g]": 0.5411941490509503,
         "void_fraction": 1.966952679677228,
         "void_volume [cm^3/g]": 0.9353775422035392,
         "metal_linker": -0.3674289121810832,
         "organic_linker1": -1.017180164656026,
         "organic_linker2": -0.0724304743689187,
         "CO2/N2_selectivity": -1.1502600130285685,
         "heat_adsorption_CO2_P0.15bar_T298K [kcal/mol]": -1.7327103044803502,
         "density [g/cm^3]": -0.0441113221804885,
         "acs": -0.2803581440745892,
         "bcu": -0.2266903411134573,
         "etb": -0.2197649001086138,
         "fof": -0.1230321554776692,
         "nbo": -0.1473671694616714,
         "pcu": 0.699156374723668,
         "pts": -0.0487786412631612,
         "rht": -0.0065696414697919,
         "sra": -0.37097332823438,
         "tbo": -0.0197123278543765,
         "the": -0.0236933156232904,
         "CO2_working_capacity [mL/g]": 7.298694494807054,
         "_deepnote_index_column": 46322
        },
        {
         "volume [A^3]": 1.885814219622656,
         "weight [u]": 1.607625446251549,
         "surface_area [m^2/g]": 0.8153644390378298,
         "void_fraction": 2.5022757090714096,
         "void_volume [cm^3/g]": 1.9929833931281,
         "metal_linker": -0.3674289121810832,
         "organic_linker1": 0.1871058969046443,
         "organic_linker2": 0.2223959541076934,
         "CO2/N2_selectivity": -1.0158271764764062,
         "heat_adsorption_CO2_P0.15bar_T298K [kcal/mol]": -1.7026357642436776,
         "density [g/cm^3]": -0.8738959658591969,
         "acs": -0.2803581440745892,
         "bcu": -0.2266903411134573,
         "etb": -0.2197649001086138,
         "fof": -0.1230321554776692,
         "nbo": 6.785771916856417,
         "pcu": -1.4302951902496808,
         "pts": -0.0487786412631612,
         "rht": -0.0065696414697919,
         "sra": -0.37097332823438,
         "tbo": -0.0197123278543765,
         "the": -0.0236933156232904,
         "CO2_working_capacity [mL/g]": 12.836517451727795,
         "_deepnote_index_column": 46323
        },
        {
         "volume [A^3]": 0.5719385831216907,
         "weight [u]": 0.1130549083410975,
         "surface_area [m^2/g]": 1.5607734124635246,
         "void_fraction": 3.380425473043372,
         "void_volume [cm^3/g]": 3.283565942770675,
         "metal_linker": -0.6862273248263476,
         "organic_linker1": -0.3687184392002804,
         "organic_linker2": 0.2223959541076934,
         "CO2/N2_selectivity": -1.231590724093475,
         "heat_adsorption_CO2_P0.15bar_T298K [kcal/mol]": -1.7194574826318711,
         "density [g/cm^3]": -1.3101977708563173,
         "acs": -0.2803581440745892,
         "bcu": -0.2266903411134573,
         "etb": -0.2197649001086138,
         "fof": -0.1230321554776692,
         "nbo": -0.1473671694616714,
         "pcu": 0.699156374723668,
         "pts": -0.0487786412631612,
         "rht": -0.0065696414697919,
         "sra": -0.37097332823438,
         "tbo": -0.0197123278543765,
         "the": -0.0236933156232904,
         "CO2_working_capacity [mL/g]": 2.513455520376634,
         "_deepnote_index_column": 46324
        },
        {
         "volume [A^3]": -0.0769127726816049,
         "weight [u]": -0.0755918661005642,
         "surface_area [m^2/g]": 0.562255648200605,
         "void_fraction": 1.875695176949451,
         "void_volume [cm^3/g]": 0.9868491384319374,
         "metal_linker": -0.3674289121810832,
         "organic_linker1": -0.9245427753052052,
         "organic_linker2": -0.4655323790044018,
         "CO2/N2_selectivity": -1.2010942259557502,
         "heat_adsorption_CO2_P0.15bar_T298K [kcal/mol]": -2.2691034782364,
         "density [g/cm^3]": -0.1998713305649944,
         "acs": -0.2803581440745892,
         "bcu": -0.2266903411134573,
         "etb": -0.2197649001086138,
         "fof": -0.1230321554776692,
         "nbo": -0.1473671694616714,
         "pcu": 0.699156374723668,
         "pts": -0.0487786412631612,
         "rht": -0.0065696414697919,
         "sra": -0.37097332823438,
         "tbo": -0.0197123278543765,
         "the": -0.0236933156232904,
         "CO2_working_capacity [mL/g]": 2.9672509509240768,
         "_deepnote_index_column": 46325
        },
        {
         "volume [A^3]": 0.2226215903948551,
         "weight [u]": 0.5871256095407644,
         "surface_area [m^2/g]": 0.319467486348099,
         "void_fraction": 2.459600604559201,
         "void_volume [cm^3/g]": 0.8313507371945659,
         "metal_linker": -0.6862273248263476,
         "organic_linker1": -0.4613558285511012,
         "organic_linker2": -0.1707059505277895,
         "CO2/N2_selectivity": -1.0515954027886094,
         "heat_adsorption_CO2_P0.15bar_T298K [kcal/mol]": -2.1552329239100594,
         "density [g/cm^3]": 0.5672293694234871,
         "acs": -0.2803581440745892,
         "bcu": -0.2266903411134573,
         "etb": -0.2197649001086138,
         "fof": -0.1230321554776692,
         "nbo": -0.1473671694616714,
         "pcu": 0.699156374723668,
         "pts": -0.0487786412631612,
         "rht": -0.0065696414697919,
         "sra": -0.37097332823438,
         "tbo": -0.0197123278543765,
         "the": -0.0236933156232904,
         "CO2_working_capacity [mL/g]": 7.054711356811757,
         "_deepnote_index_column": 46326
        },
        {
         "volume [A^3]": -0.3837974150626478,
         "weight [u]": 0.0306628253550959,
         "surface_area [m^2/g]": -1.72129784498964,
         "void_fraction": -1.873603026638568,
         "void_volume [cm^3/g]": -1.401432926565741,
         "metal_linker": 1.864159976335768,
         "organic_linker1": 3.0588649667800887,
         "organic_linker2": 2.581007381920592,
         "CO2/N2_selectivity": -0.9236692905340818,
         "heat_adsorption_CO2_P0.15bar_T298K [kcal/mol]": -0.1690569688030306,
         "density [g/cm^3]": 1.8132407312131384,
         "acs": -0.2803581440745892,
         "bcu": -0.2266903411134573,
         "etb": 4.550317177611889,
         "fof": -0.1230321554776692,
         "nbo": -0.1473671694616714,
         "pcu": -1.4302951902496808,
         "pts": -0.0487786412631612,
         "rht": -0.0065696414697919,
         "sra": -0.37097332823438,
         "tbo": -0.0197123278543765,
         "the": -0.0236933156232904,
         "CO2_working_capacity [mL/g]": 11.886501917787983,
         "_deepnote_index_column": 46327
        },
        {
         "volume [A^3]": 0.4281445754709021,
         "weight [u]": 0.0882929508780277,
         "surface_area [m^2/g]": 1.0724037209135469,
         "void_fraction": 2.3821946870668933,
         "void_volume [cm^3/g]": 2.1847828148633948,
         "metal_linker": -0.3674289121810832,
         "organic_linker1": -0.3687184392002804,
         "organic_linker2": -0.2689814266866603,
         "CO2/N2_selectivity": -1.2508712606510417,
         "heat_adsorption_CO2_P0.15bar_T298K [kcal/mol]": -2.324708802511197,
         "density [g/cm^3]": -1.10565369541073,
         "acs": -0.2803581440745892,
         "bcu": -0.2266903411134573,
         "etb": -0.2197649001086138,
         "fof": -0.1230321554776692,
         "nbo": -0.1473671694616714,
         "pcu": 0.699156374723668,
         "pts": -0.0487786412631612,
         "rht": -0.0065696414697919,
         "sra": -0.37097332823438,
         "tbo": -0.0197123278543765,
         "the": -0.0236933156232904,
         "CO2_working_capacity [mL/g]": 3.8944859212350926,
         "_deepnote_index_column": 46328
        },
        {
         "volume [A^3]": -0.2442617630344891,
         "weight [u]": 0.1150510731583677,
         "surface_area [m^2/g]": -1.2062428384959392,
         "void_fraction": -0.7490783752798995,
         "void_volume [cm^3/g]": -0.8747972262078137,
         "metal_linker": 1.864159976335768,
         "organic_linker1": 2.7809527987276264,
         "organic_linker2": 3.072384762714945,
         "CO2/N2_selectivity": -0.9262889683779038,
         "heat_adsorption_CO2_P0.15bar_T298K [kcal/mol]": -1.5209070733949528,
         "density [g/cm^3]": 1.2208698726409617,
         "acs": -0.2803581440745892,
         "bcu": -0.2266903411134573,
         "etb": 4.550317177611889,
         "fof": -0.1230321554776692,
         "nbo": -0.1473671694616714,
         "pcu": -1.4302951902496808,
         "pts": -0.0487786412631612,
         "rht": -0.0065696414697919,
         "sra": -0.37097332823438,
         "tbo": -0.0197123278543765,
         "the": -0.0236933156232904,
         "CO2_working_capacity [mL/g]": 15.253733344600189,
         "_deepnote_index_column": 46329
        },
        {
         "volume [A^3]": 0.9244107831907836,
         "weight [u]": 0.8584752723876253,
         "surface_area [m^2/g]": 0.7107491052334413,
         "void_fraction": 1.9387402597491088,
         "void_volume [cm^3/g]": 1.317892773121951,
         "metal_linker": -0.6862273248263476,
         "organic_linker1": -0.7392679966035637,
         "organic_linker2": -0.6620833313221434,
         "CO2/N2_selectivity": -1.125182107026516,
         "heat_adsorption_CO2_P0.15bar_T298K [kcal/mol]": -2.227402479071023,
         "density [g/cm^3]": -0.5792084315487676,
         "acs": -0.2803581440745892,
         "bcu": -0.2266903411134573,
         "etb": -0.2197649001086138,
         "fof": -0.1230321554776692,
         "nbo": 6.785771916856417,
         "pcu": -1.4302951902496808,
         "pts": -0.0487786412631612,
         "rht": -0.0065696414697919,
         "sra": -0.37097332823438,
         "tbo": -0.0197123278543765,
         "the": -0.0236933156232904,
         "CO2_working_capacity [mL/g]": 7.4820945396736445,
         "_deepnote_index_column": 46330
        },
        {
         "volume [A^3]": 0.0177350775859934,
         "weight [u]": 0.275267571196456,
         "surface_area [m^2/g]": -0.0639902305643955,
         "void_fraction": 1.208578388035468,
         "void_volume [cm^3/g]": 0.2456581527430019,
         "metal_linker": -0.3674289121810832,
         "organic_linker1": -0.3687184392002804,
         "organic_linker2": -0.6620833313221434,
         "CO2/N2_selectivity": -1.0074538284609436,
         "heat_adsorption_CO2_P0.15bar_T298K [kcal/mol]": -1.8778578057970128,
         "density [g/cm^3]": 0.4902870708285033,
         "acs": -0.2803581440745892,
         "bcu": -0.2266903411134573,
         "etb": -0.2197649001086138,
         "fof": -0.1230321554776692,
         "nbo": -0.1473671694616714,
         "pcu": 0.699156374723668,
         "pts": -0.0487786412631612,
         "rht": -0.0065696414697919,
         "sra": -0.37097332823438,
         "tbo": -0.0197123278543765,
         "the": -0.0236933156232904,
         "CO2_working_capacity [mL/g]": 12.561995152346055,
         "_deepnote_index_column": 46331
        },
        {
         "volume [A^3]": 0.6262499417298404,
         "weight [u]": 0.2324803961340556,
         "surface_area [m^2/g]": 1.7477683776249846,
         "void_fraction": 2.533339925959771,
         "void_volume [cm^3/g]": 2.387418362120457,
         "metal_linker": -1.005025737471612,
         "organic_linker1": -0.090806271147818,
         "organic_linker2": 0.3206714302665642,
         "CO2/N2_selectivity": -1.2628087846643825,
         "heat_adsorption_CO2_P0.15bar_T298K [kcal/mol]": -2.732298344439668,
         "density [g/cm^3]": -1.1701872975487464,
         "acs": -0.2803581440745892,
         "bcu": -0.2266903411134573,
         "etb": -0.2197649001086138,
         "fof": -0.1230321554776692,
         "nbo": -0.1473671694616714,
         "pcu": 0.699156374723668,
         "pts": -0.0487786412631612,
         "rht": -0.0065696414697919,
         "sra": -0.37097332823438,
         "tbo": -0.0197123278543765,
         "the": -0.0236933156232904,
         "CO2_working_capacity [mL/g]": 3.695733757401276,
         "_deepnote_index_column": 46332
        },
        {
         "volume [A^3]": -0.0940915741462975,
         "weight [u]": 0.2010385198663384,
         "surface_area [m^2/g]": -1.194327765033341,
         "void_fraction": -0.9143807490825542,
         "void_volume [cm^3/g]": -0.8672119383425761,
         "metal_linker": 1.864159976335768,
         "organic_linker1": 2.873590188078447,
         "organic_linker2": 2.3844564296028503,
         "CO2/N2_selectivity": -0.9489710181866512,
         "heat_adsorption_CO2_P0.15bar_T298K [kcal/mol]": -0.9786383941275496,
         "density [g/cm^3]": 0.7400012059140708,
         "acs": -0.2803581440745892,
         "bcu": -0.2266903411134573,
         "etb": 4.550317177611889,
         "fof": -0.1230321554776692,
         "nbo": -0.1473671694616714,
         "pcu": -1.4302951902496808,
         "pts": -0.0487786412631612,
         "rht": -0.0065696414697919,
         "sra": -0.37097332823438,
         "tbo": -0.0197123278543765,
         "the": -0.0236933156232904,
         "CO2_working_capacity [mL/g]": 12.305301120152068,
         "_deepnote_index_column": 46333
        },
        {
         "volume [A^3]": 2.394010033490129,
         "weight [u]": 2.7111432558539925,
         "surface_area [m^2/g]": 0.8660900214968575,
         "void_fraction": 2.231253147956888,
         "void_volume [cm^3/g]": 1.264795758065288,
         "metal_linker": -1.005025737471612,
         "organic_linker1": -1.017180164656026,
         "organic_linker2": -0.9569097597987556,
         "CO2/N2_selectivity": -1.2549479144803966,
         "heat_adsorption_CO2_P0.15bar_T298K [kcal/mol]": -2.3207590639917424,
         "density [g/cm^3]": -0.2895309611283548,
         "acs": -0.2803581440745892,
         "bcu": -0.2266903411134573,
         "etb": -0.2197649001086138,
         "fof": -0.1230321554776692,
         "nbo": -0.1473671694616714,
         "pcu": 0.699156374723668,
         "pts": -0.0487786412631612,
         "rht": -0.0065696414697919,
         "sra": -0.37097332823438,
         "tbo": -0.0197123278543765,
         "the": -0.0236933156232904,
         "CO2_working_capacity [mL/g]": 3.194891510663955,
         "_deepnote_index_column": 46334
        },
        {
         "volume [A^3]": 3.803430885392893,
         "weight [u]": 3.175706303956675,
         "surface_area [m^2/g]": 1.534669019151276,
         "void_fraction": 2.6539301974214733,
         "void_volume [cm^3/g]": 2.345699278861651,
         "metal_linker": -1.005025737471612,
         "organic_linker1": -0.7392679966035637,
         "organic_linker2": 0.2223959541076934,
         "CO2/N2_selectivity": -1.263871875542731,
         "heat_adsorption_CO2_P0.15bar_T298K [kcal/mol]": -2.529561068658173,
         "density [g/cm^3]": -1.070766675796201,
         "acs": -0.2803581440745892,
         "bcu": -0.2266903411134573,
         "etb": -0.2197649001086138,
         "fof": -0.1230321554776692,
         "nbo": -0.1473671694616714,
         "pcu": 0.699156374723668,
         "pts": -0.0487786412631612,
         "rht": -0.0065696414697919,
         "sra": -0.37097332823438,
         "tbo": -0.0197123278543765,
         "the": -0.0236933156232904,
         "CO2_working_capacity [mL/g]": 4.089111171368028,
         "_deepnote_index_column": 46335
        },
        {
         "volume [A^3]": -0.6860027762765067,
         "weight [u]": -0.5183265338397598,
         "surface_area [m^2/g]": -0.646011905129006,
         "void_fraction": -0.2033666569591181,
         "void_volume [cm^3/g]": -0.7268841128356804,
         "metal_linker": -0.6862273248263476,
         "organic_linker1": 0.0018311182030027,
         "organic_linker2": -0.1707059505277895,
         "CO2/N2_selectivity": -1.0573650040759095,
         "heat_adsorption_CO2_P0.15bar_T298K [kcal/mol]": -1.7457224054548424,
         "density [g/cm^3]": 1.6869475675493206,
         "acs": -0.2803581440745892,
         "bcu": -0.2266903411134573,
         "etb": -0.2197649001086138,
         "fof": -0.1230321554776692,
         "nbo": -0.1473671694616714,
         "pcu": 0.699156374723668,
         "pts": -0.0487786412631612,
         "rht": -0.0065696414697919,
         "sra": -0.37097332823438,
         "tbo": -0.0197123278543765,
         "the": -0.0236933156232904,
         "CO2_working_capacity [mL/g]": 7.483415152057922,
         "_deepnote_index_column": 46336
        },
        {
         "volume [A^3]": 0.0025008487944639,
         "weight [u]": 0.1321004174582585,
         "surface_area [m^2/g]": 0.2982453067471856,
         "void_fraction": 2.0885614500533034,
         "void_volume [cm^3/g]": 0.8893240087360248,
         "metal_linker": -0.3674289121810832,
         "organic_linker1": -0.3687184392002804,
         "organic_linker2": -0.6620833313221434,
         "CO2/N2_selectivity": -1.090528574725544,
         "heat_adsorption_CO2_P0.15bar_T298K [kcal/mol]": -1.8305651361806548,
         "density [g/cm^3]": 0.1347358928243393,
         "acs": -0.2803581440745892,
         "bcu": -0.2266903411134573,
         "etb": -0.2197649001086138,
         "fof": -0.1230321554776692,
         "nbo": -0.1473671694616714,
         "pcu": 0.699156374723668,
         "pts": -0.0487786412631612,
         "rht": -0.0065696414697919,
         "sra": -0.37097332823438,
         "tbo": -0.0197123278543765,
         "the": -0.0236933156232904,
         "CO2_working_capacity [mL/g]": 5.968177517647236,
         "_deepnote_index_column": 46337
        },
        {
         "volume [A^3]": 0.6330054958563145,
         "weight [u]": 0.3624105928402632,
         "surface_area [m^2/g]": 0.7210573741834485,
         "void_fraction": 3.160735257213225,
         "void_volume [cm^3/g]": 2.541291344529564,
         "metal_linker": -0.3674289121810832,
         "organic_linker1": -0.4613558285511012,
         "organic_linker2": -0.367256902845531,
         "CO2/N2_selectivity": -1.2391941834202511,
         "heat_adsorption_CO2_P0.15bar_T298K [kcal/mol]": -2.49047446585058,
         "density [g/cm^3]": -0.93595637449048,
         "acs": -0.2803581440745892,
         "bcu": -0.2266903411134573,
         "etb": -0.2197649001086138,
         "fof": -0.1230321554776692,
         "nbo": -0.1473671694616714,
         "pcu": 0.699156374723668,
         "pts": -0.0487786412631612,
         "rht": -0.0065696414697919,
         "sra": -0.37097332823438,
         "tbo": -0.0197123278543765,
         "the": -0.0236933156232904,
         "CO2_working_capacity [mL/g]": 6.346202812646742,
         "_deepnote_index_column": 46338
        },
        {
         "volume [A^3]": 7.80247565441747,
         "weight [u]": 4.140955933621842,
         "surface_area [m^2/g]": 2.0515409507476763,
         "void_fraction": 4.407479778296595,
         "void_volume [cm^3/g]": 6.311179413552669,
         "metal_linker": -1.005025737471612,
         "organic_linker1": -0.4613558285511012,
         "organic_linker2": -0.1707059505277895,
         "CO2/N2_selectivity": -1.286549193827293,
         "heat_adsorption_CO2_P0.15bar_T298K [kcal/mol]": -3.235074428977678,
         "density [g/cm^3]": -2.0848398482234085,
         "acs": -0.2803581440745892,
         "bcu": -0.2266903411134573,
         "etb": -0.2197649001086138,
         "fof": -0.1230321554776692,
         "nbo": -0.1473671694616714,
         "pcu": 0.699156374723668,
         "pts": -0.0487786412631612,
         "rht": -0.0065696414697919,
         "sra": -0.37097332823438,
         "tbo": -0.0197123278543765,
         "the": -0.0236933156232904,
         "CO2_working_capacity [mL/g]": -4.405397837402552,
         "_deepnote_index_column": 46339
        },
        {
         "volume [A^3]": -0.5879006114631972,
         "weight [u]": -0.2378972763869176,
         "surface_area [m^2/g]": -0.5826296471246457,
         "void_fraction": 0.2985496080436473,
         "void_volume [cm^3/g]": -0.6499476216311267,
         "metal_linker": -0.3674289121810832,
         "organic_linker1": 0.0018311182030027,
         "organic_linker2": 0.0258450017899519,
         "CO2/N2_selectivity": -1.1968985126938332,
         "heat_adsorption_CO2_P0.15bar_T298K [kcal/mol]": -1.619385863181563,
         "density [g/cm^3]": 2.3418090431549947,
         "acs": -0.2803581440745892,
         "bcu": -0.2266903411134573,
         "etb": -0.2197649001086138,
         "fof": -0.1230321554776692,
         "nbo": -0.1473671694616714,
         "pcu": 0.699156374723668,
         "pts": -0.0487786412631612,
         "rht": -0.0065696414697919,
         "sra": -0.37097332823438,
         "tbo": -0.0197123278543765,
         "the": -0.0236933156232904,
         "CO2_working_capacity [mL/g]": 7.602105190094867,
         "_deepnote_index_column": 46340
        }
       ]
      },
      "text/plain": "       volume [A^3]  weight [u]  surface_area [m^2/g]  void_fraction  \\\n0         -0.041606    0.581323             -1.497285      -1.371381   \n1         -0.724843   -0.672924             -1.268760      -1.261383   \n2         -0.271145   -0.209823             -0.461613      -0.554545   \n3          0.440474   -0.001898              0.760820       1.001721   \n4          0.282346    0.357211             -0.352239       0.619071   \n...             ...         ...                   ...            ...   \n46336     -0.686003   -0.518327             -0.646012      -0.203367   \n46337      0.002501    0.132100              0.298245       2.088561   \n46338      0.633005    0.362411              0.721057       3.160735   \n46339      7.802476    4.140956              2.051541       4.407480   \n46340     -0.587901   -0.237897             -0.582630       0.298550   \n\n       void_volume [cm^3/g]  metal_linker  organic_linker1  organic_linker2  \\\n0                 -1.190670      1.864160         2.966228         3.563762   \n1                 -1.070389     -0.686227         0.928205         0.320671   \n2                 -0.551339      1.545362         0.465018         0.320671   \n3                  1.347692      1.545362        -0.461356         0.222396   \n4                  0.229946      1.864160         3.799964         3.367211   \n...                     ...           ...              ...              ...   \n46336             -0.726884     -0.686227         0.001831        -0.170706   \n46337              0.889324     -0.367429        -0.368718        -0.662083   \n46338              2.541291     -0.367429        -0.461356        -0.367257   \n46339              6.311179     -1.005026        -0.461356        -0.170706   \n46340             -0.649948     -0.367429         0.001831         0.025845   \n\n       CO2/N2_selectivity  heat_adsorption_CO2_P0.15bar_T298K [kcal/mol]  ...  \\\n0                0.755278                                       1.568435  ...   \n1               -0.254473                                       0.611158  ...   \n2                0.198422                                       0.422076  ...   \n3               -0.403419                                      -0.526174  ...   \n4               -0.317785                                       0.558331  ...   \n...                   ...                                            ...  ...   \n46336           -1.057365                                      -1.745722  ...   \n46337           -1.090529                                      -1.830565  ...   \n46338           -1.239194                                      -2.490474  ...   \n46339           -1.286549                                      -3.235074  ...   \n46340           -1.196899                                      -1.619386  ...   \n\n            etb       fof       nbo       pcu       pts      rht       sra  \\\n0      4.550317 -0.123032 -0.147367 -1.430295 -0.048779 -0.00657 -0.370973   \n1     -0.219765 -0.123032 -0.147367  0.699156 -0.048779 -0.00657 -0.370973   \n2     -0.219765 -0.123032 -0.147367 -1.430295 -0.048779 -0.00657  2.695612   \n3     -0.219765 -0.123032 -0.147367 -1.430295 -0.048779 -0.00657  2.695612   \n4      4.550317 -0.123032 -0.147367 -1.430295 -0.048779 -0.00657 -0.370973   \n...         ...       ...       ...       ...       ...      ...       ...   \n46336 -0.219765 -0.123032 -0.147367  0.699156 -0.048779 -0.00657 -0.370973   \n46337 -0.219765 -0.123032 -0.147367  0.699156 -0.048779 -0.00657 -0.370973   \n46338 -0.219765 -0.123032 -0.147367  0.699156 -0.048779 -0.00657 -0.370973   \n46339 -0.219765 -0.123032 -0.147367  0.699156 -0.048779 -0.00657 -0.370973   \n46340 -0.219765 -0.123032 -0.147367  0.699156 -0.048779 -0.00657 -0.370973   \n\n            tbo       the  CO2_working_capacity [mL/g]  \n0     -0.019712 -0.023693                   101.224774  \n1     -0.019712 -0.023693                   118.987011  \n2     -0.019712 -0.023693                   187.626004  \n3     -0.019712 -0.023693                    55.786959  \n4     -0.019712 -0.023693                   111.690462  \n...         ...       ...                          ...  \n46336 -0.019712 -0.023693                     7.483415  \n46337 -0.019712 -0.023693                     5.968178  \n46338 -0.019712 -0.023693                     6.346203  \n46339 -0.019712 -0.023693                    -4.405398  \n46340 -0.019712 -0.023693                     7.602105  \n\n[46341 rows x 23 columns]",
      "text/html": "<div>\n<style scoped>\n    .dataframe tbody tr th:only-of-type {\n        vertical-align: middle;\n    }\n\n    .dataframe tbody tr th {\n        vertical-align: top;\n    }\n\n    .dataframe thead th {\n        text-align: right;\n    }\n</style>\n<table border=\"1\" class=\"dataframe\">\n  <thead>\n    <tr style=\"text-align: right;\">\n      <th></th>\n      <th>volume [A^3]</th>\n      <th>weight [u]</th>\n      <th>surface_area [m^2/g]</th>\n      <th>void_fraction</th>\n      <th>void_volume [cm^3/g]</th>\n      <th>metal_linker</th>\n      <th>organic_linker1</th>\n      <th>organic_linker2</th>\n      <th>CO2/N2_selectivity</th>\n      <th>heat_adsorption_CO2_P0.15bar_T298K [kcal/mol]</th>\n      <th>...</th>\n      <th>etb</th>\n      <th>fof</th>\n      <th>nbo</th>\n      <th>pcu</th>\n      <th>pts</th>\n      <th>rht</th>\n      <th>sra</th>\n      <th>tbo</th>\n      <th>the</th>\n      <th>CO2_working_capacity [mL/g]</th>\n    </tr>\n  </thead>\n  <tbody>\n    <tr>\n      <th>0</th>\n      <td>-0.041606</td>\n      <td>0.581323</td>\n      <td>-1.497285</td>\n      <td>-1.371381</td>\n      <td>-1.190670</td>\n      <td>1.864160</td>\n      <td>2.966228</td>\n      <td>3.563762</td>\n      <td>0.755278</td>\n      <td>1.568435</td>\n      <td>...</td>\n      <td>4.550317</td>\n      <td>-0.123032</td>\n      <td>-0.147367</td>\n      <td>-1.430295</td>\n      <td>-0.048779</td>\n      <td>-0.00657</td>\n      <td>-0.370973</td>\n      <td>-0.019712</td>\n      <td>-0.023693</td>\n      <td>101.224774</td>\n    </tr>\n    <tr>\n      <th>1</th>\n      <td>-0.724843</td>\n      <td>-0.672924</td>\n      <td>-1.268760</td>\n      <td>-1.261383</td>\n      <td>-1.070389</td>\n      <td>-0.686227</td>\n      <td>0.928205</td>\n      <td>0.320671</td>\n      <td>-0.254473</td>\n      <td>0.611158</td>\n      <td>...</td>\n      <td>-0.219765</td>\n      <td>-0.123032</td>\n      <td>-0.147367</td>\n      <td>0.699156</td>\n      <td>-0.048779</td>\n      <td>-0.00657</td>\n      <td>-0.370973</td>\n      <td>-0.019712</td>\n      <td>-0.023693</td>\n      <td>118.987011</td>\n    </tr>\n    <tr>\n      <th>2</th>\n      <td>-0.271145</td>\n      <td>-0.209823</td>\n      <td>-0.461613</td>\n      <td>-0.554545</td>\n      <td>-0.551339</td>\n      <td>1.545362</td>\n      <td>0.465018</td>\n      <td>0.320671</td>\n      <td>0.198422</td>\n      <td>0.422076</td>\n      <td>...</td>\n      <td>-0.219765</td>\n      <td>-0.123032</td>\n      <td>-0.147367</td>\n      <td>-1.430295</td>\n      <td>-0.048779</td>\n      <td>-0.00657</td>\n      <td>2.695612</td>\n      <td>-0.019712</td>\n      <td>-0.023693</td>\n      <td>187.626004</td>\n    </tr>\n    <tr>\n      <th>3</th>\n      <td>0.440474</td>\n      <td>-0.001898</td>\n      <td>0.760820</td>\n      <td>1.001721</td>\n      <td>1.347692</td>\n      <td>1.545362</td>\n      <td>-0.461356</td>\n      <td>0.222396</td>\n      <td>-0.403419</td>\n      <td>-0.526174</td>\n      <td>...</td>\n      <td>-0.219765</td>\n      <td>-0.123032</td>\n      <td>-0.147367</td>\n      <td>-1.430295</td>\n      <td>-0.048779</td>\n      <td>-0.00657</td>\n      <td>2.695612</td>\n      <td>-0.019712</td>\n      <td>-0.023693</td>\n      <td>55.786959</td>\n    </tr>\n    <tr>\n      <th>4</th>\n      <td>0.282346</td>\n      <td>0.357211</td>\n      <td>-0.352239</td>\n      <td>0.619071</td>\n      <td>0.229946</td>\n      <td>1.864160</td>\n      <td>3.799964</td>\n      <td>3.367211</td>\n      <td>-0.317785</td>\n      <td>0.558331</td>\n      <td>...</td>\n      <td>4.550317</td>\n      <td>-0.123032</td>\n      <td>-0.147367</td>\n      <td>-1.430295</td>\n      <td>-0.048779</td>\n      <td>-0.00657</td>\n      <td>-0.370973</td>\n      <td>-0.019712</td>\n      <td>-0.023693</td>\n      <td>111.690462</td>\n    </tr>\n    <tr>\n      <th>...</th>\n      <td>...</td>\n      <td>...</td>\n      <td>...</td>\n      <td>...</td>\n      <td>...</td>\n      <td>...</td>\n      <td>...</td>\n      <td>...</td>\n      <td>...</td>\n      <td>...</td>\n      <td>...</td>\n      <td>...</td>\n      <td>...</td>\n      <td>...</td>\n      <td>...</td>\n      <td>...</td>\n      <td>...</td>\n      <td>...</td>\n      <td>...</td>\n      <td>...</td>\n      <td>...</td>\n    </tr>\n    <tr>\n      <th>46336</th>\n      <td>-0.686003</td>\n      <td>-0.518327</td>\n      <td>-0.646012</td>\n      <td>-0.203367</td>\n      <td>-0.726884</td>\n      <td>-0.686227</td>\n      <td>0.001831</td>\n      <td>-0.170706</td>\n      <td>-1.057365</td>\n      <td>-1.745722</td>\n      <td>...</td>\n      <td>-0.219765</td>\n      <td>-0.123032</td>\n      <td>-0.147367</td>\n      <td>0.699156</td>\n      <td>-0.048779</td>\n      <td>-0.00657</td>\n      <td>-0.370973</td>\n      <td>-0.019712</td>\n      <td>-0.023693</td>\n      <td>7.483415</td>\n    </tr>\n    <tr>\n      <th>46337</th>\n      <td>0.002501</td>\n      <td>0.132100</td>\n      <td>0.298245</td>\n      <td>2.088561</td>\n      <td>0.889324</td>\n      <td>-0.367429</td>\n      <td>-0.368718</td>\n      <td>-0.662083</td>\n      <td>-1.090529</td>\n      <td>-1.830565</td>\n      <td>...</td>\n      <td>-0.219765</td>\n      <td>-0.123032</td>\n      <td>-0.147367</td>\n      <td>0.699156</td>\n      <td>-0.048779</td>\n      <td>-0.00657</td>\n      <td>-0.370973</td>\n      <td>-0.019712</td>\n      <td>-0.023693</td>\n      <td>5.968178</td>\n    </tr>\n    <tr>\n      <th>46338</th>\n      <td>0.633005</td>\n      <td>0.362411</td>\n      <td>0.721057</td>\n      <td>3.160735</td>\n      <td>2.541291</td>\n      <td>-0.367429</td>\n      <td>-0.461356</td>\n      <td>-0.367257</td>\n      <td>-1.239194</td>\n      <td>-2.490474</td>\n      <td>...</td>\n      <td>-0.219765</td>\n      <td>-0.123032</td>\n      <td>-0.147367</td>\n      <td>0.699156</td>\n      <td>-0.048779</td>\n      <td>-0.00657</td>\n      <td>-0.370973</td>\n      <td>-0.019712</td>\n      <td>-0.023693</td>\n      <td>6.346203</td>\n    </tr>\n    <tr>\n      <th>46339</th>\n      <td>7.802476</td>\n      <td>4.140956</td>\n      <td>2.051541</td>\n      <td>4.407480</td>\n      <td>6.311179</td>\n      <td>-1.005026</td>\n      <td>-0.461356</td>\n      <td>-0.170706</td>\n      <td>-1.286549</td>\n      <td>-3.235074</td>\n      <td>...</td>\n      <td>-0.219765</td>\n      <td>-0.123032</td>\n      <td>-0.147367</td>\n      <td>0.699156</td>\n      <td>-0.048779</td>\n      <td>-0.00657</td>\n      <td>-0.370973</td>\n      <td>-0.019712</td>\n      <td>-0.023693</td>\n      <td>-4.405398</td>\n    </tr>\n    <tr>\n      <th>46340</th>\n      <td>-0.587901</td>\n      <td>-0.237897</td>\n      <td>-0.582630</td>\n      <td>0.298550</td>\n      <td>-0.649948</td>\n      <td>-0.367429</td>\n      <td>0.001831</td>\n      <td>0.025845</td>\n      <td>-1.196899</td>\n      <td>-1.619386</td>\n      <td>...</td>\n      <td>-0.219765</td>\n      <td>-0.123032</td>\n      <td>-0.147367</td>\n      <td>0.699156</td>\n      <td>-0.048779</td>\n      <td>-0.00657</td>\n      <td>-0.370973</td>\n      <td>-0.019712</td>\n      <td>-0.023693</td>\n      <td>7.602105</td>\n    </tr>\n  </tbody>\n</table>\n<p>46341 rows × 23 columns</p>\n</div>"
     },
     "metadata": {}
    }
   ]
  },
  {
   "cell_type": "code",
   "metadata": {
    "tags": [],
    "cell_id": "00006-6bd7de1c-8fd1-4173-8cab-bcd1dbd2ce52",
    "deepnote_to_be_reexecuted": false,
    "source_hash": "65fea6c8",
    "execution_start": 1634400766761,
    "execution_millis": 336,
    "deepnote_cell_type": "code"
   },
   "source": "pretesting_set = pd.read_csv(pretesting_path)\npretesting_set",
   "execution_count": null,
   "outputs": [
    {
     "output_type": "execute_result",
     "execution_count": 9,
     "data": {
      "application/vnd.deepnote.dataframe.v2+json": {
       "row_count": 17000,
       "column_count": 22,
       "columns": [
        {
         "name": "volume [A^3]",
         "dtype": "float64",
         "stats": {
          "unique_count": 16999,
          "nan_count": 0,
          "min": "-0.9206754673922952",
          "max": "30.953580500506376",
          "histogram": [
           {
            "bin_start": -0.9206754673922952,
            "bin_end": 2.2667501293975723,
            "count": 15702
           },
           {
            "bin_start": 2.2667501293975723,
            "bin_end": 5.45417572618744,
            "count": 667
           },
           {
            "bin_start": 5.45417572618744,
            "bin_end": 8.641601322977307,
            "count": 342
           },
           {
            "bin_start": 8.641601322977307,
            "bin_end": 11.829026919767175,
            "count": 154
           },
           {
            "bin_start": 11.829026919767175,
            "bin_end": 15.016452516557043,
            "count": 76
           },
           {
            "bin_start": 15.016452516557043,
            "bin_end": 18.203878113346907,
            "count": 31
           },
           {
            "bin_start": 18.203878113346907,
            "bin_end": 21.391303710136775,
            "count": 10
           },
           {
            "bin_start": 21.391303710136775,
            "bin_end": 24.578729306926643,
            "count": 12
           },
           {
            "bin_start": 24.578729306926643,
            "bin_end": 27.76615490371651,
            "count": 3
           },
           {
            "bin_start": 27.76615490371651,
            "bin_end": 30.953580500506376,
            "count": 3
           }
          ]
         }
        },
        {
         "name": "weight [u]",
         "dtype": "float64",
         "stats": {
          "unique_count": 15576,
          "nan_count": 0,
          "min": "-0.9645976108136776",
          "max": "17.27191504435769",
          "histogram": [
           {
            "bin_start": -0.9645976108136776,
            "bin_end": 0.8590536547034591,
            "count": 14362
           },
           {
            "bin_start": 0.8590536547034591,
            "bin_end": 2.682704920220596,
            "count": 1888
           },
           {
            "bin_start": 2.682704920220596,
            "bin_end": 4.506356185737732,
            "count": 536
           },
           {
            "bin_start": 4.506356185737732,
            "bin_end": 6.330007451254869,
            "count": 158
           },
           {
            "bin_start": 6.330007451254869,
            "bin_end": 8.153658716772005,
            "count": 32
           },
           {
            "bin_start": 8.153658716772005,
            "bin_end": 9.97730998228914,
            "count": 15
           },
           {
            "bin_start": 9.97730998228914,
            "bin_end": 11.800961247806278,
            "count": 5
           },
           {
            "bin_start": 11.800961247806278,
            "bin_end": 13.624612513323415,
            "count": 0
           },
           {
            "bin_start": 13.624612513323415,
            "bin_end": 15.44826377884055,
            "count": 2
           },
           {
            "bin_start": 15.44826377884055,
            "bin_end": 17.27191504435769,
            "count": 2
           }
          ]
         }
        },
        {
         "name": "surface_area [m^2/g]",
         "dtype": "float64",
         "stats": {
          "unique_count": 16635,
          "nan_count": 0,
          "min": "-2.1859115498226944",
          "max": "6.3540195939391335",
          "histogram": [
           {
            "bin_start": -2.1859115498226944,
            "bin_end": -1.3319184354465117,
            "count": 1598
           },
           {
            "bin_start": -1.3319184354465117,
            "bin_end": -0.4779253210703287,
            "count": 3698
           },
           {
            "bin_start": -0.4779253210703287,
            "bin_end": 0.37606779330585427,
            "count": 4128
           },
           {
            "bin_start": 0.37606779330585427,
            "bin_end": 1.230060907682037,
            "count": 3208
           },
           {
            "bin_start": 1.230060907682037,
            "bin_end": 2.0840540220582198,
            "count": 2047
           },
           {
            "bin_start": 2.0840540220582198,
            "bin_end": 2.938047136434403,
            "count": 1120
           },
           {
            "bin_start": 2.938047136434403,
            "bin_end": 3.7920402508105853,
            "count": 609
           },
           {
            "bin_start": 3.7920402508105853,
            "bin_end": 4.646033365186769,
            "count": 390
           },
           {
            "bin_start": 4.646033365186769,
            "bin_end": 5.500026479562951,
            "count": 169
           },
           {
            "bin_start": 5.500026479562951,
            "bin_end": 6.3540195939391335,
            "count": 33
           }
          ]
         }
        },
        {
         "name": "void_fraction",
         "dtype": "float64",
         "stats": {
          "unique_count": 14311,
          "nan_count": 0,
          "min": "-2.406277958855381",
          "max": "6.102363821703858",
          "histogram": [
           {
            "bin_start": -2.406277958855381,
            "bin_end": -1.5554137807994572,
            "count": 795
           },
           {
            "bin_start": -1.5554137807994572,
            "bin_end": -0.7045496027435332,
            "count": 3253
           },
           {
            "bin_start": -0.7045496027435332,
            "bin_end": 0.1463145753123909,
            "count": 4377
           },
           {
            "bin_start": 0.1463145753123909,
            "bin_end": 0.9971787533683147,
            "count": 3959
           },
           {
            "bin_start": 0.9971787533683147,
            "bin_end": 1.8480429314242386,
            "count": 2036
           },
           {
            "bin_start": 1.8480429314242386,
            "bin_end": 2.698907109480163,
            "count": 921
           },
           {
            "bin_start": 2.698907109480163,
            "bin_end": 3.5497712875360863,
            "count": 714
           },
           {
            "bin_start": 3.5497712875360863,
            "bin_end": 4.400635465592011,
            "count": 591
           },
           {
            "bin_start": 4.400635465592011,
            "bin_end": 5.251499643647935,
            "count": 268
           },
           {
            "bin_start": 5.251499643647935,
            "bin_end": 6.102363821703858,
            "count": 86
           }
          ]
         }
        },
        {
         "name": "void_volume [cm^3/g]",
         "dtype": "float64",
         "stats": {
          "unique_count": 7835,
          "nan_count": 0,
          "min": "-1.653372844946848",
          "max": "31.65633520269205",
          "histogram": [
           {
            "bin_start": -1.653372844946848,
            "bin_end": 1.6775979598170419,
            "count": 13858
           },
           {
            "bin_start": 1.6775979598170419,
            "bin_end": 5.008568764580932,
            "count": 2023
           },
           {
            "bin_start": 5.008568764580932,
            "bin_end": 8.339539569344822,
            "count": 617
           },
           {
            "bin_start": 8.339539569344822,
            "bin_end": 11.670510374108712,
            "count": 281
           },
           {
            "bin_start": 11.670510374108712,
            "bin_end": 15.001481178872602,
            "count": 107
           },
           {
            "bin_start": 15.001481178872602,
            "bin_end": 18.332451983636492,
            "count": 59
           },
           {
            "bin_start": 18.332451983636492,
            "bin_end": 21.663422788400382,
            "count": 35
           },
           {
            "bin_start": 21.663422788400382,
            "bin_end": 24.994393593164272,
            "count": 16
           },
           {
            "bin_start": 24.994393593164272,
            "bin_end": 28.325364397928162,
            "count": 3
           },
           {
            "bin_start": 28.325364397928162,
            "bin_end": 31.65633520269205,
            "count": 1
           }
          ]
         }
        },
        {
         "name": "metal_linker",
         "dtype": "float64"
        },
        {
         "name": "organic_linker1",
         "dtype": "float64"
        },
        {
         "name": "organic_linker2",
         "dtype": "float64"
        },
        {
         "name": "CO2/N2_selectivity",
         "dtype": "float64"
        },
        {
         "name": "heat_adsorption_CO2_P0.15bar_T298K [kcal/mol]",
         "dtype": "float64"
        },
        {
         "name": "density [g/cm^3]",
         "dtype": "float64"
        },
        {
         "name": "acs",
         "dtype": "float64"
        },
        {
         "name": "bcu",
         "dtype": "float64"
        },
        {
         "name": "etb",
         "dtype": "float64"
        },
        {
         "name": "fof",
         "dtype": "float64"
        },
        {
         "name": "nbo",
         "dtype": "float64"
        },
        {
         "name": "pcu",
         "dtype": "float64"
        },
        {
         "name": "pts",
         "dtype": "float64"
        },
        {
         "name": "rht",
         "dtype": "float64"
        },
        {
         "name": "sra",
         "dtype": "float64"
        },
        {
         "name": "tbo",
         "dtype": "float64"
        },
        {
         "name": "the",
         "dtype": "float64"
        },
        {
         "name": "_deepnote_index_column",
         "dtype": "int64"
        }
       ],
       "rows_top": [
        {
         "volume [A^3]": -0.676647945196018,
         "weight [u]": -0.6519726373197089,
         "surface_area [m^2/g]": -1.5183831551188167,
         "void_fraction": -1.6160246511937644,
         "void_volume [cm^3/g]": -1.191212091443441,
         "metal_linker": -0.6862273248263476,
         "organic_linker1": -0.6466306072527429,
         "organic_linker2": 0.5172223825843058,
         "CO2/N2_selectivity": 0.9679494703465814,
         "heat_adsorption_CO2_P0.15bar_T298K [kcal/mol]": 1.3987976048143265,
         "density [g/cm^3]": 0.6502427252955546,
         "acs": -0.2803581440745892,
         "bcu": -0.2266903411134573,
         "etb": -0.2197649001086138,
         "fof": -0.1230321554776692,
         "nbo": -0.1473671694616714,
         "pcu": 0.699156374723668,
         "pts": -0.0487786412631612,
         "rht": -0.0065696414697919,
         "sra": -0.37097332823438,
         "tbo": -0.0197123278543765,
         "the": -0.0236933156232904,
         "_deepnote_index_column": 0
        },
        {
         "volume [A^3]": 0.510337941223801,
         "weight [u]": 1.9087939367233049,
         "surface_area [m^2/g]": -1.1896680319468271,
         "void_fraction": -0.6000719841072041,
         "void_volume [cm^3/g]": -0.9837002877015828,
         "metal_linker": -0.0486304995358187,
         "organic_linker1": -0.553993217901922,
         "organic_linker2": -0.367256902845531,
         "CO2/N2_selectivity": -0.3158922306601238,
         "heat_adsorption_CO2_P0.15bar_T298K [kcal/mol]": -0.8601953408117374,
         "density [g/cm^3]": 2.435180986753727,
         "acs": 3.5668662428251854,
         "bcu": -0.2266903411134573,
         "etb": -0.2197649001086138,
         "fof": -0.1230321554776692,
         "nbo": -0.1473671694616714,
         "pcu": -1.4302951902496808,
         "pts": -0.0487786412631612,
         "rht": -0.0065696414697919,
         "sra": -0.37097332823438,
         "tbo": -0.0197123278543765,
         "the": -0.0236933156232904,
         "_deepnote_index_column": 1
        },
        {
         "volume [A^3]": -0.5164448165111118,
         "weight [u]": -0.6960183169403857,
         "surface_area [m^2/g]": 1.6571446031148498,
         "void_fraction": 0.674681257121409,
         "void_volume [cm^3/g]": 0.61625364558747,
         "metal_linker": -0.3674289121810832,
         "organic_linker1": -0.090806271147818,
         "organic_linker2": -0.367256902845531,
         "CO2/N2_selectivity": -0.6907109458113551,
         "heat_adsorption_CO2_P0.15bar_T298K [kcal/mol]": -0.948817748544038,
         "density [g/cm^3]": -0.763902320530868,
         "acs": -0.2803581440745892,
         "bcu": -0.2266903411134573,
         "etb": -0.2197649001086138,
         "fof": -0.1230321554776692,
         "nbo": -0.1473671694616714,
         "pcu": 0.699156374723668,
         "pts": -0.0487786412631612,
         "rht": -0.0065696414697919,
         "sra": -0.37097332823438,
         "tbo": -0.0197123278543765,
         "the": -0.0236933156232904,
         "_deepnote_index_column": 2
        },
        {
         "volume [A^3]": -0.1770073107315057,
         "weight [u]": -0.4791937746742094,
         "surface_area [m^2/g]": 2.1087308313612048,
         "void_fraction": 1.3449553926699462,
         "void_volume [cm^3/g]": 1.4766420120158534,
         "metal_linker": -0.6862273248263476,
         "organic_linker1": -1.017180164656026,
         "organic_linker2": 0.7137733349020473,
         "CO2/N2_selectivity": -0.9342415328075668,
         "heat_adsorption_CO2_P0.15bar_T298K [kcal/mol]": -0.8759571687846132,
         "density [g/cm^3]": -1.1849129656519983,
         "acs": -0.2803581440745892,
         "bcu": -0.2266903411134573,
         "etb": -0.2197649001086138,
         "fof": -0.1230321554776692,
         "nbo": -0.1473671694616714,
         "pcu": 0.699156374723668,
         "pts": -0.0487786412631612,
         "rht": -0.0065696414697919,
         "sra": -0.37097332823438,
         "tbo": -0.0197123278543765,
         "the": -0.0236933156232904,
         "_deepnote_index_column": 3
        },
        {
         "volume [A^3]": 0.1023541826159092,
         "weight [u]": -0.1811281487388589,
         "surface_area [m^2/g]": 1.0672372264038312,
         "void_fraction": 1.191671306056886,
         "void_volume [cm^3/g]": 1.2144077743890669,
         "metal_linker": -0.3674289121810832,
         "organic_linker1": -0.3687184392002804,
         "organic_linker2": -0.1707059505277895,
         "CO2/N2_selectivity": -0.6968945053749889,
         "heat_adsorption_CO2_P0.15bar_T298K [kcal/mol]": -0.6587083764354298,
         "density [g/cm^3]": -1.042275300988804,
         "acs": -0.2803581440745892,
         "bcu": -0.2266903411134573,
         "etb": -0.2197649001086138,
         "fof": -0.1230321554776692,
         "nbo": -0.1473671694616714,
         "pcu": 0.699156374723668,
         "pts": -0.0487786412631612,
         "rht": -0.0065696414697919,
         "sra": -0.37097332823438,
         "tbo": -0.0197123278543765,
         "the": -0.0236933156232904,
         "_deepnote_index_column": 4
        },
        {
         "volume [A^3]": -0.8030346016078365,
         "weight [u]": -0.9212155965579232,
         "surface_area [m^2/g]": 0.4584807967566485,
         "void_fraction": 0.540850499772863,
         "void_volume [cm^3/g]": 0.1963537816189579,
         "metal_linker": -0.3674289121810832,
         "organic_linker1": -1.017180164656026,
         "organic_linker2": -1.0551852359576264,
         "CO2/N2_selectivity": -0.701679843823894,
         "heat_adsorption_CO2_P0.15bar_T298K [kcal/mol]": -0.9062568608835224,
         "density [g/cm^3]": -0.1916090003577525,
         "acs": -0.2803581440745892,
         "bcu": -0.2266903411134573,
         "etb": -0.2197649001086138,
         "fof": -0.1230321554776692,
         "nbo": -0.1473671694616714,
         "pcu": 0.699156374723668,
         "pts": -0.0487786412631612,
         "rht": -0.0065696414697919,
         "sra": -0.37097332823438,
         "tbo": -0.0197123278543765,
         "the": -0.0236933156232904,
         "_deepnote_index_column": 5
        },
        {
         "volume [A^3]": -0.3485863405862011,
         "weight [u]": -0.3290175837695971,
         "surface_area [m^2/g]": -0.6478041101622805,
         "void_fraction": -0.8083550120963777,
         "void_volume [cm^3/g]": -0.6667436161898673,
         "metal_linker": -0.6862273248263476,
         "organic_linker1": 0.5576554543079275,
         "organic_linker2": 0.1241204779488227,
         "CO2/N2_selectivity": -0.1950519711751888,
         "heat_adsorption_CO2_P0.15bar_T298K [kcal/mol]": 0.3730440441839834,
         "density [g/cm^3]": 0.062911839907416,
         "acs": -0.2803581440745892,
         "bcu": -0.2266903411134573,
         "etb": -0.2197649001086138,
         "fof": -0.1230321554776692,
         "nbo": -0.1473671694616714,
         "pcu": 0.699156374723668,
         "pts": -0.0487786412631612,
         "rht": -0.0065696414697919,
         "sra": -0.37097332823438,
         "tbo": -0.0197123278543765,
         "the": -0.0236933156232904,
         "_deepnote_index_column": 6
        },
        {
         "volume [A^3]": -0.0332901385184367,
         "weight [u]": -0.1855267437998634,
         "surface_area [m^2/g]": 1.369983916645407,
         "void_fraction": 0.4332970144151283,
         "void_volume [cm^3/g]": 0.3989893288760204,
         "metal_linker": 1.5453615636905038,
         "organic_linker1": 0.3723806756062859,
         "organic_linker2": -0.0724304743689187,
         "CO2/N2_selectivity": 0.9187095014951424,
         "heat_adsorption_CO2_P0.15bar_T298K [kcal/mol]": 0.2828779090558125,
         "density [g/cm^3]": -0.6819948611857501,
         "acs": -0.2803581440745892,
         "bcu": -0.2266903411134573,
         "etb": -0.2197649001086138,
         "fof": -0.1230321554776692,
         "nbo": -0.1473671694616714,
         "pcu": -1.4302951902496808,
         "pts": -0.0487786412631612,
         "rht": -0.0065696414697919,
         "sra": 2.695611581453349,
         "tbo": -0.0197123278543765,
         "the": -0.0236933156232904,
         "_deepnote_index_column": 7
        },
        {
         "volume [A^3]": 0.2181284200058789,
         "weight [u]": -0.1193529659429856,
         "surface_area [m^2/g]": 1.1514832230024503,
         "void_fraction": 0.4272878708203302,
         "void_volume [cm^3/g]": 0.729491157289946,
         "metal_linker": -0.6862273248263476,
         "organic_linker1": 0.6502928436587483,
         "organic_linker2": 0.812048811060918,
         "CO2/N2_selectivity": -0.6902591139548468,
         "heat_adsorption_CO2_P0.15bar_T298K [kcal/mol]": -0.8686636855876815,
         "density [g/cm^3]": -1.1515881294697838,
         "acs": -0.2803581440745892,
         "bcu": -0.2266903411134573,
         "etb": -0.2197649001086138,
         "fof": -0.1230321554776692,
         "nbo": -0.1473671694616714,
         "pcu": 0.699156374723668,
         "pts": -0.0487786412631612,
         "rht": -0.0065696414697919,
         "sra": -0.37097332823438,
         "tbo": -0.0197123278543765,
         "the": -0.0236933156232904,
         "_deepnote_index_column": 8
        },
        {
         "volume [A^3]": -0.5504371816296222,
         "weight [u]": -0.3868732735287667,
         "surface_area [m^2/g]": -1.339793013561679,
         "void_fraction": -1.2762534133591008,
         "void_volume [cm^3/g]": -1.0915197366431748,
         "metal_linker": -0.6862273248263476,
         "organic_linker1": -0.2760810498494597,
         "organic_linker2": -0.4655323790044018,
         "CO2/N2_selectivity": 0.3571236007759482,
         "heat_adsorption_CO2_P0.15bar_T298K [kcal/mol]": 1.0389582219244191,
         "density [g/cm^3]": 1.126382528672141,
         "acs": -0.2803581440745892,
         "bcu": -0.2266903411134573,
         "etb": -0.2197649001086138,
         "fof": -0.1230321554776692,
         "nbo": -0.1473671694616714,
         "pcu": 0.699156374723668,
         "pts": -0.0487786412631612,
         "rht": -0.0065696414697919,
         "sra": -0.37097332823438,
         "tbo": -0.0197123278543765,
         "the": -0.0236933156232904,
         "_deepnote_index_column": 9
        },
        {
         "volume [A^3]": -0.0662267410198652,
         "weight [u]": -0.4933330479614992,
         "surface_area [m^2/g]": 1.7813011517992878,
         "void_fraction": 1.882519119675748,
         "void_volume [cm^3/g]": 2.37333139894216,
         "metal_linker": -0.3674289121810832,
         "organic_linker1": 0.3723806756062859,
         "organic_linker2": 0.5172223825843058,
         "CO2/N2_selectivity": -0.7990419427572638,
         "heat_adsorption_CO2_P0.15bar_T298K [kcal/mol]": -1.2498290217268098,
         "density [g/cm^3]": -1.5283653675842,
         "acs": -0.2803581440745892,
         "bcu": -0.2266903411134573,
         "etb": -0.2197649001086138,
         "fof": -0.1230321554776692,
         "nbo": -0.1473671694616714,
         "pcu": 0.699156374723668,
         "pts": -0.0487786412631612,
         "rht": -0.0065696414697919,
         "sra": -0.37097332823438,
         "tbo": -0.0197123278543765,
         "the": -0.0236933156232904,
         "_deepnote_index_column": 10
        },
        {
         "volume [A^3]": 2.3449452217532056,
         "weight [u]": 2.728139452847606,
         "surface_area [m^2/g]": -0.0287641316345151,
         "void_fraction": 0.4045753450298235,
         "void_volume [cm^3/g]": 0.1291698033839962,
         "metal_linker": -1.005025737471612,
         "organic_linker1": 0.2797432862554651,
         "organic_linker2": 0.3206714302665642,
         "CO2/N2_selectivity": -0.6601512428231835,
         "heat_adsorption_CO2_P0.15bar_T298K [kcal/mol]": -0.6192193745549021,
         "density [g/cm^3]": -0.2189162786305566,
         "acs": -0.2803581440745892,
         "bcu": -0.2266903411134573,
         "etb": -0.2197649001086138,
         "fof": -0.1230321554776692,
         "nbo": -0.1473671694616714,
         "pcu": 0.699156374723668,
         "pts": -0.0487786412631612,
         "rht": -0.0065696414697919,
         "sra": -0.37097332823438,
         "tbo": -0.0197123278543765,
         "the": -0.0236933156232904,
         "_deepnote_index_column": 11
        },
        {
         "volume [A^3]": 0.3969824455353027,
         "weight [u]": 0.8060240951696858,
         "surface_area [m^2/g]": 0.2763556852718104,
         "void_fraction": 0.3226880323142752,
         "void_volume [cm^3/g]": -0.207291894066902,
         "metal_linker": 1.5453615636905038,
         "organic_linker1": -0.4613558285511012,
         "organic_linker2": -0.2689814266866603,
         "CO2/N2_selectivity": 2.5539758708201665,
         "heat_adsorption_CO2_P0.15bar_T298K [kcal/mol]": 1.2953379288838685,
         "density [g/cm^3]": 0.5157517234473691,
         "acs": -0.2803581440745892,
         "bcu": -0.2266903411134573,
         "etb": -0.2197649001086138,
         "fof": -0.1230321554776692,
         "nbo": -0.1473671694616714,
         "pcu": -1.4302951902496808,
         "pts": -0.0487786412631612,
         "rht": -0.0065696414697919,
         "sra": 2.695611581453349,
         "tbo": -0.0197123278543765,
         "the": -0.0236933156232904,
         "_deepnote_index_column": 12
        },
        {
         "volume [A^3]": 0.1662714690539163,
         "weight [u]": 0.2371719407102612,
         "surface_area [m^2/g]": -0.3611996252548885,
         "void_fraction": -0.5508784865430115,
         "void_volume [cm^3/g]": -0.4668171003132467,
         "metal_linker": 1.5453615636905038,
         "organic_linker1": 0.4650180649571067,
         "organic_linker2": -0.2689814266866603,
         "CO2/N2_selectivity": 0.3465783421760904,
         "heat_adsorption_CO2_P0.15bar_T298K [kcal/mol]": 1.098617477335769,
         "density [g/cm^3]": -0.1252557362418614,
         "acs": -0.2803581440745892,
         "bcu": -0.2266903411134573,
         "etb": -0.2197649001086138,
         "fof": -0.1230321554776692,
         "nbo": -0.1473671694616714,
         "pcu": -1.4302951902496808,
         "pts": -0.0487786412631612,
         "rht": -0.0065696414697919,
         "sra": 2.695611581453349,
         "tbo": -0.0197123278543765,
         "the": -0.0236933156232904,
         "_deepnote_index_column": 13
        },
        {
         "volume [A^3]": -0.6204565186830596,
         "weight [u]": -0.6330186545381156,
         "surface_area [m^2/g]": -0.8445882228158336,
         "void_fraction": -0.910204903533627,
         "void_volume [cm^3/g]": -0.7718540337510174,
         "metal_linker": -0.3674289121810832,
         "organic_linker1": 0.6502928436587483,
         "organic_linker2": 0.1241204779488227,
         "CO2/N2_selectivity": -0.4128082341542874,
         "heat_adsorption_CO2_P0.15bar_T298K [kcal/mol]": 0.0334324004067455,
         "density [g/cm^3]": 0.273780340465632,
         "acs": -0.2803581440745892,
         "bcu": -0.2266903411134573,
         "etb": -0.2197649001086138,
         "fof": -0.1230321554776692,
         "nbo": -0.1473671694616714,
         "pcu": 0.699156374723668,
         "pts": -0.0487786412631612,
         "rht": -0.0065696414697919,
         "sra": -0.37097332823438,
         "tbo": -0.0197123278543765,
         "the": -0.0236933156232904,
         "_deepnote_index_column": 14
        },
        {
         "volume [A^3]": -0.5431136796544681,
         "weight [u]": -0.5978670327953004,
         "surface_area [m^2/g]": -0.0957925998789858,
         "void_fraction": -0.1279977372955529,
         "void_volume [cm^3/g]": -0.2376330455278525,
         "metal_linker": -0.6862273248263476,
         "organic_linker1": 0.1871058969046443,
         "organic_linker2": -0.2689814266866603,
         "CO2/N2_selectivity": -0.2293864836800384,
         "heat_adsorption_CO2_P0.15bar_T298K [kcal/mol]": -0.1767217130493953,
         "density [g/cm^3]": -0.0843431451021105,
         "acs": -0.2803581440745892,
         "bcu": -0.2266903411134573,
         "etb": -0.2197649001086138,
         "fof": -0.1230321554776692,
         "nbo": -0.1473671694616714,
         "pcu": 0.699156374723668,
         "pts": -0.0487786412631612,
         "rht": -0.0065696414697919,
         "sra": -0.37097332823438,
         "tbo": -0.0197123278543765,
         "the": -0.0236933156232904,
         "_deepnote_index_column": 15
        },
        {
         "volume [A^3]": -0.4484344259209137,
         "weight [u]": -0.6732416425899038,
         "surface_area [m^2/g]": 1.3845193174669996,
         "void_fraction": 0.553887285876831,
         "void_volume [cm^3/g]": 0.6866884614789623,
         "metal_linker": -0.3674289121810832,
         "organic_linker1": 0.0018311182030027,
         "organic_linker2": 0.5172223825843058,
         "CO2/N2_selectivity": -0.8863315260667209,
         "heat_adsorption_CO2_P0.15bar_T298K [kcal/mol]": -0.9317505188167028,
         "density [g/cm^3]": -0.977783335126361,
         "acs": -0.2803581440745892,
         "bcu": -0.2266903411134573,
         "etb": -0.2197649001086138,
         "fof": -0.1230321554776692,
         "nbo": -0.1473671694616714,
         "pcu": 0.699156374723668,
         "pts": -0.0487786412631612,
         "rht": -0.0065696414697919,
         "sra": -0.37097332823438,
         "tbo": -0.0197123278543765,
         "the": -0.0236933156232904,
         "_deepnote_index_column": 16
        },
        {
         "volume [A^3]": -0.7032910820902926,
         "weight [u]": -0.8489515005903678,
         "surface_area [m^2/g]": 1.274416128250377,
         "void_fraction": 0.6326172519578248,
         "void_volume [cm^3/g]": 0.4282468677847942,
         "metal_linker": -0.6862273248263476,
         "organic_linker1": -0.090806271147818,
         "organic_linker2": -0.6620833313221434,
         "CO2/N2_selectivity": -0.8046061423156289,
         "heat_adsorption_CO2_P0.15bar_T298K [kcal/mol]": -1.1224852841549071,
         "density [g/cm^3]": -0.5155929564837961,
         "acs": -0.2803581440745892,
         "bcu": -0.2266903411134573,
         "etb": -0.2197649001086138,
         "fof": -0.1230321554776692,
         "nbo": -0.1473671694616714,
         "pcu": 0.699156374723668,
         "pts": -0.0487786412631612,
         "rht": -0.0065696414697919,
         "sra": -0.37097332823438,
         "tbo": -0.0197123278543765,
         "the": -0.0236933156232904,
         "_deepnote_index_column": 17
        },
        {
         "volume [A^3]": -0.5045148194625095,
         "weight [u]": -0.4778696711251376,
         "surface_area [m^2/g]": -0.4879270611594723,
         "void_fraction": -0.4738799686164521,
         "void_volume [cm^3/g]": -0.5475462354504186,
         "metal_linker": -0.3674289121810832,
         "organic_linker1": 0.0944685075538235,
         "organic_linker2": -0.6620833313221434,
         "CO2/N2_selectivity": 0.3806647092562528,
         "heat_adsorption_CO2_P0.15bar_T298K [kcal/mol]": -0.2005135582366265,
         "density [g/cm^3]": 0.2935020075621508,
         "acs": -0.2803581440745892,
         "bcu": -0.2266903411134573,
         "etb": -0.2197649001086138,
         "fof": -0.1230321554776692,
         "nbo": -0.1473671694616714,
         "pcu": 0.699156374723668,
         "pts": -0.0487786412631612,
         "rht": -0.0065696414697919,
         "sra": -0.37097332823438,
         "tbo": -0.0197123278543765,
         "the": -0.0236933156232904,
         "_deepnote_index_column": 18
        },
        {
         "volume [A^3]": -0.5537419372856635,
         "weight [u]": 0.10057914033257,
         "surface_area [m^2/g]": -1.1890129501070783,
         "void_fraction": -0.6283862539267583,
         "void_volume [cm^3/g]": -1.1283625634171863,
         "metal_linker": -0.3674289121810832,
         "organic_linker1": -1.017180164656026,
         "organic_linker2": -0.2689814266866603,
         "CO2/N2_selectivity": -0.3800001313594421,
         "heat_adsorption_CO2_P0.15bar_T298K [kcal/mol]": -0.1659575378484077,
         "density [g/cm^3]": 3.8545777459681783,
         "acs": -0.2803581440745892,
         "bcu": -0.2266903411134573,
         "etb": -0.2197649001086138,
         "fof": -0.1230321554776692,
         "nbo": -0.1473671694616714,
         "pcu": 0.699156374723668,
         "pts": -0.0487786412631612,
         "rht": -0.0065696414697919,
         "sra": -0.37097332823438,
         "tbo": -0.0197123278543765,
         "the": -0.0236933156232904,
         "_deepnote_index_column": 19
        },
        {
         "volume [A^3]": -0.7044990093326103,
         "weight [u]": -0.7360883889561927,
         "surface_area [m^2/g]": -0.682412207356549,
         "void_fraction": -0.6913294868349783,
         "void_volume [cm^3/g]": -0.6683690350181325,
         "metal_linker": -0.3674289121810832,
         "organic_linker1": -0.7392679966035637,
         "organic_linker2": -0.6620833313221434,
         "CO2/N2_selectivity": 0.4626183143365677,
         "heat_adsorption_CO2_P0.15bar_T298K [kcal/mol]": 0.7532824253158172,
         "density [g/cm^3]": 0.3222557433514353,
         "acs": -0.2803581440745892,
         "bcu": -0.2266903411134573,
         "etb": -0.2197649001086138,
         "fof": -0.1230321554776692,
         "nbo": -0.1473671694616714,
         "pcu": 0.699156374723668,
         "pts": -0.0487786412631612,
         "rht": -0.0065696414697919,
         "sra": -0.37097332823438,
         "tbo": -0.0197123278543765,
         "the": -0.0236933156232904,
         "_deepnote_index_column": 20
        },
        {
         "volume [A^3]": -0.2448971293080744,
         "weight [u]": -0.1615191354814386,
         "surface_area [m^2/g]": -0.6159893808129778,
         "void_fraction": -0.4135848328855996,
         "void_volume [cm^3/g]": -0.4911983827372248,
         "metal_linker": -0.6862273248263476,
         "organic_linker1": 0.0944685075538235,
         "organic_linker2": -0.367256902845531,
         "CO2/N2_selectivity": 0.1182886149356267,
         "heat_adsorption_CO2_P0.15bar_T298K [kcal/mol]": 0.5291066203539838,
         "density [g/cm^3]": 0.2052191400512116,
         "acs": -0.2803581440745892,
         "bcu": -0.2266903411134573,
         "etb": -0.2197649001086138,
         "fof": -0.1230321554776692,
         "nbo": -0.1473671694616714,
         "pcu": 0.699156374723668,
         "pts": -0.0487786412631612,
         "rht": -0.0065696414697919,
         "sra": -0.37097332823438,
         "tbo": -0.0197123278543765,
         "the": -0.0236933156232904,
         "_deepnote_index_column": 21
        }
       ],
       "rows_bottom": [
        {
         "volume [A^3]": 10.867697943835829,
         "weight [u]": 2.3806327894772124,
         "surface_area [m^2/g]": 4.802402636338243,
         "void_fraction": 5.165141120698291,
         "void_volume [cm^3/g]": 15.856180579402055,
         "metal_linker": -0.6862273248263476,
         "organic_linker1": -0.9245427753052052,
         "organic_linker2": 0.2223959541076934,
         "CO2/N2_selectivity": -1.3770912885314048,
         "heat_adsorption_CO2_P0.15bar_T298K [kcal/mol]": -3.177101417300527,
         "density [g/cm^3]": -3.112763512397245,
         "acs": -0.2803581440745892,
         "bcu": -0.2266903411134573,
         "etb": -0.2197649001086138,
         "fof": -0.1230321554776692,
         "nbo": 6.785771916856417,
         "pcu": -1.4302951902496808,
         "pts": -0.0487786412631612,
         "rht": -0.0065696414697919,
         "sra": -0.37097332823438,
         "tbo": -0.0197123278543765,
         "the": -0.0236933156232904,
         "_deepnote_index_column": 16977
        },
        {
         "volume [A^3]": -0.1155842094834064,
         "weight [u]": -0.7655199636104316,
         "surface_area [m^2/g]": 4.394743971459184,
         "void_fraction": 3.1471892216520714,
         "void_volume [cm^3/g]": 5.601954998152949,
         "metal_linker": -0.6862273248263476,
         "organic_linker1": -0.553993217901922,
         "organic_linker2": -0.9569097597987556,
         "CO2/N2_selectivity": -1.3239251390974722,
         "heat_adsorption_CO2_P0.15bar_T298K [kcal/mol]": -3.1564832552778066,
         "density [g/cm^3]": -2.284592227170013,
         "acs": -0.2803581440745892,
         "bcu": -0.2266903411134573,
         "etb": -0.2197649001086138,
         "fof": -0.1230321554776692,
         "nbo": -0.1473671694616714,
         "pcu": 0.699156374723668,
         "pts": -0.0487786412631612,
         "rht": -0.0065696414697919,
         "sra": -0.37097332823438,
         "tbo": -0.0197123278543765,
         "the": -0.0236933156232904,
         "_deepnote_index_column": 16978
        },
        {
         "volume [A^3]": 0.1916915572229396,
         "weight [u]": 0.2852747971103742,
         "surface_area [m^2/g]": 0.5162639590363647,
         "void_fraction": 2.308455365666324,
         "void_volume [cm^3/g]": 1.154267277743254,
         "metal_linker": -0.6862273248263476,
         "organic_linker1": -0.9245427753052052,
         "organic_linker2": 0.2223959541076934,
         "CO2/N2_selectivity": -1.1098800020463198,
         "heat_adsorption_CO2_P0.15bar_T298K [kcal/mol]": -2.5323084004239784,
         "density [g/cm^3]": -0.0804361421478977,
         "acs": -0.2803581440745892,
         "bcu": -0.2266903411134573,
         "etb": -0.2197649001086138,
         "fof": -0.1230321554776692,
         "nbo": -0.1473671694616714,
         "pcu": 0.699156374723668,
         "pts": -0.0487786412631612,
         "rht": -0.0065696414697919,
         "sra": -0.37097332823438,
         "tbo": -0.0197123278543765,
         "the": -0.0236933156232904,
         "_deepnote_index_column": 16979
        },
        {
         "volume [A^3]": 3.408123758188629,
         "weight [u]": 1.942264764220524,
         "surface_area [m^2/g]": 2.3347093460050656,
         "void_fraction": 3.120199000421201,
         "void_volume [cm^3/g]": 3.880094652744007,
         "metal_linker": -0.6862273248263476,
         "organic_linker1": -1.017180164656026,
         "organic_linker2": -0.1707059505277895,
         "CO2/N2_selectivity": -1.1129167671661362,
         "heat_adsorption_CO2_P0.15bar_T298K [kcal/mol]": -2.5022230816407105,
         "density [g/cm^3]": -1.720481332476597,
         "acs": -0.2803581440745892,
         "bcu": -0.2266903411134573,
         "etb": -0.2197649001086138,
         "fof": -0.1230321554776692,
         "nbo": 6.785771916856417,
         "pcu": -1.4302951902496808,
         "pts": -0.0487786412631612,
         "rht": -0.0065696414697919,
         "sra": -0.37097332823438,
         "tbo": -0.0197123278543765,
         "the": -0.0236933156232904,
         "_deepnote_index_column": 16980
        },
        {
         "volume [A^3]": 0.9300115514607188,
         "weight [u]": 0.1404675674258273,
         "surface_area [m^2/g]": 2.1656611512457764,
         "void_fraction": 2.762502181693581,
         "void_volume [cm^3/g]": 3.610275127251982,
         "metal_linker": -0.6862273248263476,
         "organic_linker1": -0.7392679966035637,
         "organic_linker2": -0.9569097597987556,
         "CO2/N2_selectivity": -1.2665989768406338,
         "heat_adsorption_CO2_P0.15bar_T298K [kcal/mol]": -2.764479491727802,
         "density [g/cm^3]": -1.753260890763922,
         "acs": -0.2803581440745892,
         "bcu": -0.2266903411134573,
         "etb": -0.2197649001086138,
         "fof": -0.1230321554776692,
         "nbo": 6.785771916856417,
         "pcu": -1.4302951902496808,
         "pts": -0.0487786412631612,
         "rht": -0.0065696414697919,
         "sra": -0.37097332823438,
         "tbo": -0.0197123278543765,
         "the": -0.0236933156232904,
         "_deepnote_index_column": 16981
        },
        {
         "volume [A^3]": -0.3068152588922506,
         "weight [u]": -0.7220226142749036,
         "surface_area [m^2/g]": 3.0404178879350487,
         "void_fraction": 2.682346317132467,
         "void_volume [cm^3/g]": 3.40763957999492,
         "metal_linker": -0.6862273248263476,
         "organic_linker1": 0.6502928436587483,
         "organic_linker2": 0.5172223825843058,
         "CO2/N2_selectivity": -1.326285184260056,
         "heat_adsorption_CO2_P0.15bar_T298K [kcal/mol]": -3.1718127437705355,
         "density [g/cm^3]": -1.694848460334496,
         "acs": -0.2803581440745892,
         "bcu": -0.2266903411134573,
         "etb": -0.2197649001086138,
         "fof": -0.1230321554776692,
         "nbo": -0.1473671694616714,
         "pcu": 0.699156374723668,
         "pts": -0.0487786412631612,
         "rht": -0.0065696414697919,
         "sra": -0.37097332823438,
         "tbo": -0.0197123278543765,
         "the": -0.0236933156232904,
         "_deepnote_index_column": 16982
        },
        {
         "volume [A^3]": 5.677100547666107,
         "weight [u]": 2.1348926377076363,
         "surface_area [m^2/g]": 3.252689124083037,
         "void_fraction": 3.927461239952839,
         "void_volume [cm^3/g]": 7.297266836033562,
         "metal_linker": -0.6862273248263476,
         "organic_linker1": -0.7392679966035637,
         "organic_linker2": -1.3500116644342386,
         "CO2/N2_selectivity": -1.2871233749383195,
         "heat_adsorption_CO2_P0.15bar_T298K [kcal/mol]": -3.146143036242945,
         "density [g/cm^3]": -2.4356214432965686,
         "acs": -0.2803581440745892,
         "bcu": -0.2266903411134573,
         "etb": -0.2197649001086138,
         "fof": -0.1230321554776692,
         "nbo": 6.785771916856417,
         "pcu": -1.4302951902496808,
         "pts": -0.0487786412631612,
         "rht": -0.0065696414697919,
         "sra": -0.37097332823438,
         "tbo": -0.0197123278543765,
         "the": -0.0236933156232904,
         "_deepnote_index_column": 16983
        },
        {
         "volume [A^3]": 0.8552584609197613,
         "weight [u]": 0.3943027445580785,
         "surface_area [m^2/g]": 1.1020183640840708,
         "void_fraction": 2.314464509261122,
         "void_volume [cm^3/g]": 2.307772839535463,
         "metal_linker": -0.3674289121810832,
         "organic_linker1": 0.9282050117112106,
         "organic_linker2": 0.1241204779488227,
         "CO2/N2_selectivity": -1.2896504496724084,
         "heat_adsorption_CO2_P0.15bar_T298K [kcal/mol]": -2.830528030038272,
         "density [g/cm^3]": -1.2372093835958244,
         "acs": -0.2803581440745892,
         "bcu": -0.2266903411134573,
         "etb": -0.2197649001086138,
         "fof": -0.1230321554776692,
         "nbo": 6.785771916856417,
         "pcu": -1.4302951902496808,
         "pts": -0.0487786412631612,
         "rht": -0.0065696414697919,
         "sra": -0.37097332823438,
         "tbo": -0.0197123278543765,
         "the": -0.0236933156232904,
         "_deepnote_index_column": 16984
        },
        {
         "volume [A^3]": 3.807980493183148,
         "weight [u]": 2.903330223181781,
         "surface_area [m^2/g]": 1.0201207740807772,
         "void_fraction": 1.345872041692881,
         "void_volume [cm^3/g]": 1.5606219848095555,
         "metal_linker": -1.005025737471612,
         "organic_linker1": -0.7392679966035637,
         "organic_linker2": -1.4482871405931097,
         "CO2/N2_selectivity": -1.229509616197037,
         "heat_adsorption_CO2_P0.15bar_T298K [kcal/mol]": -2.1621910745462114,
         "density [g/cm^3]": -1.2598560837932122,
         "acs": -0.2803581440745892,
         "bcu": -0.2266903411134573,
         "etb": -0.2197649001086138,
         "fof": -0.1230321554776692,
         "nbo": -0.1473671694616714,
         "pcu": 0.699156374723668,
         "pts": -0.0487786412631612,
         "rht": -0.0065696414697919,
         "sra": -0.37097332823438,
         "tbo": -0.0197123278543765,
         "the": -0.0236933156232904,
         "_deepnote_index_column": 16985
        },
        {
         "volume [A^3]": 0.7126619807546217,
         "weight [u]": 0.3622060419119131,
         "surface_area [m^2/g]": 1.2163981253111282,
         "void_fraction": 2.692735006059065,
         "void_volume [cm^3/g]": 2.378207655426955,
         "metal_linker": -0.3674289121810832,
         "organic_linker1": -0.4613558285511012,
         "organic_linker2": 0.2223959541076934,
         "CO2/N2_selectivity": -1.1245534191170714,
         "heat_adsorption_CO2_P0.15bar_T298K [kcal/mol]": -2.190651228025993,
         "density [g/cm^3]": -1.0731629789933312,
         "acs": -0.2803581440745892,
         "bcu": -0.2266903411134573,
         "etb": -0.2197649001086138,
         "fof": -0.1230321554776692,
         "nbo": -0.1473671694616714,
         "pcu": 0.699156374723668,
         "pts": -0.0487786412631612,
         "rht": -0.0065696414697919,
         "sra": -0.37097332823438,
         "tbo": -0.0197123278543765,
         "the": -0.0236933156232904,
         "_deepnote_index_column": 16986
        },
        {
         "volume [A^3]": 0.9060071375408352,
         "weight [u]": 0.0654531633381573,
         "surface_area [m^2/g]": 2.3871529732890946,
         "void_fraction": 2.941350591057391,
         "void_volume [cm^3/g]": 4.010128159005223,
         "metal_linker": -0.6862273248263476,
         "organic_linker1": -0.7392679966035637,
         "organic_linker2": 0.3206714302665642,
         "CO2/N2_selectivity": -1.2798021818147791,
         "heat_adsorption_CO2_P0.15bar_T298K [kcal/mol]": -2.8999119297121974,
         "density [g/cm^3]": -1.8483954013980963,
         "acs": -0.2803581440745892,
         "bcu": -0.2266903411134573,
         "etb": -0.2197649001086138,
         "fof": -0.1230321554776692,
         "nbo": 6.785771916856417,
         "pcu": -1.4302951902496808,
         "pts": -0.0487786412631612,
         "rht": -0.0065696414697919,
         "sra": -0.37097332823438,
         "tbo": -0.0197123278543765,
         "the": -0.0236933156232904,
         "_deepnote_index_column": 16987
        },
        {
         "volume [A^3]": 4.299400711640514,
         "weight [u]": 2.894818788578482,
         "surface_area [m^2/g]": 1.8327930564104749,
         "void_fraction": 2.752622742224169,
         "void_volume [cm^3/g]": 3.140529085883337,
         "metal_linker": -1.005025737471612,
         "organic_linker1": -0.7392679966035637,
         "organic_linker2": -1.3500116644342386,
         "CO2/N2_selectivity": -1.262412347224359,
         "heat_adsorption_CO2_P0.15bar_T298K [kcal/mol]": -2.797481006173556,
         "density [g/cm^3]": -1.5264338228253571,
         "acs": -0.2803581440745892,
         "bcu": -0.2266903411134573,
         "etb": -0.2197649001086138,
         "fof": -0.1230321554776692,
         "nbo": -0.1473671694616714,
         "pcu": 0.699156374723668,
         "pts": -0.0487786412631612,
         "rht": -0.0065696414697919,
         "sra": -0.37097332823438,
         "tbo": -0.0197123278543765,
         "the": -0.0236933156232904,
         "_deepnote_index_column": 16988
        },
        {
         "volume [A^3]": 1.6056982974923488,
         "weight [u]": 0.1270195737043449,
         "surface_area [m^2/g]": 2.8260948860248285,
         "void_fraction": 4.238307108619323,
         "void_volume [cm^3/g]": 7.309186574107507,
         "metal_linker": -0.3674289121810832,
         "organic_linker1": -0.8319053859543845,
         "organic_linker2": 0.6154978587431765,
         "CO2/N2_selectivity": -1.312023197333529,
         "heat_adsorption_CO2_P0.15bar_T298K [kcal/mol]": -3.0717746575763054,
         "density [g/cm^3]": -2.3576938098998337,
         "acs": -0.2803581440745892,
         "bcu": -0.2266903411134573,
         "etb": -0.2197649001086138,
         "fof": -0.1230321554776692,
         "nbo": -0.1473671694616714,
         "pcu": 0.699156374723668,
         "pts": -0.0487786412631612,
         "rht": -0.0065696414697919,
         "sra": -0.37097332823438,
         "tbo": -0.0197123278543765,
         "the": -0.0236933156232904,
         "_deepnote_index_column": 16989
        },
        {
         "volume [A^3]": 4.4260418429836985,
         "weight [u]": 2.584746495887352,
         "surface_area [m^2/g]": 1.725001193685041,
         "void_fraction": 4.085837821137761,
         "void_volume [cm^3/g]": 4.951787466846866,
         "metal_linker": -0.6862273248263476,
         "organic_linker1": -0.8319053859543845,
         "organic_linker2": -1.7431135690697217,
         "CO2/N2_selectivity": -1.3219991306566927,
         "heat_adsorption_CO2_P0.15bar_T298K [kcal/mol]": -2.3169398656477336,
         "density [g/cm^3]": -1.7748179355946097,
         "acs": -0.2803581440745892,
         "bcu": -0.2266903411134573,
         "etb": -0.2197649001086138,
         "fof": -0.1230321554776692,
         "nbo": -0.1473671694616714,
         "pcu": 0.699156374723668,
         "pts": -0.0487786412631612,
         "rht": -0.0065696414697919,
         "sra": -0.37097332823438,
         "tbo": -0.0197123278543765,
         "the": -0.0236933156232904,
         "_deepnote_index_column": 16990
        },
        {
         "volume [A^3]": -0.0360772647635864,
         "weight [u]": -0.1882625557728301,
         "surface_area [m^2/g]": 1.0896954094759692,
         "void_fraction": 1.9491289486757089,
         "void_volume [cm^3/g]": 1.4154179028178635,
         "metal_linker": -0.6862273248263476,
         "organic_linker1": -0.3687184392002804,
         "organic_linker2": 0.3206714302665642,
         "CO2/N2_selectivity": -1.1987336563971085,
         "heat_adsorption_CO2_P0.15bar_T298K [kcal/mol]": -2.3359017243434663,
         "density [g/cm^3]": -0.6816386087130258,
         "acs": -0.2803581440745892,
         "bcu": -0.2266903411134573,
         "etb": -0.2197649001086138,
         "fof": -0.1230321554776692,
         "nbo": -0.1473671694616714,
         "pcu": 0.699156374723668,
         "pts": -0.0487786412631612,
         "rht": -0.0065696414697919,
         "sra": -0.37097332823438,
         "tbo": -0.0197123278543765,
         "the": -0.0236933156232904,
         "_deepnote_index_column": 16991
        },
        {
         "volume [A^3]": -0.1148216734704842,
         "weight [u]": -0.6609084741054161,
         "surface_area [m^2/g]": 3.486491540699745,
         "void_fraction": 2.908962325580346,
         "void_volume [cm^3/g]": 4.2349777635819095,
         "metal_linker": -0.6862273248263476,
         "organic_linker1": -0.553993217901922,
         "organic_linker2": -0.9569097597987556,
         "CO2/N2_selectivity": -1.323877768700466,
         "heat_adsorption_CO2_P0.15bar_T298K [kcal/mol]": -3.1489406678928686,
         "density [g/cm^3]": -1.948001015673129,
         "acs": -0.2803581440745892,
         "bcu": -0.2266903411134573,
         "etb": -0.2197649001086138,
         "fof": -0.1230321554776692,
         "nbo": -0.1473671694616714,
         "pcu": 0.699156374723668,
         "pts": -0.0487786412631612,
         "rht": -0.0065696414697919,
         "sra": -0.37097332823438,
         "tbo": -0.0197123278543765,
         "the": -0.0236933156232904,
         "_deepnote_index_column": 16992
        },
        {
         "volume [A^3]": 9.963295883253137,
         "weight [u]": 4.733155090751026,
         "surface_area [m^2/g]": 2.7273876488128903,
         "void_fraction": 4.159475292646893,
         "void_volume [cm^3/g]": 6.967306813895724,
         "metal_linker": -0.3674289121810832,
         "organic_linker1": -0.7392679966035637,
         "organic_linker2": -0.0724304743689187,
         "CO2/N2_selectivity": -1.3326214557788092,
         "heat_adsorption_CO2_P0.15bar_T298K [kcal/mol]": -3.3434491221561182,
         "density [g/cm^3]": -2.3079677133003025,
         "acs": -0.2803581440745892,
         "bcu": -0.2266903411134573,
         "etb": -0.2197649001086138,
         "fof": -0.1230321554776692,
         "nbo": 6.785771916856417,
         "pcu": -1.4302951902496808,
         "pts": -0.0487786412631612,
         "rht": -0.0065696414697919,
         "sra": -0.37097332823438,
         "tbo": -0.0197123278543765,
         "the": -0.0236933156232904,
         "_deepnote_index_column": 16993
        },
        {
         "volume [A^3]": 0.8744117818986801,
         "weight [u]": -0.1187505123474287,
         "surface_area [m^2/g]": 2.736323953909839,
         "void_fraction": 3.574042116665584,
         "void_volume [cm^3/g]": 5.495760968039623,
         "metal_linker": -0.3674289121810832,
         "organic_linker1": -1.017180164656026,
         "organic_linker2": 0.1241204779488227,
         "CO2/N2_selectivity": -1.3692762469327793,
         "heat_adsorption_CO2_P0.15bar_T298K [kcal/mol]": -3.61066965175902,
         "density [g/cm^3]": -2.1194083607997727,
         "acs": -0.2803581440745892,
         "bcu": -0.2266903411134573,
         "etb": -0.2197649001086138,
         "fof": -0.1230321554776692,
         "nbo": 6.785771916856417,
         "pcu": -1.4302951902496808,
         "pts": -0.0487786412631612,
         "rht": -0.0065696414697919,
         "sra": -0.37097332823438,
         "tbo": -0.0197123278543765,
         "the": -0.0236933156232904,
         "_deepnote_index_column": 16994
        },
        {
         "volume [A^3]": 12.11718146875879,
         "weight [u]": 2.77230473004331,
         "surface_area [m^2/g]": 4.826764264756066,
         "void_fraction": 5.128678859563756,
         "void_volume [cm^3/g]": 15.7559464183257,
         "metal_linker": -0.3674289121810832,
         "organic_linker1": -0.8319053859543845,
         "organic_linker2": -0.6620833313221434,
         "CO2/N2_selectivity": -1.2905390304912931,
         "heat_adsorption_CO2_P0.15bar_T298K [kcal/mol]": -3.222734190741031,
         "density [g/cm^3]": -3.111581226745518,
         "acs": -0.2803581440745892,
         "bcu": -0.2266903411134573,
         "etb": -0.2197649001086138,
         "fof": -0.1230321554776692,
         "nbo": 6.785771916856417,
         "pcu": -1.4302951902496808,
         "pts": -0.0487786412631612,
         "rht": -0.0065696414697919,
         "sra": -0.37097332823438,
         "tbo": -0.0197123278543765,
         "the": -0.0236933156232904,
         "_deepnote_index_column": 16995
        },
        {
         "volume [A^3]": 0.8945614985730225,
         "weight [u]": -0.0401835404436843,
         "surface_area [m^2/g]": 2.72202339374778,
         "void_fraction": 3.2524001595067507,
         "void_volume [cm^3/g]": 4.778951264774666,
         "metal_linker": -0.3674289121810832,
         "organic_linker1": -1.017180164656026,
         "organic_linker2": -0.9569097597987556,
         "CO2/N2_selectivity": -1.1351420558376408,
         "heat_adsorption_CO2_P0.15bar_T298K [kcal/mol]": -2.609347463413962,
         "density [g/cm^3]": -2.0097981459173044,
         "acs": -0.2803581440745892,
         "bcu": -0.2266903411134573,
         "etb": -0.2197649001086138,
         "fof": -0.1230321554776692,
         "nbo": 6.785771916856417,
         "pcu": -1.4302951902496808,
         "pts": -0.0487786412631612,
         "rht": -0.0065696414697919,
         "sra": -0.37097332823438,
         "tbo": -0.0197123278543765,
         "the": -0.0236933156232904,
         "_deepnote_index_column": 16996
        },
        {
         "volume [A^3]": 0.7313698157279374,
         "weight [u]": -0.1946378950005391,
         "surface_area [m^2/g]": 3.0575736161156364,
         "void_fraction": 2.820352920029939,
         "void_volume [cm^3/g]": 4.579024748898046,
         "metal_linker": -0.6862273248263476,
         "organic_linker1": -0.4613558285511012,
         "organic_linker2": 0.2223959541076934,
         "CO2/N2_selectivity": -1.2814229253384903,
         "heat_adsorption_CO2_P0.15bar_T298K [kcal/mol]": -2.6881733699063783,
         "density [g/cm^3]": -2.101171493884125,
         "acs": -0.2803581440745892,
         "bcu": -0.2266903411134573,
         "etb": -0.2197649001086138,
         "fof": -0.1230321554776692,
         "nbo": -0.1473671694616714,
         "pcu": 0.699156374723668,
         "pts": -0.0487786412631612,
         "rht": -0.0065696414697919,
         "sra": -0.37097332823438,
         "tbo": -0.0197123278543765,
         "the": -0.0236933156232904,
         "_deepnote_index_column": 16997
        },
        {
         "volume [A^3]": 0.7363797007136793,
         "weight [u]": -0.2893054462232284,
         "surface_area [m^2/g]": 3.110845365725385,
         "void_fraction": 3.4001843519821997,
         "void_volume [cm^3/g]": 5.880443424062388,
         "metal_linker": -0.3674289121810832,
         "organic_linker1": -0.4613558285511012,
         "organic_linker2": 0.418946906425435,
         "CO2/N2_selectivity": -1.2703708707321133,
         "heat_adsorption_CO2_P0.15bar_T298K [kcal/mol]": -2.8541090947587278,
         "density [g/cm^3]": -2.275748244658431,
         "acs": -0.2803581440745892,
         "bcu": -0.2266903411134573,
         "etb": -0.2197649001086138,
         "fof": -0.1230321554776692,
         "nbo": -0.1473671694616714,
         "pcu": 0.699156374723668,
         "pts": -0.0487786412631612,
         "rht": -0.0065696414697919,
         "sra": -0.37097332823438,
         "tbo": -0.0197123278543765,
         "the": -0.0236933156232904,
         "_deepnote_index_column": 16998
        },
        {
         "volume [A^3]": 9.286783210975893,
         "weight [u]": 2.8329532604207617,
         "surface_area [m^2/g]": 3.9445667871700256,
         "void_fraction": 4.529394098346982,
         "void_volume [cm^3/g]": 10.795709960736376,
         "metal_linker": -1.005025737471612,
         "organic_linker1": -0.9245427753052052,
         "organic_linker2": 0.6154978587431765,
         "CO2/N2_selectivity": -1.308720619622719,
         "heat_adsorption_CO2_P0.15bar_T298K [kcal/mol]": -3.194978235638884,
         "density [g/cm^3]": -2.8061513912659697,
         "acs": -0.2803581440745892,
         "bcu": -0.2266903411134573,
         "etb": -0.2197649001086138,
         "fof": -0.1230321554776692,
         "nbo": -0.1473671694616714,
         "pcu": 0.699156374723668,
         "pts": -0.0487786412631612,
         "rht": -0.0065696414697919,
         "sra": -0.37097332823438,
         "tbo": -0.0197123278543765,
         "the": -0.0236933156232904,
         "_deepnote_index_column": 16999
        }
       ]
      },
      "text/plain": "       volume [A^3]  weight [u]  surface_area [m^2/g]  void_fraction  \\\n0         -0.676648   -0.651973             -1.518383      -1.616025   \n1          0.510338    1.908794             -1.189668      -0.600072   \n2         -0.516445   -0.696018              1.657145       0.674681   \n3         -0.177007   -0.479194              2.108731       1.344955   \n4          0.102354   -0.181128              1.067237       1.191671   \n...             ...         ...                   ...            ...   \n16995     12.117181    2.772305              4.826764       5.128679   \n16996      0.894561   -0.040184              2.722023       3.252400   \n16997      0.731370   -0.194638              3.057574       2.820353   \n16998      0.736380   -0.289305              3.110845       3.400184   \n16999      9.286783    2.832953              3.944567       4.529394   \n\n       void_volume [cm^3/g]  metal_linker  organic_linker1  organic_linker2  \\\n0                 -1.191212     -0.686227        -0.646631         0.517222   \n1                 -0.983700     -0.048630        -0.553993        -0.367257   \n2                  0.616254     -0.367429        -0.090806        -0.367257   \n3                  1.476642     -0.686227        -1.017180         0.713773   \n4                  1.214408     -0.367429        -0.368718        -0.170706   \n...                     ...           ...              ...              ...   \n16995             15.755946     -0.367429        -0.831905        -0.662083   \n16996              4.778951     -0.367429        -1.017180        -0.956910   \n16997              4.579025     -0.686227        -0.461356         0.222396   \n16998              5.880443     -0.367429        -0.461356         0.418947   \n16999             10.795710     -1.005026        -0.924543         0.615498   \n\n       CO2/N2_selectivity  heat_adsorption_CO2_P0.15bar_T298K [kcal/mol]  ...  \\\n0                0.967949                                       1.398798  ...   \n1               -0.315892                                      -0.860195  ...   \n2               -0.690711                                      -0.948818  ...   \n3               -0.934242                                      -0.875957  ...   \n4               -0.696895                                      -0.658708  ...   \n...                   ...                                            ...  ...   \n16995           -1.290539                                      -3.222734  ...   \n16996           -1.135142                                      -2.609347  ...   \n16997           -1.281423                                      -2.688173  ...   \n16998           -1.270371                                      -2.854109  ...   \n16999           -1.308721                                      -3.194978  ...   \n\n           bcu       etb       fof       nbo       pcu       pts      rht  \\\n0     -0.22669 -0.219765 -0.123032 -0.147367  0.699156 -0.048779 -0.00657   \n1     -0.22669 -0.219765 -0.123032 -0.147367 -1.430295 -0.048779 -0.00657   \n2     -0.22669 -0.219765 -0.123032 -0.147367  0.699156 -0.048779 -0.00657   \n3     -0.22669 -0.219765 -0.123032 -0.147367  0.699156 -0.048779 -0.00657   \n4     -0.22669 -0.219765 -0.123032 -0.147367  0.699156 -0.048779 -0.00657   \n...        ...       ...       ...       ...       ...       ...      ...   \n16995 -0.22669 -0.219765 -0.123032  6.785772 -1.430295 -0.048779 -0.00657   \n16996 -0.22669 -0.219765 -0.123032  6.785772 -1.430295 -0.048779 -0.00657   \n16997 -0.22669 -0.219765 -0.123032 -0.147367  0.699156 -0.048779 -0.00657   \n16998 -0.22669 -0.219765 -0.123032 -0.147367  0.699156 -0.048779 -0.00657   \n16999 -0.22669 -0.219765 -0.123032 -0.147367  0.699156 -0.048779 -0.00657   \n\n            sra       tbo       the  \n0     -0.370973 -0.019712 -0.023693  \n1     -0.370973 -0.019712 -0.023693  \n2     -0.370973 -0.019712 -0.023693  \n3     -0.370973 -0.019712 -0.023693  \n4     -0.370973 -0.019712 -0.023693  \n...         ...       ...       ...  \n16995 -0.370973 -0.019712 -0.023693  \n16996 -0.370973 -0.019712 -0.023693  \n16997 -0.370973 -0.019712 -0.023693  \n16998 -0.370973 -0.019712 -0.023693  \n16999 -0.370973 -0.019712 -0.023693  \n\n[17000 rows x 22 columns]",
      "text/html": "<div>\n<style scoped>\n    .dataframe tbody tr th:only-of-type {\n        vertical-align: middle;\n    }\n\n    .dataframe tbody tr th {\n        vertical-align: top;\n    }\n\n    .dataframe thead th {\n        text-align: right;\n    }\n</style>\n<table border=\"1\" class=\"dataframe\">\n  <thead>\n    <tr style=\"text-align: right;\">\n      <th></th>\n      <th>volume [A^3]</th>\n      <th>weight [u]</th>\n      <th>surface_area [m^2/g]</th>\n      <th>void_fraction</th>\n      <th>void_volume [cm^3/g]</th>\n      <th>metal_linker</th>\n      <th>organic_linker1</th>\n      <th>organic_linker2</th>\n      <th>CO2/N2_selectivity</th>\n      <th>heat_adsorption_CO2_P0.15bar_T298K [kcal/mol]</th>\n      <th>...</th>\n      <th>bcu</th>\n      <th>etb</th>\n      <th>fof</th>\n      <th>nbo</th>\n      <th>pcu</th>\n      <th>pts</th>\n      <th>rht</th>\n      <th>sra</th>\n      <th>tbo</th>\n      <th>the</th>\n    </tr>\n  </thead>\n  <tbody>\n    <tr>\n      <th>0</th>\n      <td>-0.676648</td>\n      <td>-0.651973</td>\n      <td>-1.518383</td>\n      <td>-1.616025</td>\n      <td>-1.191212</td>\n      <td>-0.686227</td>\n      <td>-0.646631</td>\n      <td>0.517222</td>\n      <td>0.967949</td>\n      <td>1.398798</td>\n      <td>...</td>\n      <td>-0.22669</td>\n      <td>-0.219765</td>\n      <td>-0.123032</td>\n      <td>-0.147367</td>\n      <td>0.699156</td>\n      <td>-0.048779</td>\n      <td>-0.00657</td>\n      <td>-0.370973</td>\n      <td>-0.019712</td>\n      <td>-0.023693</td>\n    </tr>\n    <tr>\n      <th>1</th>\n      <td>0.510338</td>\n      <td>1.908794</td>\n      <td>-1.189668</td>\n      <td>-0.600072</td>\n      <td>-0.983700</td>\n      <td>-0.048630</td>\n      <td>-0.553993</td>\n      <td>-0.367257</td>\n      <td>-0.315892</td>\n      <td>-0.860195</td>\n      <td>...</td>\n      <td>-0.22669</td>\n      <td>-0.219765</td>\n      <td>-0.123032</td>\n      <td>-0.147367</td>\n      <td>-1.430295</td>\n      <td>-0.048779</td>\n      <td>-0.00657</td>\n      <td>-0.370973</td>\n      <td>-0.019712</td>\n      <td>-0.023693</td>\n    </tr>\n    <tr>\n      <th>2</th>\n      <td>-0.516445</td>\n      <td>-0.696018</td>\n      <td>1.657145</td>\n      <td>0.674681</td>\n      <td>0.616254</td>\n      <td>-0.367429</td>\n      <td>-0.090806</td>\n      <td>-0.367257</td>\n      <td>-0.690711</td>\n      <td>-0.948818</td>\n      <td>...</td>\n      <td>-0.22669</td>\n      <td>-0.219765</td>\n      <td>-0.123032</td>\n      <td>-0.147367</td>\n      <td>0.699156</td>\n      <td>-0.048779</td>\n      <td>-0.00657</td>\n      <td>-0.370973</td>\n      <td>-0.019712</td>\n      <td>-0.023693</td>\n    </tr>\n    <tr>\n      <th>3</th>\n      <td>-0.177007</td>\n      <td>-0.479194</td>\n      <td>2.108731</td>\n      <td>1.344955</td>\n      <td>1.476642</td>\n      <td>-0.686227</td>\n      <td>-1.017180</td>\n      <td>0.713773</td>\n      <td>-0.934242</td>\n      <td>-0.875957</td>\n      <td>...</td>\n      <td>-0.22669</td>\n      <td>-0.219765</td>\n      <td>-0.123032</td>\n      <td>-0.147367</td>\n      <td>0.699156</td>\n      <td>-0.048779</td>\n      <td>-0.00657</td>\n      <td>-0.370973</td>\n      <td>-0.019712</td>\n      <td>-0.023693</td>\n    </tr>\n    <tr>\n      <th>4</th>\n      <td>0.102354</td>\n      <td>-0.181128</td>\n      <td>1.067237</td>\n      <td>1.191671</td>\n      <td>1.214408</td>\n      <td>-0.367429</td>\n      <td>-0.368718</td>\n      <td>-0.170706</td>\n      <td>-0.696895</td>\n      <td>-0.658708</td>\n      <td>...</td>\n      <td>-0.22669</td>\n      <td>-0.219765</td>\n      <td>-0.123032</td>\n      <td>-0.147367</td>\n      <td>0.699156</td>\n      <td>-0.048779</td>\n      <td>-0.00657</td>\n      <td>-0.370973</td>\n      <td>-0.019712</td>\n      <td>-0.023693</td>\n    </tr>\n    <tr>\n      <th>...</th>\n      <td>...</td>\n      <td>...</td>\n      <td>...</td>\n      <td>...</td>\n      <td>...</td>\n      <td>...</td>\n      <td>...</td>\n      <td>...</td>\n      <td>...</td>\n      <td>...</td>\n      <td>...</td>\n      <td>...</td>\n      <td>...</td>\n      <td>...</td>\n      <td>...</td>\n      <td>...</td>\n      <td>...</td>\n      <td>...</td>\n      <td>...</td>\n      <td>...</td>\n      <td>...</td>\n    </tr>\n    <tr>\n      <th>16995</th>\n      <td>12.117181</td>\n      <td>2.772305</td>\n      <td>4.826764</td>\n      <td>5.128679</td>\n      <td>15.755946</td>\n      <td>-0.367429</td>\n      <td>-0.831905</td>\n      <td>-0.662083</td>\n      <td>-1.290539</td>\n      <td>-3.222734</td>\n      <td>...</td>\n      <td>-0.22669</td>\n      <td>-0.219765</td>\n      <td>-0.123032</td>\n      <td>6.785772</td>\n      <td>-1.430295</td>\n      <td>-0.048779</td>\n      <td>-0.00657</td>\n      <td>-0.370973</td>\n      <td>-0.019712</td>\n      <td>-0.023693</td>\n    </tr>\n    <tr>\n      <th>16996</th>\n      <td>0.894561</td>\n      <td>-0.040184</td>\n      <td>2.722023</td>\n      <td>3.252400</td>\n      <td>4.778951</td>\n      <td>-0.367429</td>\n      <td>-1.017180</td>\n      <td>-0.956910</td>\n      <td>-1.135142</td>\n      <td>-2.609347</td>\n      <td>...</td>\n      <td>-0.22669</td>\n      <td>-0.219765</td>\n      <td>-0.123032</td>\n      <td>6.785772</td>\n      <td>-1.430295</td>\n      <td>-0.048779</td>\n      <td>-0.00657</td>\n      <td>-0.370973</td>\n      <td>-0.019712</td>\n      <td>-0.023693</td>\n    </tr>\n    <tr>\n      <th>16997</th>\n      <td>0.731370</td>\n      <td>-0.194638</td>\n      <td>3.057574</td>\n      <td>2.820353</td>\n      <td>4.579025</td>\n      <td>-0.686227</td>\n      <td>-0.461356</td>\n      <td>0.222396</td>\n      <td>-1.281423</td>\n      <td>-2.688173</td>\n      <td>...</td>\n      <td>-0.22669</td>\n      <td>-0.219765</td>\n      <td>-0.123032</td>\n      <td>-0.147367</td>\n      <td>0.699156</td>\n      <td>-0.048779</td>\n      <td>-0.00657</td>\n      <td>-0.370973</td>\n      <td>-0.019712</td>\n      <td>-0.023693</td>\n    </tr>\n    <tr>\n      <th>16998</th>\n      <td>0.736380</td>\n      <td>-0.289305</td>\n      <td>3.110845</td>\n      <td>3.400184</td>\n      <td>5.880443</td>\n      <td>-0.367429</td>\n      <td>-0.461356</td>\n      <td>0.418947</td>\n      <td>-1.270371</td>\n      <td>-2.854109</td>\n      <td>...</td>\n      <td>-0.22669</td>\n      <td>-0.219765</td>\n      <td>-0.123032</td>\n      <td>-0.147367</td>\n      <td>0.699156</td>\n      <td>-0.048779</td>\n      <td>-0.00657</td>\n      <td>-0.370973</td>\n      <td>-0.019712</td>\n      <td>-0.023693</td>\n    </tr>\n    <tr>\n      <th>16999</th>\n      <td>9.286783</td>\n      <td>2.832953</td>\n      <td>3.944567</td>\n      <td>4.529394</td>\n      <td>10.795710</td>\n      <td>-1.005026</td>\n      <td>-0.924543</td>\n      <td>0.615498</td>\n      <td>-1.308721</td>\n      <td>-3.194978</td>\n      <td>...</td>\n      <td>-0.22669</td>\n      <td>-0.219765</td>\n      <td>-0.123032</td>\n      <td>-0.147367</td>\n      <td>0.699156</td>\n      <td>-0.048779</td>\n      <td>-0.00657</td>\n      <td>-0.370973</td>\n      <td>-0.019712</td>\n      <td>-0.023693</td>\n    </tr>\n  </tbody>\n</table>\n<p>17000 rows × 22 columns</p>\n</div>"
     },
     "metadata": {}
    }
   ]
  },
  {
   "cell_type": "markdown",
   "source": "# Matrix representation",
   "metadata": {
    "tags": [],
    "cell_id": "00006-a03679fd-741b-4824-83c6-753ab61280c0",
    "deepnote_cell_type": "markdown"
   }
  },
  {
   "cell_type": "code",
   "metadata": {
    "tags": [],
    "cell_id": "00007-0d2d37a9-a728-4efd-b226-33eae97f12f6",
    "deepnote_to_be_reexecuted": false,
    "source_hash": "aeb77478",
    "execution_start": 1634400767097,
    "execution_millis": 2,
    "deepnote_output_heights": [
     443.59375
    ],
    "deepnote_cell_type": "code"
   },
   "source": "TARGET = 'CO2_working_capacity [mL/g]'\nFEATURES = list(training_set.columns)\nFEATURES.remove(TARGET)\n\nFEATURES, TARGET",
   "execution_count": null,
   "outputs": [
    {
     "output_type": "execute_result",
     "execution_count": 10,
     "data": {
      "text/plain": "(['volume [A^3]',\n  'weight [u]',\n  'surface_area [m^2/g]',\n  'void_fraction',\n  'void_volume [cm^3/g]',\n  'metal_linker',\n  'organic_linker1',\n  'organic_linker2',\n  'CO2/N2_selectivity',\n  'heat_adsorption_CO2_P0.15bar_T298K [kcal/mol]',\n  'density [g/cm^3]',\n  'acs',\n  'bcu',\n  'etb',\n  'fof',\n  'nbo',\n  'pcu',\n  'pts',\n  'rht',\n  'sra',\n  'tbo',\n  'the'],\n 'CO2_working_capacity [mL/g]')"
     },
     "metadata": {}
    }
   ]
  },
  {
   "cell_type": "code",
   "metadata": {
    "tags": [],
    "cell_id": "00008-c0b51214-6b62-4492-8e00-67670c43a5d6",
    "deepnote_to_be_reexecuted": false,
    "source_hash": "96d0f9d2",
    "execution_start": 1634400767110,
    "execution_millis": 3,
    "deepnote_cell_type": "code"
   },
   "source": "X = training_set[FEATURES].values\ny = training_set[TARGET].values\n\nprint(f\"Features matirx size     : {X.shape}\")\nprint(f\"Target values vector size: {y.shape}\")",
   "execution_count": null,
   "outputs": [
    {
     "name": "stdout",
     "text": "Features matirx size     : (46341, 22)\nTarget values vector size: (46341,)\n",
     "output_type": "stream"
    }
   ]
  },
  {
   "cell_type": "markdown",
   "source": "# Train models",
   "metadata": {
    "tags": [],
    "cell_id": "00010-3e98bd9d-aa14-40da-b3db-32bae6d4b810",
    "deepnote_cell_type": "markdown"
   }
  },
  {
   "cell_type": "markdown",
   "source": "## Cross-validation",
   "metadata": {
    "tags": [],
    "cell_id": "00011-c403b206-79a1-458a-9db9-1379af35f517",
    "deepnote_cell_type": "markdown"
   }
  },
  {
   "cell_type": "code",
   "metadata": {
    "tags": [],
    "cell_id": "00013-142beef2-4c2c-4719-86c0-e899a2bbef91",
    "deepnote_to_be_reexecuted": false,
    "source_hash": "782af27f",
    "execution_start": 1634402697714,
    "execution_millis": 0,
    "deepnote_cell_type": "code"
   },
   "source": "kf = KFold(n_splits=7, shuffle=True)\n\ndatasets = [\n    (X[train_index], X[test_index], y[train_index], y[test_index]) for train_index, test_index in kf.split(X, y) \n]",
   "execution_count": null,
   "outputs": []
  },
  {
   "cell_type": "code",
   "metadata": {
    "tags": [],
    "cell_id": "00014-cd554252-b93d-4b81-a692-fe0579e94a1f",
    "deepnote_to_be_reexecuted": false,
    "source_hash": "bf42c26e",
    "execution_start": 1634402700641,
    "execution_millis": 10255231,
    "deepnote_cell_type": "code"
   },
   "source": "result = []\nprint(\"name, fold, Train_R2, R2, MAE, logMAE\")\nfor name, reg in TREES:\n    for ds_cnt, ds in enumerate(datasets):\n        X_train, X_test, y_train, y_test = ds\n        reg.fit(X_train,y_train)\n        self_rsq = reg.score(X_train, y_train)\n        rsq = reg.score(X_test, y_test)\n        mae = mean_absolute_error(y_test, reg.predict(X_test))\n        lmae = np.log(mae)\n        print(f\"{name}, {ds_cnt+1}, {self_rsq}, {rsq}, {mae}, {lmae}\")\n        result.append(\n            (name, ds_cnt+1, self_rsq, rsq, mae, lmae)\n        )\n        del X_train, X_test, y_train, y_test, self_rsq, rsq, mae, lmae\n    del reg",
   "execution_count": null,
   "outputs": [
    {
     "name": "stdout",
     "text": "name, fold, Train_R2, R2, MAE, logMAE\n",
     "output_type": "stream"
    },
    {
     "name": "stdout",
     "text": "Lightgbm, 1, 0.9074434387856759, 0.880163130233538, 19.40381257380002, 2.9654695711835695\nLightgbm, 2, 0.9150220965312452, 0.8842035223979562, 19.15913124860588, 2.9527794295839387\nLightgbm, 3, 0.9092292150829823, 0.8861991627911516, 19.238382225929758, 2.9569073578109273\nLightgbm, 4, 0.9098832105071544, 0.8865857272937832, 19.193961685380135, 2.9545957340165203\nLightgbm, 5, 0.9073216400670026, 0.8810955735471171, 19.300598013940824, 2.9601360806090904\nLightgbm, 6, 0.9074409433607222, 0.881889370303324, 19.502565212126683, 2.9705460062576754\nLightgbm, 7, 0.9209598772823657, 0.8754878349686593, 19.423698450028194, 2.9664938901493\nXGBoost, 1, 0.9268957041084382, 0.870300659672838, 19.85884442495116, 2.9886494708693268\nXGBoost, 2, 0.9268362489924182, 0.8726638809808779, 19.970708936207032, 2.994266646858054\nXGBoost, 3, 0.9268214037984858, 0.8798847557372329, 19.726547351435755, 2.981965309862331\nXGBoost, 4, 0.9274591655108997, 0.8758526101697156, 19.78024490643966, 2.9846837076366044\nXGBoost, 5, 0.9273104838430207, 0.8759323180522918, 19.6016615414232, 2.9756143351650763\nXGBoost, 6, 0.9271963964395687, 0.8757526770982716, 19.936521424904452, 2.992553297204042\nXGBoost, 7, 0.9273449728193852, 0.8670722772829175, 20.175558493421576, 3.0044718962225048\n",
     "output_type": "stream"
    }
   ]
  },
  {
   "cell_type": "markdown",
   "source": "## Models evaluation",
   "metadata": {
    "tags": [],
    "cell_id": "00014-86845f56-b18c-41f2-9adf-d4718d17e8b3",
    "deepnote_cell_type": "markdown"
   }
  },
  {
   "cell_type": "code",
   "metadata": {
    "tags": [],
    "cell_id": "00015-81a3ea39-1ba0-4abb-a4fc-be9e3f6e9717",
    "deepnote_to_be_reexecuted": false,
    "source_hash": "9c65ea15",
    "execution_start": 1634402689265,
    "execution_millis": 13,
    "deepnote_cell_type": "code"
   },
   "source": "df = pd.DataFrame(result, columns=(\"name\", \"fold\", \"Train_R2\", \"R2\", \"MAE\", \"logMAE\"))\ndf",
   "execution_count": null,
   "outputs": [
    {
     "output_type": "execute_result",
     "execution_count": 18,
     "data": {
      "application/vnd.deepnote.dataframe.v2+json": {
       "row_count": 0,
       "column_count": 6,
       "columns": [
        {
         "name": "name",
         "dtype": "object",
         "stats": {
          "unique_count": 0,
          "nan_count": 0,
          "categories": []
         }
        },
        {
         "name": "fold",
         "dtype": "object",
         "stats": {
          "unique_count": 0,
          "nan_count": 0,
          "categories": []
         }
        },
        {
         "name": "Train_R2",
         "dtype": "object",
         "stats": {
          "unique_count": 0,
          "nan_count": 0,
          "categories": []
         }
        },
        {
         "name": "R2",
         "dtype": "object",
         "stats": {
          "unique_count": 0,
          "nan_count": 0,
          "categories": []
         }
        },
        {
         "name": "MAE",
         "dtype": "object",
         "stats": {
          "unique_count": 0,
          "nan_count": 0,
          "categories": []
         }
        },
        {
         "name": "logMAE",
         "dtype": "object",
         "stats": {
          "unique_count": 0,
          "nan_count": 0,
          "categories": []
         }
        },
        {
         "name": "_deepnote_index_column",
         "dtype": "object"
        }
       ],
       "rows_top": [],
       "rows_bottom": null
      },
      "text/plain": "Empty DataFrame\nColumns: [name, fold, Train_R2, R2, MAE, logMAE]\nIndex: []",
      "text/html": "<div>\n<style scoped>\n    .dataframe tbody tr th:only-of-type {\n        vertical-align: middle;\n    }\n\n    .dataframe tbody tr th {\n        vertical-align: top;\n    }\n\n    .dataframe thead th {\n        text-align: right;\n    }\n</style>\n<table border=\"1\" class=\"dataframe\">\n  <thead>\n    <tr style=\"text-align: right;\">\n      <th></th>\n      <th>name</th>\n      <th>fold</th>\n      <th>Train_R2</th>\n      <th>R2</th>\n      <th>MAE</th>\n      <th>logMAE</th>\n    </tr>\n  </thead>\n  <tbody>\n  </tbody>\n</table>\n</div>"
     },
     "metadata": {}
    }
   ]
  },
  {
   "cell_type": "code",
   "metadata": {
    "tags": [],
    "cell_id": "00016-cbb97662-5fae-412c-9671-2c6afe1d862c",
    "deepnote_to_be_reexecuted": false,
    "source_hash": "2be00ee9",
    "execution_start": 1634402691557,
    "execution_millis": 64,
    "deepnote_cell_type": "code"
   },
   "source": "sum_df = df.drop(columns=\"fold\").groupby(\"name\").mean()\nsum_df",
   "execution_count": null,
   "outputs": [
    {
     "output_type": "error",
     "ename": "DataError",
     "evalue": "No numeric types to aggregate",
     "traceback": [
      "\u001b[0;31m---------------------------------------------------------------------------\u001b[0m",
      "\u001b[0;31mDataError\u001b[0m                                 Traceback (most recent call last)",
      "\u001b[0;32m<ipython-input-19-41b2e9be52b6>\u001b[0m in \u001b[0;36m<module>\u001b[0;34m\u001b[0m\n\u001b[0;32m----> 1\u001b[0;31m \u001b[0msum_df\u001b[0m \u001b[0;34m=\u001b[0m \u001b[0mdf\u001b[0m\u001b[0;34m.\u001b[0m\u001b[0mdrop\u001b[0m\u001b[0;34m(\u001b[0m\u001b[0mcolumns\u001b[0m\u001b[0;34m=\u001b[0m\u001b[0;34m\"fold\"\u001b[0m\u001b[0;34m)\u001b[0m\u001b[0;34m.\u001b[0m\u001b[0mgroupby\u001b[0m\u001b[0;34m(\u001b[0m\u001b[0;34m\"name\"\u001b[0m\u001b[0;34m)\u001b[0m\u001b[0;34m.\u001b[0m\u001b[0mmean\u001b[0m\u001b[0;34m(\u001b[0m\u001b[0;34m)\u001b[0m\u001b[0;34m\u001b[0m\u001b[0;34m\u001b[0m\u001b[0m\n\u001b[0m\u001b[1;32m      2\u001b[0m \u001b[0msum_df\u001b[0m\u001b[0;34m\u001b[0m\u001b[0;34m\u001b[0m\u001b[0m\n",
      "\u001b[0;32m/shared-libs/python3.7/py/lib/python3.7/site-packages/pandas/core/groupby/groupby.py\u001b[0m in \u001b[0;36mmean\u001b[0;34m(self, numeric_only)\u001b[0m\n\u001b[1;32m   1497\u001b[0m             \u001b[0;34m\"mean\"\u001b[0m\u001b[0;34m,\u001b[0m\u001b[0;34m\u001b[0m\u001b[0;34m\u001b[0m\u001b[0m\n\u001b[1;32m   1498\u001b[0m             \u001b[0malt\u001b[0m\u001b[0;34m=\u001b[0m\u001b[0;32mlambda\u001b[0m \u001b[0mx\u001b[0m\u001b[0;34m,\u001b[0m \u001b[0maxis\u001b[0m\u001b[0;34m:\u001b[0m \u001b[0mSeries\u001b[0m\u001b[0;34m(\u001b[0m\u001b[0mx\u001b[0m\u001b[0;34m)\u001b[0m\u001b[0;34m.\u001b[0m\u001b[0mmean\u001b[0m\u001b[0;34m(\u001b[0m\u001b[0mnumeric_only\u001b[0m\u001b[0;34m=\u001b[0m\u001b[0mnumeric_only\u001b[0m\u001b[0;34m)\u001b[0m\u001b[0;34m,\u001b[0m\u001b[0;34m\u001b[0m\u001b[0;34m\u001b[0m\u001b[0m\n\u001b[0;32m-> 1499\u001b[0;31m             \u001b[0mnumeric_only\u001b[0m\u001b[0;34m=\u001b[0m\u001b[0mnumeric_only\u001b[0m\u001b[0;34m,\u001b[0m\u001b[0;34m\u001b[0m\u001b[0;34m\u001b[0m\u001b[0m\n\u001b[0m\u001b[1;32m   1500\u001b[0m         )\n\u001b[1;32m   1501\u001b[0m \u001b[0;34m\u001b[0m\u001b[0m\n",
      "\u001b[0;32m/shared-libs/python3.7/py/lib/python3.7/site-packages/pandas/core/groupby/generic.py\u001b[0m in \u001b[0;36m_cython_agg_general\u001b[0;34m(self, how, alt, numeric_only, min_count)\u001b[0m\n\u001b[1;32m   1014\u001b[0m     ) -> DataFrame:\n\u001b[1;32m   1015\u001b[0m         agg_mgr = self._cython_agg_blocks(\n\u001b[0;32m-> 1016\u001b[0;31m             \u001b[0mhow\u001b[0m\u001b[0;34m,\u001b[0m \u001b[0malt\u001b[0m\u001b[0;34m=\u001b[0m\u001b[0malt\u001b[0m\u001b[0;34m,\u001b[0m \u001b[0mnumeric_only\u001b[0m\u001b[0;34m=\u001b[0m\u001b[0mnumeric_only\u001b[0m\u001b[0;34m,\u001b[0m \u001b[0mmin_count\u001b[0m\u001b[0;34m=\u001b[0m\u001b[0mmin_count\u001b[0m\u001b[0;34m\u001b[0m\u001b[0;34m\u001b[0m\u001b[0m\n\u001b[0m\u001b[1;32m   1017\u001b[0m         )\n\u001b[1;32m   1018\u001b[0m         \u001b[0;32mreturn\u001b[0m \u001b[0mself\u001b[0m\u001b[0;34m.\u001b[0m\u001b[0m_wrap_agged_blocks\u001b[0m\u001b[0;34m(\u001b[0m\u001b[0magg_mgr\u001b[0m\u001b[0;34m.\u001b[0m\u001b[0mblocks\u001b[0m\u001b[0;34m,\u001b[0m \u001b[0mitems\u001b[0m\u001b[0;34m=\u001b[0m\u001b[0magg_mgr\u001b[0m\u001b[0;34m.\u001b[0m\u001b[0mitems\u001b[0m\u001b[0;34m)\u001b[0m\u001b[0;34m\u001b[0m\u001b[0;34m\u001b[0m\u001b[0m\n",
      "\u001b[0;32m/shared-libs/python3.7/py/lib/python3.7/site-packages/pandas/core/groupby/generic.py\u001b[0m in \u001b[0;36m_cython_agg_blocks\u001b[0;34m(self, how, alt, numeric_only, min_count)\u001b[0m\n\u001b[1;32m   1119\u001b[0m \u001b[0;34m\u001b[0m\u001b[0m\n\u001b[1;32m   1120\u001b[0m         \u001b[0;32mif\u001b[0m \u001b[0;32mnot\u001b[0m \u001b[0mlen\u001b[0m\u001b[0;34m(\u001b[0m\u001b[0mnew_mgr\u001b[0m\u001b[0;34m)\u001b[0m\u001b[0;34m:\u001b[0m\u001b[0;34m\u001b[0m\u001b[0;34m\u001b[0m\u001b[0m\n\u001b[0;32m-> 1121\u001b[0;31m             \u001b[0;32mraise\u001b[0m \u001b[0mDataError\u001b[0m\u001b[0;34m(\u001b[0m\u001b[0;34m\"No numeric types to aggregate\"\u001b[0m\u001b[0;34m)\u001b[0m\u001b[0;34m\u001b[0m\u001b[0;34m\u001b[0m\u001b[0m\n\u001b[0m\u001b[1;32m   1122\u001b[0m \u001b[0;34m\u001b[0m\u001b[0m\n\u001b[1;32m   1123\u001b[0m         \u001b[0;32mreturn\u001b[0m \u001b[0mnew_mgr\u001b[0m\u001b[0;34m\u001b[0m\u001b[0;34m\u001b[0m\u001b[0m\n",
      "\u001b[0;31mDataError\u001b[0m: No numeric types to aggregate"
     ]
    }
   ]
  },
  {
   "cell_type": "code",
   "metadata": {
    "tags": [],
    "cell_id": "00017-f395bf5d-42a8-452e-bd5a-9d6d408667ae",
    "deepnote_to_be_reexecuted": false,
    "source_hash": "3e57ee1d",
    "execution_start": 1634402681983,
    "execution_millis": 8,
    "deepnote_cell_type": "code"
   },
   "source": "best_model = sum_df[\"logMAE\"].idxmin()\nbest_model",
   "execution_count": null,
   "outputs": [
    {
     "output_type": "error",
     "ename": "NameError",
     "evalue": "name 'sum_df' is not defined",
     "traceback": [
      "\u001b[0;31m---------------------------------------------------------------------------\u001b[0m",
      "\u001b[0;31mNameError\u001b[0m                                 Traceback (most recent call last)",
      "\u001b[0;32m<ipython-input-16-441d68db4dac>\u001b[0m in \u001b[0;36m<module>\u001b[0;34m\u001b[0m\n\u001b[0;32m----> 1\u001b[0;31m \u001b[0mbest_model\u001b[0m \u001b[0;34m=\u001b[0m \u001b[0msum_df\u001b[0m\u001b[0;34m[\u001b[0m\u001b[0;34m\"logMAE\"\u001b[0m\u001b[0;34m]\u001b[0m\u001b[0;34m.\u001b[0m\u001b[0midxmin\u001b[0m\u001b[0;34m(\u001b[0m\u001b[0;34m)\u001b[0m\u001b[0;34m\u001b[0m\u001b[0;34m\u001b[0m\u001b[0m\n\u001b[0m\u001b[1;32m      2\u001b[0m \u001b[0mbest_model\u001b[0m\u001b[0;34m\u001b[0m\u001b[0;34m\u001b[0m\u001b[0m\n",
      "\u001b[0;31mNameError\u001b[0m: name 'sum_df' is not defined"
     ]
    }
   ]
  },
  {
   "cell_type": "markdown",
   "source": "## Train the final model",
   "metadata": {
    "tags": [],
    "cell_id": "00018-50d74c32-c1cd-4e1c-9a6e-2f45b590954b",
    "deepnote_cell_type": "markdown"
   }
  },
  {
   "cell_type": "code",
   "metadata": {
    "tags": [],
    "cell_id": "00019-6aed6c23-089b-4818-9b3a-9733d5d7eb07",
    "deepnote_to_be_reexecuted": false,
    "source_hash": "f61b98",
    "execution_start": 1634402678527,
    "execution_millis": 3,
    "deepnote_cell_type": "code"
   },
   "source": "reg = None\nfor name, model in TREES:\n    if name==best_model:\n        reg = model",
   "execution_count": null,
   "outputs": [
    {
     "output_type": "error",
     "ename": "NameError",
     "evalue": "name 'best_model' is not defined",
     "traceback": [
      "\u001b[0;31m---------------------------------------------------------------------------\u001b[0m",
      "\u001b[0;31mNameError\u001b[0m                                 Traceback (most recent call last)",
      "\u001b[0;32m<ipython-input-15-262eafa05dc9>\u001b[0m in \u001b[0;36m<module>\u001b[0;34m\u001b[0m\n\u001b[1;32m      1\u001b[0m \u001b[0mreg\u001b[0m \u001b[0;34m=\u001b[0m \u001b[0;32mNone\u001b[0m\u001b[0;34m\u001b[0m\u001b[0;34m\u001b[0m\u001b[0m\n\u001b[1;32m      2\u001b[0m \u001b[0;32mfor\u001b[0m \u001b[0mname\u001b[0m\u001b[0;34m,\u001b[0m \u001b[0mmodel\u001b[0m \u001b[0;32min\u001b[0m \u001b[0mTREES\u001b[0m\u001b[0;34m:\u001b[0m\u001b[0;34m\u001b[0m\u001b[0;34m\u001b[0m\u001b[0m\n\u001b[0;32m----> 3\u001b[0;31m     \u001b[0;32mif\u001b[0m \u001b[0mname\u001b[0m\u001b[0;34m==\u001b[0m\u001b[0mbest_model\u001b[0m\u001b[0;34m:\u001b[0m\u001b[0;34m\u001b[0m\u001b[0;34m\u001b[0m\u001b[0m\n\u001b[0m\u001b[1;32m      4\u001b[0m         \u001b[0mreg\u001b[0m \u001b[0;34m=\u001b[0m \u001b[0mmodel\u001b[0m\u001b[0;34m\u001b[0m\u001b[0;34m\u001b[0m\u001b[0m\n",
      "\u001b[0;31mNameError\u001b[0m: name 'best_model' is not defined"
     ]
    }
   ]
  },
  {
   "cell_type": "code",
   "metadata": {
    "tags": [],
    "cell_id": "00020-9852f1cf-2d69-4f53-85c1-ff8f56d37c94",
    "deepnote_to_be_reexecuted": true,
    "source_hash": "8d74e6e4",
    "execution_start": 1633598549662,
    "execution_millis": 314997,
    "deepnote_cell_type": "code"
   },
   "source": "if reg:\n    reg.fit(X, y)",
   "execution_count": null,
   "outputs": []
  },
  {
   "cell_type": "code",
   "metadata": {
    "tags": [],
    "cell_id": "00025-e53d9163-dcd3-4d50-a633-7c72e8002bcc",
    "deepnote_to_be_reexecuted": true,
    "source_hash": "d67347bc",
    "execution_start": 1634392768788,
    "execution_millis": 319544,
    "deepnote_cell_type": "code"
   },
   "source": "if reg:\n    grid.fit(X, y)",
   "execution_count": null,
   "outputs": []
  },
  {
   "cell_type": "markdown",
   "source": "# Save the final model",
   "metadata": {
    "tags": [],
    "cell_id": "00021-f6945114-b426-4666-aaef-ab0830e498ac",
    "deepnote_cell_type": "markdown"
   }
  },
  {
   "cell_type": "code",
   "metadata": {
    "tags": [],
    "cell_id": "00022-7a682576-db4b-46dc-b4ea-0bae58c3d112",
    "deepnote_to_be_reexecuted": false,
    "source_hash": "62639ada",
    "execution_start": 1634402529219,
    "execution_millis": 6,
    "deepnote_output_heights": [
     21.1875
    ],
    "deepnote_cell_type": "code"
   },
   "source": "name = \"model.joblib\"\nmodel_path = os.path.join(\".\", \"models\", name)\ndump(reg, model_path) ",
   "execution_count": null,
   "outputs": [
    {
     "output_type": "execute_result",
     "execution_count": 14,
     "data": {
      "text/plain": "['./models/model.joblib']"
     },
     "metadata": {}
    }
   ]
  },
  {
   "cell_type": "code",
   "metadata": {
    "tags": [],
    "cell_id": "00028-4e96c428-d1a7-471d-9764-0bc7c0bb691c",
    "deepnote_cell_type": "code"
   },
   "source": "",
   "execution_count": null,
   "outputs": []
  },
  {
   "cell_type": "markdown",
   "source": "<a style='text-decoration:none;line-height:16px;display:flex;color:#5B5B62;padding:10px;justify-content:end;' href='https://deepnote.com?utm_source=created-in-deepnote-cell&projectId=d59402b5-3ee5-4c9e-aee0-4349ccd0c385' target=\"_blank\">\n<img alt='Created in deepnote.com' style='display:inline;max-height:16px;margin:0px;margin-right:7.5px;' src='data:image/svg+xml;base64,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' > </img>\nCreated in <span style='font-weight:600;margin-left:4px;'>Deepnote</span></a>",
   "metadata": {
    "tags": [],
    "created_in_deepnote_cell": true,
    "deepnote_cell_type": "markdown"
   }
  }
 ],
 "nbformat": 4,
 "nbformat_minor": 2,
 "metadata": {
  "orig_nbformat": 2,
  "deepnote": {
   "is_reactive": false
  },
  "deepnote_notebook_id": "c9dbc9a6-0d37-482e-a013-3598908a2d7f",
  "deepnote_execution_queue": []
 }
}