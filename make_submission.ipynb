{
 "cells": [
  {
   "cell_type": "markdown",
   "source": "# Dependecies",
   "metadata": {
    "tags": [],
    "cell_id": "00000-03ff2b58-bf48-4d04-affc-8c01dd17ba83",
    "deepnote_cell_type": "markdown"
   }
  },
  {
   "cell_type": "code",
   "metadata": {
    "tags": [],
    "cell_id": "00000-f76e3509-2d03-4aa6-a0c8-50898b521b38",
    "deepnote_to_be_reexecuted": false,
    "source_hash": "f04f2a67",
    "execution_start": 1634402566179,
    "execution_millis": 689,
    "deepnote_cell_type": "code"
   },
   "source": "import os\nimport datetime as dt\n\n!python --version",
   "execution_count": null,
   "outputs": [
    {
     "name": "stdout",
     "text": "Python 3.7.12\r\n",
     "output_type": "stream"
    }
   ]
  },
  {
   "cell_type": "code",
   "metadata": {
    "tags": [],
    "cell_id": "00002-ecec412c-b26e-46c3-8343-20ec0eb7cd81",
    "deepnote_to_be_reexecuted": false,
    "source_hash": "ea475259",
    "execution_start": 1634402566869,
    "execution_millis": 101,
    "deepnote_cell_type": "code"
   },
   "source": "import joblib\nfrom joblib import load\nimport numpy as np\nimport pandas as pd\n\nprint(\"numpy==%s\" %np.__version__)\nprint(\"pandas==%s\" %pd.__version__)\nprint(\"joblib==%s\" %joblib.__version__)",
   "execution_count": null,
   "outputs": [
    {
     "name": "stdout",
     "text": "numpy==1.19.5\npandas==1.2.5\njoblib==1.1.0\n",
     "output_type": "stream"
    }
   ]
  },
  {
   "cell_type": "markdown",
   "source": "# Load a trained model",
   "metadata": {
    "tags": [],
    "cell_id": "00002-3cf656d6-67c7-40a2-9e14-abb03e507d6d",
    "deepnote_cell_type": "markdown"
   }
  },
  {
   "cell_type": "code",
   "metadata": {
    "tags": [],
    "cell_id": "00003-4c26061f-c12c-4f18-b2d8-2d92933e4105",
    "deepnote_to_be_reexecuted": false,
    "source_hash": "2fa823f1",
    "execution_start": 1634402639134,
    "execution_millis": 8,
    "deepnote_output_heights": [
     117.1875
    ],
    "deepnote_cell_type": "code"
   },
   "source": "name = \"model.joblib\"\nmodel_path = os.path.join(\".\", \"models\", name)\nreg = load(model_path)\nreg",
   "execution_count": null,
   "outputs": [
    {
     "output_type": "execute_result",
     "execution_count": 9,
     "data": {
      "text/plain": "GridSearchCV(cv=5, estimator=LGBMRegressor(random_state=0),\n             param_grid={'learning_rate': [0.1, 0.03, 0.003],\n                         'max_depth': [-1, 3, 5],\n                         'n_estimators': [50, 100, 200, 500],\n                         'num_leaves': [7, 14, 21, 28, 31, 50]},\n             scoring='r2')"
     },
     "metadata": {}
    }
   ]
  },
  {
   "cell_type": "markdown",
   "source": "# Import dataset",
   "metadata": {
    "tags": [],
    "cell_id": "00004-0f4e4a2a-a672-4f95-8f80-adaa84fbfa7c",
    "deepnote_cell_type": "markdown"
   }
  },
  {
   "cell_type": "code",
   "metadata": {
    "tags": [],
    "cell_id": "00005-a49e938d-d91b-48b5-9745-9767d98bbbc8",
    "deepnote_to_be_reexecuted": false,
    "source_hash": "daac7abf",
    "execution_start": 1634402567943,
    "execution_millis": 3,
    "deepnote_cell_type": "code"
   },
   "source": "pretesting_path = os.path.join(\".\", \"processed\", \"test.csv\")\nprint(\"Read the pretesting dataset from %s\" %(pretesting_path))",
   "execution_count": null,
   "outputs": [
    {
     "name": "stdout",
     "text": "Read the pretesting dataset from ./processed/test.csv\n",
     "output_type": "stream"
    }
   ]
  },
  {
   "cell_type": "code",
   "metadata": {
    "tags": [],
    "cell_id": "00007-9468e747-3157-4692-ad0e-879edde20f1a",
    "deepnote_to_be_reexecuted": false,
    "source_hash": "65fea6c8",
    "execution_start": 1634402567948,
    "execution_millis": 194,
    "deepnote_cell_type": "code"
   },
   "source": "pretesting_set = pd.read_csv(pretesting_path)\npretesting_set",
   "execution_count": null,
   "outputs": [
    {
     "output_type": "execute_result",
     "execution_count": 5,
     "data": {
      "application/vnd.deepnote.dataframe.v2+json": {
       "row_count": 17000,
       "column_count": 22,
       "columns": [
        {
         "name": "volume [A^3]",
         "dtype": "float64",
         "stats": {
          "unique_count": 16999,
          "nan_count": 0,
          "min": "-0.9206754673922952",
          "max": "30.953580500506376",
          "histogram": [
           {
            "bin_start": -0.9206754673922952,
            "bin_end": 2.2667501293975723,
            "count": 15702
           },
           {
            "bin_start": 2.2667501293975723,
            "bin_end": 5.45417572618744,
            "count": 667
           },
           {
            "bin_start": 5.45417572618744,
            "bin_end": 8.641601322977307,
            "count": 342
           },
           {
            "bin_start": 8.641601322977307,
            "bin_end": 11.829026919767175,
            "count": 154
           },
           {
            "bin_start": 11.829026919767175,
            "bin_end": 15.016452516557043,
            "count": 76
           },
           {
            "bin_start": 15.016452516557043,
            "bin_end": 18.203878113346907,
            "count": 31
           },
           {
            "bin_start": 18.203878113346907,
            "bin_end": 21.391303710136775,
            "count": 10
           },
           {
            "bin_start": 21.391303710136775,
            "bin_end": 24.578729306926643,
            "count": 12
           },
           {
            "bin_start": 24.578729306926643,
            "bin_end": 27.76615490371651,
            "count": 3
           },
           {
            "bin_start": 27.76615490371651,
            "bin_end": 30.953580500506376,
            "count": 3
           }
          ]
         }
        },
        {
         "name": "weight [u]",
         "dtype": "float64",
         "stats": {
          "unique_count": 15576,
          "nan_count": 0,
          "min": "-0.9645976108136776",
          "max": "17.27191504435769",
          "histogram": [
           {
            "bin_start": -0.9645976108136776,
            "bin_end": 0.8590536547034591,
            "count": 14362
           },
           {
            "bin_start": 0.8590536547034591,
            "bin_end": 2.682704920220596,
            "count": 1888
           },
           {
            "bin_start": 2.682704920220596,
            "bin_end": 4.506356185737732,
            "count": 536
           },
           {
            "bin_start": 4.506356185737732,
            "bin_end": 6.330007451254869,
            "count": 158
           },
           {
            "bin_start": 6.330007451254869,
            "bin_end": 8.153658716772005,
            "count": 32
           },
           {
            "bin_start": 8.153658716772005,
            "bin_end": 9.97730998228914,
            "count": 15
           },
           {
            "bin_start": 9.97730998228914,
            "bin_end": 11.800961247806278,
            "count": 5
           },
           {
            "bin_start": 11.800961247806278,
            "bin_end": 13.624612513323415,
            "count": 0
           },
           {
            "bin_start": 13.624612513323415,
            "bin_end": 15.44826377884055,
            "count": 2
           },
           {
            "bin_start": 15.44826377884055,
            "bin_end": 17.27191504435769,
            "count": 2
           }
          ]
         }
        },
        {
         "name": "surface_area [m^2/g]",
         "dtype": "float64",
         "stats": {
          "unique_count": 16635,
          "nan_count": 0,
          "min": "-2.1859115498226944",
          "max": "6.3540195939391335",
          "histogram": [
           {
            "bin_start": -2.1859115498226944,
            "bin_end": -1.3319184354465117,
            "count": 1598
           },
           {
            "bin_start": -1.3319184354465117,
            "bin_end": -0.4779253210703287,
            "count": 3698
           },
           {
            "bin_start": -0.4779253210703287,
            "bin_end": 0.37606779330585427,
            "count": 4128
           },
           {
            "bin_start": 0.37606779330585427,
            "bin_end": 1.230060907682037,
            "count": 3208
           },
           {
            "bin_start": 1.230060907682037,
            "bin_end": 2.0840540220582198,
            "count": 2047
           },
           {
            "bin_start": 2.0840540220582198,
            "bin_end": 2.938047136434403,
            "count": 1120
           },
           {
            "bin_start": 2.938047136434403,
            "bin_end": 3.7920402508105853,
            "count": 609
           },
           {
            "bin_start": 3.7920402508105853,
            "bin_end": 4.646033365186769,
            "count": 390
           },
           {
            "bin_start": 4.646033365186769,
            "bin_end": 5.500026479562951,
            "count": 169
           },
           {
            "bin_start": 5.500026479562951,
            "bin_end": 6.3540195939391335,
            "count": 33
           }
          ]
         }
        },
        {
         "name": "void_fraction",
         "dtype": "float64",
         "stats": {
          "unique_count": 14311,
          "nan_count": 0,
          "min": "-2.406277958855381",
          "max": "6.102363821703858",
          "histogram": [
           {
            "bin_start": -2.406277958855381,
            "bin_end": -1.5554137807994572,
            "count": 795
           },
           {
            "bin_start": -1.5554137807994572,
            "bin_end": -0.7045496027435332,
            "count": 3253
           },
           {
            "bin_start": -0.7045496027435332,
            "bin_end": 0.1463145753123909,
            "count": 4377
           },
           {
            "bin_start": 0.1463145753123909,
            "bin_end": 0.9971787533683147,
            "count": 3959
           },
           {
            "bin_start": 0.9971787533683147,
            "bin_end": 1.8480429314242386,
            "count": 2036
           },
           {
            "bin_start": 1.8480429314242386,
            "bin_end": 2.698907109480163,
            "count": 921
           },
           {
            "bin_start": 2.698907109480163,
            "bin_end": 3.5497712875360863,
            "count": 714
           },
           {
            "bin_start": 3.5497712875360863,
            "bin_end": 4.400635465592011,
            "count": 591
           },
           {
            "bin_start": 4.400635465592011,
            "bin_end": 5.251499643647935,
            "count": 268
           },
           {
            "bin_start": 5.251499643647935,
            "bin_end": 6.102363821703858,
            "count": 86
           }
          ]
         }
        },
        {
         "name": "void_volume [cm^3/g]",
         "dtype": "float64",
         "stats": {
          "unique_count": 7835,
          "nan_count": 0,
          "min": "-1.653372844946848",
          "max": "31.65633520269205",
          "histogram": [
           {
            "bin_start": -1.653372844946848,
            "bin_end": 1.6775979598170419,
            "count": 13858
           },
           {
            "bin_start": 1.6775979598170419,
            "bin_end": 5.008568764580932,
            "count": 2023
           },
           {
            "bin_start": 5.008568764580932,
            "bin_end": 8.339539569344822,
            "count": 617
           },
           {
            "bin_start": 8.339539569344822,
            "bin_end": 11.670510374108712,
            "count": 281
           },
           {
            "bin_start": 11.670510374108712,
            "bin_end": 15.001481178872602,
            "count": 107
           },
           {
            "bin_start": 15.001481178872602,
            "bin_end": 18.332451983636492,
            "count": 59
           },
           {
            "bin_start": 18.332451983636492,
            "bin_end": 21.663422788400382,
            "count": 35
           },
           {
            "bin_start": 21.663422788400382,
            "bin_end": 24.994393593164272,
            "count": 16
           },
           {
            "bin_start": 24.994393593164272,
            "bin_end": 28.325364397928162,
            "count": 3
           },
           {
            "bin_start": 28.325364397928162,
            "bin_end": 31.65633520269205,
            "count": 1
           }
          ]
         }
        },
        {
         "name": "metal_linker",
         "dtype": "float64"
        },
        {
         "name": "organic_linker1",
         "dtype": "float64"
        },
        {
         "name": "organic_linker2",
         "dtype": "float64"
        },
        {
         "name": "CO2/N2_selectivity",
         "dtype": "float64"
        },
        {
         "name": "heat_adsorption_CO2_P0.15bar_T298K [kcal/mol]",
         "dtype": "float64"
        },
        {
         "name": "density [g/cm^3]",
         "dtype": "float64"
        },
        {
         "name": "acs",
         "dtype": "float64"
        },
        {
         "name": "bcu",
         "dtype": "float64"
        },
        {
         "name": "etb",
         "dtype": "float64"
        },
        {
         "name": "fof",
         "dtype": "float64"
        },
        {
         "name": "nbo",
         "dtype": "float64"
        },
        {
         "name": "pcu",
         "dtype": "float64"
        },
        {
         "name": "pts",
         "dtype": "float64"
        },
        {
         "name": "rht",
         "dtype": "float64"
        },
        {
         "name": "sra",
         "dtype": "float64"
        },
        {
         "name": "tbo",
         "dtype": "float64"
        },
        {
         "name": "the",
         "dtype": "float64"
        },
        {
         "name": "_deepnote_index_column",
         "dtype": "int64"
        }
       ],
       "rows_top": [
        {
         "volume [A^3]": -0.676647945196018,
         "weight [u]": -0.6519726373197089,
         "surface_area [m^2/g]": -1.5183831551188167,
         "void_fraction": -1.6160246511937644,
         "void_volume [cm^3/g]": -1.191212091443441,
         "metal_linker": -0.6862273248263476,
         "organic_linker1": -0.6466306072527429,
         "organic_linker2": 0.5172223825843058,
         "CO2/N2_selectivity": 0.9679494703465814,
         "heat_adsorption_CO2_P0.15bar_T298K [kcal/mol]": 1.3987976048143265,
         "density [g/cm^3]": 0.6502427252955546,
         "acs": -0.2803581440745892,
         "bcu": -0.2266903411134573,
         "etb": -0.2197649001086138,
         "fof": -0.1230321554776692,
         "nbo": -0.1473671694616714,
         "pcu": 0.699156374723668,
         "pts": -0.0487786412631612,
         "rht": -0.0065696414697919,
         "sra": -0.37097332823438,
         "tbo": -0.0197123278543765,
         "the": -0.0236933156232904,
         "_deepnote_index_column": 0
        },
        {
         "volume [A^3]": 0.510337941223801,
         "weight [u]": 1.9087939367233049,
         "surface_area [m^2/g]": -1.1896680319468271,
         "void_fraction": -0.6000719841072041,
         "void_volume [cm^3/g]": -0.9837002877015828,
         "metal_linker": -0.0486304995358187,
         "organic_linker1": -0.553993217901922,
         "organic_linker2": -0.367256902845531,
         "CO2/N2_selectivity": -0.3158922306601238,
         "heat_adsorption_CO2_P0.15bar_T298K [kcal/mol]": -0.8601953408117374,
         "density [g/cm^3]": 2.435180986753727,
         "acs": 3.5668662428251854,
         "bcu": -0.2266903411134573,
         "etb": -0.2197649001086138,
         "fof": -0.1230321554776692,
         "nbo": -0.1473671694616714,
         "pcu": -1.4302951902496808,
         "pts": -0.0487786412631612,
         "rht": -0.0065696414697919,
         "sra": -0.37097332823438,
         "tbo": -0.0197123278543765,
         "the": -0.0236933156232904,
         "_deepnote_index_column": 1
        },
        {
         "volume [A^3]": -0.5164448165111118,
         "weight [u]": -0.6960183169403857,
         "surface_area [m^2/g]": 1.6571446031148498,
         "void_fraction": 0.674681257121409,
         "void_volume [cm^3/g]": 0.61625364558747,
         "metal_linker": -0.3674289121810832,
         "organic_linker1": -0.090806271147818,
         "organic_linker2": -0.367256902845531,
         "CO2/N2_selectivity": -0.6907109458113551,
         "heat_adsorption_CO2_P0.15bar_T298K [kcal/mol]": -0.948817748544038,
         "density [g/cm^3]": -0.763902320530868,
         "acs": -0.2803581440745892,
         "bcu": -0.2266903411134573,
         "etb": -0.2197649001086138,
         "fof": -0.1230321554776692,
         "nbo": -0.1473671694616714,
         "pcu": 0.699156374723668,
         "pts": -0.0487786412631612,
         "rht": -0.0065696414697919,
         "sra": -0.37097332823438,
         "tbo": -0.0197123278543765,
         "the": -0.0236933156232904,
         "_deepnote_index_column": 2
        },
        {
         "volume [A^3]": -0.1770073107315057,
         "weight [u]": -0.4791937746742094,
         "surface_area [m^2/g]": 2.1087308313612048,
         "void_fraction": 1.3449553926699462,
         "void_volume [cm^3/g]": 1.4766420120158534,
         "metal_linker": -0.6862273248263476,
         "organic_linker1": -1.017180164656026,
         "organic_linker2": 0.7137733349020473,
         "CO2/N2_selectivity": -0.9342415328075668,
         "heat_adsorption_CO2_P0.15bar_T298K [kcal/mol]": -0.8759571687846132,
         "density [g/cm^3]": -1.1849129656519983,
         "acs": -0.2803581440745892,
         "bcu": -0.2266903411134573,
         "etb": -0.2197649001086138,
         "fof": -0.1230321554776692,
         "nbo": -0.1473671694616714,
         "pcu": 0.699156374723668,
         "pts": -0.0487786412631612,
         "rht": -0.0065696414697919,
         "sra": -0.37097332823438,
         "tbo": -0.0197123278543765,
         "the": -0.0236933156232904,
         "_deepnote_index_column": 3
        },
        {
         "volume [A^3]": 0.1023541826159092,
         "weight [u]": -0.1811281487388589,
         "surface_area [m^2/g]": 1.0672372264038312,
         "void_fraction": 1.191671306056886,
         "void_volume [cm^3/g]": 1.2144077743890669,
         "metal_linker": -0.3674289121810832,
         "organic_linker1": -0.3687184392002804,
         "organic_linker2": -0.1707059505277895,
         "CO2/N2_selectivity": -0.6968945053749889,
         "heat_adsorption_CO2_P0.15bar_T298K [kcal/mol]": -0.6587083764354298,
         "density [g/cm^3]": -1.042275300988804,
         "acs": -0.2803581440745892,
         "bcu": -0.2266903411134573,
         "etb": -0.2197649001086138,
         "fof": -0.1230321554776692,
         "nbo": -0.1473671694616714,
         "pcu": 0.699156374723668,
         "pts": -0.0487786412631612,
         "rht": -0.0065696414697919,
         "sra": -0.37097332823438,
         "tbo": -0.0197123278543765,
         "the": -0.0236933156232904,
         "_deepnote_index_column": 4
        },
        {
         "volume [A^3]": -0.8030346016078365,
         "weight [u]": -0.9212155965579232,
         "surface_area [m^2/g]": 0.4584807967566485,
         "void_fraction": 0.540850499772863,
         "void_volume [cm^3/g]": 0.1963537816189579,
         "metal_linker": -0.3674289121810832,
         "organic_linker1": -1.017180164656026,
         "organic_linker2": -1.0551852359576264,
         "CO2/N2_selectivity": -0.701679843823894,
         "heat_adsorption_CO2_P0.15bar_T298K [kcal/mol]": -0.9062568608835224,
         "density [g/cm^3]": -0.1916090003577525,
         "acs": -0.2803581440745892,
         "bcu": -0.2266903411134573,
         "etb": -0.2197649001086138,
         "fof": -0.1230321554776692,
         "nbo": -0.1473671694616714,
         "pcu": 0.699156374723668,
         "pts": -0.0487786412631612,
         "rht": -0.0065696414697919,
         "sra": -0.37097332823438,
         "tbo": -0.0197123278543765,
         "the": -0.0236933156232904,
         "_deepnote_index_column": 5
        },
        {
         "volume [A^3]": -0.3485863405862011,
         "weight [u]": -0.3290175837695971,
         "surface_area [m^2/g]": -0.6478041101622805,
         "void_fraction": -0.8083550120963777,
         "void_volume [cm^3/g]": -0.6667436161898673,
         "metal_linker": -0.6862273248263476,
         "organic_linker1": 0.5576554543079275,
         "organic_linker2": 0.1241204779488227,
         "CO2/N2_selectivity": -0.1950519711751888,
         "heat_adsorption_CO2_P0.15bar_T298K [kcal/mol]": 0.3730440441839834,
         "density [g/cm^3]": 0.062911839907416,
         "acs": -0.2803581440745892,
         "bcu": -0.2266903411134573,
         "etb": -0.2197649001086138,
         "fof": -0.1230321554776692,
         "nbo": -0.1473671694616714,
         "pcu": 0.699156374723668,
         "pts": -0.0487786412631612,
         "rht": -0.0065696414697919,
         "sra": -0.37097332823438,
         "tbo": -0.0197123278543765,
         "the": -0.0236933156232904,
         "_deepnote_index_column": 6
        },
        {
         "volume [A^3]": -0.0332901385184367,
         "weight [u]": -0.1855267437998634,
         "surface_area [m^2/g]": 1.369983916645407,
         "void_fraction": 0.4332970144151283,
         "void_volume [cm^3/g]": 0.3989893288760204,
         "metal_linker": 1.5453615636905038,
         "organic_linker1": 0.3723806756062859,
         "organic_linker2": -0.0724304743689187,
         "CO2/N2_selectivity": 0.9187095014951424,
         "heat_adsorption_CO2_P0.15bar_T298K [kcal/mol]": 0.2828779090558125,
         "density [g/cm^3]": -0.6819948611857501,
         "acs": -0.2803581440745892,
         "bcu": -0.2266903411134573,
         "etb": -0.2197649001086138,
         "fof": -0.1230321554776692,
         "nbo": -0.1473671694616714,
         "pcu": -1.4302951902496808,
         "pts": -0.0487786412631612,
         "rht": -0.0065696414697919,
         "sra": 2.695611581453349,
         "tbo": -0.0197123278543765,
         "the": -0.0236933156232904,
         "_deepnote_index_column": 7
        },
        {
         "volume [A^3]": 0.2181284200058789,
         "weight [u]": -0.1193529659429856,
         "surface_area [m^2/g]": 1.1514832230024503,
         "void_fraction": 0.4272878708203302,
         "void_volume [cm^3/g]": 0.729491157289946,
         "metal_linker": -0.6862273248263476,
         "organic_linker1": 0.6502928436587483,
         "organic_linker2": 0.812048811060918,
         "CO2/N2_selectivity": -0.6902591139548468,
         "heat_adsorption_CO2_P0.15bar_T298K [kcal/mol]": -0.8686636855876815,
         "density [g/cm^3]": -1.1515881294697838,
         "acs": -0.2803581440745892,
         "bcu": -0.2266903411134573,
         "etb": -0.2197649001086138,
         "fof": -0.1230321554776692,
         "nbo": -0.1473671694616714,
         "pcu": 0.699156374723668,
         "pts": -0.0487786412631612,
         "rht": -0.0065696414697919,
         "sra": -0.37097332823438,
         "tbo": -0.0197123278543765,
         "the": -0.0236933156232904,
         "_deepnote_index_column": 8
        },
        {
         "volume [A^3]": -0.5504371816296222,
         "weight [u]": -0.3868732735287667,
         "surface_area [m^2/g]": -1.339793013561679,
         "void_fraction": -1.2762534133591008,
         "void_volume [cm^3/g]": -1.0915197366431748,
         "metal_linker": -0.6862273248263476,
         "organic_linker1": -0.2760810498494597,
         "organic_linker2": -0.4655323790044018,
         "CO2/N2_selectivity": 0.3571236007759482,
         "heat_adsorption_CO2_P0.15bar_T298K [kcal/mol]": 1.0389582219244191,
         "density [g/cm^3]": 1.126382528672141,
         "acs": -0.2803581440745892,
         "bcu": -0.2266903411134573,
         "etb": -0.2197649001086138,
         "fof": -0.1230321554776692,
         "nbo": -0.1473671694616714,
         "pcu": 0.699156374723668,
         "pts": -0.0487786412631612,
         "rht": -0.0065696414697919,
         "sra": -0.37097332823438,
         "tbo": -0.0197123278543765,
         "the": -0.0236933156232904,
         "_deepnote_index_column": 9
        },
        {
         "volume [A^3]": -0.0662267410198652,
         "weight [u]": -0.4933330479614992,
         "surface_area [m^2/g]": 1.7813011517992878,
         "void_fraction": 1.882519119675748,
         "void_volume [cm^3/g]": 2.37333139894216,
         "metal_linker": -0.3674289121810832,
         "organic_linker1": 0.3723806756062859,
         "organic_linker2": 0.5172223825843058,
         "CO2/N2_selectivity": -0.7990419427572638,
         "heat_adsorption_CO2_P0.15bar_T298K [kcal/mol]": -1.2498290217268098,
         "density [g/cm^3]": -1.5283653675842,
         "acs": -0.2803581440745892,
         "bcu": -0.2266903411134573,
         "etb": -0.2197649001086138,
         "fof": -0.1230321554776692,
         "nbo": -0.1473671694616714,
         "pcu": 0.699156374723668,
         "pts": -0.0487786412631612,
         "rht": -0.0065696414697919,
         "sra": -0.37097332823438,
         "tbo": -0.0197123278543765,
         "the": -0.0236933156232904,
         "_deepnote_index_column": 10
        },
        {
         "volume [A^3]": 2.3449452217532056,
         "weight [u]": 2.728139452847606,
         "surface_area [m^2/g]": -0.0287641316345151,
         "void_fraction": 0.4045753450298235,
         "void_volume [cm^3/g]": 0.1291698033839962,
         "metal_linker": -1.005025737471612,
         "organic_linker1": 0.2797432862554651,
         "organic_linker2": 0.3206714302665642,
         "CO2/N2_selectivity": -0.6601512428231835,
         "heat_adsorption_CO2_P0.15bar_T298K [kcal/mol]": -0.6192193745549021,
         "density [g/cm^3]": -0.2189162786305566,
         "acs": -0.2803581440745892,
         "bcu": -0.2266903411134573,
         "etb": -0.2197649001086138,
         "fof": -0.1230321554776692,
         "nbo": -0.1473671694616714,
         "pcu": 0.699156374723668,
         "pts": -0.0487786412631612,
         "rht": -0.0065696414697919,
         "sra": -0.37097332823438,
         "tbo": -0.0197123278543765,
         "the": -0.0236933156232904,
         "_deepnote_index_column": 11
        },
        {
         "volume [A^3]": 0.3969824455353027,
         "weight [u]": 0.8060240951696858,
         "surface_area [m^2/g]": 0.2763556852718104,
         "void_fraction": 0.3226880323142752,
         "void_volume [cm^3/g]": -0.207291894066902,
         "metal_linker": 1.5453615636905038,
         "organic_linker1": -0.4613558285511012,
         "organic_linker2": -0.2689814266866603,
         "CO2/N2_selectivity": 2.5539758708201665,
         "heat_adsorption_CO2_P0.15bar_T298K [kcal/mol]": 1.2953379288838685,
         "density [g/cm^3]": 0.5157517234473691,
         "acs": -0.2803581440745892,
         "bcu": -0.2266903411134573,
         "etb": -0.2197649001086138,
         "fof": -0.1230321554776692,
         "nbo": -0.1473671694616714,
         "pcu": -1.4302951902496808,
         "pts": -0.0487786412631612,
         "rht": -0.0065696414697919,
         "sra": 2.695611581453349,
         "tbo": -0.0197123278543765,
         "the": -0.0236933156232904,
         "_deepnote_index_column": 12
        },
        {
         "volume [A^3]": 0.1662714690539163,
         "weight [u]": 0.2371719407102612,
         "surface_area [m^2/g]": -0.3611996252548885,
         "void_fraction": -0.5508784865430115,
         "void_volume [cm^3/g]": -0.4668171003132467,
         "metal_linker": 1.5453615636905038,
         "organic_linker1": 0.4650180649571067,
         "organic_linker2": -0.2689814266866603,
         "CO2/N2_selectivity": 0.3465783421760904,
         "heat_adsorption_CO2_P0.15bar_T298K [kcal/mol]": 1.098617477335769,
         "density [g/cm^3]": -0.1252557362418614,
         "acs": -0.2803581440745892,
         "bcu": -0.2266903411134573,
         "etb": -0.2197649001086138,
         "fof": -0.1230321554776692,
         "nbo": -0.1473671694616714,
         "pcu": -1.4302951902496808,
         "pts": -0.0487786412631612,
         "rht": -0.0065696414697919,
         "sra": 2.695611581453349,
         "tbo": -0.0197123278543765,
         "the": -0.0236933156232904,
         "_deepnote_index_column": 13
        },
        {
         "volume [A^3]": -0.6204565186830596,
         "weight [u]": -0.6330186545381156,
         "surface_area [m^2/g]": -0.8445882228158336,
         "void_fraction": -0.910204903533627,
         "void_volume [cm^3/g]": -0.7718540337510174,
         "metal_linker": -0.3674289121810832,
         "organic_linker1": 0.6502928436587483,
         "organic_linker2": 0.1241204779488227,
         "CO2/N2_selectivity": -0.4128082341542874,
         "heat_adsorption_CO2_P0.15bar_T298K [kcal/mol]": 0.0334324004067455,
         "density [g/cm^3]": 0.273780340465632,
         "acs": -0.2803581440745892,
         "bcu": -0.2266903411134573,
         "etb": -0.2197649001086138,
         "fof": -0.1230321554776692,
         "nbo": -0.1473671694616714,
         "pcu": 0.699156374723668,
         "pts": -0.0487786412631612,
         "rht": -0.0065696414697919,
         "sra": -0.37097332823438,
         "tbo": -0.0197123278543765,
         "the": -0.0236933156232904,
         "_deepnote_index_column": 14
        },
        {
         "volume [A^3]": -0.5431136796544681,
         "weight [u]": -0.5978670327953004,
         "surface_area [m^2/g]": -0.0957925998789858,
         "void_fraction": -0.1279977372955529,
         "void_volume [cm^3/g]": -0.2376330455278525,
         "metal_linker": -0.6862273248263476,
         "organic_linker1": 0.1871058969046443,
         "organic_linker2": -0.2689814266866603,
         "CO2/N2_selectivity": -0.2293864836800384,
         "heat_adsorption_CO2_P0.15bar_T298K [kcal/mol]": -0.1767217130493953,
         "density [g/cm^3]": -0.0843431451021105,
         "acs": -0.2803581440745892,
         "bcu": -0.2266903411134573,
         "etb": -0.2197649001086138,
         "fof": -0.1230321554776692,
         "nbo": -0.1473671694616714,
         "pcu": 0.699156374723668,
         "pts": -0.0487786412631612,
         "rht": -0.0065696414697919,
         "sra": -0.37097332823438,
         "tbo": -0.0197123278543765,
         "the": -0.0236933156232904,
         "_deepnote_index_column": 15
        },
        {
         "volume [A^3]": -0.4484344259209137,
         "weight [u]": -0.6732416425899038,
         "surface_area [m^2/g]": 1.3845193174669996,
         "void_fraction": 0.553887285876831,
         "void_volume [cm^3/g]": 0.6866884614789623,
         "metal_linker": -0.3674289121810832,
         "organic_linker1": 0.0018311182030027,
         "organic_linker2": 0.5172223825843058,
         "CO2/N2_selectivity": -0.8863315260667209,
         "heat_adsorption_CO2_P0.15bar_T298K [kcal/mol]": -0.9317505188167028,
         "density [g/cm^3]": -0.977783335126361,
         "acs": -0.2803581440745892,
         "bcu": -0.2266903411134573,
         "etb": -0.2197649001086138,
         "fof": -0.1230321554776692,
         "nbo": -0.1473671694616714,
         "pcu": 0.699156374723668,
         "pts": -0.0487786412631612,
         "rht": -0.0065696414697919,
         "sra": -0.37097332823438,
         "tbo": -0.0197123278543765,
         "the": -0.0236933156232904,
         "_deepnote_index_column": 16
        },
        {
         "volume [A^3]": -0.7032910820902926,
         "weight [u]": -0.8489515005903678,
         "surface_area [m^2/g]": 1.274416128250377,
         "void_fraction": 0.6326172519578248,
         "void_volume [cm^3/g]": 0.4282468677847942,
         "metal_linker": -0.6862273248263476,
         "organic_linker1": -0.090806271147818,
         "organic_linker2": -0.6620833313221434,
         "CO2/N2_selectivity": -0.8046061423156289,
         "heat_adsorption_CO2_P0.15bar_T298K [kcal/mol]": -1.1224852841549071,
         "density [g/cm^3]": -0.5155929564837961,
         "acs": -0.2803581440745892,
         "bcu": -0.2266903411134573,
         "etb": -0.2197649001086138,
         "fof": -0.1230321554776692,
         "nbo": -0.1473671694616714,
         "pcu": 0.699156374723668,
         "pts": -0.0487786412631612,
         "rht": -0.0065696414697919,
         "sra": -0.37097332823438,
         "tbo": -0.0197123278543765,
         "the": -0.0236933156232904,
         "_deepnote_index_column": 17
        },
        {
         "volume [A^3]": -0.5045148194625095,
         "weight [u]": -0.4778696711251376,
         "surface_area [m^2/g]": -0.4879270611594723,
         "void_fraction": -0.4738799686164521,
         "void_volume [cm^3/g]": -0.5475462354504186,
         "metal_linker": -0.3674289121810832,
         "organic_linker1": 0.0944685075538235,
         "organic_linker2": -0.6620833313221434,
         "CO2/N2_selectivity": 0.3806647092562528,
         "heat_adsorption_CO2_P0.15bar_T298K [kcal/mol]": -0.2005135582366265,
         "density [g/cm^3]": 0.2935020075621508,
         "acs": -0.2803581440745892,
         "bcu": -0.2266903411134573,
         "etb": -0.2197649001086138,
         "fof": -0.1230321554776692,
         "nbo": -0.1473671694616714,
         "pcu": 0.699156374723668,
         "pts": -0.0487786412631612,
         "rht": -0.0065696414697919,
         "sra": -0.37097332823438,
         "tbo": -0.0197123278543765,
         "the": -0.0236933156232904,
         "_deepnote_index_column": 18
        },
        {
         "volume [A^3]": -0.5537419372856635,
         "weight [u]": 0.10057914033257,
         "surface_area [m^2/g]": -1.1890129501070783,
         "void_fraction": -0.6283862539267583,
         "void_volume [cm^3/g]": -1.1283625634171863,
         "metal_linker": -0.3674289121810832,
         "organic_linker1": -1.017180164656026,
         "organic_linker2": -0.2689814266866603,
         "CO2/N2_selectivity": -0.3800001313594421,
         "heat_adsorption_CO2_P0.15bar_T298K [kcal/mol]": -0.1659575378484077,
         "density [g/cm^3]": 3.8545777459681783,
         "acs": -0.2803581440745892,
         "bcu": -0.2266903411134573,
         "etb": -0.2197649001086138,
         "fof": -0.1230321554776692,
         "nbo": -0.1473671694616714,
         "pcu": 0.699156374723668,
         "pts": -0.0487786412631612,
         "rht": -0.0065696414697919,
         "sra": -0.37097332823438,
         "tbo": -0.0197123278543765,
         "the": -0.0236933156232904,
         "_deepnote_index_column": 19
        },
        {
         "volume [A^3]": -0.7044990093326103,
         "weight [u]": -0.7360883889561927,
         "surface_area [m^2/g]": -0.682412207356549,
         "void_fraction": -0.6913294868349783,
         "void_volume [cm^3/g]": -0.6683690350181325,
         "metal_linker": -0.3674289121810832,
         "organic_linker1": -0.7392679966035637,
         "organic_linker2": -0.6620833313221434,
         "CO2/N2_selectivity": 0.4626183143365677,
         "heat_adsorption_CO2_P0.15bar_T298K [kcal/mol]": 0.7532824253158172,
         "density [g/cm^3]": 0.3222557433514353,
         "acs": -0.2803581440745892,
         "bcu": -0.2266903411134573,
         "etb": -0.2197649001086138,
         "fof": -0.1230321554776692,
         "nbo": -0.1473671694616714,
         "pcu": 0.699156374723668,
         "pts": -0.0487786412631612,
         "rht": -0.0065696414697919,
         "sra": -0.37097332823438,
         "tbo": -0.0197123278543765,
         "the": -0.0236933156232904,
         "_deepnote_index_column": 20
        },
        {
         "volume [A^3]": -0.2448971293080744,
         "weight [u]": -0.1615191354814386,
         "surface_area [m^2/g]": -0.6159893808129778,
         "void_fraction": -0.4135848328855996,
         "void_volume [cm^3/g]": -0.4911983827372248,
         "metal_linker": -0.6862273248263476,
         "organic_linker1": 0.0944685075538235,
         "organic_linker2": -0.367256902845531,
         "CO2/N2_selectivity": 0.1182886149356267,
         "heat_adsorption_CO2_P0.15bar_T298K [kcal/mol]": 0.5291066203539838,
         "density [g/cm^3]": 0.2052191400512116,
         "acs": -0.2803581440745892,
         "bcu": -0.2266903411134573,
         "etb": -0.2197649001086138,
         "fof": -0.1230321554776692,
         "nbo": -0.1473671694616714,
         "pcu": 0.699156374723668,
         "pts": -0.0487786412631612,
         "rht": -0.0065696414697919,
         "sra": -0.37097332823438,
         "tbo": -0.0197123278543765,
         "the": -0.0236933156232904,
         "_deepnote_index_column": 21
        }
       ],
       "rows_bottom": [
        {
         "volume [A^3]": 10.867697943835829,
         "weight [u]": 2.3806327894772124,
         "surface_area [m^2/g]": 4.802402636338243,
         "void_fraction": 5.165141120698291,
         "void_volume [cm^3/g]": 15.856180579402055,
         "metal_linker": -0.6862273248263476,
         "organic_linker1": -0.9245427753052052,
         "organic_linker2": 0.2223959541076934,
         "CO2/N2_selectivity": -1.3770912885314048,
         "heat_adsorption_CO2_P0.15bar_T298K [kcal/mol]": -3.177101417300527,
         "density [g/cm^3]": -3.112763512397245,
         "acs": -0.2803581440745892,
         "bcu": -0.2266903411134573,
         "etb": -0.2197649001086138,
         "fof": -0.1230321554776692,
         "nbo": 6.785771916856417,
         "pcu": -1.4302951902496808,
         "pts": -0.0487786412631612,
         "rht": -0.0065696414697919,
         "sra": -0.37097332823438,
         "tbo": -0.0197123278543765,
         "the": -0.0236933156232904,
         "_deepnote_index_column": 16977
        },
        {
         "volume [A^3]": -0.1155842094834064,
         "weight [u]": -0.7655199636104316,
         "surface_area [m^2/g]": 4.394743971459184,
         "void_fraction": 3.1471892216520714,
         "void_volume [cm^3/g]": 5.601954998152949,
         "metal_linker": -0.6862273248263476,
         "organic_linker1": -0.553993217901922,
         "organic_linker2": -0.9569097597987556,
         "CO2/N2_selectivity": -1.3239251390974722,
         "heat_adsorption_CO2_P0.15bar_T298K [kcal/mol]": -3.1564832552778066,
         "density [g/cm^3]": -2.284592227170013,
         "acs": -0.2803581440745892,
         "bcu": -0.2266903411134573,
         "etb": -0.2197649001086138,
         "fof": -0.1230321554776692,
         "nbo": -0.1473671694616714,
         "pcu": 0.699156374723668,
         "pts": -0.0487786412631612,
         "rht": -0.0065696414697919,
         "sra": -0.37097332823438,
         "tbo": -0.0197123278543765,
         "the": -0.0236933156232904,
         "_deepnote_index_column": 16978
        },
        {
         "volume [A^3]": 0.1916915572229396,
         "weight [u]": 0.2852747971103742,
         "surface_area [m^2/g]": 0.5162639590363647,
         "void_fraction": 2.308455365666324,
         "void_volume [cm^3/g]": 1.154267277743254,
         "metal_linker": -0.6862273248263476,
         "organic_linker1": -0.9245427753052052,
         "organic_linker2": 0.2223959541076934,
         "CO2/N2_selectivity": -1.1098800020463198,
         "heat_adsorption_CO2_P0.15bar_T298K [kcal/mol]": -2.5323084004239784,
         "density [g/cm^3]": -0.0804361421478977,
         "acs": -0.2803581440745892,
         "bcu": -0.2266903411134573,
         "etb": -0.2197649001086138,
         "fof": -0.1230321554776692,
         "nbo": -0.1473671694616714,
         "pcu": 0.699156374723668,
         "pts": -0.0487786412631612,
         "rht": -0.0065696414697919,
         "sra": -0.37097332823438,
         "tbo": -0.0197123278543765,
         "the": -0.0236933156232904,
         "_deepnote_index_column": 16979
        },
        {
         "volume [A^3]": 3.408123758188629,
         "weight [u]": 1.942264764220524,
         "surface_area [m^2/g]": 2.3347093460050656,
         "void_fraction": 3.120199000421201,
         "void_volume [cm^3/g]": 3.880094652744007,
         "metal_linker": -0.6862273248263476,
         "organic_linker1": -1.017180164656026,
         "organic_linker2": -0.1707059505277895,
         "CO2/N2_selectivity": -1.1129167671661362,
         "heat_adsorption_CO2_P0.15bar_T298K [kcal/mol]": -2.5022230816407105,
         "density [g/cm^3]": -1.720481332476597,
         "acs": -0.2803581440745892,
         "bcu": -0.2266903411134573,
         "etb": -0.2197649001086138,
         "fof": -0.1230321554776692,
         "nbo": 6.785771916856417,
         "pcu": -1.4302951902496808,
         "pts": -0.0487786412631612,
         "rht": -0.0065696414697919,
         "sra": -0.37097332823438,
         "tbo": -0.0197123278543765,
         "the": -0.0236933156232904,
         "_deepnote_index_column": 16980
        },
        {
         "volume [A^3]": 0.9300115514607188,
         "weight [u]": 0.1404675674258273,
         "surface_area [m^2/g]": 2.1656611512457764,
         "void_fraction": 2.762502181693581,
         "void_volume [cm^3/g]": 3.610275127251982,
         "metal_linker": -0.6862273248263476,
         "organic_linker1": -0.7392679966035637,
         "organic_linker2": -0.9569097597987556,
         "CO2/N2_selectivity": -1.2665989768406338,
         "heat_adsorption_CO2_P0.15bar_T298K [kcal/mol]": -2.764479491727802,
         "density [g/cm^3]": -1.753260890763922,
         "acs": -0.2803581440745892,
         "bcu": -0.2266903411134573,
         "etb": -0.2197649001086138,
         "fof": -0.1230321554776692,
         "nbo": 6.785771916856417,
         "pcu": -1.4302951902496808,
         "pts": -0.0487786412631612,
         "rht": -0.0065696414697919,
         "sra": -0.37097332823438,
         "tbo": -0.0197123278543765,
         "the": -0.0236933156232904,
         "_deepnote_index_column": 16981
        },
        {
         "volume [A^3]": -0.3068152588922506,
         "weight [u]": -0.7220226142749036,
         "surface_area [m^2/g]": 3.0404178879350487,
         "void_fraction": 2.682346317132467,
         "void_volume [cm^3/g]": 3.40763957999492,
         "metal_linker": -0.6862273248263476,
         "organic_linker1": 0.6502928436587483,
         "organic_linker2": 0.5172223825843058,
         "CO2/N2_selectivity": -1.326285184260056,
         "heat_adsorption_CO2_P0.15bar_T298K [kcal/mol]": -3.1718127437705355,
         "density [g/cm^3]": -1.694848460334496,
         "acs": -0.2803581440745892,
         "bcu": -0.2266903411134573,
         "etb": -0.2197649001086138,
         "fof": -0.1230321554776692,
         "nbo": -0.1473671694616714,
         "pcu": 0.699156374723668,
         "pts": -0.0487786412631612,
         "rht": -0.0065696414697919,
         "sra": -0.37097332823438,
         "tbo": -0.0197123278543765,
         "the": -0.0236933156232904,
         "_deepnote_index_column": 16982
        },
        {
         "volume [A^3]": 5.677100547666107,
         "weight [u]": 2.1348926377076363,
         "surface_area [m^2/g]": 3.252689124083037,
         "void_fraction": 3.927461239952839,
         "void_volume [cm^3/g]": 7.297266836033562,
         "metal_linker": -0.6862273248263476,
         "organic_linker1": -0.7392679966035637,
         "organic_linker2": -1.3500116644342386,
         "CO2/N2_selectivity": -1.2871233749383195,
         "heat_adsorption_CO2_P0.15bar_T298K [kcal/mol]": -3.146143036242945,
         "density [g/cm^3]": -2.4356214432965686,
         "acs": -0.2803581440745892,
         "bcu": -0.2266903411134573,
         "etb": -0.2197649001086138,
         "fof": -0.1230321554776692,
         "nbo": 6.785771916856417,
         "pcu": -1.4302951902496808,
         "pts": -0.0487786412631612,
         "rht": -0.0065696414697919,
         "sra": -0.37097332823438,
         "tbo": -0.0197123278543765,
         "the": -0.0236933156232904,
         "_deepnote_index_column": 16983
        },
        {
         "volume [A^3]": 0.8552584609197613,
         "weight [u]": 0.3943027445580785,
         "surface_area [m^2/g]": 1.1020183640840708,
         "void_fraction": 2.314464509261122,
         "void_volume [cm^3/g]": 2.307772839535463,
         "metal_linker": -0.3674289121810832,
         "organic_linker1": 0.9282050117112106,
         "organic_linker2": 0.1241204779488227,
         "CO2/N2_selectivity": -1.2896504496724084,
         "heat_adsorption_CO2_P0.15bar_T298K [kcal/mol]": -2.830528030038272,
         "density [g/cm^3]": -1.2372093835958244,
         "acs": -0.2803581440745892,
         "bcu": -0.2266903411134573,
         "etb": -0.2197649001086138,
         "fof": -0.1230321554776692,
         "nbo": 6.785771916856417,
         "pcu": -1.4302951902496808,
         "pts": -0.0487786412631612,
         "rht": -0.0065696414697919,
         "sra": -0.37097332823438,
         "tbo": -0.0197123278543765,
         "the": -0.0236933156232904,
         "_deepnote_index_column": 16984
        },
        {
         "volume [A^3]": 3.807980493183148,
         "weight [u]": 2.903330223181781,
         "surface_area [m^2/g]": 1.0201207740807772,
         "void_fraction": 1.345872041692881,
         "void_volume [cm^3/g]": 1.5606219848095555,
         "metal_linker": -1.005025737471612,
         "organic_linker1": -0.7392679966035637,
         "organic_linker2": -1.4482871405931097,
         "CO2/N2_selectivity": -1.229509616197037,
         "heat_adsorption_CO2_P0.15bar_T298K [kcal/mol]": -2.1621910745462114,
         "density [g/cm^3]": -1.2598560837932122,
         "acs": -0.2803581440745892,
         "bcu": -0.2266903411134573,
         "etb": -0.2197649001086138,
         "fof": -0.1230321554776692,
         "nbo": -0.1473671694616714,
         "pcu": 0.699156374723668,
         "pts": -0.0487786412631612,
         "rht": -0.0065696414697919,
         "sra": -0.37097332823438,
         "tbo": -0.0197123278543765,
         "the": -0.0236933156232904,
         "_deepnote_index_column": 16985
        },
        {
         "volume [A^3]": 0.7126619807546217,
         "weight [u]": 0.3622060419119131,
         "surface_area [m^2/g]": 1.2163981253111282,
         "void_fraction": 2.692735006059065,
         "void_volume [cm^3/g]": 2.378207655426955,
         "metal_linker": -0.3674289121810832,
         "organic_linker1": -0.4613558285511012,
         "organic_linker2": 0.2223959541076934,
         "CO2/N2_selectivity": -1.1245534191170714,
         "heat_adsorption_CO2_P0.15bar_T298K [kcal/mol]": -2.190651228025993,
         "density [g/cm^3]": -1.0731629789933312,
         "acs": -0.2803581440745892,
         "bcu": -0.2266903411134573,
         "etb": -0.2197649001086138,
         "fof": -0.1230321554776692,
         "nbo": -0.1473671694616714,
         "pcu": 0.699156374723668,
         "pts": -0.0487786412631612,
         "rht": -0.0065696414697919,
         "sra": -0.37097332823438,
         "tbo": -0.0197123278543765,
         "the": -0.0236933156232904,
         "_deepnote_index_column": 16986
        },
        {
         "volume [A^3]": 0.9060071375408352,
         "weight [u]": 0.0654531633381573,
         "surface_area [m^2/g]": 2.3871529732890946,
         "void_fraction": 2.941350591057391,
         "void_volume [cm^3/g]": 4.010128159005223,
         "metal_linker": -0.6862273248263476,
         "organic_linker1": -0.7392679966035637,
         "organic_linker2": 0.3206714302665642,
         "CO2/N2_selectivity": -1.2798021818147791,
         "heat_adsorption_CO2_P0.15bar_T298K [kcal/mol]": -2.8999119297121974,
         "density [g/cm^3]": -1.8483954013980963,
         "acs": -0.2803581440745892,
         "bcu": -0.2266903411134573,
         "etb": -0.2197649001086138,
         "fof": -0.1230321554776692,
         "nbo": 6.785771916856417,
         "pcu": -1.4302951902496808,
         "pts": -0.0487786412631612,
         "rht": -0.0065696414697919,
         "sra": -0.37097332823438,
         "tbo": -0.0197123278543765,
         "the": -0.0236933156232904,
         "_deepnote_index_column": 16987
        },
        {
         "volume [A^3]": 4.299400711640514,
         "weight [u]": 2.894818788578482,
         "surface_area [m^2/g]": 1.8327930564104749,
         "void_fraction": 2.752622742224169,
         "void_volume [cm^3/g]": 3.140529085883337,
         "metal_linker": -1.005025737471612,
         "organic_linker1": -0.7392679966035637,
         "organic_linker2": -1.3500116644342386,
         "CO2/N2_selectivity": -1.262412347224359,
         "heat_adsorption_CO2_P0.15bar_T298K [kcal/mol]": -2.797481006173556,
         "density [g/cm^3]": -1.5264338228253571,
         "acs": -0.2803581440745892,
         "bcu": -0.2266903411134573,
         "etb": -0.2197649001086138,
         "fof": -0.1230321554776692,
         "nbo": -0.1473671694616714,
         "pcu": 0.699156374723668,
         "pts": -0.0487786412631612,
         "rht": -0.0065696414697919,
         "sra": -0.37097332823438,
         "tbo": -0.0197123278543765,
         "the": -0.0236933156232904,
         "_deepnote_index_column": 16988
        },
        {
         "volume [A^3]": 1.6056982974923488,
         "weight [u]": 0.1270195737043449,
         "surface_area [m^2/g]": 2.8260948860248285,
         "void_fraction": 4.238307108619323,
         "void_volume [cm^3/g]": 7.309186574107507,
         "metal_linker": -0.3674289121810832,
         "organic_linker1": -0.8319053859543845,
         "organic_linker2": 0.6154978587431765,
         "CO2/N2_selectivity": -1.312023197333529,
         "heat_adsorption_CO2_P0.15bar_T298K [kcal/mol]": -3.0717746575763054,
         "density [g/cm^3]": -2.3576938098998337,
         "acs": -0.2803581440745892,
         "bcu": -0.2266903411134573,
         "etb": -0.2197649001086138,
         "fof": -0.1230321554776692,
         "nbo": -0.1473671694616714,
         "pcu": 0.699156374723668,
         "pts": -0.0487786412631612,
         "rht": -0.0065696414697919,
         "sra": -0.37097332823438,
         "tbo": -0.0197123278543765,
         "the": -0.0236933156232904,
         "_deepnote_index_column": 16989
        },
        {
         "volume [A^3]": 4.4260418429836985,
         "weight [u]": 2.584746495887352,
         "surface_area [m^2/g]": 1.725001193685041,
         "void_fraction": 4.085837821137761,
         "void_volume [cm^3/g]": 4.951787466846866,
         "metal_linker": -0.6862273248263476,
         "organic_linker1": -0.8319053859543845,
         "organic_linker2": -1.7431135690697217,
         "CO2/N2_selectivity": -1.3219991306566927,
         "heat_adsorption_CO2_P0.15bar_T298K [kcal/mol]": -2.3169398656477336,
         "density [g/cm^3]": -1.7748179355946097,
         "acs": -0.2803581440745892,
         "bcu": -0.2266903411134573,
         "etb": -0.2197649001086138,
         "fof": -0.1230321554776692,
         "nbo": -0.1473671694616714,
         "pcu": 0.699156374723668,
         "pts": -0.0487786412631612,
         "rht": -0.0065696414697919,
         "sra": -0.37097332823438,
         "tbo": -0.0197123278543765,
         "the": -0.0236933156232904,
         "_deepnote_index_column": 16990
        },
        {
         "volume [A^3]": -0.0360772647635864,
         "weight [u]": -0.1882625557728301,
         "surface_area [m^2/g]": 1.0896954094759692,
         "void_fraction": 1.9491289486757089,
         "void_volume [cm^3/g]": 1.4154179028178635,
         "metal_linker": -0.6862273248263476,
         "organic_linker1": -0.3687184392002804,
         "organic_linker2": 0.3206714302665642,
         "CO2/N2_selectivity": -1.1987336563971085,
         "heat_adsorption_CO2_P0.15bar_T298K [kcal/mol]": -2.3359017243434663,
         "density [g/cm^3]": -0.6816386087130258,
         "acs": -0.2803581440745892,
         "bcu": -0.2266903411134573,
         "etb": -0.2197649001086138,
         "fof": -0.1230321554776692,
         "nbo": -0.1473671694616714,
         "pcu": 0.699156374723668,
         "pts": -0.0487786412631612,
         "rht": -0.0065696414697919,
         "sra": -0.37097332823438,
         "tbo": -0.0197123278543765,
         "the": -0.0236933156232904,
         "_deepnote_index_column": 16991
        },
        {
         "volume [A^3]": -0.1148216734704842,
         "weight [u]": -0.6609084741054161,
         "surface_area [m^2/g]": 3.486491540699745,
         "void_fraction": 2.908962325580346,
         "void_volume [cm^3/g]": 4.2349777635819095,
         "metal_linker": -0.6862273248263476,
         "organic_linker1": -0.553993217901922,
         "organic_linker2": -0.9569097597987556,
         "CO2/N2_selectivity": -1.323877768700466,
         "heat_adsorption_CO2_P0.15bar_T298K [kcal/mol]": -3.1489406678928686,
         "density [g/cm^3]": -1.948001015673129,
         "acs": -0.2803581440745892,
         "bcu": -0.2266903411134573,
         "etb": -0.2197649001086138,
         "fof": -0.1230321554776692,
         "nbo": -0.1473671694616714,
         "pcu": 0.699156374723668,
         "pts": -0.0487786412631612,
         "rht": -0.0065696414697919,
         "sra": -0.37097332823438,
         "tbo": -0.0197123278543765,
         "the": -0.0236933156232904,
         "_deepnote_index_column": 16992
        },
        {
         "volume [A^3]": 9.963295883253137,
         "weight [u]": 4.733155090751026,
         "surface_area [m^2/g]": 2.7273876488128903,
         "void_fraction": 4.159475292646893,
         "void_volume [cm^3/g]": 6.967306813895724,
         "metal_linker": -0.3674289121810832,
         "organic_linker1": -0.7392679966035637,
         "organic_linker2": -0.0724304743689187,
         "CO2/N2_selectivity": -1.3326214557788092,
         "heat_adsorption_CO2_P0.15bar_T298K [kcal/mol]": -3.3434491221561182,
         "density [g/cm^3]": -2.3079677133003025,
         "acs": -0.2803581440745892,
         "bcu": -0.2266903411134573,
         "etb": -0.2197649001086138,
         "fof": -0.1230321554776692,
         "nbo": 6.785771916856417,
         "pcu": -1.4302951902496808,
         "pts": -0.0487786412631612,
         "rht": -0.0065696414697919,
         "sra": -0.37097332823438,
         "tbo": -0.0197123278543765,
         "the": -0.0236933156232904,
         "_deepnote_index_column": 16993
        },
        {
         "volume [A^3]": 0.8744117818986801,
         "weight [u]": -0.1187505123474287,
         "surface_area [m^2/g]": 2.736323953909839,
         "void_fraction": 3.574042116665584,
         "void_volume [cm^3/g]": 5.495760968039623,
         "metal_linker": -0.3674289121810832,
         "organic_linker1": -1.017180164656026,
         "organic_linker2": 0.1241204779488227,
         "CO2/N2_selectivity": -1.3692762469327793,
         "heat_adsorption_CO2_P0.15bar_T298K [kcal/mol]": -3.61066965175902,
         "density [g/cm^3]": -2.1194083607997727,
         "acs": -0.2803581440745892,
         "bcu": -0.2266903411134573,
         "etb": -0.2197649001086138,
         "fof": -0.1230321554776692,
         "nbo": 6.785771916856417,
         "pcu": -1.4302951902496808,
         "pts": -0.0487786412631612,
         "rht": -0.0065696414697919,
         "sra": -0.37097332823438,
         "tbo": -0.0197123278543765,
         "the": -0.0236933156232904,
         "_deepnote_index_column": 16994
        },
        {
         "volume [A^3]": 12.11718146875879,
         "weight [u]": 2.77230473004331,
         "surface_area [m^2/g]": 4.826764264756066,
         "void_fraction": 5.128678859563756,
         "void_volume [cm^3/g]": 15.7559464183257,
         "metal_linker": -0.3674289121810832,
         "organic_linker1": -0.8319053859543845,
         "organic_linker2": -0.6620833313221434,
         "CO2/N2_selectivity": -1.2905390304912931,
         "heat_adsorption_CO2_P0.15bar_T298K [kcal/mol]": -3.222734190741031,
         "density [g/cm^3]": -3.111581226745518,
         "acs": -0.2803581440745892,
         "bcu": -0.2266903411134573,
         "etb": -0.2197649001086138,
         "fof": -0.1230321554776692,
         "nbo": 6.785771916856417,
         "pcu": -1.4302951902496808,
         "pts": -0.0487786412631612,
         "rht": -0.0065696414697919,
         "sra": -0.37097332823438,
         "tbo": -0.0197123278543765,
         "the": -0.0236933156232904,
         "_deepnote_index_column": 16995
        },
        {
         "volume [A^3]": 0.8945614985730225,
         "weight [u]": -0.0401835404436843,
         "surface_area [m^2/g]": 2.72202339374778,
         "void_fraction": 3.2524001595067507,
         "void_volume [cm^3/g]": 4.778951264774666,
         "metal_linker": -0.3674289121810832,
         "organic_linker1": -1.017180164656026,
         "organic_linker2": -0.9569097597987556,
         "CO2/N2_selectivity": -1.1351420558376408,
         "heat_adsorption_CO2_P0.15bar_T298K [kcal/mol]": -2.609347463413962,
         "density [g/cm^3]": -2.0097981459173044,
         "acs": -0.2803581440745892,
         "bcu": -0.2266903411134573,
         "etb": -0.2197649001086138,
         "fof": -0.1230321554776692,
         "nbo": 6.785771916856417,
         "pcu": -1.4302951902496808,
         "pts": -0.0487786412631612,
         "rht": -0.0065696414697919,
         "sra": -0.37097332823438,
         "tbo": -0.0197123278543765,
         "the": -0.0236933156232904,
         "_deepnote_index_column": 16996
        },
        {
         "volume [A^3]": 0.7313698157279374,
         "weight [u]": -0.1946378950005391,
         "surface_area [m^2/g]": 3.0575736161156364,
         "void_fraction": 2.820352920029939,
         "void_volume [cm^3/g]": 4.579024748898046,
         "metal_linker": -0.6862273248263476,
         "organic_linker1": -0.4613558285511012,
         "organic_linker2": 0.2223959541076934,
         "CO2/N2_selectivity": -1.2814229253384903,
         "heat_adsorption_CO2_P0.15bar_T298K [kcal/mol]": -2.6881733699063783,
         "density [g/cm^3]": -2.101171493884125,
         "acs": -0.2803581440745892,
         "bcu": -0.2266903411134573,
         "etb": -0.2197649001086138,
         "fof": -0.1230321554776692,
         "nbo": -0.1473671694616714,
         "pcu": 0.699156374723668,
         "pts": -0.0487786412631612,
         "rht": -0.0065696414697919,
         "sra": -0.37097332823438,
         "tbo": -0.0197123278543765,
         "the": -0.0236933156232904,
         "_deepnote_index_column": 16997
        },
        {
         "volume [A^3]": 0.7363797007136793,
         "weight [u]": -0.2893054462232284,
         "surface_area [m^2/g]": 3.110845365725385,
         "void_fraction": 3.4001843519821997,
         "void_volume [cm^3/g]": 5.880443424062388,
         "metal_linker": -0.3674289121810832,
         "organic_linker1": -0.4613558285511012,
         "organic_linker2": 0.418946906425435,
         "CO2/N2_selectivity": -1.2703708707321133,
         "heat_adsorption_CO2_P0.15bar_T298K [kcal/mol]": -2.8541090947587278,
         "density [g/cm^3]": -2.275748244658431,
         "acs": -0.2803581440745892,
         "bcu": -0.2266903411134573,
         "etb": -0.2197649001086138,
         "fof": -0.1230321554776692,
         "nbo": -0.1473671694616714,
         "pcu": 0.699156374723668,
         "pts": -0.0487786412631612,
         "rht": -0.0065696414697919,
         "sra": -0.37097332823438,
         "tbo": -0.0197123278543765,
         "the": -0.0236933156232904,
         "_deepnote_index_column": 16998
        },
        {
         "volume [A^3]": 9.286783210975893,
         "weight [u]": 2.8329532604207617,
         "surface_area [m^2/g]": 3.9445667871700256,
         "void_fraction": 4.529394098346982,
         "void_volume [cm^3/g]": 10.795709960736376,
         "metal_linker": -1.005025737471612,
         "organic_linker1": -0.9245427753052052,
         "organic_linker2": 0.6154978587431765,
         "CO2/N2_selectivity": -1.308720619622719,
         "heat_adsorption_CO2_P0.15bar_T298K [kcal/mol]": -3.194978235638884,
         "density [g/cm^3]": -2.8061513912659697,
         "acs": -0.2803581440745892,
         "bcu": -0.2266903411134573,
         "etb": -0.2197649001086138,
         "fof": -0.1230321554776692,
         "nbo": -0.1473671694616714,
         "pcu": 0.699156374723668,
         "pts": -0.0487786412631612,
         "rht": -0.0065696414697919,
         "sra": -0.37097332823438,
         "tbo": -0.0197123278543765,
         "the": -0.0236933156232904,
         "_deepnote_index_column": 16999
        }
       ]
      },
      "text/plain": "       volume [A^3]  weight [u]  surface_area [m^2/g]  void_fraction  \\\n0         -0.676648   -0.651973             -1.518383      -1.616025   \n1          0.510338    1.908794             -1.189668      -0.600072   \n2         -0.516445   -0.696018              1.657145       0.674681   \n3         -0.177007   -0.479194              2.108731       1.344955   \n4          0.102354   -0.181128              1.067237       1.191671   \n...             ...         ...                   ...            ...   \n16995     12.117181    2.772305              4.826764       5.128679   \n16996      0.894561   -0.040184              2.722023       3.252400   \n16997      0.731370   -0.194638              3.057574       2.820353   \n16998      0.736380   -0.289305              3.110845       3.400184   \n16999      9.286783    2.832953              3.944567       4.529394   \n\n       void_volume [cm^3/g]  metal_linker  organic_linker1  organic_linker2  \\\n0                 -1.191212     -0.686227        -0.646631         0.517222   \n1                 -0.983700     -0.048630        -0.553993        -0.367257   \n2                  0.616254     -0.367429        -0.090806        -0.367257   \n3                  1.476642     -0.686227        -1.017180         0.713773   \n4                  1.214408     -0.367429        -0.368718        -0.170706   \n...                     ...           ...              ...              ...   \n16995             15.755946     -0.367429        -0.831905        -0.662083   \n16996              4.778951     -0.367429        -1.017180        -0.956910   \n16997              4.579025     -0.686227        -0.461356         0.222396   \n16998              5.880443     -0.367429        -0.461356         0.418947   \n16999             10.795710     -1.005026        -0.924543         0.615498   \n\n       CO2/N2_selectivity  heat_adsorption_CO2_P0.15bar_T298K [kcal/mol]  ...  \\\n0                0.967949                                       1.398798  ...   \n1               -0.315892                                      -0.860195  ...   \n2               -0.690711                                      -0.948818  ...   \n3               -0.934242                                      -0.875957  ...   \n4               -0.696895                                      -0.658708  ...   \n...                   ...                                            ...  ...   \n16995           -1.290539                                      -3.222734  ...   \n16996           -1.135142                                      -2.609347  ...   \n16997           -1.281423                                      -2.688173  ...   \n16998           -1.270371                                      -2.854109  ...   \n16999           -1.308721                                      -3.194978  ...   \n\n           bcu       etb       fof       nbo       pcu       pts      rht  \\\n0     -0.22669 -0.219765 -0.123032 -0.147367  0.699156 -0.048779 -0.00657   \n1     -0.22669 -0.219765 -0.123032 -0.147367 -1.430295 -0.048779 -0.00657   \n2     -0.22669 -0.219765 -0.123032 -0.147367  0.699156 -0.048779 -0.00657   \n3     -0.22669 -0.219765 -0.123032 -0.147367  0.699156 -0.048779 -0.00657   \n4     -0.22669 -0.219765 -0.123032 -0.147367  0.699156 -0.048779 -0.00657   \n...        ...       ...       ...       ...       ...       ...      ...   \n16995 -0.22669 -0.219765 -0.123032  6.785772 -1.430295 -0.048779 -0.00657   \n16996 -0.22669 -0.219765 -0.123032  6.785772 -1.430295 -0.048779 -0.00657   \n16997 -0.22669 -0.219765 -0.123032 -0.147367  0.699156 -0.048779 -0.00657   \n16998 -0.22669 -0.219765 -0.123032 -0.147367  0.699156 -0.048779 -0.00657   \n16999 -0.22669 -0.219765 -0.123032 -0.147367  0.699156 -0.048779 -0.00657   \n\n            sra       tbo       the  \n0     -0.370973 -0.019712 -0.023693  \n1     -0.370973 -0.019712 -0.023693  \n2     -0.370973 -0.019712 -0.023693  \n3     -0.370973 -0.019712 -0.023693  \n4     -0.370973 -0.019712 -0.023693  \n...         ...       ...       ...  \n16995 -0.370973 -0.019712 -0.023693  \n16996 -0.370973 -0.019712 -0.023693  \n16997 -0.370973 -0.019712 -0.023693  \n16998 -0.370973 -0.019712 -0.023693  \n16999 -0.370973 -0.019712 -0.023693  \n\n[17000 rows x 22 columns]",
      "text/html": "<div>\n<style scoped>\n    .dataframe tbody tr th:only-of-type {\n        vertical-align: middle;\n    }\n\n    .dataframe tbody tr th {\n        vertical-align: top;\n    }\n\n    .dataframe thead th {\n        text-align: right;\n    }\n</style>\n<table border=\"1\" class=\"dataframe\">\n  <thead>\n    <tr style=\"text-align: right;\">\n      <th></th>\n      <th>volume [A^3]</th>\n      <th>weight [u]</th>\n      <th>surface_area [m^2/g]</th>\n      <th>void_fraction</th>\n      <th>void_volume [cm^3/g]</th>\n      <th>metal_linker</th>\n      <th>organic_linker1</th>\n      <th>organic_linker2</th>\n      <th>CO2/N2_selectivity</th>\n      <th>heat_adsorption_CO2_P0.15bar_T298K [kcal/mol]</th>\n      <th>...</th>\n      <th>bcu</th>\n      <th>etb</th>\n      <th>fof</th>\n      <th>nbo</th>\n      <th>pcu</th>\n      <th>pts</th>\n      <th>rht</th>\n      <th>sra</th>\n      <th>tbo</th>\n      <th>the</th>\n    </tr>\n  </thead>\n  <tbody>\n    <tr>\n      <th>0</th>\n      <td>-0.676648</td>\n      <td>-0.651973</td>\n      <td>-1.518383</td>\n      <td>-1.616025</td>\n      <td>-1.191212</td>\n      <td>-0.686227</td>\n      <td>-0.646631</td>\n      <td>0.517222</td>\n      <td>0.967949</td>\n      <td>1.398798</td>\n      <td>...</td>\n      <td>-0.22669</td>\n      <td>-0.219765</td>\n      <td>-0.123032</td>\n      <td>-0.147367</td>\n      <td>0.699156</td>\n      <td>-0.048779</td>\n      <td>-0.00657</td>\n      <td>-0.370973</td>\n      <td>-0.019712</td>\n      <td>-0.023693</td>\n    </tr>\n    <tr>\n      <th>1</th>\n      <td>0.510338</td>\n      <td>1.908794</td>\n      <td>-1.189668</td>\n      <td>-0.600072</td>\n      <td>-0.983700</td>\n      <td>-0.048630</td>\n      <td>-0.553993</td>\n      <td>-0.367257</td>\n      <td>-0.315892</td>\n      <td>-0.860195</td>\n      <td>...</td>\n      <td>-0.22669</td>\n      <td>-0.219765</td>\n      <td>-0.123032</td>\n      <td>-0.147367</td>\n      <td>-1.430295</td>\n      <td>-0.048779</td>\n      <td>-0.00657</td>\n      <td>-0.370973</td>\n      <td>-0.019712</td>\n      <td>-0.023693</td>\n    </tr>\n    <tr>\n      <th>2</th>\n      <td>-0.516445</td>\n      <td>-0.696018</td>\n      <td>1.657145</td>\n      <td>0.674681</td>\n      <td>0.616254</td>\n      <td>-0.367429</td>\n      <td>-0.090806</td>\n      <td>-0.367257</td>\n      <td>-0.690711</td>\n      <td>-0.948818</td>\n      <td>...</td>\n      <td>-0.22669</td>\n      <td>-0.219765</td>\n      <td>-0.123032</td>\n      <td>-0.147367</td>\n      <td>0.699156</td>\n      <td>-0.048779</td>\n      <td>-0.00657</td>\n      <td>-0.370973</td>\n      <td>-0.019712</td>\n      <td>-0.023693</td>\n    </tr>\n    <tr>\n      <th>3</th>\n      <td>-0.177007</td>\n      <td>-0.479194</td>\n      <td>2.108731</td>\n      <td>1.344955</td>\n      <td>1.476642</td>\n      <td>-0.686227</td>\n      <td>-1.017180</td>\n      <td>0.713773</td>\n      <td>-0.934242</td>\n      <td>-0.875957</td>\n      <td>...</td>\n      <td>-0.22669</td>\n      <td>-0.219765</td>\n      <td>-0.123032</td>\n      <td>-0.147367</td>\n      <td>0.699156</td>\n      <td>-0.048779</td>\n      <td>-0.00657</td>\n      <td>-0.370973</td>\n      <td>-0.019712</td>\n      <td>-0.023693</td>\n    </tr>\n    <tr>\n      <th>4</th>\n      <td>0.102354</td>\n      <td>-0.181128</td>\n      <td>1.067237</td>\n      <td>1.191671</td>\n      <td>1.214408</td>\n      <td>-0.367429</td>\n      <td>-0.368718</td>\n      <td>-0.170706</td>\n      <td>-0.696895</td>\n      <td>-0.658708</td>\n      <td>...</td>\n      <td>-0.22669</td>\n      <td>-0.219765</td>\n      <td>-0.123032</td>\n      <td>-0.147367</td>\n      <td>0.699156</td>\n      <td>-0.048779</td>\n      <td>-0.00657</td>\n      <td>-0.370973</td>\n      <td>-0.019712</td>\n      <td>-0.023693</td>\n    </tr>\n    <tr>\n      <th>...</th>\n      <td>...</td>\n      <td>...</td>\n      <td>...</td>\n      <td>...</td>\n      <td>...</td>\n      <td>...</td>\n      <td>...</td>\n      <td>...</td>\n      <td>...</td>\n      <td>...</td>\n      <td>...</td>\n      <td>...</td>\n      <td>...</td>\n      <td>...</td>\n      <td>...</td>\n      <td>...</td>\n      <td>...</td>\n      <td>...</td>\n      <td>...</td>\n      <td>...</td>\n      <td>...</td>\n    </tr>\n    <tr>\n      <th>16995</th>\n      <td>12.117181</td>\n      <td>2.772305</td>\n      <td>4.826764</td>\n      <td>5.128679</td>\n      <td>15.755946</td>\n      <td>-0.367429</td>\n      <td>-0.831905</td>\n      <td>-0.662083</td>\n      <td>-1.290539</td>\n      <td>-3.222734</td>\n      <td>...</td>\n      <td>-0.22669</td>\n      <td>-0.219765</td>\n      <td>-0.123032</td>\n      <td>6.785772</td>\n      <td>-1.430295</td>\n      <td>-0.048779</td>\n      <td>-0.00657</td>\n      <td>-0.370973</td>\n      <td>-0.019712</td>\n      <td>-0.023693</td>\n    </tr>\n    <tr>\n      <th>16996</th>\n      <td>0.894561</td>\n      <td>-0.040184</td>\n      <td>2.722023</td>\n      <td>3.252400</td>\n      <td>4.778951</td>\n      <td>-0.367429</td>\n      <td>-1.017180</td>\n      <td>-0.956910</td>\n      <td>-1.135142</td>\n      <td>-2.609347</td>\n      <td>...</td>\n      <td>-0.22669</td>\n      <td>-0.219765</td>\n      <td>-0.123032</td>\n      <td>6.785772</td>\n      <td>-1.430295</td>\n      <td>-0.048779</td>\n      <td>-0.00657</td>\n      <td>-0.370973</td>\n      <td>-0.019712</td>\n      <td>-0.023693</td>\n    </tr>\n    <tr>\n      <th>16997</th>\n      <td>0.731370</td>\n      <td>-0.194638</td>\n      <td>3.057574</td>\n      <td>2.820353</td>\n      <td>4.579025</td>\n      <td>-0.686227</td>\n      <td>-0.461356</td>\n      <td>0.222396</td>\n      <td>-1.281423</td>\n      <td>-2.688173</td>\n      <td>...</td>\n      <td>-0.22669</td>\n      <td>-0.219765</td>\n      <td>-0.123032</td>\n      <td>-0.147367</td>\n      <td>0.699156</td>\n      <td>-0.048779</td>\n      <td>-0.00657</td>\n      <td>-0.370973</td>\n      <td>-0.019712</td>\n      <td>-0.023693</td>\n    </tr>\n    <tr>\n      <th>16998</th>\n      <td>0.736380</td>\n      <td>-0.289305</td>\n      <td>3.110845</td>\n      <td>3.400184</td>\n      <td>5.880443</td>\n      <td>-0.367429</td>\n      <td>-0.461356</td>\n      <td>0.418947</td>\n      <td>-1.270371</td>\n      <td>-2.854109</td>\n      <td>...</td>\n      <td>-0.22669</td>\n      <td>-0.219765</td>\n      <td>-0.123032</td>\n      <td>-0.147367</td>\n      <td>0.699156</td>\n      <td>-0.048779</td>\n      <td>-0.00657</td>\n      <td>-0.370973</td>\n      <td>-0.019712</td>\n      <td>-0.023693</td>\n    </tr>\n    <tr>\n      <th>16999</th>\n      <td>9.286783</td>\n      <td>2.832953</td>\n      <td>3.944567</td>\n      <td>4.529394</td>\n      <td>10.795710</td>\n      <td>-1.005026</td>\n      <td>-0.924543</td>\n      <td>0.615498</td>\n      <td>-1.308721</td>\n      <td>-3.194978</td>\n      <td>...</td>\n      <td>-0.22669</td>\n      <td>-0.219765</td>\n      <td>-0.123032</td>\n      <td>-0.147367</td>\n      <td>0.699156</td>\n      <td>-0.048779</td>\n      <td>-0.00657</td>\n      <td>-0.370973</td>\n      <td>-0.019712</td>\n      <td>-0.023693</td>\n    </tr>\n  </tbody>\n</table>\n<p>17000 rows × 22 columns</p>\n</div>"
     },
     "metadata": {}
    }
   ]
  },
  {
   "cell_type": "markdown",
   "source": "# Matrix representation",
   "metadata": {
    "tags": [],
    "cell_id": "00008-6998b9e9-e2ef-4933-a8e4-946893e17e24",
    "deepnote_cell_type": "markdown"
   }
  },
  {
   "cell_type": "code",
   "metadata": {
    "tags": [],
    "cell_id": "00008-78c90760-9ddf-4148-932b-b2c87b5b1474",
    "deepnote_to_be_reexecuted": false,
    "source_hash": "fd51a2da",
    "execution_start": 1634402568144,
    "execution_millis": 3,
    "deepnote_cell_type": "code"
   },
   "source": "TARGET = 'CO2_working_capacity [mL/g]'\nFEATURES = list(pretesting_set.columns)\nFEATURES, TARGET",
   "execution_count": null,
   "outputs": [
    {
     "output_type": "execute_result",
     "execution_count": 6,
     "data": {
      "text/plain": "(['volume [A^3]',\n  'weight [u]',\n  'surface_area [m^2/g]',\n  'void_fraction',\n  'void_volume [cm^3/g]',\n  'metal_linker',\n  'organic_linker1',\n  'organic_linker2',\n  'CO2/N2_selectivity',\n  'heat_adsorption_CO2_P0.15bar_T298K [kcal/mol]',\n  'density [g/cm^3]',\n  'acs',\n  'bcu',\n  'etb',\n  'fof',\n  'nbo',\n  'pcu',\n  'pts',\n  'rht',\n  'sra',\n  'tbo',\n  'the'],\n 'CO2_working_capacity [mL/g]')"
     },
     "metadata": {}
    }
   ]
  },
  {
   "cell_type": "code",
   "metadata": {
    "tags": [],
    "cell_id": "00010-34ff8e06-800a-4577-a6b3-1a6aead82402",
    "deepnote_to_be_reexecuted": false,
    "source_hash": "bd25dfc3",
    "execution_start": 1634402568196,
    "execution_millis": 8,
    "deepnote_cell_type": "code"
   },
   "source": "T = pretesting_set[FEATURES].values\nT.shape",
   "execution_count": null,
   "outputs": [
    {
     "output_type": "execute_result",
     "execution_count": 7,
     "data": {
      "text/plain": "(17000, 22)"
     },
     "metadata": {}
    }
   ]
  },
  {
   "cell_type": "markdown",
   "source": "# Inference",
   "metadata": {
    "tags": [],
    "cell_id": "00011-b35f0ccb-5b41-46cc-8910-eec2f41625e2",
    "deepnote_cell_type": "markdown"
   }
  },
  {
   "cell_type": "code",
   "metadata": {
    "tags": [],
    "cell_id": "00011-48415ebb-6191-4466-adb6-9c9c24ffbdee",
    "deepnote_to_be_reexecuted": false,
    "source_hash": "c8b37536",
    "execution_start": 1634402655153,
    "execution_millis": 17,
    "deepnote_cell_type": "code"
   },
   "source": "y_pred = reg.predict(T)\ny_pred.shape, y_pred",
   "execution_count": null,
   "outputs": [
    {
     "output_type": "error",
     "ename": "NotFittedError",
     "evalue": "This GridSearchCV instance is not fitted yet. Call 'fit' with appropriate arguments before using this estimator.",
     "traceback": [
      "\u001b[0;31m---------------------------------------------------------------------------\u001b[0m",
      "\u001b[0;31mNotFittedError\u001b[0m                            Traceback (most recent call last)",
      "\u001b[0;32m<ipython-input-11-fb72e62b716d>\u001b[0m in \u001b[0;36m<module>\u001b[0;34m\u001b[0m\n\u001b[0;32m----> 1\u001b[0;31m \u001b[0my_pred\u001b[0m \u001b[0;34m=\u001b[0m \u001b[0mreg\u001b[0m\u001b[0;34m.\u001b[0m\u001b[0mpredict\u001b[0m\u001b[0;34m(\u001b[0m\u001b[0mT\u001b[0m\u001b[0;34m)\u001b[0m\u001b[0;34m\u001b[0m\u001b[0;34m\u001b[0m\u001b[0m\n\u001b[0m\u001b[1;32m      2\u001b[0m \u001b[0my_pred\u001b[0m\u001b[0;34m.\u001b[0m\u001b[0mshape\u001b[0m\u001b[0;34m,\u001b[0m \u001b[0my_pred\u001b[0m\u001b[0;34m\u001b[0m\u001b[0;34m\u001b[0m\u001b[0m\n",
      "\u001b[0;32m/shared-libs/python3.7/py/lib/python3.7/site-packages/sklearn/utils/metaestimators.py\u001b[0m in \u001b[0;36m<lambda>\u001b[0;34m(*args, **kwargs)\u001b[0m\n\u001b[1;32m    111\u001b[0m \u001b[0;34m\u001b[0m\u001b[0m\n\u001b[1;32m    112\u001b[0m             \u001b[0;31m# lambda, but not partial, allows help() to work with update_wrapper\u001b[0m\u001b[0;34m\u001b[0m\u001b[0;34m\u001b[0m\u001b[0;34m\u001b[0m\u001b[0m\n\u001b[0;32m--> 113\u001b[0;31m             \u001b[0mout\u001b[0m \u001b[0;34m=\u001b[0m \u001b[0;32mlambda\u001b[0m \u001b[0;34m*\u001b[0m\u001b[0margs\u001b[0m\u001b[0;34m,\u001b[0m \u001b[0;34m**\u001b[0m\u001b[0mkwargs\u001b[0m\u001b[0;34m:\u001b[0m \u001b[0mself\u001b[0m\u001b[0;34m.\u001b[0m\u001b[0mfn\u001b[0m\u001b[0;34m(\u001b[0m\u001b[0mobj\u001b[0m\u001b[0;34m,\u001b[0m \u001b[0;34m*\u001b[0m\u001b[0margs\u001b[0m\u001b[0;34m,\u001b[0m \u001b[0;34m**\u001b[0m\u001b[0mkwargs\u001b[0m\u001b[0;34m)\u001b[0m  \u001b[0;31m# noqa\u001b[0m\u001b[0;34m\u001b[0m\u001b[0;34m\u001b[0m\u001b[0m\n\u001b[0m\u001b[1;32m    114\u001b[0m         \u001b[0;32melse\u001b[0m\u001b[0;34m:\u001b[0m\u001b[0;34m\u001b[0m\u001b[0;34m\u001b[0m\u001b[0m\n\u001b[1;32m    115\u001b[0m \u001b[0;34m\u001b[0m\u001b[0m\n",
      "\u001b[0;32m/shared-libs/python3.7/py/lib/python3.7/site-packages/sklearn/model_selection/_search.py\u001b[0m in \u001b[0;36mpredict\u001b[0;34m(self, X)\u001b[0m\n\u001b[1;32m    518\u001b[0m             \u001b[0mthe\u001b[0m \u001b[0mbest\u001b[0m \u001b[0mfound\u001b[0m \u001b[0mparameters\u001b[0m\u001b[0;34m.\u001b[0m\u001b[0;34m\u001b[0m\u001b[0;34m\u001b[0m\u001b[0m\n\u001b[1;32m    519\u001b[0m         \"\"\"\n\u001b[0;32m--> 520\u001b[0;31m         \u001b[0mcheck_is_fitted\u001b[0m\u001b[0;34m(\u001b[0m\u001b[0mself\u001b[0m\u001b[0;34m)\u001b[0m\u001b[0;34m\u001b[0m\u001b[0;34m\u001b[0m\u001b[0m\n\u001b[0m\u001b[1;32m    521\u001b[0m         \u001b[0;32mreturn\u001b[0m \u001b[0mself\u001b[0m\u001b[0;34m.\u001b[0m\u001b[0mbest_estimator_\u001b[0m\u001b[0;34m.\u001b[0m\u001b[0mpredict\u001b[0m\u001b[0;34m(\u001b[0m\u001b[0mX\u001b[0m\u001b[0;34m)\u001b[0m\u001b[0;34m\u001b[0m\u001b[0;34m\u001b[0m\u001b[0m\n\u001b[1;32m    522\u001b[0m \u001b[0;34m\u001b[0m\u001b[0m\n",
      "\u001b[0;32m/shared-libs/python3.7/py/lib/python3.7/site-packages/sklearn/utils/validation.py\u001b[0m in \u001b[0;36mcheck_is_fitted\u001b[0;34m(estimator, attributes, msg, all_or_any)\u001b[0m\n\u001b[1;32m   1206\u001b[0m \u001b[0;34m\u001b[0m\u001b[0m\n\u001b[1;32m   1207\u001b[0m     \u001b[0;32mif\u001b[0m \u001b[0;32mnot\u001b[0m \u001b[0mfitted\u001b[0m\u001b[0;34m:\u001b[0m\u001b[0;34m\u001b[0m\u001b[0;34m\u001b[0m\u001b[0m\n\u001b[0;32m-> 1208\u001b[0;31m         \u001b[0;32mraise\u001b[0m \u001b[0mNotFittedError\u001b[0m\u001b[0;34m(\u001b[0m\u001b[0mmsg\u001b[0m \u001b[0;34m%\u001b[0m \u001b[0;34m{\u001b[0m\u001b[0;34m\"name\"\u001b[0m\u001b[0;34m:\u001b[0m \u001b[0mtype\u001b[0m\u001b[0;34m(\u001b[0m\u001b[0mestimator\u001b[0m\u001b[0;34m)\u001b[0m\u001b[0;34m.\u001b[0m\u001b[0m__name__\u001b[0m\u001b[0;34m}\u001b[0m\u001b[0;34m)\u001b[0m\u001b[0;34m\u001b[0m\u001b[0;34m\u001b[0m\u001b[0m\n\u001b[0m\u001b[1;32m   1209\u001b[0m \u001b[0;34m\u001b[0m\u001b[0m\n\u001b[1;32m   1210\u001b[0m \u001b[0;34m\u001b[0m\u001b[0m\n",
      "\u001b[0;31mNotFittedError\u001b[0m: This GridSearchCV instance is not fitted yet. Call 'fit' with appropriate arguments before using this estimator."
     ]
    }
   ]
  },
  {
   "cell_type": "markdown",
   "source": "# Make submission zip file",
   "metadata": {
    "tags": [],
    "cell_id": "00013-f4b74aaa-ab7f-45c7-b142-0bdac8c55fad",
    "deepnote_cell_type": "markdown"
   }
  },
  {
   "cell_type": "code",
   "metadata": {
    "tags": [],
    "cell_id": "00014-524dcb78-68a9-4da1-b982-1f3ed2459218",
    "deepnote_to_be_reexecuted": true,
    "source_hash": "5639cc8e",
    "execution_start": 1632496751258,
    "execution_millis": 45,
    "deepnote_cell_type": "code"
   },
   "source": "pretesting_set['id'] =[ \"pretest_\"+str(i+1) for i in range(y_pred.shape[0])]\npretesting_set[TARGET] = y_pred\npretesting_set[[\"id\", TARGET]]",
   "execution_count": null,
   "outputs": [
    {
     "output_type": "execute_result",
     "execution_count": 9,
     "data": {
      "application/vnd.deepnote.dataframe.v2+json": {
       "row_count": 2000,
       "column_count": 2,
       "columns": [
        {
         "name": "id",
         "dtype": "object",
         "stats": {
          "unique_count": 2000,
          "nan_count": 0,
          "categories": [
           {
            "name": "pretest_1",
            "count": 1
           },
           {
            "name": "pretest_2",
            "count": 1
           },
           {
            "name": "1998 others",
            "count": 1998
           }
          ]
         }
        },
        {
         "name": "CO2_working_capacity [mL/g]",
         "dtype": "float64",
         "stats": {
          "unique_count": 1955,
          "nan_count": 0,
          "min": "-8.568135621494054",
          "max": "524.4881105980458",
          "histogram": [
           {
            "bin_start": -8.568135621494054,
            "bin_end": 44.73748900045993,
            "count": 502
           },
           {
            "bin_start": 44.73748900045993,
            "bin_end": 98.04311362241391,
            "count": 625
           },
           {
            "bin_start": 98.04311362241391,
            "bin_end": 151.34873824436787,
            "count": 387
           },
           {
            "bin_start": 151.34873824436787,
            "bin_end": 204.65436286632186,
            "count": 219
           },
           {
            "bin_start": 204.65436286632186,
            "bin_end": 257.9599874882759,
            "count": 145
           },
           {
            "bin_start": 257.9599874882759,
            "bin_end": 311.2656121102298,
            "count": 62
           },
           {
            "bin_start": 311.2656121102298,
            "bin_end": 364.5712367321838,
            "count": 31
           },
           {
            "bin_start": 364.5712367321838,
            "bin_end": 417.8768613541378,
            "count": 13
           },
           {
            "bin_start": 417.8768613541378,
            "bin_end": 471.1824859760918,
            "count": 9
           },
           {
            "bin_start": 471.1824859760918,
            "bin_end": 524.4881105980458,
            "count": 7
           }
          ]
         }
        },
        {
         "name": "_deepnote_index_column",
         "dtype": "int64"
        }
       ],
       "rows_top": [
        {
         "id": "pretest_1",
         "CO2_working_capacity [mL/g]": 82.67324209847386,
         "_deepnote_index_column": 0
        },
        {
         "id": "pretest_2",
         "CO2_working_capacity [mL/g]": 139.46905525402704,
         "_deepnote_index_column": 1
        },
        {
         "id": "pretest_3",
         "CO2_working_capacity [mL/g]": 192.3831093739548,
         "_deepnote_index_column": 2
        },
        {
         "id": "pretest_4",
         "CO2_working_capacity [mL/g]": 61.43607968349261,
         "_deepnote_index_column": 3
        },
        {
         "id": "pretest_5",
         "CO2_working_capacity [mL/g]": 83.32862765536635,
         "_deepnote_index_column": 4
        },
        {
         "id": "pretest_6",
         "CO2_working_capacity [mL/g]": 375.9684062694055,
         "_deepnote_index_column": 5
        },
        {
         "id": "pretest_7",
         "CO2_working_capacity [mL/g]": 117.20297889367714,
         "_deepnote_index_column": 6
        },
        {
         "id": "pretest_8",
         "CO2_working_capacity [mL/g]": 81.17880339614146,
         "_deepnote_index_column": 7
        },
        {
         "id": "pretest_9",
         "CO2_working_capacity [mL/g]": 64.16450825896992,
         "_deepnote_index_column": 8
        },
        {
         "id": "pretest_10",
         "CO2_working_capacity [mL/g]": 512.7294210124772,
         "_deepnote_index_column": 9
        },
        {
         "id": "pretest_11",
         "CO2_working_capacity [mL/g]": 209.3324129757688,
         "_deepnote_index_column": 10
        },
        {
         "id": "pretest_12",
         "CO2_working_capacity [mL/g]": 188.8962053267502,
         "_deepnote_index_column": 11
        },
        {
         "id": "pretest_13",
         "CO2_working_capacity [mL/g]": 88.20529621318771,
         "_deepnote_index_column": 12
        },
        {
         "id": "pretest_14",
         "CO2_working_capacity [mL/g]": 238.18719073182274,
         "_deepnote_index_column": 13
        },
        {
         "id": "pretest_15",
         "CO2_working_capacity [mL/g]": 235.09568721746987,
         "_deepnote_index_column": 14
        },
        {
         "id": "pretest_16",
         "CO2_working_capacity [mL/g]": 73.84517956548503,
         "_deepnote_index_column": 15
        },
        {
         "id": "pretest_17",
         "CO2_working_capacity [mL/g]": 58.888672506511675,
         "_deepnote_index_column": 16
        },
        {
         "id": "pretest_18",
         "CO2_working_capacity [mL/g]": 64.91743076740443,
         "_deepnote_index_column": 17
        },
        {
         "id": "pretest_19",
         "CO2_working_capacity [mL/g]": 67.20866238809678,
         "_deepnote_index_column": 18
        },
        {
         "id": "pretest_20",
         "CO2_working_capacity [mL/g]": 160.94904622888473,
         "_deepnote_index_column": 19
        },
        {
         "id": "pretest_21",
         "CO2_working_capacity [mL/g]": 53.163443402001356,
         "_deepnote_index_column": 20
        },
        {
         "id": "pretest_22",
         "CO2_working_capacity [mL/g]": 202.00551665702577,
         "_deepnote_index_column": 21
        },
        {
         "id": "pretest_23",
         "CO2_working_capacity [mL/g]": 151.77934806298992,
         "_deepnote_index_column": 22
        },
        {
         "id": "pretest_24",
         "CO2_working_capacity [mL/g]": 128.7609013949528,
         "_deepnote_index_column": 23
        },
        {
         "id": "pretest_25",
         "CO2_working_capacity [mL/g]": 156.35334737641352,
         "_deepnote_index_column": 24
        },
        {
         "id": "pretest_26",
         "CO2_working_capacity [mL/g]": 212.98663495307736,
         "_deepnote_index_column": 25
        },
        {
         "id": "pretest_27",
         "CO2_working_capacity [mL/g]": 77.64990928210065,
         "_deepnote_index_column": 26
        },
        {
         "id": "pretest_28",
         "CO2_working_capacity [mL/g]": 102.20138782839487,
         "_deepnote_index_column": 27
        },
        {
         "id": "pretest_29",
         "CO2_working_capacity [mL/g]": 64.29044442172922,
         "_deepnote_index_column": 28
        },
        {
         "id": "pretest_30",
         "CO2_working_capacity [mL/g]": 148.98828153914005,
         "_deepnote_index_column": 29
        },
        {
         "id": "pretest_31",
         "CO2_working_capacity [mL/g]": 171.25395168614608,
         "_deepnote_index_column": 30
        },
        {
         "id": "pretest_32",
         "CO2_working_capacity [mL/g]": 68.0966517261971,
         "_deepnote_index_column": 31
        },
        {
         "id": "pretest_33",
         "CO2_working_capacity [mL/g]": 118.99969370636097,
         "_deepnote_index_column": 32
        },
        {
         "id": "pretest_34",
         "CO2_working_capacity [mL/g]": 59.72631805088759,
         "_deepnote_index_column": 33
        },
        {
         "id": "pretest_35",
         "CO2_working_capacity [mL/g]": 118.86722348260471,
         "_deepnote_index_column": 34
        },
        {
         "id": "pretest_36",
         "CO2_working_capacity [mL/g]": 83.53244106127367,
         "_deepnote_index_column": 35
        },
        {
         "id": "pretest_37",
         "CO2_working_capacity [mL/g]": 87.55518852988,
         "_deepnote_index_column": 36
        },
        {
         "id": "pretest_38",
         "CO2_working_capacity [mL/g]": 68.85282068647875,
         "_deepnote_index_column": 37
        },
        {
         "id": "pretest_39",
         "CO2_working_capacity [mL/g]": 107.54025912508165,
         "_deepnote_index_column": 38
        },
        {
         "id": "pretest_40",
         "CO2_working_capacity [mL/g]": 139.26839337134612,
         "_deepnote_index_column": 39
        },
        {
         "id": "pretest_41",
         "CO2_working_capacity [mL/g]": 102.37336526003996,
         "_deepnote_index_column": 40
        },
        {
         "id": "pretest_42",
         "CO2_working_capacity [mL/g]": 258.49226926515564,
         "_deepnote_index_column": 41
        },
        {
         "id": "pretest_43",
         "CO2_working_capacity [mL/g]": 78.60281927221283,
         "_deepnote_index_column": 42
        },
        {
         "id": "pretest_44",
         "CO2_working_capacity [mL/g]": 212.92233219989612,
         "_deepnote_index_column": 43
        },
        {
         "id": "pretest_45",
         "CO2_working_capacity [mL/g]": 167.51133439533245,
         "_deepnote_index_column": 44
        },
        {
         "id": "pretest_46",
         "CO2_working_capacity [mL/g]": 152.61993706564795,
         "_deepnote_index_column": 45
        },
        {
         "id": "pretest_47",
         "CO2_working_capacity [mL/g]": 84.16766366093997,
         "_deepnote_index_column": 46
        },
        {
         "id": "pretest_48",
         "CO2_working_capacity [mL/g]": 159.2788649947807,
         "_deepnote_index_column": 47
        },
        {
         "id": "pretest_49",
         "CO2_working_capacity [mL/g]": 171.7548093672679,
         "_deepnote_index_column": 48
        },
        {
         "id": "pretest_50",
         "CO2_working_capacity [mL/g]": 48.99905894881545,
         "_deepnote_index_column": 49
        },
        {
         "id": "pretest_51",
         "CO2_working_capacity [mL/g]": 121.94510054377837,
         "_deepnote_index_column": 50
        },
        {
         "id": "pretest_52",
         "CO2_working_capacity [mL/g]": 72.8186082533266,
         "_deepnote_index_column": 51
        },
        {
         "id": "pretest_53",
         "CO2_working_capacity [mL/g]": 67.27653168321318,
         "_deepnote_index_column": 52
        },
        {
         "id": "pretest_54",
         "CO2_working_capacity [mL/g]": 173.5350121104513,
         "_deepnote_index_column": 53
        },
        {
         "id": "pretest_55",
         "CO2_working_capacity [mL/g]": 114.57092874146323,
         "_deepnote_index_column": 54
        },
        {
         "id": "pretest_56",
         "CO2_working_capacity [mL/g]": 65.22541629621601,
         "_deepnote_index_column": 55
        },
        {
         "id": "pretest_57",
         "CO2_working_capacity [mL/g]": 67.14032494301813,
         "_deepnote_index_column": 56
        },
        {
         "id": "pretest_58",
         "CO2_working_capacity [mL/g]": 102.55392984670021,
         "_deepnote_index_column": 57
        },
        {
         "id": "pretest_59",
         "CO2_working_capacity [mL/g]": 184.63291132550702,
         "_deepnote_index_column": 58
        },
        {
         "id": "pretest_60",
         "CO2_working_capacity [mL/g]": 91.36717609912715,
         "_deepnote_index_column": 59
        },
        {
         "id": "pretest_61",
         "CO2_working_capacity [mL/g]": 270.2661550924856,
         "_deepnote_index_column": 60
        },
        {
         "id": "pretest_62",
         "CO2_working_capacity [mL/g]": 94.98805034501544,
         "_deepnote_index_column": 61
        },
        {
         "id": "pretest_63",
         "CO2_working_capacity [mL/g]": 84.5846637274383,
         "_deepnote_index_column": 62
        },
        {
         "id": "pretest_64",
         "CO2_working_capacity [mL/g]": 174.42150889924935,
         "_deepnote_index_column": 63
        },
        {
         "id": "pretest_65",
         "CO2_working_capacity [mL/g]": 85.95828065857536,
         "_deepnote_index_column": 64
        },
        {
         "id": "pretest_66",
         "CO2_working_capacity [mL/g]": 157.00512666547598,
         "_deepnote_index_column": 65
        },
        {
         "id": "pretest_67",
         "CO2_working_capacity [mL/g]": 125.80782996362846,
         "_deepnote_index_column": 66
        },
        {
         "id": "pretest_68",
         "CO2_working_capacity [mL/g]": 130.7127218736647,
         "_deepnote_index_column": 67
        },
        {
         "id": "pretest_69",
         "CO2_working_capacity [mL/g]": 215.7362445308233,
         "_deepnote_index_column": 68
        },
        {
         "id": "pretest_70",
         "CO2_working_capacity [mL/g]": 65.07310160968426,
         "_deepnote_index_column": 69
        },
        {
         "id": "pretest_71",
         "CO2_working_capacity [mL/g]": 304.69439279672724,
         "_deepnote_index_column": 70
        },
        {
         "id": "pretest_72",
         "CO2_working_capacity [mL/g]": 186.41629541560556,
         "_deepnote_index_column": 71
        },
        {
         "id": "pretest_73",
         "CO2_working_capacity [mL/g]": 65.19755725516619,
         "_deepnote_index_column": 72
        },
        {
         "id": "pretest_74",
         "CO2_working_capacity [mL/g]": 194.71183854221096,
         "_deepnote_index_column": 73
        },
        {
         "id": "pretest_75",
         "CO2_working_capacity [mL/g]": 244.13944704744992,
         "_deepnote_index_column": 74
        },
        {
         "id": "pretest_76",
         "CO2_working_capacity [mL/g]": 159.83127545806056,
         "_deepnote_index_column": 75
        },
        {
         "id": "pretest_77",
         "CO2_working_capacity [mL/g]": 206.64316279446965,
         "_deepnote_index_column": 76
        },
        {
         "id": "pretest_78",
         "CO2_working_capacity [mL/g]": 126.4106461702805,
         "_deepnote_index_column": 77
        },
        {
         "id": "pretest_79",
         "CO2_working_capacity [mL/g]": 84.42771965006806,
         "_deepnote_index_column": 78
        },
        {
         "id": "pretest_80",
         "CO2_working_capacity [mL/g]": 112.72874421605407,
         "_deepnote_index_column": 79
        },
        {
         "id": "pretest_81",
         "CO2_working_capacity [mL/g]": 100.16619896464428,
         "_deepnote_index_column": 80
        },
        {
         "id": "pretest_82",
         "CO2_working_capacity [mL/g]": 162.64570255974797,
         "_deepnote_index_column": 81
        },
        {
         "id": "pretest_83",
         "CO2_working_capacity [mL/g]": 88.11355314853319,
         "_deepnote_index_column": 82
        },
        {
         "id": "pretest_84",
         "CO2_working_capacity [mL/g]": 256.7543987890579,
         "_deepnote_index_column": 83
        },
        {
         "id": "pretest_85",
         "CO2_working_capacity [mL/g]": 96.5270022178098,
         "_deepnote_index_column": 84
        },
        {
         "id": "pretest_86",
         "CO2_working_capacity [mL/g]": 64.79752612339027,
         "_deepnote_index_column": 85
        },
        {
         "id": "pretest_87",
         "CO2_working_capacity [mL/g]": 109.117052623871,
         "_deepnote_index_column": 86
        },
        {
         "id": "pretest_88",
         "CO2_working_capacity [mL/g]": 148.74462082679642,
         "_deepnote_index_column": 87
        },
        {
         "id": "pretest_89",
         "CO2_working_capacity [mL/g]": 91.41537819350074,
         "_deepnote_index_column": 88
        },
        {
         "id": "pretest_90",
         "CO2_working_capacity [mL/g]": 192.30698960415768,
         "_deepnote_index_column": 89
        },
        {
         "id": "pretest_91",
         "CO2_working_capacity [mL/g]": 99.49856958060865,
         "_deepnote_index_column": 90
        },
        {
         "id": "pretest_92",
         "CO2_working_capacity [mL/g]": 222.48055257565596,
         "_deepnote_index_column": 91
        },
        {
         "id": "pretest_93",
         "CO2_working_capacity [mL/g]": 141.6802523602255,
         "_deepnote_index_column": 92
        },
        {
         "id": "pretest_94",
         "CO2_working_capacity [mL/g]": 182.11787882491018,
         "_deepnote_index_column": 93
        },
        {
         "id": "pretest_95",
         "CO2_working_capacity [mL/g]": 80.90365814264912,
         "_deepnote_index_column": 94
        },
        {
         "id": "pretest_96",
         "CO2_working_capacity [mL/g]": 189.69727263888487,
         "_deepnote_index_column": 95
        },
        {
         "id": "pretest_97",
         "CO2_working_capacity [mL/g]": 49.7750499377998,
         "_deepnote_index_column": 96
        },
        {
         "id": "pretest_98",
         "CO2_working_capacity [mL/g]": 84.40376266594278,
         "_deepnote_index_column": 97
        },
        {
         "id": "pretest_99",
         "CO2_working_capacity [mL/g]": 165.7648317129582,
         "_deepnote_index_column": 98
        },
        {
         "id": "pretest_100",
         "CO2_working_capacity [mL/g]": 66.67181957888735,
         "_deepnote_index_column": 99
        },
        {
         "id": "pretest_101",
         "CO2_working_capacity [mL/g]": 81.52251765517597,
         "_deepnote_index_column": 100
        },
        {
         "id": "pretest_102",
         "CO2_working_capacity [mL/g]": 102.89560646833968,
         "_deepnote_index_column": 101
        },
        {
         "id": "pretest_103",
         "CO2_working_capacity [mL/g]": 104.02375045728236,
         "_deepnote_index_column": 102
        },
        {
         "id": "pretest_104",
         "CO2_working_capacity [mL/g]": 195.14558436989012,
         "_deepnote_index_column": 103
        },
        {
         "id": "pretest_105",
         "CO2_working_capacity [mL/g]": 74.08507049933002,
         "_deepnote_index_column": 104
        },
        {
         "id": "pretest_106",
         "CO2_working_capacity [mL/g]": 103.12909810909474,
         "_deepnote_index_column": 105
        },
        {
         "id": "pretest_107",
         "CO2_working_capacity [mL/g]": 105.76571052154205,
         "_deepnote_index_column": 106
        },
        {
         "id": "pretest_108",
         "CO2_working_capacity [mL/g]": 218.58412969445584,
         "_deepnote_index_column": 107
        },
        {
         "id": "pretest_109",
         "CO2_working_capacity [mL/g]": 79.36473175058404,
         "_deepnote_index_column": 108
        },
        {
         "id": "pretest_110",
         "CO2_working_capacity [mL/g]": 82.26557013297862,
         "_deepnote_index_column": 109
        },
        {
         "id": "pretest_111",
         "CO2_working_capacity [mL/g]": 79.86021727987193,
         "_deepnote_index_column": 110
        },
        {
         "id": "pretest_112",
         "CO2_working_capacity [mL/g]": 189.3435178516018,
         "_deepnote_index_column": 111
        },
        {
         "id": "pretest_113",
         "CO2_working_capacity [mL/g]": 258.1253351603217,
         "_deepnote_index_column": 112
        },
        {
         "id": "pretest_114",
         "CO2_working_capacity [mL/g]": 84.45840879752666,
         "_deepnote_index_column": 113
        },
        {
         "id": "pretest_115",
         "CO2_working_capacity [mL/g]": 97.74067810984518,
         "_deepnote_index_column": 114
        },
        {
         "id": "pretest_116",
         "CO2_working_capacity [mL/g]": 67.5052203001915,
         "_deepnote_index_column": 115
        },
        {
         "id": "pretest_117",
         "CO2_working_capacity [mL/g]": 134.0225499057985,
         "_deepnote_index_column": 116
        },
        {
         "id": "pretest_118",
         "CO2_working_capacity [mL/g]": 104.11721036227523,
         "_deepnote_index_column": 117
        },
        {
         "id": "pretest_119",
         "CO2_working_capacity [mL/g]": 235.69217751834566,
         "_deepnote_index_column": 118
        },
        {
         "id": "pretest_120",
         "CO2_working_capacity [mL/g]": 109.17747281874087,
         "_deepnote_index_column": 119
        },
        {
         "id": "pretest_121",
         "CO2_working_capacity [mL/g]": 77.6416698924721,
         "_deepnote_index_column": 120
        },
        {
         "id": "pretest_122",
         "CO2_working_capacity [mL/g]": 104.31989314546406,
         "_deepnote_index_column": 121
        },
        {
         "id": "pretest_123",
         "CO2_working_capacity [mL/g]": 144.54161864542783,
         "_deepnote_index_column": 122
        },
        {
         "id": "pretest_124",
         "CO2_working_capacity [mL/g]": 112.93842724958225,
         "_deepnote_index_column": 123
        },
        {
         "id": "pretest_125",
         "CO2_working_capacity [mL/g]": 177.76586288243058,
         "_deepnote_index_column": 124
        },
        {
         "id": "pretest_126",
         "CO2_working_capacity [mL/g]": 43.006730662630076,
         "_deepnote_index_column": 125
        },
        {
         "id": "pretest_127",
         "CO2_working_capacity [mL/g]": 130.5697002537375,
         "_deepnote_index_column": 126
        },
        {
         "id": "pretest_128",
         "CO2_working_capacity [mL/g]": 165.84582176496897,
         "_deepnote_index_column": 127
        },
        {
         "id": "pretest_129",
         "CO2_working_capacity [mL/g]": 71.95827324787882,
         "_deepnote_index_column": 128
        },
        {
         "id": "pretest_130",
         "CO2_working_capacity [mL/g]": 147.70366870747608,
         "_deepnote_index_column": 129
        },
        {
         "id": "pretest_131",
         "CO2_working_capacity [mL/g]": 197.47614690857324,
         "_deepnote_index_column": 130
        },
        {
         "id": "pretest_132",
         "CO2_working_capacity [mL/g]": 69.9984257462683,
         "_deepnote_index_column": 131
        },
        {
         "id": "pretest_133",
         "CO2_working_capacity [mL/g]": 268.9243576657992,
         "_deepnote_index_column": 132
        },
        {
         "id": "pretest_134",
         "CO2_working_capacity [mL/g]": 81.18892229294968,
         "_deepnote_index_column": 133
        },
        {
         "id": "pretest_135",
         "CO2_working_capacity [mL/g]": 231.6084043756325,
         "_deepnote_index_column": 134
        },
        {
         "id": "pretest_136",
         "CO2_working_capacity [mL/g]": 228.3603374719454,
         "_deepnote_index_column": 135
        },
        {
         "id": "pretest_137",
         "CO2_working_capacity [mL/g]": 207.48918899117655,
         "_deepnote_index_column": 136
        },
        {
         "id": "pretest_138",
         "CO2_working_capacity [mL/g]": 131.6422729811893,
         "_deepnote_index_column": 137
        },
        {
         "id": "pretest_139",
         "CO2_working_capacity [mL/g]": 87.73743906226203,
         "_deepnote_index_column": 138
        },
        {
         "id": "pretest_140",
         "CO2_working_capacity [mL/g]": 67.18013476472197,
         "_deepnote_index_column": 139
        },
        {
         "id": "pretest_141",
         "CO2_working_capacity [mL/g]": 107.12434078265998,
         "_deepnote_index_column": 140
        },
        {
         "id": "pretest_142",
         "CO2_working_capacity [mL/g]": 67.61617316864947,
         "_deepnote_index_column": 141
        },
        {
         "id": "pretest_143",
         "CO2_working_capacity [mL/g]": 81.54164609197736,
         "_deepnote_index_column": 142
        },
        {
         "id": "pretest_144",
         "CO2_working_capacity [mL/g]": 74.15449268024409,
         "_deepnote_index_column": 143
        },
        {
         "id": "pretest_145",
         "CO2_working_capacity [mL/g]": 61.62133523520013,
         "_deepnote_index_column": 144
        },
        {
         "id": "pretest_146",
         "CO2_working_capacity [mL/g]": 90.17078523639711,
         "_deepnote_index_column": 145
        },
        {
         "id": "pretest_147",
         "CO2_working_capacity [mL/g]": 90.99237955567123,
         "_deepnote_index_column": 146
        },
        {
         "id": "pretest_148",
         "CO2_working_capacity [mL/g]": 197.719061710293,
         "_deepnote_index_column": 147
        },
        {
         "id": "pretest_149",
         "CO2_working_capacity [mL/g]": 134.6711605547251,
         "_deepnote_index_column": 148
        },
        {
         "id": "pretest_150",
         "CO2_working_capacity [mL/g]": 129.41025653009217,
         "_deepnote_index_column": 149
        },
        {
         "id": "pretest_151",
         "CO2_working_capacity [mL/g]": 76.08440824059701,
         "_deepnote_index_column": 150
        },
        {
         "id": "pretest_152",
         "CO2_working_capacity [mL/g]": 163.2622065509866,
         "_deepnote_index_column": 151
        },
        {
         "id": "pretest_153",
         "CO2_working_capacity [mL/g]": 95.417171179434,
         "_deepnote_index_column": 152
        },
        {
         "id": "pretest_154",
         "CO2_working_capacity [mL/g]": 79.28878421634292,
         "_deepnote_index_column": 153
        },
        {
         "id": "pretest_155",
         "CO2_working_capacity [mL/g]": 476.4992340379959,
         "_deepnote_index_column": 154
        },
        {
         "id": "pretest_156",
         "CO2_working_capacity [mL/g]": 239.60336843700034,
         "_deepnote_index_column": 155
        },
        {
         "id": "pretest_157",
         "CO2_working_capacity [mL/g]": 70.48777502395959,
         "_deepnote_index_column": 156
        },
        {
         "id": "pretest_158",
         "CO2_working_capacity [mL/g]": 226.6220109190341,
         "_deepnote_index_column": 157
        },
        {
         "id": "pretest_159",
         "CO2_working_capacity [mL/g]": 112.66395196741841,
         "_deepnote_index_column": 158
        },
        {
         "id": "pretest_160",
         "CO2_working_capacity [mL/g]": 180.42328676762452,
         "_deepnote_index_column": 159
        },
        {
         "id": "pretest_161",
         "CO2_working_capacity [mL/g]": 174.05074321557404,
         "_deepnote_index_column": 160
        },
        {
         "id": "pretest_162",
         "CO2_working_capacity [mL/g]": 121.28116287501254,
         "_deepnote_index_column": 161
        },
        {
         "id": "pretest_163",
         "CO2_working_capacity [mL/g]": 140.19288332395394,
         "_deepnote_index_column": 162
        },
        {
         "id": "pretest_164",
         "CO2_working_capacity [mL/g]": 104.35530904515518,
         "_deepnote_index_column": 163
        },
        {
         "id": "pretest_165",
         "CO2_working_capacity [mL/g]": 123.16280953412833,
         "_deepnote_index_column": 164
        },
        {
         "id": "pretest_166",
         "CO2_working_capacity [mL/g]": 251.49358922455755,
         "_deepnote_index_column": 165
        },
        {
         "id": "pretest_167",
         "CO2_working_capacity [mL/g]": 280.05474723073104,
         "_deepnote_index_column": 166
        },
        {
         "id": "pretest_168",
         "CO2_working_capacity [mL/g]": 238.91971873113323,
         "_deepnote_index_column": 167
        },
        {
         "id": "pretest_169",
         "CO2_working_capacity [mL/g]": 82.3139878838423,
         "_deepnote_index_column": 168
        },
        {
         "id": "pretest_170",
         "CO2_working_capacity [mL/g]": 275.0240889979461,
         "_deepnote_index_column": 169
        },
        {
         "id": "pretest_171",
         "CO2_working_capacity [mL/g]": 191.20312954297154,
         "_deepnote_index_column": 170
        },
        {
         "id": "pretest_172",
         "CO2_working_capacity [mL/g]": 100.97597309223138,
         "_deepnote_index_column": 171
        },
        {
         "id": "pretest_173",
         "CO2_working_capacity [mL/g]": 79.63657099083117,
         "_deepnote_index_column": 172
        },
        {
         "id": "pretest_174",
         "CO2_working_capacity [mL/g]": 126.31694633440308,
         "_deepnote_index_column": 173
        },
        {
         "id": "pretest_175",
         "CO2_working_capacity [mL/g]": 176.00501666572822,
         "_deepnote_index_column": 174
        },
        {
         "id": "pretest_176",
         "CO2_working_capacity [mL/g]": 113.23877225470993,
         "_deepnote_index_column": 175
        },
        {
         "id": "pretest_177",
         "CO2_working_capacity [mL/g]": 86.53570228806998,
         "_deepnote_index_column": 176
        },
        {
         "id": "pretest_178",
         "CO2_working_capacity [mL/g]": 47.77742515422183,
         "_deepnote_index_column": 177
        },
        {
         "id": "pretest_179",
         "CO2_working_capacity [mL/g]": 128.7032444893693,
         "_deepnote_index_column": 178
        },
        {
         "id": "pretest_180",
         "CO2_working_capacity [mL/g]": 86.49942340653745,
         "_deepnote_index_column": 179
        },
        {
         "id": "pretest_181",
         "CO2_working_capacity [mL/g]": 76.41163784383075,
         "_deepnote_index_column": 180
        },
        {
         "id": "pretest_182",
         "CO2_working_capacity [mL/g]": 61.46716087847372,
         "_deepnote_index_column": 181
        },
        {
         "id": "pretest_183",
         "CO2_working_capacity [mL/g]": 120.42700742956667,
         "_deepnote_index_column": 182
        },
        {
         "id": "pretest_184",
         "CO2_working_capacity [mL/g]": 172.76232869175033,
         "_deepnote_index_column": 183
        },
        {
         "id": "pretest_185",
         "CO2_working_capacity [mL/g]": 92.38225945603563,
         "_deepnote_index_column": 184
        },
        {
         "id": "pretest_186",
         "CO2_working_capacity [mL/g]": 81.11990382025856,
         "_deepnote_index_column": 185
        },
        {
         "id": "pretest_187",
         "CO2_working_capacity [mL/g]": 88.82786815273398,
         "_deepnote_index_column": 186
        },
        {
         "id": "pretest_188",
         "CO2_working_capacity [mL/g]": 68.52999041535125,
         "_deepnote_index_column": 187
        },
        {
         "id": "pretest_189",
         "CO2_working_capacity [mL/g]": 120.98029859345279,
         "_deepnote_index_column": 188
        },
        {
         "id": "pretest_190",
         "CO2_working_capacity [mL/g]": 110.96492718172485,
         "_deepnote_index_column": 189
        },
        {
         "id": "pretest_191",
         "CO2_working_capacity [mL/g]": 89.1330479501156,
         "_deepnote_index_column": 190
        },
        {
         "id": "pretest_192",
         "CO2_working_capacity [mL/g]": 75.42163691517369,
         "_deepnote_index_column": 191
        },
        {
         "id": "pretest_193",
         "CO2_working_capacity [mL/g]": 85.02402892568581,
         "_deepnote_index_column": 192
        },
        {
         "id": "pretest_194",
         "CO2_working_capacity [mL/g]": 141.40986624102234,
         "_deepnote_index_column": 193
        },
        {
         "id": "pretest_195",
         "CO2_working_capacity [mL/g]": 170.39212422136524,
         "_deepnote_index_column": 194
        },
        {
         "id": "pretest_196",
         "CO2_working_capacity [mL/g]": 74.52551434882051,
         "_deepnote_index_column": 195
        },
        {
         "id": "pretest_197",
         "CO2_working_capacity [mL/g]": 229.6404657140892,
         "_deepnote_index_column": 196
        },
        {
         "id": "pretest_198",
         "CO2_working_capacity [mL/g]": 35.81159220032533,
         "_deepnote_index_column": 197
        },
        {
         "id": "pretest_199",
         "CO2_working_capacity [mL/g]": 61.09354219537401,
         "_deepnote_index_column": 198
        },
        {
         "id": "pretest_200",
         "CO2_working_capacity [mL/g]": 134.7677674295485,
         "_deepnote_index_column": 199
        },
        {
         "id": "pretest_201",
         "CO2_working_capacity [mL/g]": 112.98508840712404,
         "_deepnote_index_column": 200
        },
        {
         "id": "pretest_202",
         "CO2_working_capacity [mL/g]": 133.33643473469215,
         "_deepnote_index_column": 201
        },
        {
         "id": "pretest_203",
         "CO2_working_capacity [mL/g]": 26.633869745322354,
         "_deepnote_index_column": 202
        },
        {
         "id": "pretest_204",
         "CO2_working_capacity [mL/g]": 72.30680838089393,
         "_deepnote_index_column": 203
        },
        {
         "id": "pretest_205",
         "CO2_working_capacity [mL/g]": 122.0394694349087,
         "_deepnote_index_column": 204
        },
        {
         "id": "pretest_206",
         "CO2_working_capacity [mL/g]": 99.60384998610601,
         "_deepnote_index_column": 205
        },
        {
         "id": "pretest_207",
         "CO2_working_capacity [mL/g]": 59.701830646615385,
         "_deepnote_index_column": 206
        },
        {
         "id": "pretest_208",
         "CO2_working_capacity [mL/g]": 219.1578065708685,
         "_deepnote_index_column": 207
        },
        {
         "id": "pretest_209",
         "CO2_working_capacity [mL/g]": 71.73232474413233,
         "_deepnote_index_column": 208
        },
        {
         "id": "pretest_210",
         "CO2_working_capacity [mL/g]": 173.40192693409892,
         "_deepnote_index_column": 209
        },
        {
         "id": "pretest_211",
         "CO2_working_capacity [mL/g]": 64.89972292163863,
         "_deepnote_index_column": 210
        },
        {
         "id": "pretest_212",
         "CO2_working_capacity [mL/g]": 131.22943315352904,
         "_deepnote_index_column": 211
        },
        {
         "id": "pretest_213",
         "CO2_working_capacity [mL/g]": 199.9752708020451,
         "_deepnote_index_column": 212
        },
        {
         "id": "pretest_214",
         "CO2_working_capacity [mL/g]": 143.99625451092624,
         "_deepnote_index_column": 213
        },
        {
         "id": "pretest_215",
         "CO2_working_capacity [mL/g]": 88.78667368517655,
         "_deepnote_index_column": 214
        },
        {
         "id": "pretest_216",
         "CO2_working_capacity [mL/g]": 114.88684153068121,
         "_deepnote_index_column": 215
        },
        {
         "id": "pretest_217",
         "CO2_working_capacity [mL/g]": 93.5882023569365,
         "_deepnote_index_column": 216
        },
        {
         "id": "pretest_218",
         "CO2_working_capacity [mL/g]": 101.74795699166638,
         "_deepnote_index_column": 217
        },
        {
         "id": "pretest_219",
         "CO2_working_capacity [mL/g]": 149.09340727361513,
         "_deepnote_index_column": 218
        },
        {
         "id": "pretest_220",
         "CO2_working_capacity [mL/g]": 71.17894618364213,
         "_deepnote_index_column": 219
        },
        {
         "id": "pretest_221",
         "CO2_working_capacity [mL/g]": 90.97274141649879,
         "_deepnote_index_column": 220
        },
        {
         "id": "pretest_222",
         "CO2_working_capacity [mL/g]": 216.59985167557394,
         "_deepnote_index_column": 221
        },
        {
         "id": "pretest_223",
         "CO2_working_capacity [mL/g]": 103.05620283273315,
         "_deepnote_index_column": 222
        },
        {
         "id": "pretest_224",
         "CO2_working_capacity [mL/g]": 110.94143547565821,
         "_deepnote_index_column": 223
        },
        {
         "id": "pretest_225",
         "CO2_working_capacity [mL/g]": 74.5438000179503,
         "_deepnote_index_column": 224
        },
        {
         "id": "pretest_226",
         "CO2_working_capacity [mL/g]": 133.0428683775984,
         "_deepnote_index_column": 225
        },
        {
         "id": "pretest_227",
         "CO2_working_capacity [mL/g]": 98.73313947786215,
         "_deepnote_index_column": 226
        },
        {
         "id": "pretest_228",
         "CO2_working_capacity [mL/g]": 76.35444297907915,
         "_deepnote_index_column": 227
        },
        {
         "id": "pretest_229",
         "CO2_working_capacity [mL/g]": 283.8468137572409,
         "_deepnote_index_column": 228
        },
        {
         "id": "pretest_230",
         "CO2_working_capacity [mL/g]": 160.60290980467568,
         "_deepnote_index_column": 229
        },
        {
         "id": "pretest_231",
         "CO2_working_capacity [mL/g]": 80.19404223821049,
         "_deepnote_index_column": 230
        },
        {
         "id": "pretest_232",
         "CO2_working_capacity [mL/g]": 106.94458663402776,
         "_deepnote_index_column": 231
        },
        {
         "id": "pretest_233",
         "CO2_working_capacity [mL/g]": 71.07482630137243,
         "_deepnote_index_column": 232
        },
        {
         "id": "pretest_234",
         "CO2_working_capacity [mL/g]": 75.71499400808679,
         "_deepnote_index_column": 233
        },
        {
         "id": "pretest_235",
         "CO2_working_capacity [mL/g]": 129.6071527425473,
         "_deepnote_index_column": 234
        },
        {
         "id": "pretest_236",
         "CO2_working_capacity [mL/g]": 206.88662206102808,
         "_deepnote_index_column": 235
        },
        {
         "id": "pretest_237",
         "CO2_working_capacity [mL/g]": 101.8085529417762,
         "_deepnote_index_column": 236
        },
        {
         "id": "pretest_238",
         "CO2_working_capacity [mL/g]": 74.00565036448316,
         "_deepnote_index_column": 237
        },
        {
         "id": "pretest_239",
         "CO2_working_capacity [mL/g]": 150.07992620947695,
         "_deepnote_index_column": 238
        },
        {
         "id": "pretest_240",
         "CO2_working_capacity [mL/g]": 125.7187952979131,
         "_deepnote_index_column": 239
        },
        {
         "id": "pretest_241",
         "CO2_working_capacity [mL/g]": 99.80530376771888,
         "_deepnote_index_column": 240
        },
        {
         "id": "pretest_242",
         "CO2_working_capacity [mL/g]": 194.5141482578265,
         "_deepnote_index_column": 241
        },
        {
         "id": "pretest_243",
         "CO2_working_capacity [mL/g]": 175.89896517441335,
         "_deepnote_index_column": 242
        },
        {
         "id": "pretest_244",
         "CO2_working_capacity [mL/g]": 89.71152144298867,
         "_deepnote_index_column": 243
        },
        {
         "id": "pretest_245",
         "CO2_working_capacity [mL/g]": 107.74329609897617,
         "_deepnote_index_column": 244
        },
        {
         "id": "pretest_246",
         "CO2_working_capacity [mL/g]": 62.65838397921103,
         "_deepnote_index_column": 245
        },
        {
         "id": "pretest_247",
         "CO2_working_capacity [mL/g]": 84.14349475744967,
         "_deepnote_index_column": 246
        },
        {
         "id": "pretest_248",
         "CO2_working_capacity [mL/g]": 73.24202832906899,
         "_deepnote_index_column": 247
        },
        {
         "id": "pretest_249",
         "CO2_working_capacity [mL/g]": 176.77237408682532,
         "_deepnote_index_column": 248
        },
        {
         "id": "pretest_250",
         "CO2_working_capacity [mL/g]": 123.43483353922358,
         "_deepnote_index_column": 249
        }
       ],
       "rows_bottom": [
        {
         "id": "pretest_1751",
         "CO2_working_capacity [mL/g]": 2.2212889239764726,
         "_deepnote_index_column": 1750
        },
        {
         "id": "pretest_1752",
         "CO2_working_capacity [mL/g]": -0.11605015398893047,
         "_deepnote_index_column": 1751
        },
        {
         "id": "pretest_1753",
         "CO2_working_capacity [mL/g]": 2.205891741442787,
         "_deepnote_index_column": 1752
        },
        {
         "id": "pretest_1754",
         "CO2_working_capacity [mL/g]": 1.5971157743671136,
         "_deepnote_index_column": 1753
        },
        {
         "id": "pretest_1755",
         "CO2_working_capacity [mL/g]": -6.949075362637656,
         "_deepnote_index_column": 1754
        },
        {
         "id": "pretest_1756",
         "CO2_working_capacity [mL/g]": -4.597453978346679,
         "_deepnote_index_column": 1755
        },
        {
         "id": "pretest_1757",
         "CO2_working_capacity [mL/g]": -1.9436691189154922,
         "_deepnote_index_column": 1756
        },
        {
         "id": "pretest_1758",
         "CO2_working_capacity [mL/g]": 4.047086099103421,
         "_deepnote_index_column": 1757
        },
        {
         "id": "pretest_1759",
         "CO2_working_capacity [mL/g]": 1.7280098834300663,
         "_deepnote_index_column": 1758
        },
        {
         "id": "pretest_1760",
         "CO2_working_capacity [mL/g]": 7.861221214260047,
         "_deepnote_index_column": 1759
        },
        {
         "id": "pretest_1761",
         "CO2_working_capacity [mL/g]": 50.15253884664357,
         "_deepnote_index_column": 1760
        },
        {
         "id": "pretest_1762",
         "CO2_working_capacity [mL/g]": 18.14015064718398,
         "_deepnote_index_column": 1761
        },
        {
         "id": "pretest_1763",
         "CO2_working_capacity [mL/g]": -5.519190286652769,
         "_deepnote_index_column": 1762
        },
        {
         "id": "pretest_1764",
         "CO2_working_capacity [mL/g]": 3.1146219022053736,
         "_deepnote_index_column": 1763
        },
        {
         "id": "pretest_1765",
         "CO2_working_capacity [mL/g]": 4.102315782843872,
         "_deepnote_index_column": 1764
        },
        {
         "id": "pretest_1766",
         "CO2_working_capacity [mL/g]": 1.0111383902684685,
         "_deepnote_index_column": 1765
        },
        {
         "id": "pretest_1767",
         "CO2_working_capacity [mL/g]": 4.493704653824229,
         "_deepnote_index_column": 1766
        },
        {
         "id": "pretest_1768",
         "CO2_working_capacity [mL/g]": -0.8227283053096106,
         "_deepnote_index_column": 1767
        },
        {
         "id": "pretest_1769",
         "CO2_working_capacity [mL/g]": -5.355358392215516,
         "_deepnote_index_column": 1768
        },
        {
         "id": "pretest_1770",
         "CO2_working_capacity [mL/g]": 0.24649071045754906,
         "_deepnote_index_column": 1769
        },
        {
         "id": "pretest_1771",
         "CO2_working_capacity [mL/g]": 4.855571138676888,
         "_deepnote_index_column": 1770
        },
        {
         "id": "pretest_1772",
         "CO2_working_capacity [mL/g]": -1.1738052838227098,
         "_deepnote_index_column": 1771
        },
        {
         "id": "pretest_1773",
         "CO2_working_capacity [mL/g]": -3.684059879611562,
         "_deepnote_index_column": 1772
        },
        {
         "id": "pretest_1774",
         "CO2_working_capacity [mL/g]": 1.4511770318330588,
         "_deepnote_index_column": 1773
        },
        {
         "id": "pretest_1775",
         "CO2_working_capacity [mL/g]": 2.205891741442787,
         "_deepnote_index_column": 1774
        },
        {
         "id": "pretest_1776",
         "CO2_working_capacity [mL/g]": -1.6037369834951645,
         "_deepnote_index_column": 1775
        },
        {
         "id": "pretest_1777",
         "CO2_working_capacity [mL/g]": -1.2531502668473216,
         "_deepnote_index_column": 1776
        },
        {
         "id": "pretest_1778",
         "CO2_working_capacity [mL/g]": -3.276195375757501,
         "_deepnote_index_column": 1777
        },
        {
         "id": "pretest_1779",
         "CO2_working_capacity [mL/g]": -4.614967641954984,
         "_deepnote_index_column": 1778
        },
        {
         "id": "pretest_1780",
         "CO2_working_capacity [mL/g]": -0.5555625952063606,
         "_deepnote_index_column": 1779
        },
        {
         "id": "pretest_1781",
         "CO2_working_capacity [mL/g]": -0.14049314306540372,
         "_deepnote_index_column": 1780
        },
        {
         "id": "pretest_1782",
         "CO2_working_capacity [mL/g]": -1.6988486630021777,
         "_deepnote_index_column": 1781
        },
        {
         "id": "pretest_1783",
         "CO2_working_capacity [mL/g]": -1.9090017577961371,
         "_deepnote_index_column": 1782
        },
        {
         "id": "pretest_1784",
         "CO2_working_capacity [mL/g]": 8.236204117590448,
         "_deepnote_index_column": 1783
        },
        {
         "id": "pretest_1785",
         "CO2_working_capacity [mL/g]": -4.4505537240571895,
         "_deepnote_index_column": 1784
        },
        {
         "id": "pretest_1786",
         "CO2_working_capacity [mL/g]": 103.84925539412497,
         "_deepnote_index_column": 1785
        },
        {
         "id": "pretest_1787",
         "CO2_working_capacity [mL/g]": 11.528970102895256,
         "_deepnote_index_column": 1786
        },
        {
         "id": "pretest_1788",
         "CO2_working_capacity [mL/g]": -1.2229382521944228,
         "_deepnote_index_column": 1787
        },
        {
         "id": "pretest_1789",
         "CO2_working_capacity [mL/g]": -5.368646041964802,
         "_deepnote_index_column": 1788
        },
        {
         "id": "pretest_1790",
         "CO2_working_capacity [mL/g]": -1.9090017577961371,
         "_deepnote_index_column": 1789
        },
        {
         "id": "pretest_1791",
         "CO2_working_capacity [mL/g]": 1.6772260332515598,
         "_deepnote_index_column": 1790
        },
        {
         "id": "pretest_1792",
         "CO2_working_capacity [mL/g]": -0.6844885691287049,
         "_deepnote_index_column": 1791
        },
        {
         "id": "pretest_1793",
         "CO2_working_capacity [mL/g]": 29.674817587309995,
         "_deepnote_index_column": 1792
        },
        {
         "id": "pretest_1794",
         "CO2_working_capacity [mL/g]": -1.6650685398220382,
         "_deepnote_index_column": 1793
        },
        {
         "id": "pretest_1795",
         "CO2_working_capacity [mL/g]": -0.9206512128813623,
         "_deepnote_index_column": 1794
        },
        {
         "id": "pretest_1796",
         "CO2_working_capacity [mL/g]": 6.3349594724723435,
         "_deepnote_index_column": 1795
        },
        {
         "id": "pretest_1797",
         "CO2_working_capacity [mL/g]": 22.90574693928239,
         "_deepnote_index_column": 1796
        },
        {
         "id": "pretest_1798",
         "CO2_working_capacity [mL/g]": -5.785552387266806,
         "_deepnote_index_column": 1797
        },
        {
         "id": "pretest_1799",
         "CO2_working_capacity [mL/g]": -1.1111613276454828,
         "_deepnote_index_column": 1798
        },
        {
         "id": "pretest_1800",
         "CO2_working_capacity [mL/g]": 2.298809560091472,
         "_deepnote_index_column": 1799
        },
        {
         "id": "pretest_1801",
         "CO2_working_capacity [mL/g]": 1.9416113750699027,
         "_deepnote_index_column": 1800
        },
        {
         "id": "pretest_1802",
         "CO2_working_capacity [mL/g]": 59.13757702482928,
         "_deepnote_index_column": 1801
        },
        {
         "id": "pretest_1803",
         "CO2_working_capacity [mL/g]": 7.049055966272931,
         "_deepnote_index_column": 1802
        },
        {
         "id": "pretest_1804",
         "CO2_working_capacity [mL/g]": 3.127384727951261,
         "_deepnote_index_column": 1803
        },
        {
         "id": "pretest_1805",
         "CO2_working_capacity [mL/g]": -3.9591389202905245,
         "_deepnote_index_column": 1804
        },
        {
         "id": "pretest_1806",
         "CO2_working_capacity [mL/g]": -4.029423865027928,
         "_deepnote_index_column": 1805
        },
        {
         "id": "pretest_1807",
         "CO2_working_capacity [mL/g]": -2.219280939194694,
         "_deepnote_index_column": 1806
        },
        {
         "id": "pretest_1808",
         "CO2_working_capacity [mL/g]": -1.2781974624854733,
         "_deepnote_index_column": 1807
        },
        {
         "id": "pretest_1809",
         "CO2_working_capacity [mL/g]": 11.320541290689134,
         "_deepnote_index_column": 1808
        },
        {
         "id": "pretest_1810",
         "CO2_working_capacity [mL/g]": 5.666565762665575,
         "_deepnote_index_column": 1809
        },
        {
         "id": "pretest_1811",
         "CO2_working_capacity [mL/g]": 1.9140105119291986,
         "_deepnote_index_column": 1810
        },
        {
         "id": "pretest_1812",
         "CO2_working_capacity [mL/g]": -5.346937069772806,
         "_deepnote_index_column": 1811
        },
        {
         "id": "pretest_1813",
         "CO2_working_capacity [mL/g]": 0.23602332516348157,
         "_deepnote_index_column": 1812
        },
        {
         "id": "pretest_1814",
         "CO2_working_capacity [mL/g]": 0.6672888939207117,
         "_deepnote_index_column": 1813
        },
        {
         "id": "pretest_1815",
         "CO2_working_capacity [mL/g]": -5.471797824535657,
         "_deepnote_index_column": 1814
        },
        {
         "id": "pretest_1816",
         "CO2_working_capacity [mL/g]": -4.845013629484193,
         "_deepnote_index_column": 1815
        },
        {
         "id": "pretest_1817",
         "CO2_working_capacity [mL/g]": -2.8394935765268228,
         "_deepnote_index_column": 1816
        },
        {
         "id": "pretest_1818",
         "CO2_working_capacity [mL/g]": 9.305922736774555,
         "_deepnote_index_column": 1817
        },
        {
         "id": "pretest_1819",
         "CO2_working_capacity [mL/g]": 1.5288253026233591,
         "_deepnote_index_column": 1818
        },
        {
         "id": "pretest_1820",
         "CO2_working_capacity [mL/g]": 1.9380809113132411,
         "_deepnote_index_column": 1819
        },
        {
         "id": "pretest_1821",
         "CO2_working_capacity [mL/g]": 1.7280098834300663,
         "_deepnote_index_column": 1820
        },
        {
         "id": "pretest_1822",
         "CO2_working_capacity [mL/g]": 26.691780766943324,
         "_deepnote_index_column": 1821
        },
        {
         "id": "pretest_1823",
         "CO2_working_capacity [mL/g]": 9.556708757579328,
         "_deepnote_index_column": 1822
        },
        {
         "id": "pretest_1824",
         "CO2_working_capacity [mL/g]": 5.209741405089428,
         "_deepnote_index_column": 1823
        },
        {
         "id": "pretest_1825",
         "CO2_working_capacity [mL/g]": 2.5333194462004576,
         "_deepnote_index_column": 1824
        },
        {
         "id": "pretest_1826",
         "CO2_working_capacity [mL/g]": -4.205675797079603,
         "_deepnote_index_column": 1825
        },
        {
         "id": "pretest_1827",
         "CO2_working_capacity [mL/g]": 2.8570184190490364,
         "_deepnote_index_column": 1826
        },
        {
         "id": "pretest_1828",
         "CO2_working_capacity [mL/g]": -4.391935012078667,
         "_deepnote_index_column": 1827
        },
        {
         "id": "pretest_1829",
         "CO2_working_capacity [mL/g]": -4.167948914684746,
         "_deepnote_index_column": 1828
        },
        {
         "id": "pretest_1830",
         "CO2_working_capacity [mL/g]": 4.345633429749248,
         "_deepnote_index_column": 1829
        },
        {
         "id": "pretest_1831",
         "CO2_working_capacity [mL/g]": 78.39064597147957,
         "_deepnote_index_column": 1830
        },
        {
         "id": "pretest_1832",
         "CO2_working_capacity [mL/g]": 1.9095820490503386,
         "_deepnote_index_column": 1831
        },
        {
         "id": "pretest_1833",
         "CO2_working_capacity [mL/g]": 6.222149364616071,
         "_deepnote_index_column": 1832
        },
        {
         "id": "pretest_1834",
         "CO2_working_capacity [mL/g]": -4.0011841126521395,
         "_deepnote_index_column": 1833
        },
        {
         "id": "pretest_1835",
         "CO2_working_capacity [mL/g]": 1.6018337807046328,
         "_deepnote_index_column": 1834
        },
        {
         "id": "pretest_1836",
         "CO2_working_capacity [mL/g]": -1.9602138359658912,
         "_deepnote_index_column": 1835
        },
        {
         "id": "pretest_1837",
         "CO2_working_capacity [mL/g]": 2.0857095143983506,
         "_deepnote_index_column": 1836
        },
        {
         "id": "pretest_1838",
         "CO2_working_capacity [mL/g]": 0.7053502972316331,
         "_deepnote_index_column": 1837
        },
        {
         "id": "pretest_1839",
         "CO2_working_capacity [mL/g]": 0.16291001252105475,
         "_deepnote_index_column": 1838
        },
        {
         "id": "pretest_1840",
         "CO2_working_capacity [mL/g]": 0.2138457614887126,
         "_deepnote_index_column": 1839
        },
        {
         "id": "pretest_1841",
         "CO2_working_capacity [mL/g]": -1.547072992079871,
         "_deepnote_index_column": 1840
        },
        {
         "id": "pretest_1842",
         "CO2_working_capacity [mL/g]": -3.4780609341816113,
         "_deepnote_index_column": 1841
        },
        {
         "id": "pretest_1843",
         "CO2_working_capacity [mL/g]": 2.840462800093742,
         "_deepnote_index_column": 1842
        },
        {
         "id": "pretest_1844",
         "CO2_working_capacity [mL/g]": -0.7196574405765781,
         "_deepnote_index_column": 1843
        },
        {
         "id": "pretest_1845",
         "CO2_working_capacity [mL/g]": -3.276195375757501,
         "_deepnote_index_column": 1844
        },
        {
         "id": "pretest_1846",
         "CO2_working_capacity [mL/g]": -0.847848697870181,
         "_deepnote_index_column": 1845
        },
        {
         "id": "pretest_1847",
         "CO2_working_capacity [mL/g]": -0.22499283942188342,
         "_deepnote_index_column": 1846
        },
        {
         "id": "pretest_1848",
         "CO2_working_capacity [mL/g]": 5.048349389394142,
         "_deepnote_index_column": 1847
        },
        {
         "id": "pretest_1849",
         "CO2_working_capacity [mL/g]": -4.541835976614457,
         "_deepnote_index_column": 1848
        },
        {
         "id": "pretest_1850",
         "CO2_working_capacity [mL/g]": -0.6453419858095957,
         "_deepnote_index_column": 1849
        },
        {
         "id": "pretest_1851",
         "CO2_working_capacity [mL/g]": 30.30550372178994,
         "_deepnote_index_column": 1850
        },
        {
         "id": "pretest_1852",
         "CO2_working_capacity [mL/g]": 11.98768220943466,
         "_deepnote_index_column": 1851
        },
        {
         "id": "pretest_1853",
         "CO2_working_capacity [mL/g]": 11.575221723380004,
         "_deepnote_index_column": 1852
        },
        {
         "id": "pretest_1854",
         "CO2_working_capacity [mL/g]": 14.95589768404949,
         "_deepnote_index_column": 1853
        },
        {
         "id": "pretest_1855",
         "CO2_working_capacity [mL/g]": 34.90969960418509,
         "_deepnote_index_column": 1854
        },
        {
         "id": "pretest_1856",
         "CO2_working_capacity [mL/g]": 2.9855122149746602,
         "_deepnote_index_column": 1855
        },
        {
         "id": "pretest_1857",
         "CO2_working_capacity [mL/g]": -0.40859758173099414,
         "_deepnote_index_column": 1856
        },
        {
         "id": "pretest_1858",
         "CO2_working_capacity [mL/g]": 26.625844236474908,
         "_deepnote_index_column": 1857
        },
        {
         "id": "pretest_1859",
         "CO2_working_capacity [mL/g]": -1.1666867301288546,
         "_deepnote_index_column": 1858
        },
        {
         "id": "pretest_1860",
         "CO2_working_capacity [mL/g]": 34.19497082648807,
         "_deepnote_index_column": 1859
        },
        {
         "id": "pretest_1861",
         "CO2_working_capacity [mL/g]": -8.346649332870793,
         "_deepnote_index_column": 1860
        },
        {
         "id": "pretest_1862",
         "CO2_working_capacity [mL/g]": 8.52859857252223,
         "_deepnote_index_column": 1861
        },
        {
         "id": "pretest_1863",
         "CO2_working_capacity [mL/g]": -0.545445996566785,
         "_deepnote_index_column": 1862
        },
        {
         "id": "pretest_1864",
         "CO2_working_capacity [mL/g]": 7.633963386359905,
         "_deepnote_index_column": 1863
        },
        {
         "id": "pretest_1865",
         "CO2_working_capacity [mL/g]": -1.8007370948351147,
         "_deepnote_index_column": 1864
        },
        {
         "id": "pretest_1866",
         "CO2_working_capacity [mL/g]": 1.8027208763951217,
         "_deepnote_index_column": 1865
        },
        {
         "id": "pretest_1867",
         "CO2_working_capacity [mL/g]": 3.2114569290294877,
         "_deepnote_index_column": 1866
        },
        {
         "id": "pretest_1868",
         "CO2_working_capacity [mL/g]": -4.478125925913792,
         "_deepnote_index_column": 1867
        },
        {
         "id": "pretest_1869",
         "CO2_working_capacity [mL/g]": -1.7008094959296587,
         "_deepnote_index_column": 1868
        },
        {
         "id": "pretest_1870",
         "CO2_working_capacity [mL/g]": -1.0274196444741521,
         "_deepnote_index_column": 1869
        },
        {
         "id": "pretest_1871",
         "CO2_working_capacity [mL/g]": -0.2419801102521581,
         "_deepnote_index_column": 1870
        },
        {
         "id": "pretest_1872",
         "CO2_working_capacity [mL/g]": 5.45323757238917,
         "_deepnote_index_column": 1871
        },
        {
         "id": "pretest_1873",
         "CO2_working_capacity [mL/g]": -2.1252984522605485,
         "_deepnote_index_column": 1872
        },
        {
         "id": "pretest_1874",
         "CO2_working_capacity [mL/g]": 0.060936195726395026,
         "_deepnote_index_column": 1873
        },
        {
         "id": "pretest_1875",
         "CO2_working_capacity [mL/g]": -1.3519597923241218,
         "_deepnote_index_column": 1874
        },
        {
         "id": "pretest_1876",
         "CO2_working_capacity [mL/g]": 4.902400930704019,
         "_deepnote_index_column": 1875
        },
        {
         "id": "pretest_1877",
         "CO2_working_capacity [mL/g]": 5.420920871637995,
         "_deepnote_index_column": 1876
        },
        {
         "id": "pretest_1878",
         "CO2_working_capacity [mL/g]": -8.568135621494054,
         "_deepnote_index_column": 1877
        },
        {
         "id": "pretest_1879",
         "CO2_working_capacity [mL/g]": 0.2327960632197485,
         "_deepnote_index_column": 1878
        },
        {
         "id": "pretest_1880",
         "CO2_working_capacity [mL/g]": -0.928083688429319,
         "_deepnote_index_column": 1879
        },
        {
         "id": "pretest_1881",
         "CO2_working_capacity [mL/g]": 4.9534384783303995,
         "_deepnote_index_column": 1880
        },
        {
         "id": "pretest_1882",
         "CO2_working_capacity [mL/g]": -2.420709940942551,
         "_deepnote_index_column": 1881
        },
        {
         "id": "pretest_1883",
         "CO2_working_capacity [mL/g]": 27.6648341603741,
         "_deepnote_index_column": 1882
        },
        {
         "id": "pretest_1884",
         "CO2_working_capacity [mL/g]": 1.792846290500917,
         "_deepnote_index_column": 1883
        },
        {
         "id": "pretest_1885",
         "CO2_working_capacity [mL/g]": -4.597453978346679,
         "_deepnote_index_column": 1884
        },
        {
         "id": "pretest_1886",
         "CO2_working_capacity [mL/g]": -2.1946840638867777,
         "_deepnote_index_column": 1885
        },
        {
         "id": "pretest_1887",
         "CO2_working_capacity [mL/g]": 0.3996586622246907,
         "_deepnote_index_column": 1886
        },
        {
         "id": "pretest_1888",
         "CO2_working_capacity [mL/g]": 0.3766018712021315,
         "_deepnote_index_column": 1887
        },
        {
         "id": "pretest_1889",
         "CO2_working_capacity [mL/g]": -5.997550811434628,
         "_deepnote_index_column": 1888
        },
        {
         "id": "pretest_1890",
         "CO2_working_capacity [mL/g]": 0.7614428311920678,
         "_deepnote_index_column": 1889
        },
        {
         "id": "pretest_1891",
         "CO2_working_capacity [mL/g]": 2.1607997197079056,
         "_deepnote_index_column": 1890
        },
        {
         "id": "pretest_1892",
         "CO2_working_capacity [mL/g]": 1.1659257792210977,
         "_deepnote_index_column": 1891
        },
        {
         "id": "pretest_1893",
         "CO2_working_capacity [mL/g]": 4.892240258676711,
         "_deepnote_index_column": 1892
        },
        {
         "id": "pretest_1894",
         "CO2_working_capacity [mL/g]": 2.021079873987617,
         "_deepnote_index_column": 1893
        },
        {
         "id": "pretest_1895",
         "CO2_working_capacity [mL/g]": -0.05771893680395769,
         "_deepnote_index_column": 1894
        },
        {
         "id": "pretest_1896",
         "CO2_working_capacity [mL/g]": 3.0686218746479255,
         "_deepnote_index_column": 1895
        },
        {
         "id": "pretest_1897",
         "CO2_working_capacity [mL/g]": 3.8490046539196965,
         "_deepnote_index_column": 1896
        },
        {
         "id": "pretest_1898",
         "CO2_working_capacity [mL/g]": 41.000006042192446,
         "_deepnote_index_column": 1897
        },
        {
         "id": "pretest_1899",
         "CO2_working_capacity [mL/g]": -4.614967641954984,
         "_deepnote_index_column": 1898
        },
        {
         "id": "pretest_1900",
         "CO2_working_capacity [mL/g]": 3.0293522884065966,
         "_deepnote_index_column": 1899
        },
        {
         "id": "pretest_1901",
         "CO2_working_capacity [mL/g]": 4.666625223671853,
         "_deepnote_index_column": 1900
        },
        {
         "id": "pretest_1902",
         "CO2_working_capacity [mL/g]": -4.300053879166375,
         "_deepnote_index_column": 1901
        },
        {
         "id": "pretest_1903",
         "CO2_working_capacity [mL/g]": 18.80781552856149,
         "_deepnote_index_column": 1902
        },
        {
         "id": "pretest_1904",
         "CO2_working_capacity [mL/g]": 2.4905706909297707,
         "_deepnote_index_column": 1903
        },
        {
         "id": "pretest_1905",
         "CO2_working_capacity [mL/g]": 24.073590013265687,
         "_deepnote_index_column": 1904
        },
        {
         "id": "pretest_1906",
         "CO2_working_capacity [mL/g]": -2.698089007795075,
         "_deepnote_index_column": 1905
        },
        {
         "id": "pretest_1907",
         "CO2_working_capacity [mL/g]": 4.059507004765524,
         "_deepnote_index_column": 1906
        },
        {
         "id": "pretest_1908",
         "CO2_working_capacity [mL/g]": 21.328629980205513,
         "_deepnote_index_column": 1907
        },
        {
         "id": "pretest_1909",
         "CO2_working_capacity [mL/g]": 1.0285577373353514,
         "_deepnote_index_column": 1908
        },
        {
         "id": "pretest_1910",
         "CO2_working_capacity [mL/g]": 3.51082437305161,
         "_deepnote_index_column": 1909
        },
        {
         "id": "pretest_1911",
         "CO2_working_capacity [mL/g]": 0.7880361289201677,
         "_deepnote_index_column": 1910
        },
        {
         "id": "pretest_1912",
         "CO2_working_capacity [mL/g]": 4.213344026182826,
         "_deepnote_index_column": 1911
        },
        {
         "id": "pretest_1913",
         "CO2_working_capacity [mL/g]": 2.4464387476527083,
         "_deepnote_index_column": 1912
        },
        {
         "id": "pretest_1914",
         "CO2_working_capacity [mL/g]": 0.2633002877496432,
         "_deepnote_index_column": 1913
        },
        {
         "id": "pretest_1915",
         "CO2_working_capacity [mL/g]": 5.816201667943091,
         "_deepnote_index_column": 1914
        },
        {
         "id": "pretest_1916",
         "CO2_working_capacity [mL/g]": 7.946916545881347,
         "_deepnote_index_column": 1915
        },
        {
         "id": "pretest_1917",
         "CO2_working_capacity [mL/g]": -7.6414676046051495,
         "_deepnote_index_column": 1916
        },
        {
         "id": "pretest_1918",
         "CO2_working_capacity [mL/g]": 4.647067767336995,
         "_deepnote_index_column": 1917
        },
        {
         "id": "pretest_1919",
         "CO2_working_capacity [mL/g]": 2.167301194237914,
         "_deepnote_index_column": 1918
        },
        {
         "id": "pretest_1920",
         "CO2_working_capacity [mL/g]": -1.9568154831887543,
         "_deepnote_index_column": 1919
        },
        {
         "id": "pretest_1921",
         "CO2_working_capacity [mL/g]": 2.3100717118821508,
         "_deepnote_index_column": 1920
        },
        {
         "id": "pretest_1922",
         "CO2_working_capacity [mL/g]": 2.515342343851464,
         "_deepnote_index_column": 1921
        },
        {
         "id": "pretest_1923",
         "CO2_working_capacity [mL/g]": 7.436903213921021,
         "_deepnote_index_column": 1922
        },
        {
         "id": "pretest_1924",
         "CO2_working_capacity [mL/g]": 3.3461052765076875,
         "_deepnote_index_column": 1923
        },
        {
         "id": "pretest_1925",
         "CO2_working_capacity [mL/g]": 2.9855122149746602,
         "_deepnote_index_column": 1924
        },
        {
         "id": "pretest_1926",
         "CO2_working_capacity [mL/g]": 0.865639368449255,
         "_deepnote_index_column": 1925
        },
        {
         "id": "pretest_1927",
         "CO2_working_capacity [mL/g]": -1.9436691189154922,
         "_deepnote_index_column": 1926
        },
        {
         "id": "pretest_1928",
         "CO2_working_capacity [mL/g]": 29.923862307517574,
         "_deepnote_index_column": 1927
        },
        {
         "id": "pretest_1929",
         "CO2_working_capacity [mL/g]": -3.727007448387033,
         "_deepnote_index_column": 1928
        },
        {
         "id": "pretest_1930",
         "CO2_working_capacity [mL/g]": -1.7753236769376228,
         "_deepnote_index_column": 1929
        },
        {
         "id": "pretest_1931",
         "CO2_working_capacity [mL/g]": -1.6547757193146317,
         "_deepnote_index_column": 1930
        },
        {
         "id": "pretest_1932",
         "CO2_working_capacity [mL/g]": -1.1002221594853325,
         "_deepnote_index_column": 1931
        },
        {
         "id": "pretest_1933",
         "CO2_working_capacity [mL/g]": 3.5134104598102973,
         "_deepnote_index_column": 1932
        },
        {
         "id": "pretest_1934",
         "CO2_working_capacity [mL/g]": -5.339846055872951,
         "_deepnote_index_column": 1933
        },
        {
         "id": "pretest_1935",
         "CO2_working_capacity [mL/g]": 7.184377855912056,
         "_deepnote_index_column": 1934
        },
        {
         "id": "pretest_1936",
         "CO2_working_capacity [mL/g]": 2.124105390324945,
         "_deepnote_index_column": 1935
        },
        {
         "id": "pretest_1937",
         "CO2_working_capacity [mL/g]": 3.0293522884065966,
         "_deepnote_index_column": 1936
        },
        {
         "id": "pretest_1938",
         "CO2_working_capacity [mL/g]": 2.895656418146954,
         "_deepnote_index_column": 1937
        },
        {
         "id": "pretest_1939",
         "CO2_working_capacity [mL/g]": -3.34206487373978,
         "_deepnote_index_column": 1938
        },
        {
         "id": "pretest_1940",
         "CO2_working_capacity [mL/g]": -5.346937069772806,
         "_deepnote_index_column": 1939
        },
        {
         "id": "pretest_1941",
         "CO2_working_capacity [mL/g]": 1.5606463819951923,
         "_deepnote_index_column": 1940
        },
        {
         "id": "pretest_1942",
         "CO2_working_capacity [mL/g]": 0.8354172733813611,
         "_deepnote_index_column": 1941
        },
        {
         "id": "pretest_1943",
         "CO2_working_capacity [mL/g]": 2.9714935367226776,
         "_deepnote_index_column": 1942
        },
        {
         "id": "pretest_1944",
         "CO2_working_capacity [mL/g]": 7.076457347982185,
         "_deepnote_index_column": 1943
        },
        {
         "id": "pretest_1945",
         "CO2_working_capacity [mL/g]": 3.187470007574662,
         "_deepnote_index_column": 1944
        },
        {
         "id": "pretest_1946",
         "CO2_working_capacity [mL/g]": -1.349772138158797,
         "_deepnote_index_column": 1945
        },
        {
         "id": "pretest_1947",
         "CO2_working_capacity [mL/g]": -0.8765564348905899,
         "_deepnote_index_column": 1946
        },
        {
         "id": "pretest_1948",
         "CO2_working_capacity [mL/g]": -8.035480447929505,
         "_deepnote_index_column": 1947
        },
        {
         "id": "pretest_1949",
         "CO2_working_capacity [mL/g]": 8.684732718037822,
         "_deepnote_index_column": 1948
        },
        {
         "id": "pretest_1950",
         "CO2_working_capacity [mL/g]": 0.7200429949062225,
         "_deepnote_index_column": 1949
        },
        {
         "id": "pretest_1951",
         "CO2_working_capacity [mL/g]": -2.4430813088382326,
         "_deepnote_index_column": 1950
        },
        {
         "id": "pretest_1952",
         "CO2_working_capacity [mL/g]": 4.733998763412387,
         "_deepnote_index_column": 1951
        },
        {
         "id": "pretest_1953",
         "CO2_working_capacity [mL/g]": 44.16605987607543,
         "_deepnote_index_column": 1952
        },
        {
         "id": "pretest_1954",
         "CO2_working_capacity [mL/g]": 3.5978618814679875,
         "_deepnote_index_column": 1953
        },
        {
         "id": "pretest_1955",
         "CO2_working_capacity [mL/g]": -4.300053879166375,
         "_deepnote_index_column": 1954
        },
        {
         "id": "pretest_1956",
         "CO2_working_capacity [mL/g]": 6.542054355889603,
         "_deepnote_index_column": 1955
        },
        {
         "id": "pretest_1957",
         "CO2_working_capacity [mL/g]": 13.77497860281696,
         "_deepnote_index_column": 1956
        },
        {
         "id": "pretest_1958",
         "CO2_working_capacity [mL/g]": 2.4681851088428486,
         "_deepnote_index_column": 1957
        },
        {
         "id": "pretest_1959",
         "CO2_working_capacity [mL/g]": -0.9206512128813623,
         "_deepnote_index_column": 1958
        },
        {
         "id": "pretest_1960",
         "CO2_working_capacity [mL/g]": 4.578164524551044,
         "_deepnote_index_column": 1959
        },
        {
         "id": "pretest_1961",
         "CO2_working_capacity [mL/g]": 4.344713506607581,
         "_deepnote_index_column": 1960
        },
        {
         "id": "pretest_1962",
         "CO2_working_capacity [mL/g]": 5.699969596439832,
         "_deepnote_index_column": 1961
        },
        {
         "id": "pretest_1963",
         "CO2_working_capacity [mL/g]": -1.547072992079871,
         "_deepnote_index_column": 1962
        },
        {
         "id": "pretest_1964",
         "CO2_working_capacity [mL/g]": 8.267141807262503,
         "_deepnote_index_column": 1963
        },
        {
         "id": "pretest_1965",
         "CO2_working_capacity [mL/g]": -3.2538450940388373,
         "_deepnote_index_column": 1964
        },
        {
         "id": "pretest_1966",
         "CO2_working_capacity [mL/g]": -0.928083688429319,
         "_deepnote_index_column": 1965
        },
        {
         "id": "pretest_1967",
         "CO2_working_capacity [mL/g]": 88.36687994687468,
         "_deepnote_index_column": 1966
        },
        {
         "id": "pretest_1968",
         "CO2_working_capacity [mL/g]": -1.7153521512454148,
         "_deepnote_index_column": 1967
        },
        {
         "id": "pretest_1969",
         "CO2_working_capacity [mL/g]": 0.9989983396255749,
         "_deepnote_index_column": 1968
        },
        {
         "id": "pretest_1970",
         "CO2_working_capacity [mL/g]": 5.443495256945719,
         "_deepnote_index_column": 1969
        },
        {
         "id": "pretest_1971",
         "CO2_working_capacity [mL/g]": 16.56485420490563,
         "_deepnote_index_column": 1970
        },
        {
         "id": "pretest_1972",
         "CO2_working_capacity [mL/g]": 7.948653807690036,
         "_deepnote_index_column": 1971
        },
        {
         "id": "pretest_1973",
         "CO2_working_capacity [mL/g]": -1.7952578065523257,
         "_deepnote_index_column": 1972
        },
        {
         "id": "pretest_1974",
         "CO2_working_capacity [mL/g]": -0.10754913146950473,
         "_deepnote_index_column": 1973
        },
        {
         "id": "pretest_1975",
         "CO2_working_capacity [mL/g]": -4.718796140303358,
         "_deepnote_index_column": 1974
        },
        {
         "id": "pretest_1976",
         "CO2_working_capacity [mL/g]": 1.0573362287804777,
         "_deepnote_index_column": 1975
        },
        {
         "id": "pretest_1977",
         "CO2_working_capacity [mL/g]": 0.039932819080229,
         "_deepnote_index_column": 1976
        },
        {
         "id": "pretest_1978",
         "CO2_working_capacity [mL/g]": 19.807433835453235,
         "_deepnote_index_column": 1977
        },
        {
         "id": "pretest_1979",
         "CO2_working_capacity [mL/g]": -1.4521134618713096,
         "_deepnote_index_column": 1978
        },
        {
         "id": "pretest_1980",
         "CO2_working_capacity [mL/g]": -3.4183700326186837,
         "_deepnote_index_column": 1979
        },
        {
         "id": "pretest_1981",
         "CO2_working_capacity [mL/g]": 2.635254086388475,
         "_deepnote_index_column": 1980
        },
        {
         "id": "pretest_1982",
         "CO2_working_capacity [mL/g]": -0.9864354013865556,
         "_deepnote_index_column": 1981
        },
        {
         "id": "pretest_1983",
         "CO2_working_capacity [mL/g]": 3.065715642082125,
         "_deepnote_index_column": 1982
        },
        {
         "id": "pretest_1984",
         "CO2_working_capacity [mL/g]": -0.47188529071842494,
         "_deepnote_index_column": 1983
        },
        {
         "id": "pretest_1985",
         "CO2_working_capacity [mL/g]": 1.1858619502822931,
         "_deepnote_index_column": 1984
        },
        {
         "id": "pretest_1986",
         "CO2_working_capacity [mL/g]": 0.18051756431423815,
         "_deepnote_index_column": 1985
        },
        {
         "id": "pretest_1987",
         "CO2_working_capacity [mL/g]": -1.9090017577961371,
         "_deepnote_index_column": 1986
        },
        {
         "id": "pretest_1988",
         "CO2_working_capacity [mL/g]": 0.8704060068771976,
         "_deepnote_index_column": 1987
        },
        {
         "id": "pretest_1989",
         "CO2_working_capacity [mL/g]": 7.178596239623396,
         "_deepnote_index_column": 1988
        },
        {
         "id": "pretest_1990",
         "CO2_working_capacity [mL/g]": 9.32145575051541,
         "_deepnote_index_column": 1989
        },
        {
         "id": "pretest_1991",
         "CO2_working_capacity [mL/g]": 5.418443089879634,
         "_deepnote_index_column": 1990
        },
        {
         "id": "pretest_1992",
         "CO2_working_capacity [mL/g]": -4.273569091789565,
         "_deepnote_index_column": 1991
        },
        {
         "id": "pretest_1993",
         "CO2_working_capacity [mL/g]": 31.353201421103698,
         "_deepnote_index_column": 1992
        },
        {
         "id": "pretest_1994",
         "CO2_working_capacity [mL/g]": -0.24996378650302226,
         "_deepnote_index_column": 1993
        },
        {
         "id": "pretest_1995",
         "CO2_working_capacity [mL/g]": -4.793730987006523,
         "_deepnote_index_column": 1994
        },
        {
         "id": "pretest_1996",
         "CO2_working_capacity [mL/g]": 2.491474645194557,
         "_deepnote_index_column": 1995
        },
        {
         "id": "pretest_1997",
         "CO2_working_capacity [mL/g]": 11.506121534256293,
         "_deepnote_index_column": 1996
        },
        {
         "id": "pretest_1998",
         "CO2_working_capacity [mL/g]": -0.3305158338724924,
         "_deepnote_index_column": 1997
        },
        {
         "id": "pretest_1999",
         "CO2_working_capacity [mL/g]": -4.463965087871399,
         "_deepnote_index_column": 1998
        },
        {
         "id": "pretest_2000",
         "CO2_working_capacity [mL/g]": 76.17540767734516,
         "_deepnote_index_column": 1999
        }
       ]
      },
      "text/plain": "                id  CO2_working_capacity [mL/g]\n0        pretest_1                    82.673242\n1        pretest_2                   139.469055\n2        pretest_3                   192.383109\n3        pretest_4                    61.436080\n4        pretest_5                    83.328628\n...            ...                          ...\n1995  pretest_1996                     2.491475\n1996  pretest_1997                    11.506122\n1997  pretest_1998                    -0.330516\n1998  pretest_1999                    -4.463965\n1999  pretest_2000                    76.175408\n\n[2000 rows x 2 columns]",
      "text/html": "<div>\n<style scoped>\n    .dataframe tbody tr th:only-of-type {\n        vertical-align: middle;\n    }\n\n    .dataframe tbody tr th {\n        vertical-align: top;\n    }\n\n    .dataframe thead th {\n        text-align: right;\n    }\n</style>\n<table border=\"1\" class=\"dataframe\">\n  <thead>\n    <tr style=\"text-align: right;\">\n      <th></th>\n      <th>id</th>\n      <th>CO2_working_capacity [mL/g]</th>\n    </tr>\n  </thead>\n  <tbody>\n    <tr>\n      <th>0</th>\n      <td>pretest_1</td>\n      <td>82.673242</td>\n    </tr>\n    <tr>\n      <th>1</th>\n      <td>pretest_2</td>\n      <td>139.469055</td>\n    </tr>\n    <tr>\n      <th>2</th>\n      <td>pretest_3</td>\n      <td>192.383109</td>\n    </tr>\n    <tr>\n      <th>3</th>\n      <td>pretest_4</td>\n      <td>61.436080</td>\n    </tr>\n    <tr>\n      <th>4</th>\n      <td>pretest_5</td>\n      <td>83.328628</td>\n    </tr>\n    <tr>\n      <th>...</th>\n      <td>...</td>\n      <td>...</td>\n    </tr>\n    <tr>\n      <th>1995</th>\n      <td>pretest_1996</td>\n      <td>2.491475</td>\n    </tr>\n    <tr>\n      <th>1996</th>\n      <td>pretest_1997</td>\n      <td>11.506122</td>\n    </tr>\n    <tr>\n      <th>1997</th>\n      <td>pretest_1998</td>\n      <td>-0.330516</td>\n    </tr>\n    <tr>\n      <th>1998</th>\n      <td>pretest_1999</td>\n      <td>-4.463965</td>\n    </tr>\n    <tr>\n      <th>1999</th>\n      <td>pretest_2000</td>\n      <td>76.175408</td>\n    </tr>\n  </tbody>\n</table>\n<p>2000 rows × 2 columns</p>\n</div>"
     },
     "metadata": {}
    }
   ]
  },
  {
   "cell_type": "code",
   "metadata": {
    "tags": [],
    "cell_id": "00015-82ada14b-4c17-4e35-9b61-2ff411c09282",
    "deepnote_to_be_reexecuted": true,
    "source_hash": "f0db75b7",
    "execution_start": 1632496754821,
    "execution_millis": 3075,
    "deepnote_cell_type": "code"
   },
   "source": "\npretesting_set[TARGET].plot.density()",
   "execution_count": null,
   "outputs": [
    {
     "output_type": "execute_result",
     "execution_count": 10,
     "data": {
      "text/plain": "<AxesSubplot:ylabel='Density'>"
     },
     "metadata": {}
    },
    {
     "data": {
      "text/plain": "<Figure size 432x288 with 1 Axes>",
      "image/png": "[encoded data removed]"
     },
     "metadata": {
      "needs_background": "light",
      "image/png": {
       "width": 398,
       "height": 248
      }
     },
     "output_type": "display_data"
    }
   ]
  },
  {
   "cell_type": "code",
   "metadata": {
    "tags": [],
    "cell_id": "00016-5fae7877-0903-4896-94c9-e9b8e8a70be6",
    "deepnote_to_be_reexecuted": true,
    "source_hash": "9c32018b",
    "execution_start": 1632496770826,
    "execution_millis": 0,
    "deepnote_cell_type": "code"
   },
   "source": "date_submission = str(dt.datetime.now().date()).replace(\"-\", \"\")\ntime_submission = str(dt.datetime.now().time()).split(\".\")[0].replace(\":\",\"\")\n(date_submission, time_submission)\n\nsubmission_path = os.path.join(\".\", \"submission\", f'submission_{date_submission}_{time_submission}.zip')\ncompression_opts = dict(method='zip', archive_name='submission.csv')\npretesting_set[[\"id\", TARGET]].to_csv(submission_path, index=False,compression=compression_opts)  ",
   "execution_count": null,
   "outputs": []
  },
  {
   "cell_type": "code",
   "metadata": {
    "tags": [],
    "cell_id": "00017-e099ef86-e12d-4d03-9567-5df8e0ea85b4",
    "deepnote_to_be_reexecuted": true,
    "source_hash": "b623e53d",
    "deepnote_cell_type": "code"
   },
   "source": "",
   "execution_count": null,
   "outputs": []
  },
  {
   "cell_type": "markdown",
   "source": "<a style='text-decoration:none;line-height:16px;display:flex;color:#5B5B62;padding:10px;justify-content:end;' href='https://deepnote.com?utm_source=created-in-deepnote-cell&projectId=d59402b5-3ee5-4c9e-aee0-4349ccd0c385' target=\"_blank\">\n<img alt='Created in deepnote.com' style='display:inline;max-height:16px;margin:0px;margin-right:7.5px;' src='data:image/svg+xml;base64,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' > </img>\nCreated in <span style='font-weight:600;margin-left:4px;'>Deepnote</span></a>",
   "metadata": {
    "tags": [],
    "created_in_deepnote_cell": true,
    "deepnote_cell_type": "markdown"
   }
  }
 ],
 "nbformat": 4,
 "nbformat_minor": 2,
 "metadata": {
  "orig_nbformat": 2,
  "deepnote": {
   "is_reactive": false
  },
  "deepnote_notebook_id": "83c9267e-2ac2-4b4d-9d77-8c7cbb1562cb",
  "deepnote_execution_queue": []
 }
}